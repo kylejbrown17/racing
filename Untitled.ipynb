{
 "cells": [
  {
   "cell_type": "markdown",
   "metadata": {},
   "source": [
    "# Parametric spline to define race course"
   ]
  },
  {
   "cell_type": "code",
   "execution_count": 1,
   "metadata": {
    "collapsed": true
   },
   "outputs": [],
   "source": [
    "import numpy as np\n",
    "import matplotlib.pyplot as plt\n",
    "from scipy import interpolate\n",
    "%matplotlib inline "
   ]
  },
  {
   "cell_type": "markdown",
   "metadata": {
    "collapsed": true
   },
   "source": [
    "## Homemade B-splines:"
   ]
  },
  {
   "cell_type": "code",
   "execution_count": 2,
   "metadata": {
    "collapsed": false
   },
   "outputs": [
    {
     "data": {
      "text/plain": [
       "array([0, 0, 1, 1, 2])"
      ]
     },
     "execution_count": 2,
     "metadata": {},
     "output_type": "execute_result"
    }
   ],
   "source": [
    "k = 3 # degree of spline\n",
    "n = 4 # number of control points = n + 1\n",
    "m = n + k + 1\n",
    "\n",
    "P = np.array([[0,0,1,1,2],[0,1,1,0,0]])\n",
    "T = np.array([[0,0,0,1.0/4,2.0/4,3.0/4,1,1,1]]).T\n",
    "P[0]"
   ]
  },
  {
   "cell_type": "code",
   "execution_count": 3,
   "metadata": {
    "collapsed": false
   },
   "outputs": [
    {
     "data": {
      "text/plain": [
       "array([[0],\n",
       "       [0],\n",
       "       [0],\n",
       "       [0],\n",
       "       [1],\n",
       "       [0],\n",
       "       [0],\n",
       "       [0]])"
      ]
     },
     "execution_count": 3,
     "metadata": {},
     "output_type": "execute_result"
    }
   ],
   "source": [
    "t = .68\n",
    "N0 = np.array((t >= T[:-1]) * (t < T[1:]), dtype=int)\n",
    "# N = np.concatenate((N,N),axis=1)\n",
    "N0"
   ]
  },
  {
   "cell_type": "code",
   "execution_count": 4,
   "metadata": {
    "collapsed": false
   },
   "outputs": [
    {
     "name": "stdout",
     "output_type": "stream",
     "text": [
      "[[ 0.]\n",
      " [ 0.]\n",
      " [ 4.]\n",
      " [ 4.]\n",
      " [ 4.]\n",
      " [ 4.]\n",
      " [ 0.]\n",
      " [ 0.]]\n",
      "[[ 0.]\n",
      " [ 4.]\n",
      " [ 2.]\n",
      " [ 2.]\n",
      " [ 2.]\n",
      " [ 4.]\n",
      " [ 0.]]\n",
      "[[ 4.        ]\n",
      " [ 2.        ]\n",
      " [ 1.33333333]\n",
      " [ 1.33333333]\n",
      " [ 2.        ]\n",
      " [ 4.        ]]\n"
     ]
    }
   ],
   "source": [
    "invd1 = T[1:] - T[:-1]\n",
    "invd2 = T[2:] - T[:-2]\n",
    "invd3 = T[3:] - T[:-3]\n",
    "# take care of empty knot spans\n",
    "for i in range(invd1.shape[0]):\n",
    "    if invd1[i] != 0:\n",
    "        invd1[i] = 1.0/invd1[i]\n",
    "        \n",
    "for i in range(invd2.shape[0]):\n",
    "    if invd2[i] != 0:\n",
    "        invd2[i] = 1.0/invd2[i]\n",
    "        \n",
    "for i in range(invd3.shape[0]):\n",
    "    if invd3[i] != 0:\n",
    "        invd3[i] = 1.0/invd3[i]\n",
    "        \n",
    "# dists[:-1]+dists[1:]\n",
    "print invd1\n",
    "print invd2\n",
    "print invd3"
   ]
  },
  {
   "cell_type": "code",
   "execution_count": 5,
   "metadata": {
    "collapsed": false
   },
   "outputs": [
    {
     "data": {
      "text/plain": [
       "array([[ 0.  ],\n",
       "       [ 0.  ],\n",
       "       [ 0.  ],\n",
       "       [ 0.28],\n",
       "       [ 0.72],\n",
       "       [ 0.  ],\n",
       "       [ 0.  ]])"
      ]
     },
     "execution_count": 5,
     "metadata": {},
     "output_type": "execute_result"
    }
   ],
   "source": [
    "p = 1\n",
    "N1 = ((t-T[:-p])*invd1*N0)[:-1] + ((T[p:] - t)*invd1*N0)[1:]\n",
    "N1"
   ]
  },
  {
   "cell_type": "code",
   "execution_count": 6,
   "metadata": {
    "collapsed": false
   },
   "outputs": [
    {
     "data": {
      "text/plain": [
       "array([[ 0.    ],\n",
       "       [ 0.    ],\n",
       "       [ 0.0392],\n",
       "       [ 0.7016],\n",
       "       [ 0.2592],\n",
       "       [ 0.    ]])"
      ]
     },
     "execution_count": 6,
     "metadata": {},
     "output_type": "execute_result"
    }
   ],
   "source": [
    "p = 2\n",
    "N2 = ((t-T[:-p])*invd2*N1)[:-1] + ((T[p:] - t)*N1*invd2)[1:]\n",
    "N2"
   ]
  },
  {
   "cell_type": "code",
   "execution_count": 8,
   "metadata": {
    "collapsed": false
   },
   "outputs": [
    {
     "name": "stdout",
     "output_type": "stream",
     "text": [
      "[[ 0.        ]\n",
      " [ 0.00365867]\n",
      " [ 0.33489067]\n",
      " [ 0.56813867]\n",
      " [ 0.093312  ]]\n"
     ]
    }
   ],
   "source": [
    "p = 3\n",
    "N3 = ((t-T[:-p])*invd3*N2)[:-1] + ((T[p:] - t)*N2*invd3)[1:]\n",
    "print N3"
   ]
  },
  {
   "cell_type": "code",
   "execution_count": null,
   "metadata": {
    "collapsed": false
   },
   "outputs": [],
   "source": [
    "tt = np.arange(0,1.0,.01)\n",
    "rx = np.zeros(tt.shape)\n",
    "ry = np.zeros(tt.shape)\n",
    "for i in range(tt.shape[0]):\n",
    "    rx[i] = np.dot(P[0],N3)\n",
    "    ry[i] = np.dot(P[1],N3)"
   ]
  },
  {
   "cell_type": "code",
   "execution_count": null,
   "metadata": {
    "collapsed": false
   },
   "outputs": [],
   "source": [
    "plt.figure()\n",
    "plt.hold=True\n",
    "plt.scatter(P[0],P[1])\n",
    "plt.plot(rx,ry)\n",
    "# plt.axis([-0.05, 2.05, -0.05, 1.05])\n",
    "plt.axis('equal')\n",
    "plt.show()"
   ]
  },
  {
   "cell_type": "code",
   "execution_count": null,
   "metadata": {
    "collapsed": false
   },
   "outputs": [],
   "source": [
    " \n",
    "for j in range(k):\n",
    "    if j == 0:\n",
    "        for i in range(m - 1):\n",
    "            if T[i] == T[i+1]:\n",
    "                N[i] = 0\n",
    "            elif T[i] <= t and T[i + 1] > t:\n",
    "                N[i][0] = 1\n",
    "    else:\n",
    "        for i in range(n+1):\n",
    "            if T[i + j] - T[i] > 0: \n",
    "                N[i][j] = ((t - T[i])/(T[i+j] - T[i])) * N[i][j-1] + ((T[i+j+1] - t)/(T[i+j+1] - T[i+1])) * N[i+1][j-1]\n",
    "\n",
    "N"
   ]
  },
  {
   "cell_type": "code",
   "execution_count": null,
   "metadata": {
    "collapsed": true
   },
   "outputs": [],
   "source": []
  },
  {
   "cell_type": "code",
   "execution_count": null,
   "metadata": {
    "collapsed": true
   },
   "outputs": [],
   "source": []
  }
 ],
 "metadata": {
  "kernelspec": {
   "display_name": "Python [deepAtariEnv]",
   "language": "python",
   "name": "Python [deepAtariEnv]"
  },
  "language_info": {
   "codemirror_mode": {
    "name": "ipython",
    "version": 2
   },
   "file_extension": ".py",
   "mimetype": "text/x-python",
   "name": "python",
   "nbconvert_exporter": "python",
   "pygments_lexer": "ipython2",
   "version": "2.7.12"
  }
 },
 "nbformat": 4,
 "nbformat_minor": 1
}
