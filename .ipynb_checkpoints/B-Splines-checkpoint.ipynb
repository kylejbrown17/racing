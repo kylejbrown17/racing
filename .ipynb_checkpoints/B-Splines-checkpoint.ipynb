{
 "cells": [
  {
   "cell_type": "markdown",
   "metadata": {},
   "source": [
    "# Parametric spline to define race course"
   ]
  },
  {
   "cell_type": "code",
   "execution_count": 1,
   "metadata": {
    "collapsed": true
   },
   "outputs": [],
   "source": [
    "import numpy as np\n",
    "import matplotlib.pyplot as plt\n",
    "from scipy import interpolate\n",
    "%matplotlib inline "
   ]
  },
  {
   "cell_type": "markdown",
   "metadata": {
    "collapsed": true
   },
   "source": [
    "## Homemade B-splines:"
   ]
  },
  {
   "cell_type": "code",
   "execution_count": 67,
   "metadata": {
    "collapsed": false
   },
   "outputs": [
    {
     "data": {
      "text/plain": [
       "array([[ 0,  0,  4,  0,  0],\n",
       "       [ 0,  1,  1, -1,  0]])"
      ]
     },
     "execution_count": 67,
     "metadata": {},
     "output_type": "execute_result"
    }
   ],
   "source": [
    "k = 3 # degree of spline\n",
    "n = 5 # number of control points = n + 1\n",
    "m = n + k + 1\n",
    "\n",
    "P = np.array([[0,0,4,0,0],[0,1,1,-1,0]])\n",
    "P"
   ]
  },
  {
   "cell_type": "code",
   "execution_count": 68,
   "metadata": {
    "collapsed": false
   },
   "outputs": [
    {
     "data": {
      "text/plain": [
       "array([ 0.        ,  0.16666667,  0.33333333,  0.5       ,  0.66666667,\n",
       "        0.83333333])"
      ]
     },
     "execution_count": 68,
     "metadata": {},
     "output_type": "execute_result"
    }
   ],
   "source": [
    "T = np.zeros([k+1,])\n",
    "np.arange(0.0,1.0,1.0/(n+1))\n"
   ]
  },
  {
   "cell_type": "code",
   "execution_count": 69,
   "metadata": {
    "collapsed": false
   },
   "outputs": [
    {
     "data": {
      "text/plain": [
       "array([[ 0. ],\n",
       "       [ 0. ],\n",
       "       [ 0. ],\n",
       "       [ 0. ],\n",
       "       [ 0.5],\n",
       "       [ 1. ],\n",
       "       [ 1. ],\n",
       "       [ 1. ],\n",
       "       [ 1. ]])"
      ]
     },
     "execution_count": 69,
     "metadata": {},
     "output_type": "execute_result"
    }
   ],
   "source": [
    "# T = np.array([[0,0,0,1.0/4,2.0/4,3.0/4,1,1,1]]).T\n",
    "T = np.array([[0,0,0,0,2.0/4,1,1,1,1]]).T\n",
    "T"
   ]
  },
  {
   "cell_type": "code",
   "execution_count": 70,
   "metadata": {
    "collapsed": false
   },
   "outputs": [
    {
     "data": {
      "text/plain": [
       "array([[0],\n",
       "       [0],\n",
       "       [0],\n",
       "       [0],\n",
       "       [0],\n",
       "       [0],\n",
       "       [1],\n",
       "       [0]])"
      ]
     },
     "execution_count": 70,
     "metadata": {},
     "output_type": "execute_result"
    }
   ],
   "source": [
    "t = 1.0\n",
    "N = {}\n",
    "N[0] = np.array((t >= T[:-1]) * (t < T[1:]), dtype=int)\n",
    "N[0]"
   ]
  },
  {
   "cell_type": "code",
   "execution_count": 71,
   "metadata": {
    "collapsed": false
   },
   "outputs": [
    {
     "name": "stdout",
     "output_type": "stream",
     "text": [
      "[[ 0.]\n",
      " [ 0.]\n",
      " [ 0.]\n",
      " [ 0.]\n",
      " [ 0.]\n",
      " [ 0.]\n",
      " [ 0.]]\n",
      "[[ 0.]\n",
      " [ 0.]\n",
      " [ 0.]\n",
      " [ 0.]\n",
      " [ 0.]\n",
      " [ 0.]]\n",
      "[[ 0.]\n",
      " [ 0.]\n",
      " [ 0.]\n",
      " [ 0.]\n",
      " [ 0.]]\n"
     ]
    }
   ],
   "source": [
    "invd = {}\n",
    "for i in range(k+1):\n",
    "    invd[i] = T[(i+1):] - T[:-(i+1)]\n",
    "    \n",
    "    # take care of empty knot spans\n",
    "    for j in range(invd[i].shape[0]):\n",
    "        if invd[i][j] != 0:\n",
    "            invd[i][j] = 1.0/invd[i][j]\n",
    "            \n",
    "for i in range(k+1):\n",
    "    if i > 0:\n",
    "        N[i] = ((t-T[:-i])*invd[i-1]*N[i-1])[:-1] + ((T[i:] - t)*invd[i-1]*N[i-1])[1:]\n",
    "        print N[i]"
   ]
  },
  {
   "cell_type": "code",
   "execution_count": 72,
   "metadata": {
    "collapsed": false
   },
   "outputs": [],
   "source": [
    "tt = np.arange(0,1.01,.01)\n",
    "rx = np.zeros(tt.shape)\n",
    "ry = np.zeros(tt.shape)\n",
    "\n",
    "for j in range(tt.shape[0]):\n",
    "    t = tt[j]\n",
    "    N[0] = np.array((t >= T[:-1]) * (t < T[1:]), dtype=float)\n",
    "    for i in range(k+1):\n",
    "        if i > 0:\n",
    "            N[i] = ((t - T[:-i])*invd[i - 1]*N[i - 1])[:-1] + ((T[i:] - t)*invd[i - 1]*N[i - 1])[1:]\n",
    "    rx[j] = np.dot(P[0],N[k])\n",
    "    ry[j] = np.dot(P[1],N[k])"
   ]
  },
  {
   "cell_type": "code",
   "execution_count": 73,
   "metadata": {
    "collapsed": false
   },
   "outputs": [
    {
     "data": {
      "image/png": "[encoded data removed]",
      "text/plain": [
       "<matplotlib.figure.Figure at 0x107390ed0>"
      ]
     },
     "metadata": {},
     "output_type": "display_data"
    }
   ],
   "source": [
    "plt.figure()\n",
    "plt.hold=True\n",
    "plt.scatter(P[0],P[1])\n",
    "plt.plot(rx,ry)\n",
    "# plt.axis([-0.05, 2.05, -0.05, 1.05])\n",
    "plt.axis('equal')\n",
    "plt.show()"
   ]
  },
  {
   "cell_type": "markdown",
   "metadata": {
    "collapsed": true
   },
   "source": [
    "## Python B-splines"
   ]
  },
  {
   "cell_type": "code",
   "execution_count": 82,
   "metadata": {
    "collapsed": false
   },
   "outputs": [],
   "source": [
    "xs = [1,4,3,6,6,5,4,3]\n",
    "ys = [6,4,3,2,2.5,3,1,5]\n",
    "\n",
    "# generates spline points by interpolation                                                                                                                    \n",
    "tck, u = interpolate.splprep([xs, ys], s=0) # s is smoothing factor                                                                            \n",
    "unew = np.arange(0, 1.01, 0.005)\n",
    "# evaluate spline at locations specified by unew                                                                                                              \n",
    "out = interpolate.splev(unew, tck)"
   ]
  },
  {
   "cell_type": "code",
   "execution_count": 83,
   "metadata": {
    "collapsed": false
   },
   "outputs": [],
   "source": [
    "knots = tck[0]\n",
    "controlPoints = tck[1]\n",
    "degree = tck[2]\n",
    "P = controlPoints\n",
    "T = knots\n",
    "k = degree"
   ]
  },
  {
   "cell_type": "code",
   "execution_count": 84,
   "metadata": {
    "collapsed": false
   },
   "outputs": [
    {
     "data": {
      "text/plain": [
       "array([0, 0, 0, 0, 0, 0, 0, 0, 0, 0, 0])"
      ]
     },
     "execution_count": 84,
     "metadata": {},
     "output_type": "execute_result"
    }
   ],
   "source": [
    "t = 1.0\n",
    "N = {}\n",
    "N[0] = np.array((t >= T[:-1]) * (t < T[1:]), dtype=int)\n",
    "N[0]"
   ]
  },
  {
   "cell_type": "code",
   "execution_count": 85,
   "metadata": {
    "collapsed": false
   },
   "outputs": [
    {
     "name": "stdout",
     "output_type": "stream",
     "text": [
      "[ 0.  0.  0.  0.  0.  0.  0.  0.  0.  0.]\n",
      "[ 0.  0.  0.  0.  0.  0.  0.  0.  0.]\n",
      "[ 0.  0.  0.  0.  0.  0.  0.  0.]\n"
     ]
    }
   ],
   "source": [
    "invd = {}\n",
    "for i in range(k+1):\n",
    "    invd[i] = T[(i+1):] - T[:-(i+1)]\n",
    "    \n",
    "    # take care of empty knot spans\n",
    "    for j in range(invd[i].shape[0]):\n",
    "        if invd[i][j] != 0:\n",
    "            invd[i][j] = 1.0/invd[i][j]\n",
    "            \n",
    "for i in range(k+1):\n",
    "    if i > 0:\n",
    "        N[i] = ((t-T[:-i])*invd[i-1]*N[i-1])[:-1] + ((T[i:] - t)*invd[i-1]*N[i-1])[1:]\n",
    "        print N[i]"
   ]
  },
  {
   "cell_type": "code",
   "execution_count": 89,
   "metadata": {
    "collapsed": true
   },
   "outputs": [],
   "source": [
    "tt = np.arange(0,1.01,.01)\n",
    "rx = np.zeros(tt.shape)\n",
    "ry = np.zeros(tt.shape)\n",
    "\n",
    "for j in range(tt.shape[0]):\n",
    "    t = tt[j]\n",
    "    N[0] = np.array((t >= T[:-1]) * (t < T[1:]), dtype=float)\n",
    "    for i in range(k+1):\n",
    "        if i > 0:\n",
    "            N[i] = ((t - T[:-i])*invd[i - 1]*N[i - 1])[:-1] + ((T[i:] - t)*invd[i - 1]*N[i - 1])[1:]\n",
    "    rx[j] = np.dot(P[0],N[k])\n",
    "    ry[j] = np.dot(P[1],N[k])\n",
    "    # set the last point to be equal to the final control point (otherwise it goes to zero)\n",
    "    rx[-1] = P[0][-1]\n",
    "    ry[-1] = P[1][-1]"
   ]
  },
  {
   "cell_type": "code",
   "execution_count": 90,
   "metadata": {
    "collapsed": false
   },
   "outputs": [
    {
     "data": {
      "image/png": "[encoded data removed]",
      "text/plain": [
       "<matplotlib.figure.Figure at 0x107a668d0>"
      ]
     },
     "metadata": {},
     "output_type": "display_data"
    }
   ],
   "source": [
    "plt.figure()\n",
    "plt.hold=True\n",
    "plt.scatter(P[0],P[1])\n",
    "plt.plot(rx,ry)\n",
    "# plt.axis([-0.05, 2.05, -0.05, 1.05])\n",
    "plt.axis('equal')\n",
    "plt.show()"
   ]
  },
  {
   "cell_type": "code",
   "execution_count": 77,
   "metadata": {
    "collapsed": false
   },
   "outputs": [
    {
     "data": {
      "image/png": "[encoded data removed]",
      "text/plain": [
       "<matplotlib.figure.Figure at 0x107ab18d0>"
      ]
     },
     "metadata": {},
     "output_type": "display_data"
    }
   ],
   "source": [
    "plt.figure()\n",
    "plt.hold=True\n",
    "plt.scatter(xs,ys)\n",
    "plt.scatter(out[0],out[1])\n",
    "# plt.axis([-0.05, 2.05, -0.05, 1.05])\n",
    "plt.axis('equal')\n",
    "plt.show()"
   ]
  },
  {
   "cell_type": "code",
   "execution_count": null,
   "metadata": {
    "collapsed": true
   },
   "outputs": [],
   "source": []
  }
 ],
 "metadata": {
  "kernelspec": {
   "display_name": "Python [deepAtariEnv]",
   "language": "python",
   "name": "Python [deepAtariEnv]"
  },
  "language_info": {
   "codemirror_mode": {
    "name": "ipython",
    "version": 2
   },
   "file_extension": ".py",
   "mimetype": "text/x-python",
   "name": "python",
   "nbconvert_exporter": "python",
   "pygments_lexer": "ipython2",
   "version": "2.7.12"
  }
 },
 "nbformat": 4,
 "nbformat_minor": 1
}
