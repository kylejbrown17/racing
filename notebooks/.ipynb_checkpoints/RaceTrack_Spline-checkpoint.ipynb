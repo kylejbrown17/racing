{
 "cells": [
  {
   "cell_type": "code",
   "execution_count": 1,
   "metadata": {
    "collapsed": false,
    "scrolled": true
   },
   "outputs": [
    {
     "data": {
      "text/html": [
       "<div id=\"interact-js-shim\">\n",
       "    <script charset=\"utf-8\">\n",
       "(function (IPython, $, _, MathJax) {\n",
       "    $.event.special.destroyed = {\n",
       "\tremove: function(o) {\n",
       "\t    if (o.handler) {\n",
       "\t\to.handler.apply(this, arguments)\n",
       "\t    }\n",
       "\t}\n",
       "    }\n",
       "\n",
       "    var OutputArea = IPython.version >= \"4.0.0\" ? require(\"notebook/js/outputarea\").OutputArea : IPython.OutputArea;\n",
       "\n",
       "    var redrawValue = function (container, type, val) {\n",
       "\tvar selector = $(\"<div/>\");\n",
       "\tvar oa = new OutputArea(_.extend(selector, {\n",
       "\t    selector: selector,\n",
       "\t    prompt_area: true,\n",
       "\t    events: IPython.events,\n",
       "\t    keyboard_manager: IPython.keyboard_manager\n",
       "\t})); // Hack to work with IPython 2.1.0\n",
       "\n",
       "\tswitch (type) {\n",
       "\tcase \"image/png\":\n",
       "            var _src = 'data:' + type + ';base64,' + val;\n",
       "\t    $(container).find(\"img\").attr('src', _src);\n",
       "\t    break;\n",
       "\tcase \"text/latex\":\n",
       "\t\tif (MathJax){\n",
       "\t\t\tvar math = MathJax.Hub.getAllJax(container)[0];\n",
       "\t\t\tMathJax.Hub.Queue([\"Text\", math, val.replace(/^\\${1,2}|\\${1,2}$/g, '')]);\n",
       "\t\t\tbreak;\n",
       "\t\t}\n",
       "\tdefault:\n",
       "\t    var toinsert = OutputArea.append_map[type].apply(\n",
       "\t\toa, [val, {}, selector]\n",
       "\t    );\n",
       "\t    $(container).empty().append(toinsert.contents());\n",
       "\t    selector.remove();\n",
       "\t}\n",
       "    }\n",
       "\n",
       "\n",
       "    $(document).ready(function() {\n",
       "\tfunction initComm(evt, data) {\n",
       "\t    var comm_manager = data.kernel.comm_manager;\n",
       "        //_.extend(comm_manager.targets, require(\"widgets/js/widget\"))\n",
       "\t    comm_manager.register_target(\"Signal\", function (comm) {\n",
       "            comm.on_msg(function (msg) {\n",
       "                var val = msg.content.data.value;\n",
       "                $(\".signal-\" + comm.comm_id).each(function() {\n",
       "                var type = $(this).data(\"type\");\n",
       "                if (typeof(val[type]) !== \"undefined\" && val[type] !== null) {\n",
       "                    redrawValue(this, type, val[type], type);\n",
       "                }\n",
       "                });\n",
       "                delete val;\n",
       "                delete msg.content.data.value;\n",
       "            });\n",
       "\t    });\n",
       "\n",
       "\t    // coordingate with Comm and redraw Signals\n",
       "\t    // XXX: Test using Reactive here to improve performance\n",
       "\t    $([IPython.events]).on(\n",
       "\t\t'output_appended.OutputArea', function (event, type, value, md, toinsert) {\n",
       "\t\t    if (md && md.reactive) {\n",
       "                // console.log(md.comm_id);\n",
       "                toinsert.addClass(\"signal-\" + md.comm_id);\n",
       "                toinsert.data(\"type\", type);\n",
       "                // Signal back indicating the mimetype required\n",
       "                var comm_manager = IPython.notebook.kernel.comm_manager;\n",
       "                var comm = comm_manager.comms[md.comm_id];\n",
       "                comm.then(function (c) {\n",
       "                    c.send({action: \"subscribe_mime\",\n",
       "                       mime: type});\n",
       "                    toinsert.bind(\"destroyed\", function() {\n",
       "                        c.send({action: \"unsubscribe_mime\",\n",
       "                               mime: type});\n",
       "                    });\n",
       "                })\n",
       "\t\t    }\n",
       "\t    });\n",
       "\t}\n",
       "\n",
       "\ttry {\n",
       "\t    // try to initialize right away. otherwise, wait on the status_started event.\n",
       "\t    initComm(undefined, IPython.notebook);\n",
       "\t} catch (e) {\n",
       "\t    $([IPython.events]).on('kernel_created.Kernel kernel_created.Session', initComm);\n",
       "\t}\n",
       "    });\n",
       "})(IPython, jQuery, _, MathJax);\n",
       "</script>\n",
       "    <script>\n",
       "        window.interactLoadedFlag = true\n",
       "       $(\"#interact-js-shim\").bind(\"destroyed\", function () {\n",
       "           if (window.interactLoadedFlag) {\n",
       "               console.warn(\"JavaScript required by Interact will be removed if you remove this cell or run using Interact more than once.\")\n",
       "           }\n",
       "       })\n",
       "       $([IPython.events]).on(\"kernel_starting.Kernel kernel_restarting.Kernel\", function () { window.interactLoadedFlag = false })\n",
       "   </script>\n",
       "</div>"
      ]
     },
     "metadata": {},
     "output_type": "display_data"
    },
    {
     "name": "stderr",
     "output_type": "stream",
     "text": [
      "/Users/kyle/anaconda/lib/python2.7/site-packages/matplotlib/font_manager.py:273: UserWarning: Matplotlib is building the font cache using fc-list. This may take a moment.\n",
      "  warnings.warn('Matplotlib is building the font cache using fc-list. This may take a moment.')\n"
     ]
    }
   ],
   "source": [
    "using AutomotiveDrivingModels\n",
    "using AutoViz\n",
    "using Reactive\n",
    "using Interact\n",
    "using SplineUtils\n",
    "using NearestNeighbors\n",
    "\n",
    "\n",
    "import PyPlot"
   ]
  },
  {
   "cell_type": "markdown",
   "metadata": {},
   "source": [
    "# Types"
   ]
  },
  {
   "cell_type": "code",
   "execution_count": 2,
   "metadata": {
    "collapsed": false,
    "scrolled": true
   },
   "outputs": [],
   "source": [
    "type HRHC <: DriverModel{NextState, IntegratedContinuous}\n",
    "    action_context::IntegratedContinuous\n",
    "    v_cmds # possible velocity commands\n",
    "    δ_cmds # possible δ_cmds\n",
    "    ΔXYθ # state changes associated with cmd = (v_command, δ_command)\n",
    "    legal_ΔXYθ # reachable from current v, δ\n",
    "    legal_v # reachable from current v, δ\n",
    "    legal_δ # reachable from current v, δ\n",
    "    v_idx_low::Int # index lowest reachable v_command\n",
    "    v_idx_high::Int # index highest reachable v_command\n",
    "    δ_idx_low::Int # index lowest reachable δ_command\n",
    "    δ_idx_high::Int # index highest reachable δ_command\n",
    "    successor_states # reachable next_states\n",
    "    \n",
    "    #car parameters with bicycle geometry model\n",
    "    car_length::Float64 # wheel base\n",
    "    car_width::Float64\n",
    "    car_ID::Int\n",
    "    \n",
    "    # current v, current δ\n",
    "    v::Float64\n",
    "    δ::Float64\n",
    "    curve_ind::Int\n",
    "    Δs::Float64\n",
    "    \n",
    "    # planning horizon\n",
    "    h::Int\n",
    "    Δt::Float64\n",
    "    \n",
    "    # reachable range of V and δ within a single time step\n",
    "    ΔV₊::Float64\n",
    "    ΔV₋::Float64\n",
    "    Δδ::Float64\n",
    "    \n",
    "    V_MIN::Float64\n",
    "    V_MAX::Float64\n",
    "    V_STEPS::Int\n",
    "    δ_MAX::Float64\n",
    "    δ_MIN::Float64\n",
    "    δ_STEPS::Int\n",
    "\n",
    "    # maximum deviation from center of track (if |t| > T_MAX, car is out of bounds)\n",
    "    T_MAX::Float64\n",
    "    \n",
    "    # Action = Next State\n",
    "    action::NextState\n",
    "    \n",
    "    function HRHC(car_ID::Int,roadway,context;\n",
    "        car_length::Float64=4.8,\n",
    "        car_width::Float64=1.8,\n",
    "        v::Float64=0.0,\n",
    "        δ::Float64=0.0,\n",
    "        h::Int=10,\n",
    "        Δt::Float64=1.0/24,\n",
    "        ΔV₊::Float64=1.55/100,\n",
    "        ΔV₋::Float64=3.05/100,\n",
    "        Δδ::Float64=Float64(π)/12,\n",
    "        V_MIN::Float64=0.0,\n",
    "        V_MAX::Float64=100.0,\n",
    "        V_STEPS::Int=101,\n",
    "        δ_MAX::Float64=Float64(π)/8,\n",
    "        δ_MIN::Float64=-Float64(π)/8,\n",
    "        δ_STEPS::Int=16,\n",
    "        )\n",
    "        \n",
    "        hrhc = new()\n",
    "        \n",
    "        hrhc.V_MIN=V_MIN\n",
    "        hrhc.V_MAX=V_MAX\n",
    "        hrhc.V_STEPS=V_STEPS\n",
    "        hrhc.δ_MAX=δ_MAX\n",
    "        hrhc.δ_MIN=δ_MIN\n",
    "        hrhc.δ_STEPS=δ_STEPS\n",
    "        hrhc.T_MAX=roadway.segments[1].lanes[1].width/2.0\n",
    "        \n",
    "        hrhc.car_ID = car_ID\n",
    "        hrhc.car_length=car_length\n",
    "        hrhc.car_width=car_width\n",
    "        hrhc.h=h\n",
    "        hrhc.Δt=Δt\n",
    "        hrhc.ΔV₊=ΔV₊\n",
    "        hrhc.ΔV₋=ΔV₋\n",
    "        hrhc.Δδ=Δδ\n",
    "        \n",
    "        hrhc.v_cmds, hrhc.δ_cmds, hrhc.ΔXYθ = MotionPrimitives(car_length,car_width,h,Δt,V_MIN,V_MAX,V_STEPS,δ_MAX,δ_MIN,δ_STEPS)\n",
    "        QuadraticMask!(hrhc.ΔXYθ)\n",
    "        \n",
    "        hrhc.v=v\n",
    "        hrhc.δ=δ\n",
    "        hrhc.curve_ind=1\n",
    "        hrhc.Δs=roadway.segments[1].lanes[1].curve[2].s-roadway.segments[1].lanes[1].curve[1].s\n",
    "        hrhc.action_context=context    \n",
    "        hrhc.action = NextState(VehicleState(VecSE2(0,0,0),0.0))\n",
    "        \n",
    "        hrhc\n",
    "    end\n",
    "end\n",
    "\n",
    "get_name(::HRHC) = \"HRHC\"\n",
    "action_context(driver::HRHC) = driver.action_context # AutomotiveDrivingModels.action_context\n",
    "Base.rand(hrhc::HRHC) = hrhc.action\n"
   ]
  },
  {
   "cell_type": "code",
   "execution_count": 3,
   "metadata": {
    "collapsed": false,
    "scrolled": true
   },
   "outputs": [],
   "source": [
    "type ObstacleMap\n",
    "    IDs\n",
    "    coords\n",
    "    proximity_array\n",
    "    proximity_kernel\n",
    "    \n",
    "    function ObstacleMap(IDs, scene::Scene)\n",
    "        retval = new()\n",
    "        \n",
    "        retval.IDs = IDs\n",
    "        retval.coords = zeros(3, length(IDs))\n",
    "        for i in 1:length(IDs)\n",
    "            pos = scene.vehicles[obstacle_IDs[i]].state.posG\n",
    "            retval.coords[1,i] = pos.x\n",
    "            retval.coords[2,i] = pos.y\n",
    "            retval.coords[3,i] = pos.θ\n",
    "        end\n",
    "        \n",
    "        # initialize proximity kernel - indicator for whether an agent needs to plan against a given obstacle\n",
    "        retval.proximity_array = zeros(2,size(retval.coords,2)) # Δr, Δθ\n",
    "        retval.proximity_kernel = zeros(1,size(retval.proximity_array,2)) # 1[within_planning_horizon]\n",
    "        \n",
    "        retval\n",
    "    end\n",
    "    \n",
    "    function ObstacleMap(count::Int, scene::Scene)\n",
    "        retval = new()\n",
    "        \n",
    "        retval.IDs = []\n",
    "        L = length(scene)\n",
    "        for j in 1+L:count+L\n",
    "            push!(retval.IDs, j)\n",
    "            ind_i = rand([i for i in 1:25])\n",
    "            ind_t = rand([i/100.0 for i in 1:100])\n",
    "            t = rand([i/10.0 for i in -10:10])*lane_width/2.0\n",
    "            ϕ = rand([i/20.0 for i in -20:20])*Float64(π)\n",
    "#             segment = rand([i for i in 1:4])\n",
    "            segment=1\n",
    "            roadind = RoadProjection(CurveProjection(CurveIndex(ind_i, ind_t), t, ϕ), LaneTag(segment,1))\n",
    "            vehstate = VehicleState(Frenet(roadind, roadway), roadway, 0.0)\n",
    "            vehdef = VehicleDef(j, AgentClass.CAR, 4.8, 1.8)\n",
    "            push!(scene, Vehicle(vehstate, vehdef))\n",
    "        end\n",
    "        \n",
    "        retval.coords = zeros(3, length(retval.IDs))\n",
    "        for i in 1:length(retval.IDs)\n",
    "            pos = scene.vehicles[retval.IDs[i]].state.posG\n",
    "            retval.coords[1,i] = pos.x\n",
    "            retval.coords[2,i] = pos.y\n",
    "            retval.coords[3,i] = pos.θ\n",
    "        end\n",
    "        \n",
    "        # initialize proximity kernel - indicator for whether an agent needs to plan against a given obstacle\n",
    "        retval.proximity_array = zeros(2,size(retval.coords,2)) # Δr, Δθ\n",
    "        retval.proximity_kernel = zeros(1,size(retval.proximity_array,2)) # 1[within_planning_horizon]\n",
    "        \n",
    "        retval\n",
    "    end\n",
    "    \n",
    "end"
   ]
  },
  {
   "cell_type": "markdown",
   "metadata": {},
   "source": [
    "# utility functions"
   ]
  },
  {
   "cell_type": "code",
   "execution_count": 4,
   "metadata": {
    "collapsed": false,
    "scrolled": true
   },
   "outputs": [
    {
     "data": {
      "text/plain": [
       "GenSplineRoadway (generic function with 1 method)"
      ]
     },
     "execution_count": 4,
     "metadata": {},
     "output_type": "execute_result"
    }
   ],
   "source": [
    "function GenSplineRoadway(x,y,θ,s,k,lane_width)\n",
    "    nlanes = 1\n",
    "    seg1 = RoadSegment(1, Array(Lane, nlanes))\n",
    "    tag1=LaneTag(1,1)\n",
    "    boundary_left = LaneBoundary(:solid, :white)\n",
    "    boundary_right = LaneBoundary(:solid, :white)\n",
    "\n",
    "    curvepts = Array(CurvePt, length(x))\n",
    "    for i in 1:length(x)\n",
    "        curvepts[i] = CurvePt(VecSE2(x[i],y[i],θ[i]), s[i], k[i], NaN)\n",
    "    end\n",
    "\n",
    "    curveind_lo = CurveIndex(1,0.0)\n",
    "    curveind_hi = CurveIndex(length(curvepts)-1,1.0)\n",
    "#     curveind_hi = CurveIndex(length(curvepts),1.0)\n",
    "\n",
    "    seg1.lanes[1] = Lane(tag1, curvepts, width=lane_width,\n",
    "                                  boundary_left=boundary_left, boundary_right=boundary_right,\n",
    "                                  next = RoadIndex(curveind_lo, tag1),\n",
    "                                  prev = RoadIndex(curveind_hi, tag1),\n",
    "                                 )\n",
    "    \n",
    "    roadway = Roadway()\n",
    "    push!(roadway.segments, seg1)\n",
    "    \n",
    "    return roadway\n",
    "end"
   ]
  },
  {
   "cell_type": "code",
   "execution_count": 5,
   "metadata": {
    "collapsed": false,
    "scrolled": true
   },
   "outputs": [
    {
     "data": {
      "text/plain": [
       "MotionPrimitives (generic function with 1 method)"
      ]
     },
     "execution_count": 5,
     "metadata": {},
     "output_type": "execute_result"
    }
   ],
   "source": [
    "# Return a library of motion primitives (arcs of constant radius) representing short paths that the car can follow.\n",
    "function MotionPrimitives(car_length,car_width,h,Δt,v_min,v_max,v_steps,δ_max,δ_min,δ_steps)\n",
    "    # 3D array to store motion_primitives\n",
    "    motion_primitives = zeros(v_steps,2*δ_steps+1,2) # v: 0,...,99; δ: -45:45, (arc length, +/- radius)\n",
    "\n",
    "    v = linspace(v_min,v_max,v_steps)*ones(1,2*δ_steps+1)\n",
    "    δ = (linspace(-δ_max,δ_max,δ_steps*2+1)*ones(1,v_steps))' # steering angle\n",
    "\n",
    "    motion_primitives[:,:,1] = v*Δt*h # arc length = velocity * time\n",
    "    motion_primitives[:,:,2] = car_length./sin(δ) # radius of curvature (+ or -)\n",
    "    motion_primitives[:,1+δ_steps,2] = Inf; # radius of curvature is infinite if steering angle = 0\n",
    "    \n",
    "    destination_primitives = zeros(v_steps,2*δ_steps+1,h,3) # lookup table defining car's location at each of next h time steps\n",
    "\n",
    "    for i = 1:h\n",
    "        # angle = 2π * arc_length / r\n",
    "        dθ = v*Δt*i ./ motion_primitives[:,:,2]\n",
    "        \n",
    "        # dX = abs(radius) * sin(angle)\n",
    "        destination_primitives[:,:,i,1] = abs(motion_primitives[:,:,2]) .* sin(abs(dθ))\n",
    "        destination_primitives[:,1+δ_steps,i,1] = v[:,1+δ_steps]*Δt*i # centerline\n",
    "        \n",
    "        # dY = radius * (1 - cos(angle))\n",
    "        destination_primitives[:,:,i,2] = motion_primitives[:,:,2].*(1 - cos(dθ))\n",
    "        destination_primitives[:,1+δ_steps,i,2] = 0 # centerline\n",
    "        \n",
    "        destination_primitives[:,:,i,3] = dθ\n",
    "    end\n",
    "    \n",
    "    # motion_primitives[v, δ, i,j] = s (arc_length), r (radius of curvature)\n",
    "    # destination_primitives[v, δ, h, 1=Δx,2=Δy,3=Δθ]= changes in x, y and θ after h time steps\n",
    "    return v, δ, destination_primitives\n",
    "\n",
    "end"
   ]
  },
  {
   "cell_type": "code",
   "execution_count": 6,
   "metadata": {
    "collapsed": false,
    "scrolled": false
   },
   "outputs": [
    {
     "data": {
      "text/plain": [
       "QuadraticMask! (generic function with 1 method)"
      ]
     },
     "execution_count": 6,
     "metadata": {},
     "output_type": "execute_result"
    }
   ],
   "source": [
    "# quadratic logical mask\n",
    "function QuadraticMask!(library)\n",
    "    A = size(library)[1]\n",
    "    B = size(library)[2]\n",
    "    X = linspace(0,100,A)*ones(1,B)\n",
    "    Y = ones(A,1)*linspace(-20,20,B)'\n",
    "    f = X.^2 + 24*(Y.^2 - 10^2)\n",
    "    mask = 1.0*(f.<10000)\n",
    "    \n",
    "\n",
    "    p = PyPlot.scatter(X,Y.*mask)\n",
    "    PyPlot.xlabel(\"velocity\")\n",
    "    PyPlot.ylabel(\"steering angle\")\n",
    "    PyPlot.show()\n",
    "\n",
    "    if length(size(library)) == 3\n",
    "        for i in 1 : size(library)[3]\n",
    "            library[:,:,i] = library[:,:,i] .* mask\n",
    "        end\n",
    "    end\n",
    "    if length(size(library)) == 4\n",
    "        for i in 1 : size(library)[3]\n",
    "            for j in 1 : size(library)[4]\n",
    "                library[:,:,i,j] = library[:,:,i,j] .* mask\n",
    "            end\n",
    "        end\n",
    "    end\n",
    "end"
   ]
  },
  {
   "cell_type": "code",
   "execution_count": 7,
   "metadata": {
    "collapsed": false,
    "scrolled": true
   },
   "outputs": [
    {
     "data": {
      "text/plain": [
       "CurveDist (generic function with 1 method)"
      ]
     },
     "execution_count": 7,
     "metadata": {},
     "output_type": "execute_result"
    }
   ],
   "source": [
    "function CurveDist(pt1::CurvePt, pt2::CurvePt)\n",
    "#     Δx = pt1.pos.x - pt2.pos.x\n",
    "#     Δy = pt1.pos.y - pt2.pos.y\n",
    "#     d = sqrt(Δx^2 + Δy^2)\n",
    "    d = sqrt((pt1.pos.x - pt2.pos.x)^2 + (pt1.pos.y - pt2.pos.y)^2)\n",
    "end"
   ]
  },
  {
   "cell_type": "code",
   "execution_count": 8,
   "metadata": {
    "collapsed": false,
    "scrolled": true
   },
   "outputs": [
    {
     "data": {
      "text/plain": [
       "wrap_to_π (generic function with 1 method)"
      ]
     },
     "execution_count": 8,
     "metadata": {},
     "output_type": "execute_result"
    }
   ],
   "source": [
    "function wrap_to_π(θ)\n",
    "#     θ = θ - div(θ,2*Float64(π))*(2*Float64(π))\n",
    "    θ = θ - div(θ,2*Float64(π))*(2*Float64(π)) \n",
    "    θ = θ + (θ .< -π).*(2*Float64(π)) - (θ .> π).*(2*Float64(π))\n",
    "end"
   ]
  },
  {
   "cell_type": "code",
   "execution_count": 9,
   "metadata": {
    "collapsed": false
   },
   "outputs": [
    {
     "data": {
      "text/plain": [
       "angle_diff (generic function with 1 method)"
      ]
     },
     "execution_count": 9,
     "metadata": {},
     "output_type": "execute_result"
    }
   ],
   "source": [
    "function angle_diff(θ₁, θ₂)\n",
    "    \"\"\"\n",
    "    return the difference between θ₁ and θ₂\n",
    "    \"\"\"\n",
    "    Δθ = wrap_to_π(wrap_to_π(θ₁) - wrap_to_π(θ₂))\n",
    "    return Δθ\n",
    "end"
   ]
  },
  {
   "cell_type": "code",
   "execution_count": 10,
   "metadata": {
    "collapsed": false
   },
   "outputs": [
    {
     "data": {
      "text/plain": [
       "-0.031415926535897754"
      ]
     },
     "execution_count": 10,
     "metadata": {},
     "output_type": "execute_result"
    }
   ],
   "source": [
    "θ = 2.1*Float64(π) - .11*Float64(π)\n",
    "wrap_to_π(θ)"
   ]
  },
  {
   "cell_type": "markdown",
   "metadata": {},
   "source": [
    "# HRHC Algorithm"
   ]
  },
  {
   "cell_type": "markdown",
   "metadata": {},
   "source": [
    "### 0. Initialize motion primitives"
   ]
  },
  {
   "cell_type": "markdown",
   "metadata": {},
   "source": [
    "### 1. Identify eligible (reachable) motion primitives based on current state"
   ]
  },
  {
   "cell_type": "code",
   "execution_count": 11,
   "metadata": {
    "collapsed": false,
    "scrolled": true
   },
   "outputs": [
    {
     "data": {
      "text/plain": [
       "getLegalMoves! (generic function with 1 method)"
      ]
     },
     "execution_count": 11,
     "metadata": {},
     "output_type": "execute_result"
    }
   ],
   "source": [
    "function getLegalMoves!(hrhc::HRHC, scene; h=hrhc.h)\n",
    "    v_norm = scene.vehicles[hrhc.car_ID].state.v / hrhc.V_MAX\n",
    "\n",
    "    # Restrict search space to reachable states\n",
    "    hrhc.v_idx_low = max(1, round(Int,(v_norm - hrhc.ΔV₋)*hrhc.V_STEPS)) # index of lowest reachable v in the next time step\n",
    "    hrhc.v_idx_high = min(hrhc.V_STEPS, round(Int, (v_norm + hrhc.ΔV₊)*hrhc.V_STEPS)) # highest reachable v in the next time step\n",
    "\n",
    "    # Restrict search space to reachable states\n",
    "    hrhc.δ_idx_low = max(1, (hrhc.δ_STEPS+1) + round(Int,((hrhc.δ - hrhc.Δδ)/(hrhc.δ_MAX - hrhc.δ_MIN))*(2*hrhc.δ_STEPS+1)))\n",
    "    hrhc.δ_idx_high = min((2*hrhc.δ_STEPS+1), (hrhc.δ_STEPS+1) + round(Int,((hrhc.δ + hrhc.Δδ)/(hrhc.δ_MAX - hrhc.δ_MIN))*(2*hrhc.δ_STEPS+1)))\n",
    "\n",
    "    # legal_moves = motion_primitives[v_idx_low:v_idx_high,δ_idx_low:δ_idx_high,:]\n",
    "    hrhc.legal_ΔXYθ = hrhc.ΔXYθ[hrhc.v_idx_low:hrhc.v_idx_high,hrhc.δ_idx_low:hrhc.δ_idx_high,h,:] # ΔX, ΔY, Δθ\n",
    "    hrhc.legal_v = hrhc.v_cmds[hrhc.v_idx_low:hrhc.v_idx_high,hrhc.δ_idx_low:hrhc.δ_idx_high]\n",
    "    hrhc.legal_δ = hrhc.δ_cmds[hrhc.v_idx_low:hrhc.v_idx_high,hrhc.δ_idx_low:hrhc.δ_idx_high]\n",
    "    \n",
    "    return\n",
    "end"
   ]
  },
  {
   "cell_type": "markdown",
   "metadata": {},
   "source": [
    "### 2. Calculate resulting final state (posG) from applying each given motion primitive"
   ]
  },
  {
   "cell_type": "code",
   "execution_count": 12,
   "metadata": {
    "collapsed": false,
    "scrolled": true
   },
   "outputs": [
    {
     "data": {
      "text/plain": [
       "getSuccessorStates! (generic function with 1 method)"
      ]
     },
     "execution_count": 12,
     "metadata": {},
     "output_type": "execute_result"
    }
   ],
   "source": [
    "#function getSuccessorStates(vehicle, hrhc)\n",
    "function getSuccessorStates!(hrhc::HRHC, scene::Scene)\n",
    "    pos = scene.vehicles[hrhc.car_ID].state.posG # global x,y,z of car\n",
    "\n",
    "    ΔX = hrhc.legal_ΔXYθ[:,:,1] * cos(pos.θ) + hrhc.legal_ΔXYθ[:,:,2] * -sin(pos.θ)\n",
    "    ΔY = hrhc.legal_ΔXYθ[:,:,1] * sin(pos.θ) + hrhc.legal_ΔXYθ[:,:,2] * cos(pos.θ)\n",
    "    Δθ = hrhc.legal_ΔXYθ[:,:,3]\n",
    "\n",
    "    hrhc.successor_states = zeros(size(hrhc.legal_ΔXYθ))\n",
    "    hrhc.successor_states[:,:,1] = ΔX + pos.x\n",
    "    hrhc.successor_states[:,:,2] = ΔY + pos.y\n",
    "    hrhc.successor_states[:,:,3] = Δθ + pos.θ\n",
    "    \n",
    "    return\n",
    "end"
   ]
  },
  {
   "cell_type": "markdown",
   "metadata": {},
   "source": [
    "### 3. Project posG onto track to determine if a given motion is legal (in bounds)"
   ]
  },
  {
   "cell_type": "code",
   "execution_count": 13,
   "metadata": {
    "collapsed": false,
    "scrolled": true
   },
   "outputs": [
    {
     "data": {
      "text/plain": [
       "projectGridToCenterline (generic function with 1 method)"
      ]
     },
     "execution_count": 13,
     "metadata": {},
     "output_type": "execute_result"
    }
   ],
   "source": [
    "function projectGridToCenterline(hrhc::HRHC, roadway, sMap)\n",
    "    s = zeros(size(hrhc.successor_states[:,:,1]))\n",
    "    t = zeros(size(s))\n",
    "    ϕ = zeros(size(s))\n",
    "    tag = zeros(size(s))\n",
    "\n",
    "    successor_states_grid = reshape(hrhc.successor_states, length(hrhc.successor_states[:,:,1]),3) # must reshape to index correctly\n",
    "\n",
    "    for i in 1 : length(s)\n",
    "        myProj = Vec.proj(VecSE2(successor_states_grid[i,:]), roadway) # project point onto roadway\n",
    "        curve = myProj.curveproj\n",
    "        tag[i] = myProj.tag.segment\n",
    "        s[i] = sMap[tag[i]][curve.ind.i][1] + sMap[tag[i]][curve.ind.i][2]*curve.ind.t # total distance traveled\n",
    "        t[i] = curve.t # distance from centerline\n",
    "        ϕ[i] = curve.ϕ\n",
    "    end\n",
    "    \n",
    "    # account for returning to the beginning of the roadway (leaving last segment, entering first segment)\n",
    "    if maximum(tag) == length(roadway.segments) && minimum(tag) == 1\n",
    "        tag_filter = (tag .== minimum(tag))\n",
    "        s += sMap[length(roadway.segments)][length(roadway.segments[end].lanes[1].curve)][1].*tag_filter\n",
    "    end\n",
    "    \n",
    "    return s,t,ϕ\n",
    "end"
   ]
  },
  {
   "cell_type": "code",
   "execution_count": 14,
   "metadata": {
    "collapsed": false,
    "scrolled": true
   },
   "outputs": [
    {
     "data": {
      "text/plain": [
       "loopProjection (generic function with 1 method)"
      ]
     },
     "execution_count": 14,
     "metadata": {},
     "output_type": "execute_result"
    }
   ],
   "source": [
    "function loopProjection(hrhc::HRHC,roadway)\n",
    "    curve_start = hrhc.curve_ind\n",
    "    curve_range = Int(1+2*div(hrhc.V_MAX*hrhc.Δt*hrhc.h,hrhc.Δs))\n",
    "    lim = length(roadway.segments[1].lanes[1].curve)\n",
    "    ind_hi = curve_start+curve_range\n",
    "    if ind_hi > lim\n",
    "        ind_hi -= lim\n",
    "        curve = [roadway.segments[1].lanes[1].curve[curve_start:end];roadway.segments[1].lanes[1].curve[1:ind_hi]]\n",
    "    else\n",
    "        curve = roadway.segments[1].lanes[1].curve[curve_start:ind_hi]\n",
    "    end\n",
    "    s_grid = zeros(size(hrhc.successor_states,1),size(hrhc.successor_states,2))\n",
    "    t_grid = zeros(size(s_grid))\n",
    "    ϕ_grid = zeros(size(s_grid))\n",
    "    idx_grid = zeros(Int,size(s_grid))\n",
    "    for i in 1:size(s_grid,1)\n",
    "        for j in 1:size(s_grid,2)\n",
    "            myProj = Vec.proj(VecSE2(hrhc.successor_states[i,j,1],hrhc.successor_states[i,j,2],hrhc.successor_states[i,j,3]), curve)\n",
    "            s_grid[i,j] = curve[myProj.ind.i].s + hrhc.Δs*myProj.ind.t\n",
    "            t_grid[i,j] = myProj.t\n",
    "            ϕ_grid[i,j] = myProj.ϕ\n",
    "            idx_grid[i,j] = myProj.ind.i\n",
    "        end\n",
    "    end\n",
    "    # account for wrap-around\n",
    "    s_grid[(idx_grid + curve_start - 1) .> lim] += sP[end]+hrhc.Δs\n",
    "    \n",
    "    return s_grid, t_grid, ϕ_grid\n",
    "end"
   ]
  },
  {
   "cell_type": "code",
   "execution_count": 15,
   "metadata": {
    "collapsed": false,
    "scrolled": true
   },
   "outputs": [
    {
     "data": {
      "text/plain": [
       "loopProjectionKD (generic function with 1 method)"
      ]
     },
     "execution_count": 15,
     "metadata": {},
     "output_type": "execute_result"
    }
   ],
   "source": [
    "function loopProjectionKD(hrhc::HRHC,scene,roadway,tree)\n",
    "    curve = roadway.segments[1].lanes[1].curve\n",
    "\n",
    "    s_grid = zeros(size(hrhc.successor_states,1),size(hrhc.successor_states,2))\n",
    "    t_grid = zeros(size(s_grid))\n",
    "    ϕ_grid = zeros(size(s_grid))\n",
    "    idx_grid = zeros(Int,size(s_grid))\n",
    "#     x=0\n",
    "#     y=0\n",
    "    \n",
    "    pts = [reshape(hrhc.successor_states[:,:,1],size(hrhc.successor_states[:,:,1],1)*size(hrhc.successor_states[:,:,1],2),1)';\n",
    "    reshape(hrhc.successor_states[:,:,2],size(hrhc.successor_states[:,:,2],1)*size(hrhc.successor_states[:,:,2],2),1)']\n",
    "    idxs_list, _ = knn(tree,pts,1)\n",
    "    idxs=reshape(idxs_list,size(hrhc.successor_states[:,:,2],1),size(hrhc.successor_states[:,:,2],2))\n",
    "    \n",
    "    \n",
    "    for i in 1:size(s_grid,1)\n",
    "        for j in 1:size(s_grid,2)\n",
    "#             idx, dist = knn(tree,[hrhc.successor_states[i,j,1];hrhc.successor_states[i,j,2]],1)\n",
    "            idxA = idxs[i,j][1]-1\n",
    "            idxB = idxs[i,j][1]+1\n",
    "            if idxs[i,j][1] == length(curve)\n",
    "                idxB = 1 # back to the beginning of the curve\n",
    "            end\n",
    "            if idxs[i,j][1] == 1\n",
    "                idxA = length(curve) # back to the beginning of the curve\n",
    "            end\n",
    "            x = hrhc.successor_states[i,j,1]\n",
    "            y = hrhc.successor_states[i,j,2]\n",
    "            dA = sqrt(sum(([curve[idxA].pos.x, curve[idxA].pos.y]-[x,y]).^2))\n",
    "            dB = sqrt(sum(([curve[idxB].pos.x, curve[idxB].pos.y]-[x,y]).^2))\n",
    "            if dA < dB\n",
    "                idxB = idxs[i,j][1]\n",
    "            else\n",
    "                idxA = idxs[i,j][1]\n",
    "            end\n",
    "            \n",
    "            # project\n",
    "            vec1 = [curve[idxB].pos.x - curve[idxA].pos.x, curve[idxB].pos.y - curve[idxA].pos.y, 0]\n",
    "            vec2 = [x - curve[idxA].pos.x, y - curve[idxA].pos.y, 0]\n",
    "            idx_t = dot(vec2, vec1)/norm(vec1)^2\n",
    "            \n",
    "            s_θ = curve[idxA].pos.θ + idx_t*(curve[idxB].pos.θ - curve[idxA].pos.θ)\n",
    "    \n",
    "            s_grid[i,j] = curve[idxA].s + idx_t*hrhc.Δs\n",
    "            t_grid[i,j] = -norm(vec2 - idx_t*vec1)\n",
    "            ϕ_grid[i,j] = wrap_to_π(hrhc.successor_states[i,j,3] - s_θ)\n",
    "            idx_grid[i,j] = idxA\n",
    "        end\n",
    "    end\n",
    "    # account for wrap-around\n",
    "    s_grid[s_grid .< scene.vehicles[hrhc.car_ID].state.posF.s] += curve[end].s + hrhc.Δs\n",
    "    \n",
    "    return s_grid, t_grid, ϕ_grid\n",
    "end"
   ]
  },
  {
   "cell_type": "code",
   "execution_count": 16,
   "metadata": {
    "collapsed": false
   },
   "outputs": [
    {
     "ename": "LoadError",
     "evalue": "UndefVarError: hrhc not defined",
     "output_type": "error",
     "traceback": [
      "UndefVarError: hrhc not defined",
      ""
     ]
    }
   ],
   "source": [
    "angle_diff(hrhc.successor_states[1,1,3], 3.4)"
   ]
  },
  {
   "cell_type": "code",
   "execution_count": 17,
   "metadata": {
    "collapsed": false
   },
   "outputs": [
    {
     "data": {
      "text/plain": [
       "kdProject (generic function with 1 method)"
      ]
     },
     "execution_count": 17,
     "metadata": {},
     "output_type": "execute_result"
    }
   ],
   "source": [
    "function kdProject(x,y,θ,tree,roadway)\n",
    "    curve = roadway.segments[1].lanes[1].curve\n",
    "\n",
    "    idx_list,dist = knn(tree,[x;y],1)\n",
    "    idx = idx_list[1]\n",
    "#     @show idx\n",
    "    idxA = idx-1\n",
    "    idxB = idx+1\n",
    "\n",
    "    if idx == length(curve)\n",
    "        idxB = 1 # back to the beginning of the curve\n",
    "    end\n",
    "    if idx == 1\n",
    "        idxA = length(curve)\n",
    "    end\n",
    "    dA = sqrt(sum(([curve[idxA].pos.x, curve[idxA].pos.y]-[x,y]).^2))\n",
    "    dB = sqrt(sum(([curve[idxB].pos.x, curve[idxB].pos.y]-[x,y]).^2))\n",
    "    if dA < dB\n",
    "        idxB = idx\n",
    "    else\n",
    "        idxA = idx\n",
    "    end\n",
    "\n",
    "    # project\n",
    "    vec1 = [curve[idxB].pos.x - curve[idxA].pos.x, curve[idxB].pos.y - curve[idxA].pos.y, 0]\n",
    "    vec2 = [x - curve[idxA].pos.x, y - curve[idxA].pos.y, 0]\n",
    "    idx_t = dot(vec2, vec1)/norm(vec1)^2\n",
    "\n",
    "    pθ = curve[idxA].pos.θ + idx_t*(curve[idxB].pos.θ - curve[idxA].pos.θ)\n",
    "\n",
    "    s = curve[idxA].s + idx_t*hrhc.Δs\n",
    "    t = -norm(vec2 - idx_t*vec1)\n",
    "    ϕ = angle_diff(θ, pθ)\n",
    "\n",
    "    s,t,ϕ,idxA\n",
    "end"
   ]
  },
  {
   "cell_type": "markdown",
   "metadata": {},
   "source": [
    "### 4. Select legal motion primitive that yields highest progress"
   ]
  },
  {
   "cell_type": "markdown",
   "metadata": {},
   "source": [
    "### 5. Check each time step up to horizon to make sure the entire trajectory is legal"
   ]
  },
  {
   "cell_type": "code",
   "execution_count": 18,
   "metadata": {
    "collapsed": false,
    "scrolled": true
   },
   "outputs": [
    {
     "data": {
      "text/plain": [
       "applyObstacleKernel! (generic function with 1 method)"
      ]
     },
     "execution_count": 18,
     "metadata": {},
     "output_type": "execute_result"
    }
   ],
   "source": [
    "function applyObstacleKernel!(arr, obstacle_ID, hrhc, scene, roadway)\n",
    "    \"\"\"\n",
    "    computes a penalty function over hrhc.successor_states to penalize which\n",
    "    successor states will result in a collision with the obstacle\n",
    "    \"\"\"\n",
    "    \n",
    "    pos = scene.vehicles[obstacle_ID].state.posG # position of obstacle\n",
    "    x = pos.x\n",
    "    y = pos.y\n",
    "    \n",
    "    r = sqrt((hrhc.successor_states[:,:,1] - x).^2 + (hrhc.successor_states[:,:,2] - y).^2)\n",
    "    \n",
    "    kernel = 1.0*(r .> hrhc.car_length)\n",
    "    arr = arr .* kernel\n",
    "end"
   ]
  },
  {
   "cell_type": "code",
   "execution_count": 19,
   "metadata": {
    "collapsed": false,
    "scrolled": true
   },
   "outputs": [
    {
     "data": {
      "text/plain": [
       "computeTrajectory (generic function with 1 method)"
      ]
     },
     "execution_count": 19,
     "metadata": {},
     "output_type": "execute_result"
    }
   ],
   "source": [
    "function computeTrajectory(hrhc::HRHC, scene, cmd_index; h=hrhc.h)\n",
    "    pos = scene.vehicles[hrhc.car_ID].state.posG\n",
    "    \n",
    "    traj_ΔXYθ = hrhc.ΔXYθ[cmd_index[1],cmd_index[2],1:h,:]\n",
    "    \n",
    "    ΔX = traj_ΔXYθ[:,1] * cos(pos.θ) + traj_ΔXYθ[:,2] * -sin(pos.θ)\n",
    "    ΔY = traj_ΔXYθ[:,1] * sin(pos.θ) + traj_ΔXYθ[:,2] * cos(pos.θ)\n",
    "    Δθ = traj_ΔXYθ[:,3]\n",
    "\n",
    "    trajectory = zeros(size(traj_ΔXYθ))\n",
    "    trajectory[:,1] = ΔX + pos.x\n",
    "    trajectory[:,2] = ΔY + pos.y\n",
    "    trajectory[:,3] = Δθ + pos.θ\n",
    "    \n",
    "    return trajectory\n",
    "end"
   ]
  },
  {
   "cell_type": "code",
   "execution_count": 20,
   "metadata": {
    "collapsed": false,
    "scrolled": true
   },
   "outputs": [
    {
     "data": {
      "text/plain": [
       "screenTrajectory (generic function with 1 method)"
      ]
     },
     "execution_count": 20,
     "metadata": {},
     "output_type": "execute_result"
    }
   ],
   "source": [
    "function screenTrajectory(trajectory, roadway, hrhc, tree)\n",
    "    out_of_bounds = false\n",
    "    \n",
    "    for i in 1 : size(trajectory,1)\n",
    "        ############# Here is the problem!!!\n",
    "#         myProj = Vec.proj(VecSE2(trajectory[i,:]), roadway) # project point onto roadway \n",
    "#         curve_start = hrhc.curve_ind\n",
    "#         curve_range = Int(1+2*div(hrhc.V_MAX*hrhc.Δt*hrhc.h,hrhc.Δs))\n",
    "#         lim = length(roadway.segments[1].lanes[1].curve)\n",
    "#         ind_hi = curve_start+curve_range\n",
    "#         if ind_hi > lim\n",
    "#             ind_hi -= lim\n",
    "#             curve = [roadway.segments[1].lanes[1].curve[curve_start:end];roadway.segments[1].lanes[1].curve[1:ind_hi]]\n",
    "#         else\n",
    "#             curve = roadway.segments[1].lanes[1].curve[curve_start:ind_hi]\n",
    "#         end\n",
    "#         myProj = Vec.proj(VecSE2(trajectory[i,1],trajectory[i,2],trajectory[i,3]), curve)\n",
    "        x = trajectory[i,1]\n",
    "        y = trajectory[i,2]\n",
    "        θ = trajectory[i,3]\n",
    "        s,t,ϕ = kdProject(x,y,θ,tree,roadway)\n",
    "        ############# Here ends the problem!\n",
    "#         t = myProj.t\n",
    "        if abs(t) > hrhc.T_MAX\n",
    "            #print(\"T OUT OF BOUNDS!!!\")\n",
    "            out_of_bounds=true\n",
    "            return out_of_bounds\n",
    "        end\n",
    "    end\n",
    "    return out_of_bounds\n",
    "end"
   ]
  },
  {
   "cell_type": "markdown",
   "metadata": {},
   "source": [
    "### 6. Apply the motion primitive for a single time step"
   ]
  },
  {
   "cell_type": "markdown",
   "metadata": {},
   "source": [
    "### 7. Go back to 1"
   ]
  },
  {
   "cell_type": "markdown",
   "metadata": {},
   "source": [
    "# get HRHC action function"
   ]
  },
  {
   "cell_type": "code",
   "execution_count": 21,
   "metadata": {
    "collapsed": false,
    "scrolled": true
   },
   "outputs": [
    {
     "data": {
      "text/plain": [
       "observe! (generic function with 1 method)"
      ]
     },
     "execution_count": 21,
     "metadata": {},
     "output_type": "execute_result"
    }
   ],
   "source": [
    "function observe!(hrhc::HRHC, scene::Scene, roadway::Roadway, egoid::Int, tree::KDTree) #, obstacleMap::ObstacleMap) # select action\n",
    "    # this is where to set the next action\n",
    "    state = scene.vehicles[hrhc.car_ID].state\n",
    "    hrhc.curve_ind = state.posF.roadind.ind.i\n",
    "    \n",
    "    v = state.v # current v\n",
    "    hrhc.v = v\n",
    "    \n",
    "    trajectory = zeros(hrhc.h,3)\n",
    "    action_selected = false\n",
    "    abs_cmd = (1,1)\n",
    "    \n",
    "    i = 0\n",
    "    for i in 0:(hrhc.h-1)\n",
    "        if action_selected\n",
    "            break # out of for loop\n",
    "        end\n",
    "        \n",
    "        # get legal (reachable from current v, δ) actions\n",
    "        getLegalMoves!(hrhc, scene, h=hrhc.h-i)\n",
    "        \n",
    "        # calculate successor states\n",
    "        getSuccessorStates!(hrhc, scene)\n",
    "        \n",
    "        # project successor states onto track\n",
    "        s,t,ϕ = loopProjectionKD(hrhc, scene, roadway, tree)\n",
    "        \n",
    "        # remove actions that lead to running out of bounds\n",
    "#         eligible_s = s .* (abs(t) .< hrhc.T_MAX)\n",
    "        \n",
    "        # optimization objective\n",
    "        dS = s - state.posF.s\n",
    "        dS = dS / maximum(dS) # normalize\n",
    "        ϕMAX = Float64(π)/2\n",
    "        f_ϕ = 0 # 2\n",
    "        f_t = .1 # 8\n",
    "        f_tϕ = 3 # 5\n",
    "        A = [1 1; 1 1]\n",
    "        cost_x = (((ϕ/ϕMAX)*A[1,1] + (t/T_MAX)*A[2,1]).*(ϕ/ϕMAX) + ((ϕ/ϕMAX)*A[1,2] + (t/T_MAX)*A[2,2]).*(t/T_MAX))/2\n",
    "        cost_t = (exp(((10-hrhc.h+f_t)*abs(t/hrhc.T_MAX).^2)) - 1)/exp(f_t)\n",
    "        cost_ϕ = (exp(((10-hrhc.h+f_ϕ)*abs(ϕ/ϕMAX).^2)) - 1)/exp(f_ϕ)\n",
    "        cost_tϕ = (exp(f_tϕ*cost_x) - 1)/exp(1)\n",
    "        eligibility_mask = ((hrhc.successor_states[:,:,1] .== state.posG.x).*(hrhc.successor_states[:,:,2] .== state.posG.y))\n",
    "        objective = cost_t + cost_ϕ + cost_tϕ + 1 - dS + Inf * eligibility_mask\n",
    "        \n",
    "        while (action_selected==false) && (minimum(objective) != Inf)\n",
    "#             objective = eligible_s\n",
    "#             objective += -(i+1)*abs(t)\n",
    "            \n",
    "            index = indmin(objective) # find get a better method of optimizing this\n",
    "            cmd = ind2sub(s, index)\n",
    "            abs_cmd = (cmd[1]+hrhc.v_idx_low-1, cmd[2]+hrhc.δ_idx_low-1)\n",
    "\n",
    "            # compute full trajectory up to horizon\n",
    "            trajectory = computeTrajectory(hrhc, scene, abs_cmd, h=hrhc.h-i)\n",
    "            \n",
    "            # screen trajectory for collisions / validity\n",
    "            out_of_bounds = screenTrajectory(trajectory, roadway, hrhc, tree) \n",
    "            \n",
    "            if out_of_bounds\n",
    "                objective[index] = Inf\n",
    "            else\n",
    "                action_selected=true\n",
    "            end\n",
    "        end \n",
    "    end\n",
    "    \n",
    "    hrhc.δ = hrhc.δ_cmds[abs_cmd[1], abs_cmd[2]]\n",
    "    hrhc.v = hrhc.v_cmds[abs_cmd[1], abs_cmd[2]]\n",
    "    \n",
    "    next_state = VehicleState(VecSE2(trajectory[1,:]),roadway,hrhc.v)   \n",
    "    hrhc.action = NextState(next_state) # action\n",
    "end"
   ]
  },
  {
   "cell_type": "code",
   "execution_count": 22,
   "metadata": {
    "collapsed": false,
    "scrolled": true
   },
   "outputs": [
    {
     "data": {
      "text/plain": [
       "plotSplineRoadway (generic function with 1 method)"
      ]
     },
     "execution_count": 22,
     "metadata": {},
     "output_type": "execute_result"
    }
   ],
   "source": [
    "function plotSplineRoadway(x,y,θ,lane_width)\n",
    "    perp_lines1 = zeros(2,length(x))\n",
    "    perp_lines2 = zeros(2,length(x))\n",
    "    \n",
    "    perp_lines1[1,:] = x + (lane_width/2.0)*sin(θ)\n",
    "    perp_lines1[2,:] = y - (lane_width/2.0)*cos(θ)\n",
    "    perp_lines2[1,:] = x - (lane_width/2.0)*sin(θ)\n",
    "    perp_lines2[2,:] = y + (lane_width/2.0)*cos(θ)\n",
    "    \n",
    "#     PyPlot.figure()\n",
    "#     PyPlot.scatter(x,y)\n",
    "    PyPlot.plot(x,y)\n",
    "    PyPlot.plot(perp_lines1[1,:],perp_lines1[2,:],color=\"green\")\n",
    "    PyPlot.plot(perp_lines2[1,:],perp_lines2[2,:],color=\"green\")\n",
    "    PyPlot.axis(\"equal\")\n",
    "#     PyPlot.show()\n",
    "end"
   ]
  },
  {
   "cell_type": "markdown",
   "metadata": {},
   "source": [
    "## Initialize Parameters"
   ]
  },
  {
   "cell_type": "code",
   "execution_count": 23,
   "metadata": {
    "collapsed": false,
    "scrolled": false
   },
   "outputs": [
    {
     "data": {
      "image/png": "[encoded data removed]",
      "text/plain": [
       "PyPlot.Figure(PyObject <matplotlib.figure.Figure object at 0x313900710>)"
      ]
     },
     "metadata": {},
     "output_type": "display_data"
    },
    {
     "data": {
      "text/plain": [
       "1-element Array{AutomotiveDrivingModels.DriveAction,1}:\n",
       " #undef"
      ]
     },
     "execution_count": 23,
     "metadata": {},
     "output_type": "execute_result"
    }
   ],
   "source": [
    "# scene parameters\n",
    "scene = Scene()\n",
    "framerate = 24\n",
    "Δt = 1.0/framerate # size of rendering timesteps\n",
    "n_integration_sub_steps = 3 # sub steps for smoother integration\n",
    "context = IntegratedContinuous(Δt, n_integration_sub_steps) # integrated continuous context\n",
    "\n",
    "\n",
    "#car parameters\n",
    "car_length = 4.8 # front wheel to back wheel\n",
    "car_width = 2.5\n",
    "v⁰  = 0.0 # initial velocity\n",
    "δ⁰ = 0.0 # initical steering angle\n",
    "\n",
    "#controller parameters\n",
    "# h = 10 # look-ahead horizon\n",
    "# V_MIN = 0.0 # mininmum velocity (m/s)\n",
    "# V_MAX = 60.0 # maximum velocity (m/s)\n",
    "# V_STEPS = 101 # resolution of velocity\n",
    "# δ_MAX = Float64(π)/8 # max steering angle (radians)\n",
    "# δ_MIN = -δ_MAX # min steering angle (radians)\n",
    "# δ_STEPS = 16 # resolution of steering angle\n",
    "# ΔV₊ = 2.55 / V_MAX\n",
    "# ΔV₋ = 7.05 / V_MAX\n",
    "# Δδ = Float64(π)/16\n",
    "\n",
    "############### INITIALIZE TRACK ################\n",
    "\n",
    "lane_width = 8.0*DEFAULT_LANE_WIDTH\n",
    "radius = 45.0\n",
    "edge_buffer = 0.25\n",
    "T_MAX = lane_width/2.0 - car_width/2.0 - edge_buffer # max allowable projection distance from center of lane\n",
    "base_speed= 0.0\n",
    "\n",
    "# spline control points\n",
    "# Pts = 40*[0 -1 -2 -3 -3 -3 -2 -1 -1 -1 -2 -3 -4 -5 -5 -5 -5 -5 -5 -4 -3 -2 -1 -1 -1 0 1 1 1 2 3 4 5 5 5 5 5 5 5 4 3 3 3 3 2 1 0; \n",
    "#          0 0 0 0 -1 -2 -2 -2 -3 -4 -4 -4 -4 -4 -3 -2 -1 0 1 2 3 4 4 3 2 2 2 3 4 4 4 4 3 2 1 0 -1 -2 -3 -4 -3 -2 -1 0 0 0 0]\n",
    "Pts = 40*[0 -1 -2 -3 -3.5 -3 -2 -1 -0.5 -1 -2 -3 -4 -5 -5.5 -5 -4.5 -5 -5 -4 -3 -2 -1 -1 -1 0 1 1 1 2 3 4 5 5 5 5 5 5 5 4 3 3 3 3 2 1 0; \n",
    "       0 0 0 0 -1 -2 -2 -2 -3 -4 -4 -4 -4 -4 -3 -2 -1 0 1 2 3 4 4 3 2 2 2 3 4 4 4 4 3 2 1 0 -1 -2 -3 -4 -3 -2 -1 0 0 0 0]\n",
    "\n",
    "\n",
    "degree = 3 # degree of spline\n",
    "num_points = 10001\n",
    "\n",
    "# compute B spline\n",
    "T, tt, rx, ry = ClosedB_Spline(Pts, degree, num_points)\n",
    "# compute B spline derivative\n",
    "ṙx, ṙy = B_SplineDerivative(T,tt,Pts,degree)\n",
    "# compute theta \n",
    "θ = atan2(ṙy,ṙx) # unit tangent vector\n",
    "# compute arc length s\n",
    "s = zeros(size(rx))\n",
    "s[2:end] = cumsum(sqrt(diff(rx).^2 + diff(ry).^2))\n",
    "# compute curvature\n",
    "k = diff(θ)./diff(s) # curvature\n",
    "# resample evenly along spline\n",
    "num_samples = 420\n",
    "xP, yP, θP, sP, kP = ResampleSplineEven(rx,ry,θ,s,k,num_samples)\n",
    "# KDtree for quick projection\n",
    "tree = KDTree([xP';yP'])\n",
    "\n",
    "lane_width = 20.0\n",
    "roadway = GenSplineRoadway(xP,yP,θP,sP,kP,lane_width)\n",
    "\n",
    "roadind1 = RoadIndex(proj(VecSE2(-10.0,0,Float64(π)/2.0), roadway))\n",
    "# roadind1 = RoadIndex(CurveIndex(1,0),LaneTag(1,1))\n",
    "# roadind2 = RoadIndex(proj(VecSE2(40.0,-1*DEFAULT_LANE_WIDTH,0.0), roadway))\n",
    "\n",
    "vehstate1 = VehicleState(Frenet(roadind1, roadway), roadway, 0.0)\n",
    "# vehstate2 = VehicleState(Frenet(roadind2, roadway), roadway, base_speed+randn())\n",
    "\n",
    "vehdef1 = VehicleDef(1,AgentClass.CAR, 4.8, 1.8)\n",
    "# vehdef2 = VehicleDef(2,AgentClass.CAR, 4.8, 1.8)\n",
    "\n",
    "push!(scene,Vehicle(vehstate1, vehdef1))\n",
    "# push!(scene,Vehicle(vehstate2, vehdef2)) # car 2\n",
    "\n",
    "models = Dict{Int, DriverModel}()\n",
    "carcolors = Dict{Int, Colorant}()\n",
    "carcolors[1] = colorant\"red\"\n",
    "hrhc = HRHC(1,roadway,context)\n",
    "# hrhc.T_MAX=T_MAX\n",
    "\n",
    "models[1] = hrhc\n",
    "# models[2] = Tim2DDriver(context, rec=SceneRecord(1, context.Δt, 1))\n",
    "actions = Array(DriveAction, length(scene))"
   ]
  },
  {
   "cell_type": "markdown",
   "metadata": {},
   "source": [
    "# Run HRHC:"
   ]
  },
  {
   "cell_type": "code",
   "execution_count": 24,
   "metadata": {
    "collapsed": false,
    "scrolled": true
   },
   "outputs": [
    {
     "data": {
      "text/plain": [
       "drawsim (generic function with 2 methods)"
      ]
     },
     "execution_count": 24,
     "metadata": {},
     "output_type": "execute_result"
    }
   ],
   "source": [
    "function drawsim(t, dt=NaN)\n",
    "#     get_actions!(actions, scene, roadway, models)\n",
    "    for (i,veh) in enumerate(scene)\n",
    "        model = models[veh.def.id]\n",
    "        observe!(model, scene, roadway, veh.def.id, tree)\n",
    "        actions[i] = rand(model)\n",
    "    end\n",
    "#     tick!(scene, roadway, actions, models)\n",
    "    for (veh, action) in zip(scene, actions)\n",
    "        model = models[veh.def.id]\n",
    "        context = action_context(model)\n",
    "        veh.state = propagate(veh, action, context, roadway)\n",
    "    end\n",
    "    render(scene, roadway, cam=FitToContentCamera(), car_colors=carcolors)\n",
    "end"
   ]
  },
  {
   "cell_type": "code",
   "execution_count": 25,
   "metadata": {
    "collapsed": false,
    "scrolled": false
   },
   "outputs": [
    {
     "data": {
      "image/png": "[encoded data removed]",
      "text/plain": [
       "Cairo.CairoSurface{UInt32}(Ptr{Void} @0x00007fb0fa2d33d0,1000.0,600.0,#undef)"
      ]
     },
     "execution_count": 25,
     "metadata": {
      "comm_id": "b04f6d8b-539b-4d0a-9541-7ab8d3eb09d1",
      "reactive": true
     },
     "output_type": "execute_result"
    }
   ],
   "source": [
    "ticks = fps(framerate)\n",
    "timestamps = map(_ -> time(), ticks)\n",
    "map(drawsim, timestamps)"
   ]
  },
  {
   "cell_type": "markdown",
   "metadata": {},
   "source": [
    "## Test HRHC"
   ]
  },
  {
   "cell_type": "code",
   "execution_count": 27,
   "metadata": {
    "collapsed": false,
    "scrolled": false
   },
   "outputs": [
    {
     "data": {
      "image/png": "[encoded data removed]",
      "text/plain": [
       "PyPlot.Figure(PyObject <matplotlib.figure.Figure object at 0x322e36090>)"
      ]
     },
     "metadata": {},
     "output_type": "display_data"
    },
    {
     "name": "stdout",
     "output_type": "stream",
     "text": [
      "i - 1 = 0\n"
     ]
    },
    {
     "data": {
      "text/plain": [
       "(15.0,35.0,50.0,110.0)"
      ]
     },
     "execution_count": 27,
     "metadata": {},
     "output_type": "execute_result"
    }
   ],
   "source": [
    "#120\n",
    "for j in 1:1000\n",
    "    for (i,veh) in enumerate(scene)\n",
    "        model = models[veh.def.id]\n",
    "        observe!(model, scene, roadway, veh.def.id, tree)\n",
    "        actions[i] = rand(model)\n",
    "    end\n",
    "#     tick!(scene, roadway, actions, models)\n",
    "    for (veh, action) in zip(scene, actions)\n",
    "        model = models[veh.def.id]\n",
    "        context = action_context(model)\n",
    "        veh.state = propagate(veh, action, context, roadway)\n",
    "    end\n",
    "end\n",
    "\n",
    "state = scene.vehicles[hrhc.car_ID].state\n",
    "hrhc.curve_ind = state.posF.roadind.ind.i\n",
    "\n",
    "v = state.v # current v\n",
    "hrhc.v = v\n",
    "\n",
    "trajectory = zeros(hrhc.h,3)\n",
    "out_of_bounds = false\n",
    "objective = zeros(6,17)\n",
    "eligibility_mask = zeros(6,17)\n",
    "s = zeros(6,17)\n",
    "t = zeros(6,17)\n",
    "ϕ = zeros(6,17)\n",
    "action_selected = false\n",
    "cmd = (1,1)\n",
    "abs_cmd = (1,1)\n",
    "\n",
    "i = 0\n",
    "for i in 0:(hrhc.h-1)\n",
    "    if action_selected\n",
    "        @show i-1\n",
    "        break # out of for loop\n",
    "    end\n",
    "\n",
    "    # get legal (reachable from current v, δ) actions\n",
    "    getLegalMoves!(hrhc, scene, h=hrhc.h-i)\n",
    "\n",
    "    # calculate successor states\n",
    "    getSuccessorStates!(hrhc, scene)\n",
    "\n",
    "    # project successor states onto track\n",
    "    s,t,ϕ = loopProjectionKD(hrhc, scene, roadway, tree)\n",
    "\n",
    "    # remove actions that lead to running out of bounds\n",
    "#         eligible_s = s .* (abs(t) .< hrhc.T_MAX)\n",
    "\n",
    "    # optimization objective\n",
    "    dS = s - state.posF.s\n",
    "    dS = dS / maximum(dS) # normalize\n",
    "    ϕMAX = Float64(π)/2\n",
    "    f_ϕ = 0 # 2\n",
    "    f_t = .1 # 8\n",
    "    f_tϕ = 3 # 5\n",
    "    A = [1 1; 1 1]\n",
    "    cost_x = (((ϕ/ϕMAX)*A[1,1] + (t/T_MAX)*A[2,1]).*(ϕ/ϕMAX) + ((ϕ/ϕMAX)*A[1,2] + (t/T_MAX)*A[2,2]).*(t/T_MAX))/2\n",
    "    cost_t = (exp(((10-hrhc.h+f_t)*abs(t/hrhc.T_MAX).^2)) - 1)/exp(f_t)\n",
    "    cost_ϕ = (exp(((10-hrhc.h+f_ϕ)*abs(ϕ/ϕMAX).^2)) - 1)/exp(f_ϕ)\n",
    "    cost_tϕ = (exp(f_tϕ*cost_x) - 1)/exp(1)\n",
    "    eligibility_mask = ((hrhc.successor_states[:,:,1] .== state.posG.x).*(hrhc.successor_states[:,:,2] .== state.posG.y))\n",
    "    objective = cost_t + cost_ϕ + cost_tϕ + 1 - dS + Inf * eligibility_mask\n",
    "\n",
    "    while (action_selected==false) && (minimum(objective) != Inf)\n",
    "#             objective = eligible_s\n",
    "#             objective += -(i+1)*abs(t)\n",
    "\n",
    "        index = indmin(objective) # find get a better method of optimizing this\n",
    "        cmd = ind2sub(s, index)\n",
    "        abs_cmd = (cmd[1]+hrhc.v_idx_low-1, cmd[2]+hrhc.δ_idx_low-1)\n",
    "\n",
    "        # compute full trajectory up to horizon\n",
    "        trajectory = computeTrajectory(hrhc, scene, abs_cmd, h=hrhc.h-i)\n",
    "\n",
    "        # screen trajectory for collisions / validity\n",
    "        out_of_bounds = screenTrajectory(trajectory, roadway, hrhc, tree) \n",
    "\n",
    "        if out_of_bounds\n",
    "            objective[index] = Inf\n",
    "        else\n",
    "            action_selected=true\n",
    "        end\n",
    "    end \n",
    "end\n",
    "\n",
    "# hrhc.δ = hrhc.δ_cmds[abs_cmd[1], abs_cmd[2]]\n",
    "# hrhc.v = hrhc.v_cmds[abs_cmd[1], abs_cmd[2]]\n",
    "\n",
    "# next_state = VehicleState(VecSE2(trajectory[1,:]),roadway,hrhc.v)   \n",
    "# hrhc.action = NextState(next_state) # action\n",
    "\n",
    "lo=hrhc.curve_ind\n",
    "hi = hrhc.curve_ind + Int(1+2*div(hrhc.V_MAX*hrhc.Δt*hrhc.h,hrhc.Δs))\n",
    "lo, hi\n",
    "\n",
    "PyPlot.figure(figsize=[12,5])\n",
    "PyPlot.subplot(121)\n",
    "# plotSplineRoadway(xP[lo:hi],yP[lo:hi],θP[lo:hi],lane_width)\n",
    "plotSplineRoadway(xP,yP,θP,lane_width)\n",
    "\n",
    "# PyPlot.scatter(Pts[1,:],Pts[2,:],color=\"red\")\n",
    "PyPlot.scatter(hrhc.successor_states[:,:,1],hrhc.successor_states[:,:,2],color=\"red\")\n",
    "PyPlot.plot(trajectory[:,1],trajectory[:,2],color=\"red\")\n",
    "PyPlot.scatter(roadway.segments[1].lanes[1].curve[hrhc.curve_ind].pos.x, roadway.segments[1].lanes[1].curve[hrhc.curve_ind].pos.y, c=\"white\", s=40)\n",
    "# PyPlot.scatter(hrhc.successor_states[abs_cmd[1],:,1],hrhc.successor_states[:,:,2],color=\"red\")\n",
    "# PyPlot.show()\n",
    "\n",
    "PyPlot.subplot(122)\n",
    "PyPlot.scatter(hrhc.successor_states[:,:,1], hrhc.successor_states[:,:,2],c=log(objective))\n",
    "PyPlot.scatter(hrhc.successor_states[cmd[1],cmd[2],1], hrhc.successor_states[cmd[1],cmd[2],2],c=\"white\",s=40)\n",
    "PyPlot.axis(\"equal\")\n",
    "\n",
    "# PyPlot.subplot(223)\n",
    "# PyPlot.scatter3D(hrhc.successor_states[:,:,1], hrhc.successor_states[:,:,2],objective,c=objective)\n",
    "# PyPlot.scatter3D(hrhc.successor_states[cmd[1],cmd[2],1], hrhc.successor_states[cmd[1],cmd[2],2],objective[cmd[1],cmd[2]],c=\"white\",s=80)\n",
    "# # PyPlot.axis(\"equal\")"
   ]
  },
  {
   "cell_type": "code",
   "execution_count": null,
   "metadata": {
    "collapsed": false
   },
   "outputs": [],
   "source": [
    "hrhc.curve_ind"
   ]
  },
  {
   "cell_type": "code",
   "execution_count": null,
   "metadata": {
    "collapsed": false
   },
   "outputs": [],
   "source": [
    "wrap_to_π(-4)"
   ]
  },
  {
   "cell_type": "code",
   "execution_count": null,
   "metadata": {
    "collapsed": false
   },
   "outputs": [],
   "source": [
    "scene.vehicles[hrhc.car_ID].state"
   ]
  },
  {
   "cell_type": "code",
   "execution_count": null,
   "metadata": {
    "collapsed": false
   },
   "outputs": [],
   "source": [
    "x = state.posG.x\n",
    "y = state.posG.y\n",
    "θ = state.posG.θ\n",
    "kdProject(x,y,θ,tree,roadway)\n"
   ]
  },
  {
   "cell_type": "code",
   "execution_count": null,
   "metadata": {
    "collapsed": false
   },
   "outputs": [],
   "source": [
    "i=0\n",
    "index = indmin(objective) # find get a better method of optimizing this\n",
    "\n",
    "#         index = indmax(objective) # find get a better method of optimizing this\n",
    "cmd = ind2sub(s, index)\n",
    "abs_cmd = (cmd[1]+hrhc.v_idx_low-1, cmd[2]+hrhc.δ_idx_low-1)\n",
    "\n",
    "# compute full trajectory up to horizon\n",
    "trajectory = computeTrajectory(hrhc, scene, abs_cmd, h=hrhc.h-i)\n",
    "\n",
    "# screen trajectory for collisions / validity\n",
    "out_of_bounds = screenTrajectory(trajectory, roadway, hrhc) "
   ]
  },
  {
   "cell_type": "code",
   "execution_count": null,
   "metadata": {
    "collapsed": false
   },
   "outputs": [],
   "source": [
    "trajectory\n",
    "PyPlot.figure(figsize=[12,5])\n",
    "PyPlot.subplot(121)\n",
    "plotSplineRoadway(xP[lo:hi],yP[lo:hi],θP[lo:hi],lane_width)\n",
    "# PyPlot.scatter(Pts[1,:],Pts[2,:],color=\"red\")\n",
    "PyPlot.scatter(hrhc.successor_states[:,:,1],hrhc.successor_states[:,:,2],color=\"red\")\n",
    "PyPlot.plot(trajectory[:,1],trajectory[:,2],color=\"red\")"
   ]
  },
  {
   "cell_type": "code",
   "execution_count": null,
   "metadata": {
    "collapsed": false
   },
   "outputs": [],
   "source": [
    "PyPlot.scatter3D(hrhc.successor_states[:,:,1],hrhc.successor_states[:,:,2],eligibility_mask)"
   ]
  },
  {
   "cell_type": "code",
   "execution_count": null,
   "metadata": {
    "collapsed": false
   },
   "outputs": [],
   "source": [
    "# Plot log(objective)\n",
    "PyPlot.scatter3D(hrhc.successor_states[:,:,1], hrhc.successor_states[:,:,2],log(objective), c=objective)\n",
    "PyPlot.scatter3D(hrhc.successor_states[cmd[1],cmd[2],1], hrhc.successor_states[cmd[1],cmd[2],2],log(objective[cmd[1],cmd[2]]),c=\"white\",s=80)\n",
    "# PyPlot.axis(\"equal\")"
   ]
  },
  {
   "cell_type": "code",
   "execution_count": null,
   "metadata": {
    "collapsed": false
   },
   "outputs": [],
   "source": [
    "PyPlot.plot_surface(hrhc.successor_states[:,:,1], hrhc.successor_states[:,:,2], log(objective), rstride=1,edgecolors=\"k\", cstride=1,\n",
    "    alpha=0.8, linewidth=0.25)"
   ]
  },
  {
   "cell_type": "code",
   "execution_count": null,
   "metadata": {
    "collapsed": false
   },
   "outputs": [],
   "source": [
    "hrhc.v, hrhc.δ"
   ]
  },
  {
   "cell_type": "code",
   "execution_count": null,
   "metadata": {
    "collapsed": false
   },
   "outputs": [],
   "source": [
    "state.posF.ϕ"
   ]
  },
  {
   "cell_type": "code",
   "execution_count": null,
   "metadata": {
    "collapsed": false
   },
   "outputs": [],
   "source": [
    "hrhc.successor_states"
   ]
  },
  {
   "cell_type": "code",
   "execution_count": null,
   "metadata": {
    "collapsed": false
   },
   "outputs": [],
   "source": [
    "s,t,ϕ = loopProjection(hrhc, roadway)\n",
    "# (s[:,1:end] - state.posF.s)/(maximum(s) - state.posF.s)\n",
    "norm_s = (s[:,1:end] - minimum(s))/(maximum(s) - minimum(s))\n",
    "norm_t = sqrt((t[:,1:end].^2)/maximum(t.^2))\n",
    "norm_ϕ = sqrt((ϕ[:,1:end].^2)/maximum(ϕ.^2))\n",
    "\n",
    "PyPlot.plot_surface(hrhc.successor_states[:,:,1], hrhc.successor_states[:,:,2], norm_ϕ, rstride=1,edgecolors=\"w\", cstride=1,\n",
    "    alpha=0.8, linewidth=0.25)\n",
    "PyPlot.scatter3D(hrhc.successor_states[cmd[1],cmd[2],1], hrhc.successor_states[cmd[1],cmd[2],2],norm_ϕ[cmd[1],cmd[2]],c=\"white\",s=80)\n",
    "PyPlot.plot_surface(hrhc.successor_states[:,:,1], hrhc.successor_states[:,:,2], -norm_s, rstride=1,edgecolors=\"w\", cstride=1,\n",
    "alpha=0.8, linewidth=0.25)\n",
    "PyPlot.scatter3D(hrhc.successor_states[cmd[1],cmd[2],1], hrhc.successor_states[cmd[1],cmd[2],2],-norm_s[cmd[1],cmd[2]],c=\"white\",s=80)\n",
    "PyPlot.plot_surface(hrhc.successor_states[:,:,1], hrhc.successor_states[:,:,2], norm_t, rstride=1,edgecolors=\"w\", cstride=1,\n",
    "    alpha=0.8, linewidth=0.25)\n",
    "PyPlot.scatter3D(hrhc.successor_states[cmd[1],cmd[2],1], hrhc.successor_states[cmd[1],cmd[2],2],norm_t[cmd[1],cmd[2]],c=\"white\",s=80)\n"
   ]
  },
  {
   "cell_type": "code",
   "execution_count": null,
   "metadata": {
    "collapsed": false
   },
   "outputs": [],
   "source": [
    "ϕ"
   ]
  },
  {
   "cell_type": "code",
   "execution_count": null,
   "metadata": {
    "collapsed": false
   },
   "outputs": [],
   "source": [
    "ind2sub(s,indmax(s))"
   ]
  },
  {
   "cell_type": "code",
   "execution_count": null,
   "metadata": {
    "collapsed": false
   },
   "outputs": [],
   "source": [
    "hrhc.successor_states[:,5:14,:]"
   ]
  },
  {
   "cell_type": "code",
   "execution_count": null,
   "metadata": {
    "collapsed": false
   },
   "outputs": [],
   "source": [
    "hrhc.legal_δ"
   ]
  },
  {
   "cell_type": "code",
   "execution_count": null,
   "metadata": {
    "collapsed": false
   },
   "outputs": [],
   "source": [
    "hrhc.legal_v"
   ]
  },
  {
   "cell_type": "markdown",
   "metadata": {},
   "source": [
    "# Testing"
   ]
  },
  {
   "cell_type": "code",
   "execution_count": null,
   "metadata": {
    "collapsed": false,
    "scrolled": false
   },
   "outputs": [],
   "source": [
    "function projectToRaceTrack(pos,xP,yP,θP,sP,Δs)\n",
    "    proj_array = sqrt((xP-pos.x).^2 + (yP-pos.y).^2)\n",
    "    pt1 = indmin(proj_array)\n",
    "    proj_array[pt1] = Inf\n",
    "    pt2 = indmin(proj_array)\n",
    "    pt1,pt2\n",
    "\n",
    "    idx1 = min(pt1,pt2)\n",
    "    idx2 = max(pt1,pt2)\n",
    "    if idx1 == 1 && idx2 == length(xP)\n",
    "        idx1 = idx2\n",
    "        idx2 = 1\n",
    "    end\n",
    "    vec1 = [xP[idx2] - xP[idx1], yP[idx2] - yP[idx1], 0]\n",
    "    vec2 = [pos.x - xP[idx1], pos.y - yP[idx1], 0]\n",
    "\n",
    "    idx_t = dot(vec1, vec2)/norm(vec1)^2\n",
    "    s_θ = θP[idx1] + idx_t*(θP[idx2] - θP[idx1])\n",
    "    ϕ = wrap_to_π(pos.θ - s_θ)\n",
    "    s = sP[idx1] + idx_t*Δs\n",
    "    t = -norm(vec2 - idx_t*vec1)\n",
    "    \n",
    "    s,t,ϕ,idx1,idx_t\n",
    "end"
   ]
  },
  {
   "cell_type": "code",
   "execution_count": null,
   "metadata": {
    "collapsed": false,
    "scrolled": true
   },
   "outputs": [],
   "source": [
    "function projectArrayToRaceTrack(pos_array,xP,yP,θP,sP,Δs)\n",
    "    pos_list = reshape(pos_array,length(pos_array[:,:,1]),3)\n",
    "\n",
    "    xDiff = xP*ones(1,size(pos_list,1)) - ones(size(xP))*pos_list[:,1]'\n",
    "    yDiff = yP*ones(1,size(pos_list,1)) - ones(size(yP))*pos_list[:,2]'\n",
    "    dist_square = xDiff.^2 + yDiff.^2\n",
    "    pts1 = [indmin(dist_square[:,i]) for i in 1:size(pos_list,1)]\n",
    "    for i in 1:size(pos_list,1)\n",
    "        dist_square[pts1[i],i] = Inf\n",
    "    end\n",
    "    pts2 = [indmin(dist_square[:,i]) for i in 1:size(pos_list,1)]\n",
    "    pts = [pts1';pts2']\n",
    "    pts = sort(pts,1)\n",
    "    start_check = (pts[1,:] .== 1).*(pts[2,:] .== length(xP)) # check for overlap at beginning of track\n",
    "    pts[1:end,start_check] = pts[end:-1:1,start_check] # flip back \n",
    "\n",
    "    vec1 = [(xP[pts[2,:]] - xP[pts[1,:]])'; (yP[pts[2,:]] - yP[pts[1,:]])']\n",
    "    vec2 = [(pos_list[:,1] - xP[pts[1,:]])'; (pos_list[:,2] - yP[pts[1,:]])']\n",
    "    dots = sum(vec1.*vec2,1)./sum(vec1.*vec1,1) # dot products along \n",
    "    s = sP[pts[1,:]]'+Δs*dots\n",
    "    if minimum(pts[1,:]) == 1 && maximum(pts[1,:]) == length(sP) # bridge the gap\n",
    "        s[(pts[1,:] .< 50)] += sP[end]+Δs\n",
    "    end\n",
    "    \n",
    "    s_grid = reshape(s,size(pos_array,1),size(pos_array,2))\n",
    "end"
   ]
  },
  {
   "cell_type": "code",
   "execution_count": null,
   "metadata": {
    "collapsed": false,
    "scrolled": true
   },
   "outputs": [],
   "source": [
    "function loopProjection(pos_grid,curve_start,curve_range,roadway,sP,Δs)\n",
    "    lim = length(roadway.segments[1].lanes[1].curve)\n",
    "    ind_hi = curve_start+curve_range\n",
    "    if ind_hi > lim\n",
    "        ind_hi -= lim\n",
    "        curve = [roadway.segments[1].lanes[1].curve[curve_start:end];roadway.segments[1].lanes[1].curve[1:ind_hi]]\n",
    "    else\n",
    "        curve = roadway.segments[1].lanes[1].curve[curve_start:ind_hi]\n",
    "    end\n",
    "    s_grid = zeros(size(pos_grid,1),size(pos_grid,2))\n",
    "    t_grid = zeros(size(s_grid))\n",
    "    ϕ_grid = zeros(size(s_grid))\n",
    "    idx_grid = zeros(Int,size(s_grid))\n",
    "    for i in 1:size(pos_grid,1)\n",
    "        for j in 1:size(pos_grid,2)\n",
    "            myProj = Vec.proj(VecSE2(pos_grid[i,j,1],pos_grid[i,j,2],pos_grid[i,j,3]), curve)\n",
    "            s_grid[i,j] = curve[myProj.ind.i].s + Δs*myProj.ind.t\n",
    "            t_grid[i,j] = myProj.t\n",
    "            ϕ_grid[i,j] = myProj.ϕ\n",
    "            idx_grid[i,j] = myProj.ind.i\n",
    "        end\n",
    "    end\n",
    "    # account for wrap-around\n",
    "    s_grid[(idx_grid + curve_start - 1) .> lim] += sP[end]+Δs\n",
    "    \n",
    "    return s_grid, t_grid, ϕ_grid\n",
    "end"
   ]
  },
  {
   "cell_type": "code",
   "execution_count": null,
   "metadata": {
    "collapsed": false,
    "scrolled": true
   },
   "outputs": [],
   "source": [
    "Δs = diff(sP)[1]"
   ]
  },
  {
   "cell_type": "code",
   "execution_count": null,
   "metadata": {
    "collapsed": false,
    "scrolled": true
   },
   "outputs": [],
   "source": [
    "# test values\n",
    "pos_array = zeros(5,6,3)\n",
    "pos_array[:,:,1] = 1:30\n",
    "pos_array[:,:,1] -= 15\n",
    "pos_array[:,:,2] = sin(pos_array[:,:,1])\n",
    "pos_array[:,:,3] = cos(pos_array[:,:,2])\n",
    "\n",
    "# test value\n",
    "pos = VecSE2(-9,1,3.19)\n",
    "pos;"
   ]
  },
  {
   "cell_type": "code",
   "execution_count": null,
   "metadata": {
    "collapsed": false,
    "scrolled": true
   },
   "outputs": [],
   "source": [
    "# roadway.segments[1].lanes[1].curve"
   ]
  },
  {
   "cell_type": "code",
   "execution_count": null,
   "metadata": {
    "collapsed": false,
    "scrolled": true
   },
   "outputs": [],
   "source": [
    "@time s, t, ϕ, idx_i, idx_t = projectToRaceTrack(pos,xP,yP,θP,sP,Δs)\n",
    "s, t, ϕ, idx_i, idx_t"
   ]
  },
  {
   "cell_type": "code",
   "execution_count": null,
   "metadata": {
    "collapsed": false,
    "scrolled": true
   },
   "outputs": [],
   "source": [
    "@time myProj = Vec.proj(pos, [roadway.segments[1].lanes[1].curve[end-5:end];roadway.segments[1].lanes[1].curve[1:20]]); # project point onto roadway\n",
    "s = sP[myProj.ind.i-6] + Δs*myProj.ind.t;\n",
    "t = myProj.t\n",
    "ϕ = myProj.ϕ\n",
    "idx_i = myProj.ind.i\n",
    "idx_t = myProj.ind.t\n",
    "s, t, ϕ, idx_i, idx_t"
   ]
  },
  {
   "cell_type": "code",
   "execution_count": null,
   "metadata": {
    "collapsed": false,
    "scrolled": false
   },
   "outputs": [],
   "source": [
    "@time s_grid = projectArrayToRaceTrack(pos_array, xP, yP,θP,sP,Δs)\n",
    "s_grid"
   ]
  },
  {
   "cell_type": "code",
   "execution_count": null,
   "metadata": {
    "collapsed": false,
    "scrolled": true
   },
   "outputs": [],
   "source": [
    "curve_start = 410\n",
    "curve_reach = 45\n",
    "@time s_grid, t_grid, ϕ_grid = loopProjection(pos_array,curve_start,curve_reach,roadway,sP,Δs) #insanely fast\n",
    "s_grid"
   ]
  },
  {
   "cell_type": "markdown",
   "metadata": {},
   "source": [
    "## KD tree testing"
   ]
  },
  {
   "cell_type": "code",
   "execution_count": null,
   "metadata": {
    "collapsed": false,
    "scrolled": true
   },
   "outputs": [],
   "source": [
    "tree = KDTree([xP';yP'])"
   ]
  },
  {
   "cell_type": "code",
   "execution_count": null,
   "metadata": {
    "collapsed": false
   },
   "outputs": [],
   "source": [
    "pts = [10 2 3 1 5 9 11 1; 1 2 3 5 8 73 2 1]\n",
    "@time idxs,dists = knn(tree,pts,1) \n",
    "idxs"
   ]
  },
  {
   "cell_type": "code",
   "execution_count": null,
   "metadata": {
    "collapsed": false
   },
   "outputs": [],
   "source": [
    "pts = [reshape(hrhc.successor_states[:,:,1],size(hrhc.successor_states[:,:,1],1)*size(hrhc.successor_states[:,:,1],2),1)';\n",
    "    reshape(hrhc.successor_states[:,:,2],size(hrhc.successor_states[:,:,2],1)*size(hrhc.successor_states[:,:,2],2),1)']\n",
    "@time idxs,dists = knn(tree,pts,1)\n",
    "i=1\n",
    "j=1\n",
    "idx,dist = knn(tree,[hrhc.successor_states[i,j,1];hrhc.successor_states[i,j,2]],1)\n",
    "idx"
   ]
  },
  {
   "cell_type": "code",
   "execution_count": null,
   "metadata": {
    "collapsed": false
   },
   "outputs": [],
   "source": [
    "pts = [reshape(hrhc.successor_states[:,:,1],size(hrhc.successor_states[:,:,1],1)*size(hrhc.successor_states[:,:,1],2),1)';\n",
    "reshape(hrhc.successor_states[:,:,2],size(hrhc.successor_states[:,:,2],1)*size(hrhc.successor_states[:,:,2],2),1)']\n",
    "idxs_list, _ = knn(tree,pts,1)\n",
    "idxs=reshape(idxs_list,size(hrhc.successor_states[:,:,2],1),size(hrhc.successor_states[:,:,2],2))\n",
    "idxs[1,1]"
   ]
  },
  {
   "cell_type": "code",
   "execution_count": null,
   "metadata": {
    "collapsed": false
   },
   "outputs": [],
   "source": [
    "@time s,t,ϕ = loopProjection(hrhc,roadway)"
   ]
  },
  {
   "cell_type": "code",
   "execution_count": null,
   "metadata": {
    "collapsed": false
   },
   "outputs": [],
   "source": [
    "@time s_,t_,ϕ_ = loopProjection(hrhc,scene,roadway,tree)"
   ]
  },
  {
   "cell_type": "markdown",
   "metadata": {},
   "source": [
    "## Visualization of Objective function"
   ]
  },
  {
   "cell_type": "code",
   "execution_count": null,
   "metadata": {
    "collapsed": false
   },
   "outputs": [],
   "source": [
    "# dS = s_grid - state.s # find increase in arc length\n",
    "# dS = dS/(maximum(dS))\n",
    "# s_objective = 1 - dS\n",
    "\n",
    "h = 9\n",
    "\n",
    "ϕMAX = 1 # Float64(π)/2\n",
    "tMAX = 1.0 # roadway.segments[1].lanes[1].width\n",
    "ϕ_steps = 100\n",
    "t_steps = 100\n",
    "\n",
    "ϕgrid = linspace(-ϕMAX,ϕMAX,ϕ_steps)*ones(1,t_steps)\n",
    "tgrid = (linspace(-tMAX,tMAX,t_steps)*ones(1,ϕ_steps))'\n",
    "# cost_function1 = (10*(tgrid.^2)/(tMAX.^2) + 2*(ϕgrid.^2)/(ϕMAX.^2))/12\n",
    "f_ϕ = 0 # 2\n",
    "f_t = 8 # 8\n",
    "f_tϕ = 1 # 5\n",
    "\n",
    "A = [1 1;\n",
    "     1 1]\n",
    "cost_function_cross = (ϕgrid*A[1,1] + tgrid*A[2,1]).*(ϕgrid) + (ϕgrid*A[1,2] + tgrid*A[2,2]).*(tgrid)\n",
    "\n",
    "cost_function1 = (exp(((10-h+f_t)*abs(tgrid).^2)) - 1)/exp(f_t)\n",
    "cost_function2 = (exp(((10-h+f_ϕ)*abs(ϕgrid).^2)) - 1)/exp(f_ϕ)\n",
    "cost_function3 = (exp(f_tϕ*cost_function_cross) - 1)/exp(1)\n",
    "cost_function_hi = cost_function1+cost_function2+cost_function3\n",
    "\n",
    "PyPlot.plot_surface(tgrid, ϕgrid, cost_function_hi, rstride=1,edgecolors=\"k\", cstride=1,\n",
    "    alpha=0.8, linewidth=0.25)\n",
    "PyPlot.xlabel(\"t\")\n",
    "PyPlot.ylabel(\"phi\")\n"
   ]
  },
  {
   "cell_type": "code",
   "execution_count": null,
   "metadata": {
    "collapsed": false
   },
   "outputs": [],
   "source": [
    "mask_hi = cost_function_hi .< 1\n",
    "PyPlot.figure(figsize=[12,5])\n",
    "PyPlot.subplot(1,2,1)\n",
    "PyPlot.pcolor(cost_function_hi.*mask_hi)\n",
    "PyPlot.axis(\"equal\")\n",
    "PyPlot.xlabel(\"t\")\n",
    "PyPlot.ylabel(\"phi\")\n",
    "PyPlot.title(\"h = 10\")\n",
    "\n",
    "mask_lo = cost_function_lo .< 1\n",
    "PyPlot.subplot(1,2,2)\n",
    "PyPlot.pcolor(cost_function_lo.*mask_lo)\n",
    "PyPlot.axis(\"equal\")\n",
    "PyPlot.xlabel(\"t\")\n",
    "PyPlot.ylabel(\"phi\")\n",
    "PyPlot.title(\"h = 1\")\n"
   ]
  },
  {
   "cell_type": "code",
   "execution_count": null,
   "metadata": {
    "collapsed": true
   },
   "outputs": [],
   "source": [
    "ax = PyPlot.axes(polar=\"true\")\n"
   ]
  }
 ],
 "metadata": {
  "anaconda-cloud": {},
  "kernelspec": {
   "display_name": "Julia 0.5.0",
   "language": "julia",
   "name": "julia-0.5"
  },
  "language_info": {
   "file_extension": ".jl",
   "mimetype": "application/julia",
   "name": "julia",
   "version": "0.5.0"
  }
 },
 "nbformat": 4,
 "nbformat_minor": 0
}
