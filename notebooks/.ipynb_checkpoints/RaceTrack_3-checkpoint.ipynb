{
 "cells": [
  {
   "cell_type": "code",
   "execution_count": 1,
   "metadata": {
    "collapsed": false
   },
   "outputs": [
    {
     "data": {
      "text/html": [
       "<div id=\"interact-js-shim\">\n",
       "    <script charset=\"utf-8\">\n",
       "(function (IPython, $, _, MathJax) {\n",
       "    $.event.special.destroyed = {\n",
       "\tremove: function(o) {\n",
       "\t    if (o.handler) {\n",
       "\t\to.handler.apply(this, arguments)\n",
       "\t    }\n",
       "\t}\n",
       "    }\n",
       "\n",
       "    var OutputArea = IPython.version >= \"4.0.0\" ? require(\"notebook/js/outputarea\").OutputArea : IPython.OutputArea;\n",
       "\n",
       "    var redrawValue = function (container, type, val) {\n",
       "\tvar selector = $(\"<div/>\");\n",
       "\tvar oa = new OutputArea(_.extend(selector, {\n",
       "\t    selector: selector,\n",
       "\t    prompt_area: true,\n",
       "\t    events: IPython.events,\n",
       "\t    keyboard_manager: IPython.keyboard_manager\n",
       "\t})); // Hack to work with IPython 2.1.0\n",
       "\n",
       "\tswitch (type) {\n",
       "\tcase \"image/png\":\n",
       "            var _src = 'data:' + type + ';base64,' + val;\n",
       "\t    $(container).find(\"img\").attr('src', _src);\n",
       "\t    break;\n",
       "\tdefault:\n",
       "\t    var toinsert = OutputArea.append_map[type].apply(\n",
       "\t\toa, [val, {}, selector]\n",
       "\t    );\n",
       "\t    $(container).empty().append(toinsert.contents());\n",
       "\t    selector.remove();\n",
       "\t}\n",
       "\tif (type === \"text/latex\" && MathJax) {\n",
       "\t    MathJax.Hub.Queue([\"Typeset\", MathJax.Hub, toinsert.get(0)]);\n",
       "\t}\n",
       "    }\n",
       "\n",
       "\n",
       "    $(document).ready(function() {\n",
       "\tfunction initComm(evt, data) {\n",
       "\t    var comm_manager = data.kernel.comm_manager;\n",
       "        //_.extend(comm_manager.targets, require(\"widgets/js/widget\"))\n",
       "\t    comm_manager.register_target(\"Signal\", function (comm) {\n",
       "            comm.on_msg(function (msg) {\n",
       "                //Widgets.log(\"message received\", msg);\n",
       "                var val = msg.content.data.value;\n",
       "                $(\".signal-\" + comm.comm_id).each(function() {\n",
       "                var type = $(this).data(\"type\");\n",
       "                if (val[type]) {\n",
       "                    redrawValue(this, type, val[type], type);\n",
       "                }\n",
       "                });\n",
       "                delete val;\n",
       "                delete msg.content.data.value;\n",
       "            });\n",
       "\t    });\n",
       "\n",
       "\t    // coordingate with Comm and redraw Signals\n",
       "\t    // XXX: Test using Reactive here to improve performance\n",
       "\t    $([IPython.events]).on(\n",
       "\t\t'output_appended.OutputArea', function (event, type, value, md, toinsert) {\n",
       "\t\t    if (md && md.reactive) {\n",
       "                // console.log(md.comm_id);\n",
       "                toinsert.addClass(\"signal-\" + md.comm_id);\n",
       "                toinsert.data(\"type\", type);\n",
       "                // Signal back indicating the mimetype required\n",
       "                var comm_manager = IPython.notebook.kernel.comm_manager;\n",
       "                var comm = comm_manager.comms[md.comm_id];\n",
       "                comm.then(function (c) {\n",
       "                    c.send({action: \"subscribe_mime\",\n",
       "                       mime: type});\n",
       "                    toinsert.bind(\"destroyed\", function() {\n",
       "                        c.send({action: \"unsubscribe_mime\",\n",
       "                               mime: type});\n",
       "                    });\n",
       "                })\n",
       "\t\t    }\n",
       "\t    });\n",
       "\t}\n",
       "\n",
       "\ttry {\n",
       "\t    // try to initialize right away. otherwise, wait on the status_started event.\n",
       "\t    initComm(undefined, IPython.notebook);\n",
       "\t} catch (e) {\n",
       "\t    $([IPython.events]).on('kernel_created.Kernel kernel_created.Session', initComm);\n",
       "\t}\n",
       "    });\n",
       "})(IPython, jQuery, _, MathJax);\n",
       "</script>\n",
       "    <script>\n",
       "        window.interactLoadedFlag = true\n",
       "       $(\"#interact-js-shim\").bind(\"destroyed\", function () {\n",
       "           if (window.interactLoadedFlag) {\n",
       "               console.warn(\"JavaScript required by Interact will be removed if you remove this cell or run using Interact more than once.\")\n",
       "           }\n",
       "       })\n",
       "       $([IPython.events]).on(\"kernel_starting.Kernel kernel_restarting.Kernel\", function () { window.interactLoadedFlag = false })\n",
       "   </script>\n",
       "</div>"
      ]
     },
     "metadata": {},
     "output_type": "display_data"
    },
    {
     "name": "stderr",
     "output_type": "stream",
     "text": [
      "/Users/kyle/anaconda/lib/python2.7/site-packages/matplotlib/font_manager.py:273: UserWarning: Matplotlib is building the font cache using fc-list. This may take a moment.\n",
      "  warnings.warn('Matplotlib is building the font cache using fc-list. This may take a moment.')\n"
     ]
    }
   ],
   "source": [
    "using AutomotiveDrivingModels\n",
    "using AutoViz\n",
    "using Reactive\n",
    "using Interact\n",
    "\n",
    "import PyPlot"
   ]
  },
  {
   "cell_type": "markdown",
   "metadata": {},
   "source": [
    "# Types"
   ]
  },
  {
   "cell_type": "code",
   "execution_count": null,
   "metadata": {
    "collapsed": false
   },
   "outputs": [],
   "source": [
    "type HRHC # Hierarchical Receding Horizon Controller\n",
    "    #car parameters\n",
    "    car_length::Float64\n",
    "    car_width::Float64\n",
    "    \n",
    "    v::Float64\n",
    "    δ::Float64\n",
    "    \n",
    "    h::Int\n",
    "    Δt::Float64\n",
    "    \n",
    "    V_MIN::Float64\n",
    "    V_MAX::Float64\n",
    "    V_STEPS::Int\n",
    "\n",
    "    δ_MAX::Float64\n",
    "    δ_MIN::Float64\n",
    "    δ_STEPS::Int64\n",
    "    \n",
    "    ΔV₊::Float64\n",
    "    ΔV₋::Float64\n",
    "    Δδ::Float64\n",
    "    \n",
    "    T_MAX::Float64\n",
    "    obstacles\n",
    "end"
   ]
  },
  {
   "cell_type": "markdown",
   "metadata": {},
   "source": [
    "# functions"
   ]
  },
  {
   "cell_type": "code",
   "execution_count": null,
   "metadata": {
    "collapsed": false
   },
   "outputs": [],
   "source": [
    "# Return a library of motion primitives (arcs of constant radius) representing short paths that the car can follow.\n",
    "function MotionPrimitives(hrhc::HRHC)\n",
    "    car_length=hrhc.car_length\n",
    "    car_width=hrhc.car_width\n",
    "    \n",
    "    h=hrhc.h\n",
    "    Δt=hrhc.Δt\n",
    "    \n",
    "    v_min = hrhc.V_MIN\n",
    "    v_max = hrhc.V_MAX\n",
    "    v_steps = hrhc.V_STEPS\n",
    "\n",
    "    δ_max = hrhc.δ_MAX\n",
    "    δ_min = hrhc.δ_MIN\n",
    "    δ_steps = hrhc.δ_STEPS\n",
    "    \n",
    "    # 3D array to store motion_primitives\n",
    "    motion_primitives = zeros(v_steps,2*δ_steps+1,2) # v: 0,...,99; δ: -45:45, (arc length, +/- radius)\n",
    "\n",
    "    v = linspace(v_min,v_max,v_steps)*ones(1,2*δ_steps+1)\n",
    "    δ = (linspace(-δ_max,δ_max,δ_steps*2+1)*ones(1,v_steps))' # steering angle\n",
    "\n",
    "    motion_primitives[:,:,1] = v*Δt*h # arc length = velocity * time\n",
    "    motion_primitives[:,:,2] = car_length./sin(δ) # radius of curvature (+ or -)\n",
    "    motion_primitives[:,1+δ_steps,2] = Inf; # radius of curvature is infinite if steering angle = 0\n",
    "    \n",
    "    destination_primitives = zeros(v_steps,2*δ_steps+1,h,3) # lookup table defining car's location at each of next h time steps\n",
    "\n",
    "    for i = 1:h\n",
    "        # angle = 2π * arc_length / r\n",
    "        dθ = v*Δt*i ./ abs(motion_primitives[:,:,2])\n",
    "        \n",
    "        # dX = abs(radius) * sin(angle)\n",
    "        destination_primitives[:,:,i,1] = abs(motion_primitives[:,:,2]) .* sin(dθ)\n",
    "        destination_primitives[:,1+δ_steps,i,1] = v[:,1+δ_steps]*Δt*i # centerline\n",
    "        \n",
    "        # dY = radius * (1 - cos(angle))\n",
    "        destination_primitives[:,:,i,2] = motion_primitives[:,:,2].*(1 - cos(dθ))\n",
    "        destination_primitives[:,1+δ_steps,i,2] = 0 # centerline\n",
    "        \n",
    "        destination_primitives[:,:,i,3] = dθ\n",
    "    end\n",
    "    \n",
    "    # motion_primitives[v, δ, 1,2] = s (arc_length), r (radius of curvature)\n",
    "    # destination_primitives are index by [v, δ, h, 1,2,3] = dx, dy, dθ = changes in x, y and θ after h time steps\n",
    "    return v, δ, motion_primitives, destination_primitives\n",
    "\n",
    "end"
   ]
  },
  {
   "cell_type": "code",
   "execution_count": null,
   "metadata": {
    "collapsed": false
   },
   "outputs": [],
   "source": [
    "# quadratic logical mask\n",
    "function QuadraticMask!(library)\n",
    "    A = size(library)[1]\n",
    "    B = size(library)[2]\n",
    "    X = linspace(0,99,A)*ones(1,B)\n",
    "    Y = ones(A,1)*linspace(-20,20,B)'\n",
    "    f = 24*Y.^2 + X.^2\n",
    "    mask = 1.0*(f.<10000)\n",
    "    \n",
    "#     fig = figure()\n",
    "#     ax = gca()\n",
    "#     p = scatter(X,Y.*mask)\n",
    "#     xlabel(\"velocity\")\n",
    "#     ylabel(\"steering angle\")\n",
    "#     fig[:canvas][:draw]()\n",
    "\n",
    "    if length(size(library)) == 3\n",
    "        for i in 1 : size(library)[3]\n",
    "            library[:,:,i] = library[:,:,i] .* mask\n",
    "        end\n",
    "    end\n",
    "    if length(size(library)) == 4\n",
    "        for i in 1 : size(library)[3]\n",
    "            for j in 1 : size(library)[4]\n",
    "                library[:,:,i,j] = library[:,:,i,j] .* mask\n",
    "            end\n",
    "        end\n",
    "    end\n",
    "end"
   ]
  },
  {
   "cell_type": "markdown",
   "metadata": {},
   "source": [
    "# HRHC Algorithm"
   ]
  },
  {
   "cell_type": "markdown",
   "metadata": {},
   "source": [
    "### 0. Initialize motion primitives"
   ]
  },
  {
   "cell_type": "code",
   "execution_count": null,
   "metadata": {
    "collapsed": false
   },
   "outputs": [],
   "source": [
    "# get motion primitives\n",
    "v_commands, δ_commands, arc_angle_library, ΔXYθ = MotionPrimitives(car_length,V_MIN,V_MAX,V_STEPS,δ_MAX,δ_STEPS,Δt,h);\n",
    "# apply logical mask to motion primitives library - eliminate impossible turns at high speeds\n",
    "QuadraticMask!(arc_angle_library)\n",
    "QuadraticMask!(ΔXYθ)"
   ]
  },
  {
   "cell_type": "markdown",
   "metadata": {},
   "source": [
    "### 1. Identify eligible (reachable) motion primitives based on current state"
   ]
  },
  {
   "cell_type": "code",
   "execution_count": null,
   "metadata": {
    "collapsed": false
   },
   "outputs": [],
   "source": [
    "function getLegalMoves(hrhc::HRHC,ΔXYθ, v_commands, δ_commands)\n",
    "    v_norm = hrhc.v / hrhc.V_MAX\n",
    "\n",
    "    # Restrict search space to reachable states\n",
    "    v_index_low = max(1, round(Int,(v_norm - hrhc.ΔV₋)*hrhc.V_STEPS)) # index of lowest reachable v in the next time step\n",
    "    v_index_high = min(hrhc.V_STEPS, round(Int, (v_norm + hrhc.ΔV₊)*hrhc.V_STEPS)) # highest reachable v in the next time step\n",
    "\n",
    "    # Restrict search space to reachable states\n",
    "    δ_index_low = max(1, (hrhc.δ_STEPS+1) + round(Int,((hrhc.δ - hrhc.Δδ)/(hrhc.δ_MAX - hrhc.δ_MIN))*(2*hrhc.δ_STEPS+1)))\n",
    "    δ_index_high = min((2*hrhc.δ_STEPS+1), (hrhc.δ_STEPS+1) + round(Int,((hrhc.δ + hrhc.Δδ)/(hrhc.δ_MAX - hrhc.δ_MIN))*(2*hrhc.δ_STEPS+1)))\n",
    "\n",
    "    # legal_moves = motion_primitives[v_index_low:v_index_high,δ_index_low:δ_index_high,:]\n",
    "    legal_ΔXYθ = ΔXYθ[v_index_low:v_index_high,δ_index_low:δ_index_high,hrhc.h,:] # ΔX, ΔY, Δθ\n",
    "    legal_v = v_commands[v_index_low:v_index_high,δ_index_low:δ_index_high]\n",
    "    legal_δ = δ_commands[v_index_low:v_index_high,δ_index_low:δ_index_high]\n",
    "    \n",
    "    return legal_ΔXYθ, legal_v, legal_δ, v_index_low, v_index_high, δ_index_low, δ_index_high\n",
    "end"
   ]
  },
  {
   "cell_type": "markdown",
   "metadata": {},
   "source": [
    "### 2. Calculate resulting final state (posG) from applying each given motion primitive"
   ]
  },
  {
   "cell_type": "code",
   "execution_count": null,
   "metadata": {
    "collapsed": false
   },
   "outputs": [],
   "source": [
    "function getSuccessorStates(state, legal_ΔXYθ)\n",
    "    pos = state.posG # global x,y,z\n",
    "\n",
    "    ΔX = legal_ΔXYθ[:,:,1] * cos(pos.θ) + legal_ΔXYθ[:,:,2] * -sin(pos.θ)\n",
    "    ΔY = legal_ΔXYθ[:,:,1] * sin(pos.θ) + legal_ΔXYθ[:,:,2] * cos(pos.θ)\n",
    "    Δθ = legal_ΔXYθ[:,:,3]\n",
    "\n",
    "    successor_states = zeros(size(legal_ΔXYθ))\n",
    "    successor_states[:,:,1] = ΔX + pos.x\n",
    "    successor_states[:,:,2] = ΔY + pos.y\n",
    "    successor_states[:,:,3] = Δθ + pos.θ\n",
    "    \n",
    "    return successor_states\n",
    "end"
   ]
  },
  {
   "cell_type": "code",
   "execution_count": null,
   "metadata": {
    "collapsed": false
   },
   "outputs": [],
   "source": [
    "PyPlot.axis(\"equal\")\n",
    "PyPlot.scatter(successor_states[:,:,1],successor_states[:,:,2])"
   ]
  },
  {
   "cell_type": "markdown",
   "metadata": {},
   "source": [
    "### 3. Project posG onto track to determine if a given motion is legal (in bounds)"
   ]
  },
  {
   "cell_type": "code",
   "execution_count": null,
   "metadata": {
    "collapsed": false
   },
   "outputs": [],
   "source": [
    "function projectToCenterline(successor_states, roadway)\n",
    "    s = zeros(size(successor_states[:,:,1]))\n",
    "    t = zeros(size(s))\n",
    "    ϕ = zeros(size(s))\n",
    "\n",
    "    successor_states_grid = reshape(successor_states, length(successor_states[:,:,1]),3) # must reshape to index correctly\n",
    "\n",
    "    for i in 1 : length(s)\n",
    "        myProj = Vec.proj(VecSE2(successor_states_grid[i,:]), roadway) # project point onto roadway\n",
    "        curve = myProj.curveproj\n",
    "        #     @show myProj.tag # tag determines which segment the car is on (effects the value of s)\n",
    "        s[i] = curve.ind.i + curve.ind.t # total distance traveled\n",
    "        t[i] = curve.t # distance from centerline\n",
    "        ϕ[i] = curve.ϕ\n",
    "    end\n",
    "    \n",
    "    return s,t,ϕ\n",
    "end"
   ]
  },
  {
   "cell_type": "markdown",
   "metadata": {},
   "source": [
    "### 4. Select legal motion primitive that yields highest progress"
   ]
  },
  {
   "cell_type": "code",
   "execution_count": null,
   "metadata": {
    "collapsed": false
   },
   "outputs": [],
   "source": [
    "function selectBestPath(hrhc, roadway, s, t, ϕ, v_index_low, v_index_high, δ_index_low, δ_index_high)\n",
    "    # will need roadway in order to take care of different lane segments\n",
    "    t_filter = (abs(t) .< hrhc.T_MAX)\n",
    "    if sum(t_filter) > 0\n",
    "        eligible_s = s .* t_filter # filter out bad t values\n",
    "    end\n",
    "\n",
    "    index = indmax(eligible_s) # find get a better method of optimizing this\n",
    "    \n",
    "    cmd = ind2sub(s,index)\n",
    "    abs_cmd = (cmd[1]+v_index_low-1, cmd[2]+δ_index_low-1)\n",
    "    return abs_cmd\n",
    "end"
   ]
  },
  {
   "cell_type": "markdown",
   "metadata": {},
   "source": [
    "### 5. Check each time step up to horizon to make sure the entire trajectory is legal"
   ]
  },
  {
   "cell_type": "code",
   "execution_count": null,
   "metadata": {
    "collapsed": false
   },
   "outputs": [],
   "source": [
    "function computeTrajectory(cmd_index, ΔXYθ, state)\n",
    "    pos = state.posG\n",
    "    \n",
    "    traj_ΔXYθ = ΔXYθ[cmd_index[1],cmd_index[2],:,:]\n",
    "    \n",
    "    ΔX = traj_ΔXYθ[:,1] * cos(pos.θ) + traj_ΔXYθ[:,2] * -sin(pos.θ)\n",
    "    ΔY = traj_ΔXYθ[:,1] * sin(pos.θ) + traj_ΔXYθ[:,2] * cos(pos.θ)\n",
    "    Δθ = traj_ΔXYθ[:,3]\n",
    "\n",
    "    trajectory = zeros(size(traj_ΔXYθ))\n",
    "    trajectory[:,1] = ΔX + pos.x\n",
    "    trajectory[:,2] = ΔY + pos.y\n",
    "    trajectory[:,3] = Δθ + pos.θ\n",
    "    \n",
    "    return trajectory\n",
    "end"
   ]
  },
  {
   "cell_type": "code",
   "execution_count": null,
   "metadata": {
    "collapsed": false
   },
   "outputs": [],
   "source": [
    "function screenTrajectory(trajectory, roadway, hrhc)\n",
    "    out_of_bounds = false\n",
    "    \n",
    "    for i in 1 : size(trajectory,1)\n",
    "        myProj = Vec.proj(VecSE2(trajectory[i,:]), roadway) # project point onto roadway\n",
    "        t = myProj.curveproj.t\n",
    "        if abs(t) > hrhc.T_MAX\n",
    "            print(\"T OUT OF BOUNDS!!!\")\n",
    "            out_of_bounds=true\n",
    "            return out_of_bounds\n",
    "        end\n",
    "    end\n",
    "    return out_of_bounds\n",
    "end"
   ]
  },
  {
   "cell_type": "markdown",
   "metadata": {},
   "source": [
    "### 6. Apply the motion primitive for a single time step"
   ]
  },
  {
   "cell_type": "code",
   "execution_count": null,
   "metadata": {
    "collapsed": false
   },
   "outputs": [],
   "source": [
    "next_state = VehicleState(VecSE2(trajectory[1,:]),roadway,v_commands[abs_cmd[1], abs_cmd[2]])\n",
    "action = NextState(next_state)"
   ]
  },
  {
   "cell_type": "markdown",
   "metadata": {},
   "source": [
    "### 7. Go back to 1"
   ]
  },
  {
   "cell_type": "markdown",
   "metadata": {},
   "source": [
    "# get HRHC action function"
   ]
  },
  {
   "cell_type": "code",
   "execution_count": null,
   "metadata": {
    "collapsed": false
   },
   "outputs": [],
   "source": [
    "function get_HRHC_action(car::HRHC, v_commands, δ_commands, arc_angle_library, ΔXYθ, scene)\n",
    "    # get current state\n",
    "    state = scene.vehicles[1].state\n",
    "    \n",
    "    v = state.v # current v\n",
    "    car.v = v\n",
    "    \n",
    "    # get legal moves (reachable from current v, δ)\n",
    "    legal_ΔXYθ, legal_v, legal_δ, v_id_lo, v_id_hi, δ_id_lo, δ_id_hi = getLegalMoves(car, ΔXYθ, v_commands, δ_commands)\n",
    "    \n",
    "    # calculate successor states\n",
    "    successor_states = getSuccessorStates(state,legal_ΔXYθ)\n",
    "    \n",
    "    # project successor states onto track to see if they are legal\n",
    "    s,t,ϕ = projectToCenterline(successor_states, roadway)\n",
    "    \n",
    "    # select command expected to yield highest forward progress\n",
    "    abs_cmd = selectBestPath(car, roadway, s, t, ϕ,v_id_lo, v_id_hi, δ_id_lo, δ_id_hi)    \n",
    "    \n",
    "    # compute trajectory\n",
    "    trajectory  = computeTrajectory(abs_cmd, ΔXYθ, state)\n",
    "\n",
    "    # screen trajectory for collisions / validity\n",
    "    out_of_bounds = screenTrajectory(trajectory, roadway, car)    \n",
    "    \n",
    "    next_state = VehicleState(VecSE2(trajectory[1,:]),roadway,v_commands[abs_cmd[1], abs_cmd[2]])\n",
    "    action = NextState(next_state)\n",
    "    \n",
    "    car.δ = δ_commands[abs_cmd[1], abs_cmd[2]]\n",
    "    car.v = v_commands[abs_cmd[1], abs_cmd[2]]\n",
    "    \n",
    "    return action\n",
    "    \n",
    "end"
   ]
  },
  {
   "cell_type": "markdown",
   "metadata": {},
   "source": [
    "## MAIN: Make single car drive around race track"
   ]
  },
  {
   "cell_type": "code",
   "execution_count": null,
   "metadata": {
    "collapsed": false
   },
   "outputs": [],
   "source": [
    "#car parameters\n",
    "car_length = 4.8 # front wheel to back wheel\n",
    "car_width = 2.5\n",
    "v⁰  = 0.0 # initial velocity\n",
    "δ⁰ = 0.0 # initical steering angle\n",
    "\n",
    "#controller parameters\n",
    "h = 10 # look-ahead horizon\n",
    "Δt = 1.0/24 # time-step size\n",
    "V_MIN = 0.0 # mininmum velocity (m/s)\n",
    "V_MAX = 100.0 # maximum velocity (m/s)\n",
    "V_STEPS = 100 # resolution of velocity\n",
    "δ_MAX = Float64(π)/8 # max steering angle (radians)\n",
    "δ_MIN = -δ_MAX # min steering angle (radians)\n",
    "δ_STEPS = 16 # resolution of steering angle\n",
    "ΔV₊ = 1.05 / V_MAX\n",
    "ΔV₋ = 2.05 / V_MAX\n",
    "Δδ = Float64(π)/16\n",
    "\n",
    "#track parameters\n",
    "lane_width = 4.0*DEFAULT_LANE_WIDTH\n",
    "radius = 45.0\n",
    "edge_buffer = 0.25\n",
    "T_MAX = lane_width/2.0 - car_width/2.0 - edge_buffer # max allowable projection distance from center of lane\n",
    "\n",
    "obstacles = Set()\n",
    "\n",
    "# initialize HRHC\n",
    "myHRHC = HRHC(car_length,car_width,v⁰,δ⁰,h,Δt,V_MIN,V_MAX,V_STEPS,δ_MAX,δ_MIN,δ_STEPS,ΔV₊,ΔV₋,Δδ,T_MAX,obstacles)\n",
    "\n",
    "# get motion primitives\n",
    "v_commands, δ_commands, arc_angle_library, ΔXYθ = MotionPrimitives(myHRHC)\n",
    "QuadraticMask!(arc_angle_library) # eliminate infeasible actions with mask\n",
    "QuadraticMask!(ΔXYθ)"
   ]
  },
  {
   "cell_type": "code",
   "execution_count": null,
   "metadata": {
    "collapsed": false
   },
   "outputs": [],
   "source": [
    "#initialize track\n",
    "srand(0)\n",
    "\n",
    "roadway = gen_stadium_roadway(1, radius=radius, lane_width=lane_width)\n",
    "roadind = RoadIndex(proj(VecSE2(0.0,-1*DEFAULT_LANE_WIDTH,0.0), roadway))\n",
    "\n",
    "scene = Scene()\n",
    "framerate = 24\n",
    "context = IntegratedContinuous(1/framerate,3)\n",
    "\n",
    "Δt=1/framerate # size of time-steps\n",
    "h=10 # lookahead horizon (in time-steps)\n",
    "\n",
    "models = Dict{Int, DriverModel}()\n",
    "carcolors = Dict{Int, Colorant}()\n",
    "base_speed= 20.0\n",
    "\n",
    "\n",
    "vehstate = VehicleState(Frenet(roadind, roadway), roadway, base_speed+randn())\n",
    "vehdef = VehicleDef(1,AgentClass.CAR, 4.8, 1.8)\n",
    "push!(scene,Vehicle(vehstate, vehdef))\n",
    "models[1] = Tim2DDriver(context, rec=SceneRecord(1,context.Δt, 1))\n",
    "set_desired_speed!(models[1], 30.0 + 20*rand())\n",
    "carcolors[1] = colorant\"red\"\n",
    "\n",
    "actions = Array(DriveAction, length(scene))\n"
   ]
  },
  {
   "cell_type": "markdown",
   "metadata": {},
   "source": [
    "# Run HRHC:"
   ]
  },
  {
   "cell_type": "code",
   "execution_count": null,
   "metadata": {
    "collapsed": false,
    "scrolled": false
   },
   "outputs": [],
   "source": [
    "function drawsim(t, dt=NaN)\n",
    "    actions[1] = get_HRHC_action(myHRHC, v_commands, δ_commands, arc_angle_library, ΔXYθ, scene)\n",
    "    tick!(scene, roadway, actions, models)\n",
    "    render(scene, roadway, cam=FitToContentCamera(), car_colors=carcolors)\n",
    "end"
   ]
  },
  {
   "cell_type": "code",
   "execution_count": null,
   "metadata": {
    "collapsed": false
   },
   "outputs": [],
   "source": [
    "ticks = fps(framerate)\n",
    "timestamps = map(_ -> time(), ticks)\n",
    "map(drawsim, timestamps)"
   ]
  },
  {
   "cell_type": "markdown",
   "metadata": {},
   "source": [
    "# Features to add"
   ]
  },
  {
   "cell_type": "code",
   "execution_count": null,
   "metadata": {
    "collapsed": false
   },
   "outputs": [],
   "source": [
    "\"\"\"\n",
    "##########\n",
    "RoadwayTagMap[lane_tag] -> base distance around the track\n",
    "\n",
    "##########\n",
    "Optimization Objective Function\n",
    "- reward progress on track\n",
    "- penalize heuristic functions of ϕ, t\n",
    "--- f(ϕ,t) to penalize steering away from centerline?\n",
    "\n",
    "##########\n",
    "ProximityKernel(): gives proximity to a given location against a set of locations that represent obstacles\n",
    "proximity = ProximityKernel(X,Y,θ,(ObstacleCoords))\n",
    "proximity = ProximityKernel(s,t,ϕ,(ObstaclesCoords))\n",
    "\n",
    "##########\n",
    "Array-based operations for a faster and more robust search through eligible motion primitives\n",
    "- Search highest V candidates first\n",
    "- break out of a candidate trajectory as soon as ineligible\n",
    "- If no trajectory is feasible, restart full search at horizon level h-1\n",
    "\n",
    "\n",
    "Cognitive hierarchy - ditribution over logit-level K\n",
    "\n",
    "\n",
    "\"\"\""
   ]
  },
  {
   "cell_type": "code",
   "execution_count": null,
   "metadata": {
    "collapsed": true
   },
   "outputs": [],
   "source": [
    "\"\"\"\n",
    "Email update:\n",
    "What I did\n",
    "What I would like to do\n",
    "Issues?\n",
    "\"\"\"\n"
   ]
  }
 ],
 "metadata": {
  "anaconda-cloud": {},
  "kernelspec": {
   "display_name": "Julia 0.5.0",
   "language": "julia",
   "name": "julia-0.5"
  },
  "language_info": {
   "file_extension": ".jl",
   "mimetype": "application/julia",
   "name": "julia",
   "version": "0.5.0"
  }
 },
 "nbformat": 4,
 "nbformat_minor": 0
}
