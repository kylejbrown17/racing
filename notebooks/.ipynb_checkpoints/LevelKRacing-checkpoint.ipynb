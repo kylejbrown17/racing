{
 "cells": [
  {
   "cell_type": "code",
   "execution_count": null,
   "metadata": {
    "collapsed": false
   },
   "outputs": [],
   "source": [
    "using AutomotiveDrivingModels\n",
    "using AutoViz\n",
    "using Reactive\n",
    "using Interact\n",
    "using SplineUtils\n",
    "using SplineRaceWay\n",
    "using HierarchicalRecedingHorizonController\n",
    "using NearestNeighbors\n",
    "\n",
    "# import PyPlot"
   ]
  },
  {
   "cell_type": "code",
   "execution_count": null,
   "metadata": {
    "collapsed": true
   },
   "outputs": [],
   "source": [
    "# scene parameters\n",
    "scene = Scene()\n",
    "framerate = 24\n",
    "Δt = 1.0/framerate # size of rendering timesteps\n",
    "n_integration_sub_steps = 3 # sub steps for smoother integration\n",
    "context = IntegratedContinuous(Δt, n_integration_sub_steps) # integrated continuous context\n",
    "\n",
    "#car parameters\n",
    "car_length = 4.8 # front wheel to back wheel\n",
    "car_width = 2.5\n",
    "v⁰  = 0.0 # initial velocity\n",
    "δ⁰ = 0.0 # initical steering angle\n",
    "\n",
    "############### INITIALIZE TRACK ################\n",
    "lane_width = 10.0*DEFAULT_LANE_WIDTH\n",
    "radius = 45.0\n",
    "edge_buffer = 0.25\n",
    "T_MAX = lane_width/2.0 - car_width/2.0 - edge_buffer # max allowable projection distance from center of lane\n",
    "base_speed= 0.0\n",
    "\n",
    "# spline control points\n",
    "# Pts = 50*[0 -1 -2 -3 -3.5 -3 -2 -1 -0.5 -1 -2 -3 -4 -5 -6 -6.5 -6 -5.5 -6 -6 -5 -4 -3 -2 -1.5 -1 0 1 1.5 2 3 4 5 6 6 6 7 7 7 7 6 5 4 4 4 3 2 1 0; \n",
    "#        0 0 0 0 -1 -2 -2 -2 -3 -4 -4 -4 -4 -4 -4 -3 -2 -1 0 1 2 3 4 4 3 2 2 2 3 4 4 4 4 3 2 1 0 -1 -2 -3 -4 -4 -3 -2 -1 0 0 0 0]\n",
    "Pts = 50*[0 -1 -2 -3 -3.5 -3 -2 -1 -0.5 -1 -2 -3 -4 -5 -6 -6.5 -6 -5.5 -6 -6 -5 -4 -3 -2 -1.5 -1 0 1 1.5 2 3 4 5 6.25 7 7 7 7 7 7 7 6 5 4 4 4 3 2 1 0; \n",
    "       0 0 0 0 -1 -2 -2 -2 -3 -4 -4 -4 -4 -4 -4 -3 -2 -1 0 1 2 3 4 4 3 2 2 2 3 4 4 4 4 4 3 2 1 0 -1 -2 -3 -4 -4 -3 -2 -1 0 0 0 0]\n",
    "degree = 3 # degree of spline\n",
    "num_points = 10001\n",
    "num_samples = 420\n",
    "lane_width = 20.0\n",
    "track = Raceway(Pts,degree,num_points,num_samples,lane_width)\n",
    "track;"
   ]
  },
  {
   "cell_type": "code",
   "execution_count": null,
   "metadata": {
    "collapsed": true
   },
   "outputs": [],
   "source": [
    "carcolors = Dict{Int, Colorant}()\n",
    "\n",
    "roadind1 = RoadIndex(CurveIndex(12,0),LaneTag(1,1))\n",
    "vehstate1 = VehicleState(Frenet(roadind1, track.roadway), track.roadway, 0.0)\n",
    "vehdef1 = VehicleDef(1,AgentClass.CAR, car_length, car_width)\n",
    "push!(scene,Vehicle(vehstate1, vehdef1))\n",
    "carcolors[1] = colorant\"red\"\n",
    "track.models[1] = mapHRHC(1,track.roadway,context,h=12,v_max=120.0,μ=30.0,a_step=12.0,a_range=[-1,0,1],k=2)\n",
    "\n",
    "roadind2 = RoadIndex(CurveIndex(4,0),LaneTag(1,1))\n",
    "vehstate2 = VehicleState(Frenet(roadind2, track.roadway), track.roadway, 0.0)\n",
    "vehdef2 = VehicleDef(2,AgentClass.CAR, car_length, car_width)\n",
    "push!(scene,Vehicle(vehstate2, vehdef2))\n",
    "carcolors[2] = colorant\"blue\"\n",
    "track.models[2] = mapHRHC(2,track.roadway,context,h=12,v_max=100.0,μ=25.0,a_step=12.0,a_range=[-1,0,1])\n",
    "\n",
    "roadind3 = RoadIndex(CurveIndex(14,0),LaneTag(1,1))\n",
    "vehstate3 = VehicleState(Frenet(roadind3, track.roadway), track.roadway, 0.0)\n",
    "vehdef3 = VehicleDef(3,AgentClass.CAR, car_length, car_width)\n",
    "push!(scene,Vehicle(vehstate3, vehdef3))\n",
    "carcolors[3] = colorant\"yellow\"\n",
    "track.models[3] = mapHRHC(3,track.roadway,context,h=12,v_max=100.0,μ=25.0,a_step=12.0,a_range=[-1,0,1])\n",
    "\n",
    "actions = Array(DriveAction, length(scene))\n",
    "\n",
    "track.obstacleMap = generateObstacleMap(scene, track.models)\n",
    "track;"
   ]
  },
  {
   "cell_type": "code",
   "execution_count": null,
   "metadata": {
    "collapsed": false
   },
   "outputs": [],
   "source": [
    "function drawsim(t, dt=NaN)\n",
    "    k_level = 0 # needs to be updated into a loop\n",
    "    for k_level in 0:maximum([model.k for (id,model) in track.models])\n",
    "        for (i, veh) in enumerate(scene)\n",
    "            model = track.models[veh.def.id]\n",
    "            observe!(model, scene, track.roadway, veh.def.id, track.tree, track.obstacleMap, k_level)\n",
    "            actions[i] = rand(model)\n",
    "        end\n",
    "    end\n",
    "    for (veh, action) in zip(scene, actions)\n",
    "        model = track.models[veh.def.id]\n",
    "        context = action_context(model)\n",
    "        veh.state = propagate(veh, action, context, track.roadway)\n",
    "    end\n",
    "    render(scene, track.roadway, cam=FitToContentCamera(), car_colors=carcolors)\n",
    "#     zoom = 5.0\n",
    "#     render(scene, track.roadway, cam=SceneFollowCamera(zoom), car_colors=carcolors)\n",
    "end"
   ]
  },
  {
   "cell_type": "code",
   "execution_count": null,
   "metadata": {
    "collapsed": false,
    "scrolled": false
   },
   "outputs": [],
   "source": [
    "ticks = fps(framerate)\n",
    "timestamps = map(_ -> time(), ticks)\n",
    "map(drawsim, timestamps)"
   ]
  },
  {
   "cell_type": "markdown",
   "metadata": {},
   "source": [
    "## Test Observe"
   ]
  },
  {
   "cell_type": "code",
   "execution_count": null,
   "metadata": {
    "collapsed": false
   },
   "outputs": [],
   "source": [
    "function PlotScene(scene,track)\n",
    "    s_min = Inf\n",
    "    s_max = 0\n",
    "    for (id,car) in track.models\n",
    "        pos = scene.vehicles[id].state.posG\n",
    "        s,_,_ = kdProject(pos.x,pos.y,pos.θ,track.tree,track.roadway,track.models[id])\n",
    "        PyPlot.scatter(scene.vehicles[id].state.posG.x,scene.vehicles[id].state.posG.y,c=\"red\")\n",
    "        PyPlot.plot(track.obstacleMap[1][id][:,1],track.obstacleMap[1][id][:,2],c=\"red\")\n",
    "        s_min = min(s,s_min)\n",
    "        s_max = max(s,s_max)\n",
    "    end\n",
    "    idx_min = max(Int(div(s_min,track.models[1].Δs)),indmin(track.s))\n",
    "    idx_max = min(Int(div(s_max+100,track.models[1].Δs)),indmax(track.s))\n",
    "    # PyPlot.plot(track.x[idx_min:idx_max],track.y[idx_min:idx_max])\n",
    "    plotSplineRoadway(track.x[idx_min:idx_max],track.y[idx_min:idx_max],track.θ[idx_min:idx_max],track.roadway.segments[1].lanes[1].width)\n",
    "    PyPlot.axis(\"equal\")\n",
    "end\n",
    "\n",
    "PlotScene(scene,track)"
   ]
  },
  {
   "cell_type": "code",
   "execution_count": null,
   "metadata": {
    "collapsed": false
   },
   "outputs": [],
   "source": [
    "k_level = 0 # needs to be updated into a loop\n",
    "for k_level in 0:maximum([model.k for (id,model) in track.models])\n",
    "    for (i, veh) in enumerate(scene)\n",
    "        model = track.models[veh.def.id]\n",
    "        observe!(model, scene, track.roadway, veh.def.id, track.tree, track.obstacleMap, k_level)\n",
    "        actions[i] = rand(model)\n",
    "    end\n",
    "end\n",
    "for (veh, action) in zip(scene, actions)\n",
    "    model = track.models[veh.def.id]\n",
    "    context = action_context(model)\n",
    "    veh.state = propagate(veh, action, context, track.roadway)\n",
    "end\n",
    "\n",
    "hrhc = track.models[1]\n",
    "roadway = track.roadway\n",
    "models = track.models\n",
    "obstacleMap = track.obstacleMap\n",
    "tree = track.tree\n",
    "state = scene.vehicles[hrhc.car_ID].state\n",
    "hrhc.curve_ind = state.posF.roadind.ind.i\n",
    "v = state.v # current v\n",
    "hrhc.v = v\n",
    "trajectory = zeros(hrhc.h,3)\n",
    "action_selected = false\n",
    "δ_cmd = 1\n",
    "a_cmd = 1\n",
    "\n",
    "objective = zeros(size(hrhc.successor_states[:,:,1]))\n",
    "collisionFlag = zeros(size(hrhc.successor_states[:,:,1]))\n",
    "s = zeros(size(hrhc.successor_states[:,:,1]))\n",
    "t = zeros(size(hrhc.successor_states[:,:,1]))\n",
    "ϕ = zeros(size(hrhc.successor_states[:,:,1]))\n",
    "\n",
    "\n",
    "i = 0\n",
    "for i in 0:(hrhc.h-1)\n",
    "    if action_selected\n",
    "        break # out of for loop\n",
    "    end\n",
    "    # calculate successor states\n",
    "    hrhc.successor_states = getSuccessorStates(hrhc.motion_map[hrhc.v_cmd], hrhc.car_ID, hrhc.h-i, scene)\n",
    "    # project successor states onto track\n",
    "    s,t,ϕ = loopProjectionKD(hrhc, scene, roadway, tree)\n",
    "    # optimization objective\n",
    "    objective = calculateObjective(hrhc.car_ID, scene.vehicles[hrhc.car_ID].state.posF.s,\n",
    "    s,t,ϕ,hrhc.T_MAX)\n",
    "\n",
    "    collisionFlag = screenCollision(hrhc, obstacleMap, tree, roadway, scene, k_level)\n",
    "\n",
    "    objective[collisionFlag .> 0] = Inf\n",
    "\n",
    "    while (action_selected==false) && (minimum(objective) != Inf)\n",
    "        index = indmin(objective) # find get a better method of optimizing this\n",
    "        a_cmd, δ_cmd = ind2sub(s, index)\n",
    "        hrhc.δ_cmd = δ_cmd\n",
    "        # compute full trajectory up to horizon\n",
    "        trajectory = computeTrajectory(hrhc.motion_map[hrhc.v_cmd], hrhc.car_ID, scene, a_cmd, δ_cmd, hrhc.h-i)\n",
    "        # screen trajectory for collisions / validity\n",
    "        out_of_bounds = screenTrajectory(trajectory, obstacleMap, scene, roadway, hrhc, tree, k_level)\n",
    "        if out_of_bounds\n",
    "            objective[index] = Inf\n",
    "        else\n",
    "            action_selected=true\n",
    "            updateObstacleMap!(obstacleMap, k_level, hrhc.car_ID, trajectory)\n",
    "            if k_level > hrhc.k\n",
    "                return\n",
    "            end\n",
    "        end\n",
    "    end\n",
    "end\n",
    "\n",
    "# hrhc.δ_cmd = δ_cmd\n",
    "# # hrhc.v_cmd = max(hrhc.v_cmd + a_cmd - 2,1) # assumes 3 options for acceleration\n",
    "# hrhc.v_cmd = hrhc.v_map[hrhc.v_cmd][a_cmd,δ_cmd]\n",
    "\n",
    "# hrhc.δ = hrhc.δ_range[hrhc.δ_cmd] # next δ\n",
    "# hrhc.v = hrhc.v_range[hrhc.v_cmd] # next v\n",
    "\n",
    "# next_state = VehicleState(VecSE2(trajectory[1,1:3]),roadway,hrhc.v)\n",
    "# hrhc.action = NextState(next_state) # action\n",
    "# plotObjectiveHorizon2(hrhc,scene,roadway,tree,trajectory,obstacleMap,track.x,track.y,track.θ)"
   ]
  },
  {
   "cell_type": "code",
   "execution_count": null,
   "metadata": {
    "collapsed": false
   },
   "outputs": [],
   "source": []
  },
  {
   "cell_type": "code",
   "execution_count": null,
   "metadata": {
    "collapsed": false
   },
   "outputs": [],
   "source": [
    "function plotObjectiveHorizon2(hrhc,scene,roadway,tree,trajectory,obstacleMap,xR,yR,θR)\n",
    "    lo=hrhc.curve_ind\n",
    "    hi=hrhc.curve_ind + Int(1+div(hrhc.v_range[end]*hrhc.Δt*hrhc.h,hrhc.Δs))\n",
    "    lane_width = roadway.segments[1].lanes[1].width\n",
    "\n",
    "    x = zeros(hrhc.h,size(hrhc.successor_states,1),size(hrhc.successor_states,2))\n",
    "    y = zeros(size(x))\n",
    "    θ = zeros(size(x))\n",
    "    s = zeros(size(x))\n",
    "    t = zeros(size(x))\n",
    "    ϕ = zeros(size(x))\n",
    "    objective = zeros(size(x))\n",
    "\n",
    "    for i in 1:hrhc.h\n",
    "        getSuccessorStates(hrhc.motion_map[hrhc.v_cmd], hrhc.car_ID, hrhc.h, scene)\n",
    "        x[i,:,:] = copy(hrhc.successor_states[:,:,1])\n",
    "        y[i,:,:] = copy(hrhc.successor_states[:,:,2])\n",
    "        θ[i,:,:] = copy(hrhc.successor_states[:,:,3])\n",
    "        s[i,:,:], t[i,:,:], ϕ[i,:,:] = loopProjectionKD(hrhc,scene,roadway,tree)\n",
    "#         objective[i,:,:] = calculateObjective(hrhc, scene, roadway, tree,s[i,:,:],t[i,:,:],ϕ[i,:,:],obstacleMap,hrhc.k,hrhc.h)\n",
    "    end\n",
    "    objective = calculateObjective(hrhc.car_ID,scene.vehicles[hrhc.car_ID].state.posF.s,\n",
    "        s,t,ϕ,T_MAX;ϕ_MAX=Float64(π),s_factor=1.0)\n",
    "    collisionFlag = screenCollision(hrhc, obstacleMap, tree, roadway, scene, hrhc.k)\n",
    "#     t[collisionFlag] = Inf\n",
    "    \n",
    "    PyPlot.figure(figsize=[12,4])\n",
    "\n",
    "    PyPlot.subplot(141) # ϕ\n",
    "    plotSplineRoadway(xR[lo:hi],yR[lo:hi],θR[lo:hi],lane_width)\n",
    "    PyPlot.scatter(x,y,c=ϕ,edgecolor=\"none\")\n",
    "    PyPlot.plot(trajectory[:,1],trajectory[:,2],color=\"red\")\n",
    "    PyPlot.axis(\"off\")\n",
    "    PyPlot.title(\"|phi|\")\n",
    "\n",
    "    PyPlot.subplot(142) # s\n",
    "    plotSplineRoadway(xR[lo:hi],yR[lo:hi],θR[lo:hi],lane_width)\n",
    "    PyPlot.scatter(x,y,c=s,edgecolor=\"none\")\n",
    "    PyPlot.plot(trajectory[:,1],trajectory[:,2],color=\"red\")\n",
    "    PyPlot.axis(\"off\")\n",
    "    PyPlot.title(\"s\")\n",
    "\n",
    "    PyPlot.subplot(143) # t\n",
    "#     plotSplineRoadway(xR[lo:hi],yR[lo:hi],θR[lo:hi],lane_width)\n",
    "    PyPlot.scatter(x,y,c=t,edgecolor=\"none\")\n",
    "    PyPlot.plot(trajectory[:,1],trajectory[:,2],color=\"red\")\n",
    "    PyPlot.axis(\"off\")\n",
    "    PyPlot.title(\"t\")\n",
    "\n",
    "    PyPlot.subplot(144) # objective\n",
    "#     plotSplineRoadway(xR[lo:hi],yR[lo:hi],θR[lo:hi],lane_width)\n",
    "    PyPlot.scatter(x,y,c=log(objective),edgecolor=\"none\")\n",
    "    PyPlot.plot(trajectory[:,1],trajectory[:,2],color=\"red\")\n",
    "    PyPlot.axis(\"off\")\n",
    "    PyPlot.title(\"log objective\")\n",
    "#     return objective\n",
    "end"
   ]
  },
  {
   "cell_type": "markdown",
   "metadata": {},
   "source": [
    "# Avoidance Objective Function"
   ]
  },
  {
   "cell_type": "code",
   "execution_count": null,
   "metadata": {
    "collapsed": false
   },
   "outputs": [],
   "source": [
    "# full trajectory check\n",
    "k_level = 3\n",
    "hrhc = track.models[1]\n",
    "L = hrhc.car_length\n",
    "W = hrhc.car_width\n",
    "# collisionCost = zeros(size(hrhc.motion_map[hrhc.v_cmd]))\n",
    "collisionFlag = zeros(size(hrhc.successor_states[:,:,1]))\n",
    "threshold_dist = hrhc.car_length*4 # must be at least this close before we care to calculate collision cost\n",
    "\n",
    "id = 3\n",
    "trajectory = track.obstacleMap[k_level-1][id]\n",
    "\n",
    "state = scene.vehicles[hrhc.car_ID].state\n",
    "state2 = scene.vehicles[id].state\n",
    "diff = state.posG - state2.posG\n",
    "s1,_,_ = kdProject(state.posG.x,state.posG.y,state.posG.θ,track.tree,track.roadway,hrhc)\n",
    "s2,_,_ = kdProject(state2.posG.x,state2.posG.y,state2.posG.θ,track.tree,track.roadway,hrhc)\n",
    "# if (norm([diff.x, diff.y]) < threshold_dist) && (s1 <= s2) # don't care if opponent is behind us\n",
    "#     print(\"in\")\n",
    "# end"
   ]
  },
  {
   "cell_type": "code",
   "execution_count": null,
   "metadata": {
    "collapsed": false
   },
   "outputs": [],
   "source": [
    "R_idx = zeros(Int, size(hrhc.successor_states,1)*size(hrhc.successor_states,2)) # to store the sorted indices of R\n",
    "i = 1\n",
    "\n",
    "pos = VecSE2(trajectory[i,1:3]) # x,y,θ of opponent at time step h\n",
    "successor_states = getSuccessorStates(hrhc.motion_map[hrhc.v_cmd],hrhc.car_ID,i,scene)\n",
    "ΔX = successor_states[:,:,1] - pos.x # Δx, with opponent at origin\n",
    "ΔY = successor_states[:,:,2] - pos.y # Δy with opponent at origin\n",
    "Δθ = successor_states[:,:,3] - pos.θ # Δθ with opponent at origin\n",
    "pos"
   ]
  },
  {
   "cell_type": "code",
   "execution_count": null,
   "metadata": {
    "collapsed": false
   },
   "outputs": [],
   "source": [
    "scene.vehicles[1].state.posG - scene.vehicles[3].state.posG"
   ]
  },
  {
   "cell_type": "code",
   "execution_count": null,
   "metadata": {
    "collapsed": false,
    "scrolled": true
   },
   "outputs": [],
   "source": [
    "successor_states = getSuccessorStates(track.models[1].motion_map[track.models[1].v_cmd],track.models[1].car_ID,1,scene)"
   ]
  },
  {
   "cell_type": "code",
   "execution_count": null,
   "metadata": {
    "collapsed": false
   },
   "outputs": [],
   "source": [
    "ΔX = successor_states[:,:,1] - obstacleMap[2][3][1,1]\n",
    "ΔY = successor_states[:,:,2] - obstacleMap[2][3][1,2]\n",
    "R = sqrt(ΔX.^2 + ΔY.^2)\n",
    "ψ = atan2(ΔY,ΔX) - Δθ\n",
    "r = W*L./sqrt((L*sin(ψ)).^2 + (W*cos(ψ)).^2) # radius of ellipse at given angle\n",
    "ΔR = R - r"
   ]
  },
  {
   "cell_type": "code",
   "execution_count": null,
   "metadata": {
    "collapsed": false
   },
   "outputs": [],
   "source": [
    "Δ = obstacleMap[2][3] - obstacleMap[3][1]"
   ]
  },
  {
   "cell_type": "code",
   "execution_count": null,
   "metadata": {
    "collapsed": false
   },
   "outputs": [],
   "source": [
    "sqrt(Δ[:,1].^2 + Δ[:,2].^2)"
   ]
  },
  {
   "cell_type": "code",
   "execution_count": null,
   "metadata": {
    "collapsed": false
   },
   "outputs": [],
   "source": [
    "R = sqrt(ΔX.^2 + ΔY.^2)\n",
    "# @show i, minimum(R)\n",
    "ψ = atan2(ΔY,ΔX)\n",
    "R_idx = sortperm(reshape(R,size(R,1)*size(R,2),1)[:])\n",
    "for idx in R_idx\n",
    "    if collisionFlag[idx] == 1\n",
    "        continue\n",
    "    end\n",
    "    if R[idx] > hrhc.car_length # no collision, and all other R values are greater\n",
    "        @show R[idx]\n",
    "        break\n",
    "    end\n",
    "    # R is less than hrhc.car_length\n",
    "    ψ = atan2(ΔY[idx],ΔX[idx]) - Δθ[idx]\n",
    "    r = W*L/sqrt((L*sin(ψ))^2 + (W*cos(ψ))^2) # radius of ellipse at given angle\n",
    "    @show ψ,r\n",
    "    if R[idx]-r < W*L/8 # collision\n",
    "        collisionFlag[idx] = 1\n",
    "    end\n",
    "end"
   ]
  },
  {
   "cell_type": "code",
   "execution_count": null,
   "metadata": {
    "collapsed": false
   },
   "outputs": [],
   "source": [
    "if k_level >= 1\n",
    "    # for all other cars...\n",
    "    for (id,trajectory) in track.obstacleMap[k_level - 1]\n",
    "        if id != hrhc.car_ID\n",
    "            state = scene.vehicles[hrhc.car_ID].state\n",
    "            state2 = scene.vehicles[id].state\n",
    "            diff = state.posG - state2.posG\n",
    "            s1,_,_ = kdProject(state.posG.x,state.posG.y,state.posG.θ,track.tree,track.roadway,hrhc)\n",
    "            s2,_,_ = kdProject(state2.posG.x,state2.posG.y,state2.posG.θ,track.tree,track.roadway,hrhc)\n",
    "            if (norm([diff.x, diff.y]) < threshold_dist) && (s1 <= s2) # don't care if opponent is behind us\n",
    "                R_idx = zeros(Int, size(hrhc.successor_states,1)*size(hrhc.successor_states,2)) # to store the sorted indices of R\n",
    "\n",
    "                for i in 1:hrhc.h\n",
    "                    pos = VecSE2(trajectory[i,1:3]) # x,y,θ of opponent at time step h\n",
    "                    successor_states = getSuccessorStates(hrhc.motion_map[hrhc.v_cmd],hrhc.car_ID,i,scene)\n",
    "                    ΔX = hrhc.successor_states[:,:,1] - pos.x # Δx, with opponent at origin\n",
    "                    ΔY = hrhc.successor_states[:,:,2] - pos.y # Δy with opponent at origin\n",
    "                    Δθ = hrhc.successor_states[:,:,3] - pos.θ # Δθ with opponent at origin\n",
    "                    R = sqrt(ΔX.^2 + ΔY.^2)\n",
    "                    @show i, minimum(R)\n",
    "                    ψ = atan2(ΔY,ΔX)\n",
    "                    R_idx = sortperm(reshape(R,size(R,1)*size(R,2),1)[:])\n",
    "                    for idx in R_idx\n",
    "                        if collisionFlag[idx] == 1\n",
    "                            continue\n",
    "                        end\n",
    "                        if R[idx] > hrhc.car_length # no collision, and all other R values are greater\n",
    "                            @show R[idx]\n",
    "                            break\n",
    "                        end\n",
    "                        # R is less than hrhc.car_length\n",
    "                        ψ = atan2(ΔY[idx],ΔX[idx]) - Δθ[idx]\n",
    "                        r = W*L/sqrt((L*sin(ψ))^2 + (W*cos(ψ))^2) # radius of ellipse at given angle\n",
    "                        @show ψ,r\n",
    "                        if R[idx]-r < W*L/8 # collision\n",
    "                            collisionFlag[idx] = 1\n",
    "                        end\n",
    "                    end\n",
    "                end\n",
    "            end\n",
    "        end\n",
    "    end\n",
    "end"
   ]
  },
  {
   "cell_type": "code",
   "execution_count": null,
   "metadata": {
    "collapsed": false,
    "scrolled": true
   },
   "outputs": [],
   "source": [
    "# cost = 1./(sum(abs(pX),1)[1,:,:].*sum(abs(pY),1)[1,:,:] + .0001) + Inf*collisionFlag\n",
    "# cost = 1./((abs(pX)[1,:,:].*abs(pY)[1,:,:]) + .0001)# + Inf*collisionFlag\n",
    "cost = 1./(sum(abs(pX),1)[1,:,:].*sum(abs(pY),1)[1,:,:] + .001)\n",
    "\n",
    "PyPlot.figure(figsize=[6,1])\n",
    "PyPlot.pcolor(cost)\n",
    "PyPlot.axis(\"equal\")\n",
    "PyPlot.axis(\"off\")\n",
    "maximum(cost),minimum(cost)"
   ]
  },
  {
   "cell_type": "code",
   "execution_count": null,
   "metadata": {
    "collapsed": false
   },
   "outputs": [],
   "source": [
    "# Elliptical Collision Mask\n",
    "L = hrhc.car_length\n",
    "W = hrhc.car_width\n",
    "mask - ((x_vals.^2)/(L^2) + (y_vals.^2)/(W^2) .< ((W*L)^2)/64 ) \n",
    "PyPlot.scatter(x_vals[mask],y_vals[mask])\n",
    "PyPlot.scatter(pts[1,:],pts[2,:],c=\"r\")\n",
    "PyPlot.axis(\"equal\")"
   ]
  },
  {
   "cell_type": "code",
   "execution_count": null,
   "metadata": {
    "collapsed": true
   },
   "outputs": [],
   "source": []
  }
 ],
 "metadata": {
  "kernelspec": {
   "display_name": "Julia 0.5.0",
   "language": "julia",
   "name": "julia-0.5"
  },
  "language_info": {
   "file_extension": ".jl",
   "mimetype": "application/julia",
   "name": "julia",
   "version": "0.5.0"
  }
 },
 "nbformat": 4,
 "nbformat_minor": 0
}
