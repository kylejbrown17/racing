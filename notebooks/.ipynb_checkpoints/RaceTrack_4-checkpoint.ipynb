{
 "cells": [
  {
   "cell_type": "code",
   "execution_count": 1,
   "metadata": {
    "collapsed": false
   },
   "outputs": [
    {
     "data": {
      "text/html": [
       "<div id=\"interact-js-shim\">\n",
       "    <script charset=\"utf-8\">\n",
       "(function (IPython, $, _, MathJax) {\n",
       "    $.event.special.destroyed = {\n",
       "\tremove: function(o) {\n",
       "\t    if (o.handler) {\n",
       "\t\to.handler.apply(this, arguments)\n",
       "\t    }\n",
       "\t}\n",
       "    }\n",
       "\n",
       "    var OutputArea = IPython.version >= \"4.0.0\" ? require(\"notebook/js/outputarea\").OutputArea : IPython.OutputArea;\n",
       "\n",
       "    var redrawValue = function (container, type, val) {\n",
       "\tvar selector = $(\"<div/>\");\n",
       "\tvar oa = new OutputArea(_.extend(selector, {\n",
       "\t    selector: selector,\n",
       "\t    prompt_area: true,\n",
       "\t    events: IPython.events,\n",
       "\t    keyboard_manager: IPython.keyboard_manager\n",
       "\t})); // Hack to work with IPython 2.1.0\n",
       "\n",
       "\tswitch (type) {\n",
       "\tcase \"image/png\":\n",
       "            var _src = 'data:' + type + ';base64,' + val;\n",
       "\t    $(container).find(\"img\").attr('src', _src);\n",
       "\t    break;\n",
       "\tdefault:\n",
       "\t    var toinsert = OutputArea.append_map[type].apply(\n",
       "\t\toa, [val, {}, selector]\n",
       "\t    );\n",
       "\t    $(container).empty().append(toinsert.contents());\n",
       "\t    selector.remove();\n",
       "\t}\n",
       "\tif (type === \"text/latex\" && MathJax) {\n",
       "\t    MathJax.Hub.Queue([\"Typeset\", MathJax.Hub, toinsert.get(0)]);\n",
       "\t}\n",
       "    }\n",
       "\n",
       "\n",
       "    $(document).ready(function() {\n",
       "\tfunction initComm(evt, data) {\n",
       "\t    var comm_manager = data.kernel.comm_manager;\n",
       "        //_.extend(comm_manager.targets, require(\"widgets/js/widget\"))\n",
       "\t    comm_manager.register_target(\"Signal\", function (comm) {\n",
       "            comm.on_msg(function (msg) {\n",
       "                //Widgets.log(\"message received\", msg);\n",
       "                var val = msg.content.data.value;\n",
       "                $(\".signal-\" + comm.comm_id).each(function() {\n",
       "                var type = $(this).data(\"type\");\n",
       "                if (val[type]) {\n",
       "                    redrawValue(this, type, val[type], type);\n",
       "                }\n",
       "                });\n",
       "                delete val;\n",
       "                delete msg.content.data.value;\n",
       "            });\n",
       "\t    });\n",
       "\n",
       "\t    // coordingate with Comm and redraw Signals\n",
       "\t    // XXX: Test using Reactive here to improve performance\n",
       "\t    $([IPython.events]).on(\n",
       "\t\t'output_appended.OutputArea', function (event, type, value, md, toinsert) {\n",
       "\t\t    if (md && md.reactive) {\n",
       "                // console.log(md.comm_id);\n",
       "                toinsert.addClass(\"signal-\" + md.comm_id);\n",
       "                toinsert.data(\"type\", type);\n",
       "                // Signal back indicating the mimetype required\n",
       "                var comm_manager = IPython.notebook.kernel.comm_manager;\n",
       "                var comm = comm_manager.comms[md.comm_id];\n",
       "                comm.then(function (c) {\n",
       "                    c.send({action: \"subscribe_mime\",\n",
       "                       mime: type});\n",
       "                    toinsert.bind(\"destroyed\", function() {\n",
       "                        c.send({action: \"unsubscribe_mime\",\n",
       "                               mime: type});\n",
       "                    });\n",
       "                })\n",
       "\t\t    }\n",
       "\t    });\n",
       "\t}\n",
       "\n",
       "\ttry {\n",
       "\t    // try to initialize right away. otherwise, wait on the status_started event.\n",
       "\t    initComm(undefined, IPython.notebook);\n",
       "\t} catch (e) {\n",
       "\t    $([IPython.events]).on('kernel_created.Kernel kernel_created.Session', initComm);\n",
       "\t}\n",
       "    });\n",
       "})(IPython, jQuery, _, MathJax);\n",
       "</script>\n",
       "    <script>\n",
       "        window.interactLoadedFlag = true\n",
       "       $(\"#interact-js-shim\").bind(\"destroyed\", function () {\n",
       "           if (window.interactLoadedFlag) {\n",
       "               console.warn(\"JavaScript required by Interact will be removed if you remove this cell or run using Interact more than once.\")\n",
       "           }\n",
       "       })\n",
       "       $([IPython.events]).on(\"kernel_starting.Kernel kernel_restarting.Kernel\", function () { window.interactLoadedFlag = false })\n",
       "   </script>\n",
       "</div>"
      ]
     },
     "metadata": {},
     "output_type": "display_data"
    }
   ],
   "source": [
    "using AutomotiveDrivingModels\n",
    "using AutoViz\n",
    "using Reactive\n",
    "using Interact\n",
    "\n",
    "#import PyPlot"
   ]
  },
  {
   "cell_type": "markdown",
   "metadata": {},
   "source": [
    "# Types"
   ]
  },
  {
   "cell_type": "code",
   "execution_count": 2,
   "metadata": {
    "collapsed": false
   },
   "outputs": [],
   "source": [
    "type HRHC # Hierarchical Receding Horizon Controller\n",
    "    #car parameters\n",
    "    car_length::Float64\n",
    "    car_width::Float64\n",
    "    \n",
    "    v::Float64\n",
    "    δ::Float64\n",
    "    \n",
    "    h::Int\n",
    "    Δt::Float64\n",
    "    \n",
    "    V_MIN::Float64\n",
    "    V_MAX::Float64\n",
    "    V_STEPS::Int\n",
    "\n",
    "    δ_MAX::Float64\n",
    "    δ_MIN::Float64\n",
    "    δ_STEPS::Int64\n",
    "    \n",
    "    ΔV₊::Float64\n",
    "    ΔV₋::Float64\n",
    "    Δδ::Float64\n",
    "    \n",
    "    T_MAX::Float64\n",
    "    obstacles\n",
    "end"
   ]
  },
  {
   "cell_type": "markdown",
   "metadata": {},
   "source": [
    "# functions"
   ]
  },
  {
   "cell_type": "code",
   "execution_count": 3,
   "metadata": {
    "collapsed": false
   },
   "outputs": [
    {
     "data": {
      "text/plain": [
       "MotionPrimitives (generic function with 1 method)"
      ]
     },
     "execution_count": 3,
     "metadata": {},
     "output_type": "execute_result"
    }
   ],
   "source": [
    "# Return a library of motion primitives (arcs of constant radius) representing short paths that the car can follow.\n",
    "function MotionPrimitives(hrhc::HRHC)\n",
    "    car_length=hrhc.car_length\n",
    "    car_width=hrhc.car_width\n",
    "    \n",
    "    h=hrhc.h\n",
    "    Δt=hrhc.Δt\n",
    "    \n",
    "    v_min = hrhc.V_MIN\n",
    "    v_max = hrhc.V_MAX\n",
    "    v_steps = hrhc.V_STEPS\n",
    "\n",
    "    δ_max = hrhc.δ_MAX\n",
    "    δ_min = hrhc.δ_MIN\n",
    "    δ_steps = hrhc.δ_STEPS\n",
    "    \n",
    "    # 3D array to store motion_primitives\n",
    "    motion_primitives = zeros(v_steps,2*δ_steps+1,2) # v: 0,...,99; δ: -45:45, (arc length, +/- radius)\n",
    "\n",
    "    v = linspace(v_min,v_max,v_steps)*ones(1,2*δ_steps+1)\n",
    "    δ = (linspace(-δ_max,δ_max,δ_steps*2+1)*ones(1,v_steps))' # steering angle\n",
    "\n",
    "    motion_primitives[:,:,1] = v*Δt*h # arc length = velocity * time\n",
    "    motion_primitives[:,:,2] = car_length./sin(δ) # radius of curvature (+ or -)\n",
    "    motion_primitives[:,1+δ_steps,2] = Inf; # radius of curvature is infinite if steering angle = 0\n",
    "    \n",
    "    destination_primitives = zeros(v_steps,2*δ_steps+1,h,3) # lookup table defining car's location at each of next h time steps\n",
    "\n",
    "    for i = 1:h\n",
    "        # angle = 2π * arc_length / r\n",
    "        dθ = v*Δt*i ./ motion_primitives[:,:,2]\n",
    "        \n",
    "        # dX = abs(radius) * sin(angle)\n",
    "        destination_primitives[:,:,i,1] = abs(motion_primitives[:,:,2]) .* sin(abs(dθ))\n",
    "        destination_primitives[:,1+δ_steps,i,1] = v[:,1+δ_steps]*Δt*i # centerline\n",
    "        \n",
    "        # dY = radius * (1 - cos(angle))\n",
    "        destination_primitives[:,:,i,2] = motion_primitives[:,:,2].*(1 - cos(dθ))\n",
    "        destination_primitives[:,1+δ_steps,i,2] = 0 # centerline\n",
    "        \n",
    "        destination_primitives[:,:,i,3] = dθ\n",
    "    end\n",
    "    \n",
    "    # motion_primitives[v, δ, 1,2] = s (arc_length), r (radius of curvature)\n",
    "    # destination_primitives are index by [v, δ, h, 1,2,3] = dx, dy, dθ = changes in x, y and θ after h time steps\n",
    "    return v, δ, motion_primitives, destination_primitives\n",
    "\n",
    "end"
   ]
  },
  {
   "cell_type": "code",
   "execution_count": 4,
   "metadata": {
    "collapsed": false
   },
   "outputs": [
    {
     "data": {
      "text/plain": [
       "QuadraticMask! (generic function with 1 method)"
      ]
     },
     "execution_count": 4,
     "metadata": {},
     "output_type": "execute_result"
    }
   ],
   "source": [
    "# quadratic logical mask\n",
    "function QuadraticMask!(library)\n",
    "    A = size(library)[1]\n",
    "    B = size(library)[2]\n",
    "    X = linspace(0,99,A)*ones(1,B)\n",
    "    Y = ones(A,1)*linspace(-20,20,B)'\n",
    "    f = 24*Y.^2 + X.^2\n",
    "    mask = 1.0*(f.<10000)\n",
    "    \n",
    "#     fig = figure()\n",
    "#     ax = gca()\n",
    "#     p = scatter(X,Y.*mask)\n",
    "#     xlabel(\"velocity\")\n",
    "#     ylabel(\"steering angle\")\n",
    "#     fig[:canvas][:draw]()\n",
    "\n",
    "    if length(size(library)) == 3\n",
    "        for i in 1 : size(library)[3]\n",
    "            library[:,:,i] = library[:,:,i] .* mask\n",
    "        end\n",
    "    end\n",
    "    if length(size(library)) == 4\n",
    "        for i in 1 : size(library)[3]\n",
    "            for j in 1 : size(library)[4]\n",
    "                library[:,:,i,j] = library[:,:,i,j] .* mask\n",
    "            end\n",
    "        end\n",
    "    end\n",
    "end"
   ]
  },
  {
   "cell_type": "markdown",
   "metadata": {},
   "source": [
    "# HRHC Algorithm"
   ]
  },
  {
   "cell_type": "markdown",
   "metadata": {},
   "source": [
    "### 0. Initialize motion primitives"
   ]
  },
  {
   "cell_type": "markdown",
   "metadata": {},
   "source": [
    "### 1. Identify eligible (reachable) motion primitives based on current state"
   ]
  },
  {
   "cell_type": "code",
   "execution_count": 5,
   "metadata": {
    "collapsed": false
   },
   "outputs": [
    {
     "data": {
      "text/plain": [
       "getLegalMoves (generic function with 1 method)"
      ]
     },
     "execution_count": 5,
     "metadata": {},
     "output_type": "execute_result"
    }
   ],
   "source": [
    "function getLegalMoves(hrhc::HRHC,ΔXYθ, v_commands, δ_commands)\n",
    "    v_norm = hrhc.v / hrhc.V_MAX\n",
    "\n",
    "    # Restrict search space to reachable states\n",
    "    v_index_low = max(1, round(Int,(v_norm - hrhc.ΔV₋)*hrhc.V_STEPS)) # index of lowest reachable v in the next time step\n",
    "    v_index_high = min(hrhc.V_STEPS, round(Int, (v_norm + hrhc.ΔV₊)*hrhc.V_STEPS)) # highest reachable v in the next time step\n",
    "\n",
    "    # Restrict search space to reachable states\n",
    "    δ_index_low = max(1, (hrhc.δ_STEPS+1) + round(Int,((hrhc.δ - hrhc.Δδ)/(hrhc.δ_MAX - hrhc.δ_MIN))*(2*hrhc.δ_STEPS+1)))\n",
    "    δ_index_high = min((2*hrhc.δ_STEPS+1), (hrhc.δ_STEPS+1) + round(Int,((hrhc.δ + hrhc.Δδ)/(hrhc.δ_MAX - hrhc.δ_MIN))*(2*hrhc.δ_STEPS+1)))\n",
    "\n",
    "    # legal_moves = motion_primitives[v_index_low:v_index_high,δ_index_low:δ_index_high,:]\n",
    "    legal_ΔXYθ = ΔXYθ[v_index_low:v_index_high,δ_index_low:δ_index_high,hrhc.h,:] # ΔX, ΔY, Δθ\n",
    "    legal_v = v_commands[v_index_low:v_index_high,δ_index_low:δ_index_high]\n",
    "    legal_δ = δ_commands[v_index_low:v_index_high,δ_index_low:δ_index_high]\n",
    "    \n",
    "    return legal_ΔXYθ, legal_v, legal_δ, v_index_low, v_index_high, δ_index_low, δ_index_high\n",
    "end"
   ]
  },
  {
   "cell_type": "markdown",
   "metadata": {},
   "source": [
    "### 2. Calculate resulting final state (posG) from applying each given motion primitive"
   ]
  },
  {
   "cell_type": "code",
   "execution_count": 6,
   "metadata": {
    "collapsed": false
   },
   "outputs": [
    {
     "data": {
      "text/plain": [
       "getSuccessorStates (generic function with 1 method)"
      ]
     },
     "execution_count": 6,
     "metadata": {},
     "output_type": "execute_result"
    }
   ],
   "source": [
    "function getSuccessorStates(state, legal_ΔXYθ)\n",
    "    pos = state.posG # global x,y,z\n",
    "\n",
    "    ΔX = legal_ΔXYθ[:,:,1] * cos(pos.θ) + legal_ΔXYθ[:,:,2] * -sin(pos.θ)\n",
    "    ΔY = legal_ΔXYθ[:,:,1] * sin(pos.θ) + legal_ΔXYθ[:,:,2] * cos(pos.θ)\n",
    "    Δθ = legal_ΔXYθ[:,:,3]\n",
    "\n",
    "    successor_states = zeros(size(legal_ΔXYθ))\n",
    "    successor_states[:,:,1] = ΔX + pos.x\n",
    "    successor_states[:,:,2] = ΔY + pos.y\n",
    "    successor_states[:,:,3] = Δθ + pos.θ\n",
    "    \n",
    "    return successor_states\n",
    "end"
   ]
  },
  {
   "cell_type": "code",
   "execution_count": 7,
   "metadata": {
    "collapsed": false
   },
   "outputs": [],
   "source": [
    "# PyPlot.axis(\"equal\")\n",
    "# PyPlot.scatter(successor_states[:,:,1],successor_states[:,:,2])"
   ]
  },
  {
   "cell_type": "markdown",
   "metadata": {},
   "source": [
    "### 3. Project posG onto track to determine if a given motion is legal (in bounds)"
   ]
  },
  {
   "cell_type": "code",
   "execution_count": 8,
   "metadata": {
    "collapsed": false
   },
   "outputs": [
    {
     "data": {
      "text/plain": [
       "projectToCenterline (generic function with 1 method)"
      ]
     },
     "execution_count": 8,
     "metadata": {},
     "output_type": "execute_result"
    }
   ],
   "source": [
    "function projectToCenterline(successor_states, roadway)\n",
    "    s = zeros(size(successor_states[:,:,1]))\n",
    "    t = zeros(size(s))\n",
    "    ϕ = zeros(size(s))\n",
    "    tag = zeros(size(s))\n",
    "\n",
    "    successor_states_grid = reshape(successor_states, length(successor_states[:,:,1]),3) # must reshape to index correctly\n",
    "\n",
    "    for i in 1 : length(s)\n",
    "        myProj = Vec.proj(VecSE2(successor_states_grid[i,:]), roadway) # project point onto roadway\n",
    "        curve = myProj.curveproj\n",
    "        #     @show myProj.tag # tag determines which segment the car is on (effects the value of s)\n",
    "        tag[i] = myProj.tag.segment\n",
    "        s[i] = curve.ind.i + curve.ind.t # total distance traveled\n",
    "        t[i] = curve.t # distance from centerline\n",
    "        ϕ[i] = curve.ϕ\n",
    "    end\n",
    "    \n",
    "    # THIS FUNCTION WILL NEED TO BE OVERHAULED for a more robust controller later\n",
    "    \n",
    "    # account for changes in roadway segment\n",
    "    if maximum(tag) == length(roadway.segments) && minimum(tag) == 1\n",
    "        tag_filter = (tag .== minimum(tag))\n",
    "    else\n",
    "        tag_filter = (tag .== maximum(tag))\n",
    "    end\n",
    "    s += maximum(s).*tag_filter\n",
    "    \n",
    "    \n",
    "    return s,t,ϕ\n",
    "end"
   ]
  },
  {
   "cell_type": "markdown",
   "metadata": {},
   "source": [
    "### 4. Select legal motion primitive that yields highest progress"
   ]
  },
  {
   "cell_type": "code",
   "execution_count": 9,
   "metadata": {
    "collapsed": false
   },
   "outputs": [
    {
     "data": {
      "text/plain": [
       "selectBestPath (generic function with 1 method)"
      ]
     },
     "execution_count": 9,
     "metadata": {},
     "output_type": "execute_result"
    }
   ],
   "source": [
    "function selectBestPath(hrhc, roadway, s, t, ϕ, v_index_low, v_index_high, δ_index_low, δ_index_high)\n",
    "    # will need roadway in order to take care of different lane segments\n",
    "    t_filter = (abs(t) .< hrhc.T_MAX)\n",
    "    if sum(t_filter) > 0\n",
    "        eligible_s = s .* t_filter # filter out bad t values\n",
    "    end\n",
    "\n",
    "    index = indmax(eligible_s) # find get a better method of optimizing this\n",
    "    \n",
    "    cmd = ind2sub(s,index)\n",
    "    abs_cmd = (cmd[1]+v_index_low-1, cmd[2]+δ_index_low-1)\n",
    "    return abs_cmd\n",
    "end"
   ]
  },
  {
   "cell_type": "markdown",
   "metadata": {},
   "source": [
    "### 5. Check each time step up to horizon to make sure the entire trajectory is legal"
   ]
  },
  {
   "cell_type": "code",
   "execution_count": 10,
   "metadata": {
    "collapsed": false
   },
   "outputs": [
    {
     "data": {
      "text/plain": [
       "computeTrajectory (generic function with 1 method)"
      ]
     },
     "execution_count": 10,
     "metadata": {},
     "output_type": "execute_result"
    }
   ],
   "source": [
    "function computeTrajectory(cmd_index, ΔXYθ, state)\n",
    "    pos = state.posG\n",
    "    \n",
    "    traj_ΔXYθ = ΔXYθ[cmd_index[1],cmd_index[2],:,:]\n",
    "    \n",
    "    ΔX = traj_ΔXYθ[:,1] * cos(pos.θ) + traj_ΔXYθ[:,2] * -sin(pos.θ)\n",
    "    ΔY = traj_ΔXYθ[:,1] * sin(pos.θ) + traj_ΔXYθ[:,2] * cos(pos.θ)\n",
    "    Δθ = traj_ΔXYθ[:,3]\n",
    "\n",
    "    trajectory = zeros(size(traj_ΔXYθ))\n",
    "    trajectory[:,1] = ΔX + pos.x\n",
    "    trajectory[:,2] = ΔY + pos.y\n",
    "    trajectory[:,3] = Δθ + pos.θ\n",
    "    \n",
    "    return trajectory\n",
    "end"
   ]
  },
  {
   "cell_type": "code",
   "execution_count": 11,
   "metadata": {
    "collapsed": false
   },
   "outputs": [
    {
     "data": {
      "text/plain": [
       "screenTrajectory (generic function with 1 method)"
      ]
     },
     "execution_count": 11,
     "metadata": {},
     "output_type": "execute_result"
    }
   ],
   "source": [
    "function screenTrajectory(trajectory, roadway, hrhc)\n",
    "    out_of_bounds = false\n",
    "    \n",
    "    for i in 1 : size(trajectory,1)\n",
    "        myProj = Vec.proj(VecSE2(trajectory[i,:]), roadway) # project point onto roadway\n",
    "        t = myProj.curveproj.t\n",
    "        if abs(t) > hrhc.T_MAX\n",
    "            print(\"T OUT OF BOUNDS!!!\")\n",
    "            out_of_bounds=true\n",
    "            return out_of_bounds\n",
    "        end\n",
    "    end\n",
    "    return out_of_bounds\n",
    "end"
   ]
  },
  {
   "cell_type": "markdown",
   "metadata": {},
   "source": [
    "### 6. Apply the motion primitive for a single time step"
   ]
  },
  {
   "cell_type": "code",
   "execution_count": 12,
   "metadata": {
    "collapsed": false
   },
   "outputs": [],
   "source": [
    "# next_state = VehicleState(VecSE2(trajectory[1,:]),roadway,v_commands[abs_cmd[1], abs_cmd[2]])\n",
    "# action = NextState(next_state)"
   ]
  },
  {
   "cell_type": "markdown",
   "metadata": {},
   "source": [
    "### 7. Go back to 1"
   ]
  },
  {
   "cell_type": "markdown",
   "metadata": {},
   "source": [
    "# get HRHC action function"
   ]
  },
  {
   "cell_type": "code",
   "execution_count": 13,
   "metadata": {
    "collapsed": false
   },
   "outputs": [
    {
     "data": {
      "text/plain": [
       "get_HRHC_action (generic function with 1 method)"
      ]
     },
     "execution_count": 13,
     "metadata": {},
     "output_type": "execute_result"
    }
   ],
   "source": [
    "function get_HRHC_action(car::HRHC, v_commands, δ_commands, arc_angle_library, ΔXYθ, scene)\n",
    "    # get current state\n",
    "    state = scene.vehicles[1].state\n",
    "    \n",
    "    v = state.v # current v\n",
    "    car.v = v\n",
    "    \n",
    "    # get legal moves (reachable from current v, δ)\n",
    "    legal_ΔXYθ, legal_v, legal_δ, v_id_lo, v_id_hi, δ_id_lo, δ_id_hi = getLegalMoves(car, ΔXYθ, v_commands, δ_commands)\n",
    "    \n",
    "    # calculate successor states\n",
    "    successor_states = getSuccessorStates(state,legal_ΔXYθ)\n",
    "    \n",
    "    # project successor states onto track to see if they are legal\n",
    "    s,t,ϕ = projectToCenterline(successor_states, roadway)\n",
    "    \n",
    "    # select command expected to yield highest forward progress\n",
    "    abs_cmd = selectBestPath(car, roadway, s, t, ϕ,v_id_lo, v_id_hi, δ_id_lo, δ_id_hi)    \n",
    "    \n",
    "    # compute trajectory\n",
    "    trajectory  = computeTrajectory(abs_cmd, ΔXYθ, state)\n",
    "\n",
    "    # screen trajectory for collisions / validity\n",
    "    out_of_bounds = screenTrajectory(trajectory, roadway, car)    \n",
    "    \n",
    "    next_state = VehicleState(VecSE2(trajectory[1,:]),roadway,v_commands[abs_cmd[1], abs_cmd[2]])\n",
    "    action = NextState(next_state)\n",
    "    \n",
    "    \n",
    "#     push!(state_history, state)\n",
    "#     push!(δ_history, car.δ)\n",
    "#     push!(cmd_history, abs_cmd)\n",
    "    \n",
    "    car.δ = δ_commands[abs_cmd[1], abs_cmd[2]]\n",
    "    car.v = v_commands[abs_cmd[1], abs_cmd[2]]\n",
    "    \n",
    "    return action\n",
    "    \n",
    "end"
   ]
  },
  {
   "cell_type": "markdown",
   "metadata": {},
   "source": [
    "## Initialize Parameters"
   ]
  },
  {
   "cell_type": "code",
   "execution_count": 14,
   "metadata": {
    "collapsed": false
   },
   "outputs": [
    {
     "data": {
      "text/plain": [
       "0-element Array{Any,1}"
      ]
     },
     "execution_count": 14,
     "metadata": {},
     "output_type": "execute_result"
    }
   ],
   "source": [
    "# scene parameters\n",
    "scene = Scene()\n",
    "framerate = 24\n",
    "context = IntegratedContinuous(1/framerate,3)\n",
    "\n",
    "models = Dict{Int, DriverModel}()\n",
    "carcolors = Dict{Int, Colorant}()\n",
    "base_speed= 20.0\n",
    "\n",
    "#car parameters\n",
    "car_length = 4.8 # front wheel to back wheel\n",
    "car_width = 2.5\n",
    "v⁰  = 0.0 # initial velocity\n",
    "δ⁰ = 0.0 # initical steering angle\n",
    "\n",
    "#controller parameters\n",
    "h = 10 # look-ahead horizon\n",
    "Δt = 1.0/framerate # time-step size\n",
    "V_MIN = 0.0 # mininmum velocity (m/s)\n",
    "V_MAX = 100.0 # maximum velocity (m/s)\n",
    "V_STEPS = 101 # resolution of velocity\n",
    "δ_MAX = Float64(π)/8 # max steering angle (radians)\n",
    "δ_MIN = -δ_MAX # min steering angle (radians)\n",
    "δ_STEPS = 16 # resolution of steering angle\n",
    "ΔV₊ = 1.55 / V_MAX\n",
    "ΔV₋ = 3.05 / V_MAX\n",
    "Δδ = Float64(π)/16\n",
    "\n",
    "#track parameters\n",
    "lane_width = 4.0*DEFAULT_LANE_WIDTH\n",
    "radius = 45.0\n",
    "edge_buffer = 0.25\n",
    "T_MAX = lane_width/2.0 - car_width/2.0 - edge_buffer # max allowable projection distance from center of lane\n",
    "obstacles = Set()\n",
    "\n",
    "#initialize track\n",
    "srand(0)\n",
    "\n",
    "roadway = gen_stadium_roadway(1, radius=radius, lane_width=lane_width)\n",
    "roadind = RoadIndex(proj(VecSE2(0.0,-1*DEFAULT_LANE_WIDTH,0.0), roadway))\n",
    "\n",
    "vehstate = VehicleState(Frenet(roadind, roadway), roadway, base_speed+randn())\n",
    "vehdef = VehicleDef(1,AgentClass.CAR, 4.8, 1.8)\n",
    "push!(scene,Vehicle(vehstate, vehdef))\n",
    "models[1] = Tim2DDriver(context, rec=SceneRecord(1,context.Δt, 1))\n",
    "set_desired_speed!(models[1], 30.0 + 20*rand())\n",
    "carcolors[1] = colorant\"red\"\n",
    "\n",
    "actions = Array(DriveAction, length(scene))\n",
    "\n",
    "# initialize HRHC\n",
    "myHRHC = HRHC(car_length,car_width,v⁰,δ⁰,h,Δt,V_MIN,V_MAX,V_STEPS,δ_MAX,δ_MIN,δ_STEPS,ΔV₊,ΔV₋,Δδ,T_MAX,obstacles)\n",
    "\n",
    "# get motion primitives\n",
    "v_commands, δ_commands, arc_angle_library, ΔXYθ = MotionPrimitives(myHRHC)\n",
    "QuadraticMask!(arc_angle_library) # eliminate infeasible actions with mask\n",
    "QuadraticMask!(ΔXYθ)\n",
    "\n",
    "# Tracking \n",
    "state_history = []\n",
    "δ_history = []\n",
    "cmd_history = []"
   ]
  },
  {
   "cell_type": "markdown",
   "metadata": {},
   "source": [
    "# Run HRHC:"
   ]
  },
  {
   "cell_type": "code",
   "execution_count": 15,
   "metadata": {
    "collapsed": false,
    "scrolled": false
   },
   "outputs": [
    {
     "data": {
      "text/plain": [
       "drawsim (generic function with 2 methods)"
      ]
     },
     "execution_count": 15,
     "metadata": {},
     "output_type": "execute_result"
    }
   ],
   "source": [
    "function drawsim(t, dt=NaN)\n",
    "    actions[1] = get_HRHC_action(myHRHC, v_commands, δ_commands, arc_angle_library, ΔXYθ, scene)\n",
    "    tick!(scene, roadway, actions, models)\n",
    "#     render(scene, roadway, cam=FitToContentCamera(), car_colors=carcolors)\n",
    "    render(scene, roadway, cam=CarFollowCamera(1, 15.0), canvas_height=300)\n",
    "end"
   ]
  },
  {
   "cell_type": "code",
   "execution_count": 16,
   "metadata": {
    "collapsed": false
   },
   "outputs": [
    {
     "data": {
      "image/png": "[encoded data removed]",
      "text/plain": [
       "Cairo.CairoSurface{UInt32}(Ptr{Void} @0x00007fc5d0deed90,1000.0,300.0,#undef)"
      ]
     },
     "execution_count": 16,
     "metadata": {
      "comm_id": "72d40ebd-499d-41f8-b4f4-38b82ee31b14",
      "reactive": true
     },
     "output_type": "execute_result"
    }
   ],
   "source": [
    "ticks = fps(framerate)\n",
    "timestamps = map(_ -> time(), ticks)\n",
    "map(drawsim, timestamps)"
   ]
  },
  {
   "cell_type": "markdown",
   "metadata": {},
   "source": [
    "# Testing"
   ]
  },
  {
   "cell_type": "code",
   "execution_count": 224,
   "metadata": {
    "collapsed": false
   },
   "outputs": [
    {
     "name": "stdout",
     "output_type": "stream",
     "text": [
      "segment: 1\n",
      "i: 0\n",
      "t: 6.103515625e-5\n",
      "distance around track: 0.006103515625000001\n"
     ]
    }
   ],
   "source": [
    "myProj = Vec.proj(VecSE2(0,0,0), roadway)\n",
    "seg = myProj.tag.segment\n",
    "i = myProj.curveproj.ind.i\n",
    "t = myProj.curveproj.ind.t\n",
    "println(\"segment: \", myProj.tag.segment)\n",
    "println(\"i: \", myProj.curveproj.ind.i)\n",
    "println(\"t: \", myProj.curveproj.ind.t)\n",
    "println(\"distance around track: \", s[seg][i][1]+t*s[seg][i][2])"
   ]
  },
  {
   "cell_type": "code",
   "execution_count": 155,
   "metadata": {
    "collapsed": false
   },
   "outputs": [
    {
     "name": "stdout",
     "output_type": "stream",
     "text": [
      "      start: CurvePt({145.000, 45.000, 1.571}, 70.686, NaN, NaN)\n",
      "begin curve: CurvePt({145.000, 55.000, 1.571}, 0.000, NaN, NaN)\n",
      "  end curve: CurvePt({100.000, 100.000, 3.142}, 70.686, NaN, NaN)\n",
      "        end: CurvePt({0.000, 100.000, 3.142}, 0.000, NaN, NaN)\n"
     ]
    }
   ],
   "source": [
    "i = 2\n",
    "start1 = roadway[roadway.segments[i].lanes[1].entrances[1].target]\n",
    "curvestart1 = roadway.segments[i].lanes[1].curve[1]\n",
    "curveend1 = roadway.segments[i].lanes[1].curve[end]\n",
    "end1 = roadway[roadway.segments[i].lanes[1].exits[1].target]\n",
    "println(\"      start: \",start1)\n",
    "println(\"begin curve: \", curvestart1)\n",
    "println(\"  end curve: \", curveend1)\n",
    "println(\"        end: \", end1)"
   ]
  },
  {
   "cell_type": "code",
   "execution_count": 147,
   "metadata": {
    "collapsed": false
   },
   "outputs": [
    {
     "name": "stdout",
     "output_type": "stream",
     "text": [
      "entrance: LaneTag(1, 1)\n",
      "entrance: CurveIndex(24, 1.000)\n",
      "    exit: LaneTag(3, 1)\n",
      "    exit: CurveIndex(1, 0.000)\n"
     ]
    }
   ],
   "source": [
    "i=2\n",
    "println(\"entrance: \", roadway.segments[i].lanes[1].entrances[1].target.tag)\n",
    "println(\"entrance: \", roadway.segments[i].lanes[1].entrances[1].target.ind)\n",
    "println(\"    exit: \", roadway.segments[i].lanes[1].exits[1].target.tag)\n",
    "println(\"    exit: \", roadway.segments[i].lanes[1].exits[1].target.ind)"
   ]
  },
  {
   "cell_type": "code",
   "execution_count": null,
   "metadata": {
    "collapsed": true
   },
   "outputs": [],
   "source": [
    "for seg in roadway.segments"
   ]
  },
  {
   "cell_type": "code",
   "execution_count": 169,
   "metadata": {
    "collapsed": false
   },
   "outputs": [
    {
     "name": "stderr",
     "output_type": "stream",
     "text": [
      "WARNING: Method definition GenerateDistanceMap(Any) in module Main at In[167]:3 overwritten at In[169]:3.\n"
     ]
    },
    {
     "data": {
      "text/plain": [
       "GenerateDistanceMap (generic function with 1 method)"
      ]
     },
     "execution_count": 169,
     "metadata": {},
     "output_type": "execute_result"
    }
   ],
   "source": [
    "# generate distance map - it works!\n",
    "function GenerateDistanceMap(roadway)\n",
    "    s = Dict() # current s\n",
    "    for i in 1:length(roadway.segments)\n",
    "        seg = roadway.segments[i]\n",
    "        s[i] = Dict()\n",
    "        for j in 0:length(seg.lanes[1].curve)\n",
    "            #s[i][j] = (starting s at pt, distance to next pt)\n",
    "            if j == 0\n",
    "                if i == 1\n",
    "                    s[i][j] = (0, dist(roadway[seg.lanes[1].entrances[1].target], seg.lanes[1].curve[1]))\n",
    "                else\n",
    "                    s[i][j] = (s[i-1][length(roadway.segments[i-1].lanes[1].curve)][1] + s[i-1][length(roadway.segments[i-1].lanes[1].curve)][2], 0)\n",
    "                end\n",
    "            elseif j != length(seg.lanes[1].curve)\n",
    "                s[i][j] = (s[i][j-1][1]+s[i][j-1][2], seg.lanes[1].curve[j+1].s - seg.lanes[1].curve[j].s)\n",
    "            else\n",
    "                s[i][j] = (s[i][j-1][1]+s[i][j-1][2], dist(roadway[seg.lanes[1].exits[1].target], seg.lanes[1].curve[end]))\n",
    "            end\n",
    "        end\n",
    "    end\n",
    "    s\n",
    "end"
   ]
  },
  {
   "cell_type": "code",
   "execution_count": 170,
   "metadata": {
    "collapsed": false
   },
   "outputs": [
    {
     "data": {
      "text/plain": [
       "Dict{Any,Any} with 4 entries:\n",
       "  4 => Dict{Any,Any}(Pair{Any,Any}(18,(482.127,2.94524)),Pair{Any,Any}(2,(435.0…\n",
       "  2 => Dict{Any,Any}(Pair{Any,Any}(18,(230.755,2.94524)),Pair{Any,Any}(2,(183.6…\n",
       "  3 => Dict{Any,Any}(Pair{Any,Any}(18,(401.441,2.94524)),Pair{Any,Any}(2,(354.3…\n",
       "  1 => Dict{Any,Any}(Pair{Any,Any}(18,(150.069,2.94524)),Pair{Any,Any}(2,(102.9…"
      ]
     },
     "execution_count": 170,
     "metadata": {},
     "output_type": "execute_result"
    }
   ],
   "source": [
    "s = GenerateDistanceMap(roadway)"
   ]
  },
  {
   "cell_type": "code",
   "execution_count": 182,
   "metadata": {
    "collapsed": false
   },
   "outputs": [
    {
     "data": {
      "text/plain": [
       "(170.6858347057703,10.0)"
      ]
     },
     "execution_count": 182,
     "metadata": {},
     "output_type": "execute_result"
    }
   ],
   "source": [
    "s[1][25]"
   ]
  },
  {
   "cell_type": "code",
   "execution_count": 184,
   "metadata": {
    "collapsed": false
   },
   "outputs": [
    {
     "data": {
      "text/plain": [
       "(180.6858347057703,2.945243112740431)"
      ]
     },
     "execution_count": 184,
     "metadata": {},
     "output_type": "execute_result"
    }
   ],
   "source": [
    "s[2][1]"
   ]
  },
  {
   "cell_type": "code",
   "execution_count": 158,
   "metadata": {
    "collapsed": false
   },
   "outputs": [
    {
     "name": "stdout",
     "output_type": "stream",
     "text": [
      "i == 1"
     ]
    }
   ],
   "source": [
    "i= 1\n",
    "if i == 0\n",
    "    print(\"i == 0\")\n",
    "elseif i == 1\n",
    "    print(\"i == 1\")\n",
    "end"
   ]
  },
  {
   "cell_type": "code",
   "execution_count": 38,
   "metadata": {
    "collapsed": false
   },
   "outputs": [
    {
     "data": {
      "text/plain": [
       "dist (generic function with 1 method)"
      ]
     },
     "execution_count": 38,
     "metadata": {},
     "output_type": "execute_result"
    }
   ],
   "source": [
    "function dist(pt1::CurvePt, pt2::CurvePt)\n",
    "    Δx = pt1.pos.x - pt2.pos.x\n",
    "    Δy = pt1.pos.y - pt2.pos.y\n",
    "    d = sqrt(Δx^2 + Δy^2)\n",
    "    d\n",
    "end"
   ]
  },
  {
   "cell_type": "code",
   "execution_count": null,
   "metadata": {
    "collapsed": false,
    "scrolled": true
   },
   "outputs": [],
   "source": [
    "roadway[myProj.tag].curve"
   ]
  },
  {
   "cell_type": "code",
   "execution_count": 34,
   "metadata": {
    "collapsed": false
   },
   "outputs": [
    {
     "name": "stdout",
     "output_type": "stream",
     "text": [
      "CurvePt({-0.000, 0.000, 6.283}, 70.686, NaN, NaN)\n",
      "CurvePt({100.000, 0.000, 0.000}, 0.000, NaN, NaN)\n",
      "CurvePt({145.000, 45.000, 1.571}, 70.686, NaN, NaN)\n"
     ]
    }
   ],
   "source": [
    "println(prev_lane_point(roadway.segments[1].lanes[1], roadway))\n",
    "println(roadway.segments[1].lanes[1].curve[1])\n",
    "println(roadway.segments[1].lanes[1].curve[end])"
   ]
  },
  {
   "cell_type": "code",
   "execution_count": 35,
   "metadata": {
    "collapsed": false
   },
   "outputs": [
    {
     "name": "stdout",
     "output_type": "stream",
     "text": [
      "CurvePt({145.000, 45.000, 1.571}, 70.686, NaN, NaN)\n",
      "CurvePt({145.000, 55.000, 1.571}, 0.000, NaN, NaN)\n",
      "CurvePt({100.000, 100.000, 3.142}, 70.686, NaN, NaN)\n"
     ]
    }
   ],
   "source": [
    "println(prev_lane_point(roadway.segments[2].lanes[1], roadway))\n",
    "println(roadway.segments[2].lanes[1].curve[1])\n",
    "println(roadway.segments[2].lanes[1].curve[end])"
   ]
  },
  {
   "cell_type": "code",
   "execution_count": 36,
   "metadata": {
    "collapsed": false
   },
   "outputs": [
    {
     "name": "stdout",
     "output_type": "stream",
     "text": [
      "CurvePt({100.000, 100.000, 3.142}, 70.686, NaN, NaN)\n",
      "CurvePt({0.000, 100.000, 3.142}, 0.000, NaN, NaN)\n",
      "CurvePt({-45.000, 55.000, 4.712}, 70.686, NaN, NaN)\n"
     ]
    }
   ],
   "source": [
    "println(prev_lane_point(roadway.segments[3].lanes[1], roadway))\n",
    "println(roadway.segments[3].lanes[1].curve[1])\n",
    "println(roadway.segments[3].lanes[1].curve[end])"
   ]
  },
  {
   "cell_type": "code",
   "execution_count": 37,
   "metadata": {
    "collapsed": false
   },
   "outputs": [
    {
     "name": "stdout",
     "output_type": "stream",
     "text": [
      "CurvePt({-45.000, 55.000, 4.712}, 70.686, NaN, NaN)\n",
      "CurvePt({-45.000, 45.000, 4.712}, 0.000, NaN, NaN)\n",
      "CurvePt({-0.000, 0.000, 6.283}, 70.686, NaN, NaN)\n"
     ]
    }
   ],
   "source": [
    "println(prev_lane_point(roadway.segments[4].lanes[1], roadway))\n",
    "println(roadway.segments[4].lanes[1].curve[1])\n",
    "println(roadway.segments[4].lanes[1].curve[end])"
   ]
  },
  {
   "cell_type": "code",
   "execution_count": null,
   "metadata": {
    "collapsed": true
   },
   "outputs": [],
   "source": [
    "function projectToCenterline(successor_states, roadway)\n",
    "    s = zeros(size(successor_states[:,:,1]))\n",
    "    t = zeros(size(s))\n",
    "    ϕ = zeros(size(s))\n",
    "    tag = zeros(size(s))\n",
    "\n",
    "    successor_states_grid = reshape(successor_states, length(successor_states[:,:,1]),3) # must reshape to index correctly\n",
    "\n",
    "    for i in 1 : length(s)\n",
    "        myProj = Vec.proj(VecSE2(successor_states_grid[i,:]), roadway) # project point onto roadway\n",
    "        curve = myProj.curveproj\n",
    "        #     @show myProj.tag # tag determines which segment the car is on (effects the value of s)\n",
    "        tag[i] = myProj.tag.segment\n",
    "        s[i] = curve.ind.i + curve.ind.t # total distance traveled\n",
    "        t[i] = curve.t # distance from centerline\n",
    "        ϕ[i] = curve.ϕ\n",
    "    end\n",
    "    \n",
    "    # THIS FUNCTION WILL NEED TO BE OVERHAULED for a more robust controller later\n",
    "    \n",
    "    # account for changes in roadway segment\n",
    "    if maximum(tag) == length(roadway.segments) && minimum(tag) == 1\n",
    "        tag_filter = (tag .== minimum(tag))\n",
    "    else\n",
    "        tag_filter = (tag .== maximum(tag))\n",
    "    end\n",
    "    s += maximum(s).*tag_filter\n",
    "    \n",
    "    \n",
    "    return s,t,ϕ\n",
    "end"
   ]
  },
  {
   "cell_type": "code",
   "execution_count": null,
   "metadata": {
    "collapsed": true
   },
   "outputs": [],
   "source": []
  },
  {
   "cell_type": "code",
   "execution_count": 20,
   "metadata": {
    "collapsed": false
   },
   "outputs": [
    {
     "data": {
      "text/plain": [
       "CurvePt({100.000, 100.000, 3.142}, 70.686, NaN, NaN)"
      ]
     },
     "execution_count": 20,
     "metadata": {},
     "output_type": "execute_result"
    }
   ],
   "source": [
    "# gets start point of previous lane\n",
    "prev_lane_point(roadway.segments[3].lanes[1], roadway)"
   ]
  },
  {
   "cell_type": "code",
   "execution_count": 21,
   "metadata": {
    "collapsed": false
   },
   "outputs": [
    {
     "name": "stdout",
     "output_type": "stream",
     "text": [
      "VecSE2({-0.000, 0.000}, 0.000)\n",
      "VecSE2({0.000, 0.000}, 0.000)\n",
      "VecSE2({0.000, 0.000}, 0.000)\n",
      "VecSE2({0.000, 0.000}, 0.000)\n"
     ]
    }
   ],
   "source": [
    "for i in 1:length(roadway.segments)\n",
    "    if i == 1\n",
    "        println(prev_lane_point(roadway.segments[i].lanes[1], roadway).pos - roadway.segments[length(roadway.segments)].lanes[1].curve[end].pos)\n",
    "    else\n",
    "        println(prev_lane_point(roadway.segments[i].lanes[1], roadway).pos - roadway.segments[i-1].lanes[1].curve[end].pos)\n",
    "    end\n",
    "end"
   ]
  },
  {
   "cell_type": "code",
   "execution_count": 23,
   "metadata": {
    "collapsed": false
   },
   "outputs": [
    {
     "data": {
      "text/plain": [
       "70.68583470577035"
      ]
     },
     "execution_count": 23,
     "metadata": {},
     "output_type": "execute_result"
    }
   ],
   "source": [
    "start1.s"
   ]
  },
  {
   "cell_type": "code",
   "execution_count": null,
   "metadata": {
    "collapsed": false
   },
   "outputs": [],
   "source": [
    "fieldnames(roadway[myProj.tag].entrances[1])"
   ]
  },
  {
   "cell_type": "code",
   "execution_count": null,
   "metadata": {
    "collapsed": false
   },
   "outputs": [],
   "source": [
    "roadway[myProj.tag].entrances[1].target"
   ]
  },
  {
   "cell_type": "code",
   "execution_count": null,
   "metadata": {
    "collapsed": false
   },
   "outputs": [],
   "source": [
    "roadway[myProj.tag].curve[1]"
   ]
  },
  {
   "cell_type": "code",
   "execution_count": null,
   "metadata": {
    "collapsed": false
   },
   "outputs": [],
   "source": [
    "fieldnames(myProj.curveproj.ind)"
   ]
  },
  {
   "cell_type": "code",
   "execution_count": null,
   "metadata": {
    "collapsed": false
   },
   "outputs": [],
   "source": [
    "myProj.curveproj.ind.i, myProj.curveproj.ind.t"
   ]
  },
  {
   "cell_type": "code",
   "execution_count": null,
   "metadata": {
    "collapsed": true
   },
   "outputs": [],
   "source": [
    "function genRoadProgressMap(roadway)\n",
    "    roadMap = Dict()\n",
    "    d = 0\n",
    "    pt1 = (0,0)\n",
    "    for segment in roadway.segments\n",
    "        roadMap[segment.id] = Dict()\n",
    "        for i in length(segment.lanes[1].curve)\n",
    "            d = sqrt((pt1[1] - pt2)^2 + ()^2)\n",
    "            roadMap[segment.id][i] = ()\n",
    "        end\n",
    "    end\n",
    "end"
   ]
  },
  {
   "cell_type": "markdown",
   "metadata": {},
   "source": [
    "## Visualization stuff"
   ]
  },
  {
   "cell_type": "code",
   "execution_count": null,
   "metadata": {
    "collapsed": false
   },
   "outputs": [],
   "source": [
    "# Visualize motion primitives\n",
    "xgrid = linspace(V_MIN,V_MAX,V_STEPS)*ones(1,2*δ_STEPS+1)\n",
    "ygrid = (linspace(-δ_MAX,δ_MAX,δ_STEPS*2+1)*ones(1,V_STEPS))' # steering angle\n",
    "z = ΔXYθ[:,:,10,1]\n",
    "\n",
    "PyPlot.plot_surface(xgrid, ygrid, z, rstride=1,edgecolors=\"k\", cstride=1,\n",
    "    alpha=0.8, linewidth=0.25)"
   ]
  },
  {
   "cell_type": "markdown",
   "metadata": {},
   "source": [
    "# Features to add"
   ]
  },
  {
   "cell_type": "code",
   "execution_count": null,
   "metadata": {
    "collapsed": false
   },
   "outputs": [],
   "source": [
    "\"\"\"\n",
    "##########\n",
    "Optimization Objective Function\n",
    "- requires more correct measure of arc length s\n",
    "- reward progress on track\n",
    "- penalize heuristic functions of ϕ, t\n",
    "--- f(ϕ,t) to penalize steering away from centerline?\n",
    "\n",
    "##########\n",
    "ProximityKernel(): gives proximity to a given location against a set of locations that represent obstacles\n",
    "proximity = ProximityKernel(X,Y,θ,(ObstacleCoords))\n",
    "proximity = ProximityKernel(s,t,ϕ,(ObstaclesCoords))\n",
    "\n",
    "##########\n",
    "Array-based operations for a faster and more robust search through eligible motion primitives\n",
    "- Search highest V candidates first\n",
    "- break out of a candidate trajectory as soon as ineligible\n",
    "- If no trajectory is feasible, restart full search at horizon level h-1\n",
    "\n",
    "##########\n",
    "Tire Forces Dynamics\n",
    "\n",
    "##########\n",
    "Spline representation (or generation) of racetracks\n",
    "\n",
    "##########\n",
    "Cognitive hierarchy - ditribution over logit-level K\n",
    "\n",
    "\n",
    "\"\"\""
   ]
  },
  {
   "cell_type": "code",
   "execution_count": null,
   "metadata": {
    "collapsed": false
   },
   "outputs": [],
   "source": [
    "\"\"\"\n",
    "Email update:\n",
    "What I did\n",
    "What I would like to do\n",
    "Issues?\n",
    "\"\"\"\n"
   ]
  }
 ],
 "metadata": {
  "anaconda-cloud": {},
  "kernelspec": {
   "display_name": "Julia 0.5.0",
   "language": "julia",
   "name": "julia-0.5"
  },
  "language_info": {
   "file_extension": ".jl",
   "mimetype": "application/julia",
   "name": "julia",
   "version": "0.5.0"
  }
 },
 "nbformat": 4,
 "nbformat_minor": 0
}
