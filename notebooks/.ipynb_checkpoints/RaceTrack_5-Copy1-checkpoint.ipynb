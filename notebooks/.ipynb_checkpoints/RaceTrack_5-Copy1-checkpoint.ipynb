{
 "cells": [
  {
   "cell_type": "code",
   "execution_count": 1,
   "metadata": {
    "collapsed": false
   },
   "outputs": [
    {
     "data": {
      "text/html": [
       "<div id=\"interact-js-shim\">\n",
       "    <script charset=\"utf-8\">\n",
       "(function (IPython, $, _, MathJax) {\n",
       "    $.event.special.destroyed = {\n",
       "\tremove: function(o) {\n",
       "\t    if (o.handler) {\n",
       "\t\to.handler.apply(this, arguments)\n",
       "\t    }\n",
       "\t}\n",
       "    }\n",
       "\n",
       "    var OutputArea = IPython.version >= \"4.0.0\" ? require(\"notebook/js/outputarea\").OutputArea : IPython.OutputArea;\n",
       "\n",
       "    var redrawValue = function (container, type, val) {\n",
       "\tvar selector = $(\"<div/>\");\n",
       "\tvar oa = new OutputArea(_.extend(selector, {\n",
       "\t    selector: selector,\n",
       "\t    prompt_area: true,\n",
       "\t    events: IPython.events,\n",
       "\t    keyboard_manager: IPython.keyboard_manager\n",
       "\t})); // Hack to work with IPython 2.1.0\n",
       "\n",
       "\tswitch (type) {\n",
       "\tcase \"image/png\":\n",
       "            var _src = 'data:' + type + ';base64,' + val;\n",
       "\t    $(container).find(\"img\").attr('src', _src);\n",
       "\t    break;\n",
       "\tdefault:\n",
       "\t    var toinsert = OutputArea.append_map[type].apply(\n",
       "\t\toa, [val, {}, selector]\n",
       "\t    );\n",
       "\t    $(container).empty().append(toinsert.contents());\n",
       "\t    selector.remove();\n",
       "\t}\n",
       "\tif (type === \"text/latex\" && MathJax) {\n",
       "\t    MathJax.Hub.Queue([\"Typeset\", MathJax.Hub, toinsert.get(0)]);\n",
       "\t}\n",
       "    }\n",
       "\n",
       "\n",
       "    $(document).ready(function() {\n",
       "\tfunction initComm(evt, data) {\n",
       "\t    var comm_manager = data.kernel.comm_manager;\n",
       "        //_.extend(comm_manager.targets, require(\"widgets/js/widget\"))\n",
       "\t    comm_manager.register_target(\"Signal\", function (comm) {\n",
       "            comm.on_msg(function (msg) {\n",
       "                //Widgets.log(\"message received\", msg);\n",
       "                var val = msg.content.data.value;\n",
       "                $(\".signal-\" + comm.comm_id).each(function() {\n",
       "                var type = $(this).data(\"type\");\n",
       "                if (val[type]) {\n",
       "                    redrawValue(this, type, val[type], type);\n",
       "                }\n",
       "                });\n",
       "                delete val;\n",
       "                delete msg.content.data.value;\n",
       "            });\n",
       "\t    });\n",
       "\n",
       "\t    // coordingate with Comm and redraw Signals\n",
       "\t    // XXX: Test using Reactive here to improve performance\n",
       "\t    $([IPython.events]).on(\n",
       "\t\t'output_appended.OutputArea', function (event, type, value, md, toinsert) {\n",
       "\t\t    if (md && md.reactive) {\n",
       "                // console.log(md.comm_id);\n",
       "                toinsert.addClass(\"signal-\" + md.comm_id);\n",
       "                toinsert.data(\"type\", type);\n",
       "                // Signal back indicating the mimetype required\n",
       "                var comm_manager = IPython.notebook.kernel.comm_manager;\n",
       "                var comm = comm_manager.comms[md.comm_id];\n",
       "                comm.then(function (c) {\n",
       "                    c.send({action: \"subscribe_mime\",\n",
       "                       mime: type});\n",
       "                    toinsert.bind(\"destroyed\", function() {\n",
       "                        c.send({action: \"unsubscribe_mime\",\n",
       "                               mime: type});\n",
       "                    });\n",
       "                })\n",
       "\t\t    }\n",
       "\t    });\n",
       "\t}\n",
       "\n",
       "\ttry {\n",
       "\t    // try to initialize right away. otherwise, wait on the status_started event.\n",
       "\t    initComm(undefined, IPython.notebook);\n",
       "\t} catch (e) {\n",
       "\t    $([IPython.events]).on('kernel_created.Kernel kernel_created.Session', initComm);\n",
       "\t}\n",
       "    });\n",
       "})(IPython, jQuery, _, MathJax);\n",
       "</script>\n",
       "    <script>\n",
       "        window.interactLoadedFlag = true\n",
       "       $(\"#interact-js-shim\").bind(\"destroyed\", function () {\n",
       "           if (window.interactLoadedFlag) {\n",
       "               console.warn(\"JavaScript required by Interact will be removed if you remove this cell or run using Interact more than once.\")\n",
       "           }\n",
       "       })\n",
       "       $([IPython.events]).on(\"kernel_starting.Kernel kernel_restarting.Kernel\", function () { window.interactLoadedFlag = false })\n",
       "   </script>\n",
       "</div>"
      ]
     },
     "metadata": {},
     "output_type": "display_data"
    }
   ],
   "source": [
    "using AutomotiveDrivingModels\n",
    "using AutoViz\n",
    "using Reactive\n",
    "using Interact\n",
    "\n",
    "#import PyPlot"
   ]
  },
  {
   "cell_type": "markdown",
   "metadata": {},
   "source": [
    "# Types"
   ]
  },
  {
   "cell_type": "code",
   "execution_count": 2,
   "metadata": {
    "collapsed": false
   },
   "outputs": [],
   "source": [
    "type HRHC # Hierarchical Receding Horizon Controller\n",
    "    v_cmds # possible velocity commands\n",
    "    δ_cmds # possible δ_cmds\n",
    "    ΔXYθ # state changes associated with cmd = (v_command, δ_command)\n",
    "    legal_ΔXYθ # reachable from current v, δ\n",
    "    legal_v # reachable from current v, δ\n",
    "    legal_δ # reachable from current v, δ\n",
    "    v_idx_low::Int # index lowest reachable v_command\n",
    "    v_idx_high::Int # index highest reachable v_command\n",
    "    δ_idx_low::Int # index lowest reachable δ_command\n",
    "    δ_idx_high::Int # index highest reachable δ_command\n",
    "    successor_states # reachable next_states\n",
    "    \n",
    "    #car parameters with bicycle geometry model\n",
    "    car_length::Float64\n",
    "    car_width::Float64\n",
    "    car_ID::Int\n",
    "    \n",
    "    # current v, current δ\n",
    "    v::Float64\n",
    "    δ::Float64\n",
    "    \n",
    "    # planning horizon\n",
    "    h::Int\n",
    "    Δt::Float64\n",
    "    \n",
    "    # reachable range of V and δ within a single time step\n",
    "    ΔV₊::Float64\n",
    "    ΔV₋::Float64\n",
    "    Δδ::Float64\n",
    "    \n",
    "    V_MIN::Float64\n",
    "    V_MAX::Float64\n",
    "    V_STEPS::Int\n",
    "    δ_MAX::Float64\n",
    "    δ_MIN::Float64\n",
    "    δ_STEPS::Int\n",
    "\n",
    "    # maximum deviation from center of track (if |t| > T_MAX, car is out of bounds)\n",
    "    T_MAX::Float64\n",
    "    \n",
    "    function HRHC(car_ID::Int;\n",
    "        car_length::Float64=4.8,\n",
    "        car_width::Float64=1.8,\n",
    "        v::Float64=0.0,\n",
    "        δ::Float64=0.0,\n",
    "        h::Int=10,\n",
    "        Δt::Float64=1.0/24,\n",
    "        ΔV₊::Float64=1.55/100,\n",
    "        ΔV₋::Float64=3.05/100,\n",
    "        Δδ::Float64=Float64(π)/16,\n",
    "        V_MIN::Float64=0.0,\n",
    "        V_MAX::Float64=100.0,\n",
    "        V_STEPS::Int=101,\n",
    "        δ_MAX::Float64=Float64(π)/8,\n",
    "        δ_MIN::Float64=-Float64(π)/8,\n",
    "        δ_STEPS::Int=16,\n",
    "        )\n",
    "        \n",
    "        hrhc = new()\n",
    "        \n",
    "        hrhc.V_MIN=V_MIN\n",
    "        hrhc.V_MAX=V_MAX\n",
    "        hrhc.V_STEPS=V_STEPS\n",
    "        hrhc.δ_MAX=δ_MAX\n",
    "        hrhc.δ_MIN=δ_MIN\n",
    "        hrhc.δ_STEPS=δ_STEPS\n",
    "        \n",
    "        hrhc.car_ID = car_ID\n",
    "        hrhc.car_length=car_length\n",
    "        hrhc.car_width=car_width\n",
    "        hrhc.h=h\n",
    "        hrhc.Δt=Δt\n",
    "        hrhc.ΔV₊=ΔV₊\n",
    "        hrhc.ΔV₋=ΔV₋\n",
    "        hrhc.Δδ=Δδ\n",
    "        \n",
    "        hrhc.v_cmds, hrhc.δ_cmds, hrhc.ΔXYθ = MotionPrimitives(car_length,car_width,h,Δt,V_MIN,V_MAX,V_STEPS,δ_MAX,δ_MIN,δ_STEPS)\n",
    "        QuadraticMask!(hrhc.ΔXYθ)\n",
    "        \n",
    "        hrhc.v=v\n",
    "        hrhc.δ=δ\n",
    "        \n",
    "        hrhc\n",
    "    end\n",
    "end"
   ]
  },
  {
   "cell_type": "code",
   "execution_count": 3,
   "metadata": {
    "collapsed": false
   },
   "outputs": [],
   "source": [
    "type ObstacleMap\n",
    "    IDs\n",
    "    coords\n",
    "    proximity_array\n",
    "    proximity_kernel\n",
    "    \n",
    "    function ObstacleMap(IDs, scene::Scene)\n",
    "        retval = new()\n",
    "        \n",
    "        retval.IDs = IDs\n",
    "        retval.coords = zeros(3, length(IDs))\n",
    "        for i in 1:length(IDs)\n",
    "            pos = scene.vehicles[obstacle_IDs[i]].state.posG\n",
    "            retval.coords[1,i] = pos.x\n",
    "            retval.coords[2,i] = pos.y\n",
    "            retval.coords[3,i] = pos.θ\n",
    "        end\n",
    "        \n",
    "        # initialize proximity kernel - indicator for whether an agent needs to plan against a given obstacle\n",
    "        retval.proximity_array = zeros(2,size(retval.coords,2)) # Δr, Δθ\n",
    "        retval.proximity_kernel = zeros(1,size(retval.proximity_array,2)) # 1[within_planning_horizon]\n",
    "        \n",
    "        retval\n",
    "    end\n",
    "    \n",
    "    function ObstacleMap(count::Int, scene::Scene)\n",
    "        retval = new()\n",
    "        \n",
    "        retval.IDs = []\n",
    "        L = length(scene)\n",
    "        for j in 1+L:count+L\n",
    "            push!(retval.IDs, j)\n",
    "            ind_i = rand([i for i in 1:25])\n",
    "            ind_t = rand([i/100.0 for i in 1:100])\n",
    "            t = rand([i/10.0 for i in -10:10])*lane_width/2.0\n",
    "            ϕ = rand([i/20.0 for i in -20:20])*Float64(π)\n",
    "            segment = rand([i for i in 1:4])\n",
    "            roadind = RoadProjection(CurveProjection(CurveIndex(ind_i, ind_t), t, ϕ), LaneTag(segment,1))\n",
    "            vehstate = VehicleState(Frenet(roadind, roadway), roadway, 0.0)\n",
    "            vehdef = VehicleDef(j, AgentClass.CAR, 4.8, 1.8)\n",
    "            push!(scene, Vehicle(vehstate, vehdef))\n",
    "        end\n",
    "        \n",
    "        retval.coords = zeros(3, length(retval.IDs))\n",
    "        for i in 1:length(retval.IDs)\n",
    "            pos = scene.vehicles[retval.IDs[i]].state.posG\n",
    "            retval.coords[1,i] = pos.x\n",
    "            retval.coords[2,i] = pos.y\n",
    "            retval.coords[3,i] = pos.θ\n",
    "        end\n",
    "        \n",
    "        # initialize proximity kernel - indicator for whether an agent needs to plan against a given obstacle\n",
    "        retval.proximity_array = zeros(2,size(retval.coords,2)) # Δr, Δθ\n",
    "        retval.proximity_kernel = zeros(1,size(retval.proximity_array,2)) # 1[within_planning_horizon]\n",
    "        \n",
    "        retval\n",
    "    end\n",
    "    \n",
    "end"
   ]
  },
  {
   "cell_type": "markdown",
   "metadata": {},
   "source": [
    "# utility functions"
   ]
  },
  {
   "cell_type": "code",
   "execution_count": 4,
   "metadata": {
    "collapsed": false
   },
   "outputs": [
    {
     "data": {
      "text/plain": [
       "MotionPrimitives (generic function with 1 method)"
      ]
     },
     "execution_count": 4,
     "metadata": {},
     "output_type": "execute_result"
    }
   ],
   "source": [
    "# Return a library of motion primitives (arcs of constant radius) representing short paths that the car can follow.\n",
    "function MotionPrimitives(car_length,car_width,h,Δt,v_min,v_max,v_steps,δ_max,δ_min,δ_steps)\n",
    "    # 3D array to store motion_primitives\n",
    "    motion_primitives = zeros(v_steps,2*δ_steps+1,2) # v: 0,...,99; δ: -45:45, (arc length, +/- radius)\n",
    "\n",
    "    v = linspace(v_min,v_max,v_steps)*ones(1,2*δ_steps+1)\n",
    "    δ = (linspace(-δ_max,δ_max,δ_steps*2+1)*ones(1,v_steps))' # steering angle\n",
    "\n",
    "    motion_primitives[:,:,1] = v*Δt*h # arc length = velocity * time\n",
    "    motion_primitives[:,:,2] = car_length./sin(δ) # radius of curvature (+ or -)\n",
    "    motion_primitives[:,1+δ_steps,2] = Inf; # radius of curvature is infinite if steering angle = 0\n",
    "    \n",
    "    destination_primitives = zeros(v_steps,2*δ_steps+1,h,3) # lookup table defining car's location at each of next h time steps\n",
    "\n",
    "    for i = 1:h\n",
    "        # angle = 2π * arc_length / r\n",
    "        dθ = v*Δt*i ./ motion_primitives[:,:,2]\n",
    "        \n",
    "        # dX = abs(radius) * sin(angle)\n",
    "        destination_primitives[:,:,i,1] = abs(motion_primitives[:,:,2]) .* sin(abs(dθ))\n",
    "        destination_primitives[:,1+δ_steps,i,1] = v[:,1+δ_steps]*Δt*i # centerline\n",
    "        \n",
    "        # dY = radius * (1 - cos(angle))\n",
    "        destination_primitives[:,:,i,2] = motion_primitives[:,:,2].*(1 - cos(dθ))\n",
    "        destination_primitives[:,1+δ_steps,i,2] = 0 # centerline\n",
    "        \n",
    "        destination_primitives[:,:,i,3] = dθ\n",
    "    end\n",
    "    \n",
    "    # motion_primitives[v, δ, i,j] = s (arc_length), r (radius of curvature)\n",
    "    # destination_primitives[v, δ, h, 1=Δx,2=Δy,3=Δθ]= changes in x, y and θ after h time steps\n",
    "    return v, δ, destination_primitives\n",
    "\n",
    "end"
   ]
  },
  {
   "cell_type": "code",
   "execution_count": 5,
   "metadata": {
    "collapsed": false,
    "scrolled": true
   },
   "outputs": [
    {
     "data": {
      "text/plain": [
       "QuadraticMask! (generic function with 1 method)"
      ]
     },
     "execution_count": 5,
     "metadata": {},
     "output_type": "execute_result"
    }
   ],
   "source": [
    "# quadratic logical mask\n",
    "function QuadraticMask!(library)\n",
    "    A = size(library)[1]\n",
    "    B = size(library)[2]\n",
    "    X = linspace(0,99,A)*ones(1,B)\n",
    "    Y = ones(A,1)*linspace(-20,20,B)'\n",
    "    f = 24*Y.^2 + X.^2\n",
    "    mask = 1.0*(f.<10000)\n",
    "    \n",
    "#     fig = figure()\n",
    "#     ax = gca()\n",
    "#     p = scatter(X,Y.*mask)\n",
    "#     xlabel(\"velocity\")\n",
    "#     ylabel(\"steering angle\")\n",
    "#     fig[:canvas][:draw]()\n",
    "\n",
    "    if length(size(library)) == 3\n",
    "        for i in 1 : size(library)[3]\n",
    "            library[:,:,i] = library[:,:,i] .* mask\n",
    "        end\n",
    "    end\n",
    "    if length(size(library)) == 4\n",
    "        for i in 1 : size(library)[3]\n",
    "            for j in 1 : size(library)[4]\n",
    "                library[:,:,i,j] = library[:,:,i,j] .* mask\n",
    "            end\n",
    "        end\n",
    "    end\n",
    "end"
   ]
  },
  {
   "cell_type": "code",
   "execution_count": 6,
   "metadata": {
    "collapsed": false
   },
   "outputs": [
    {
     "data": {
      "text/plain": [
       "CurveDist (generic function with 1 method)"
      ]
     },
     "execution_count": 6,
     "metadata": {},
     "output_type": "execute_result"
    }
   ],
   "source": [
    "function CurveDist(pt1::CurvePt, pt2::CurvePt)\n",
    "    Δx = pt1.pos.x - pt2.pos.x\n",
    "    Δy = pt1.pos.y - pt2.pos.y\n",
    "    d = sqrt(Δx^2 + Δy^2)\n",
    "    d\n",
    "end"
   ]
  },
  {
   "cell_type": "code",
   "execution_count": 7,
   "metadata": {
    "collapsed": false
   },
   "outputs": [
    {
     "data": {
      "text/plain": [
       "wrap_to_π (generic function with 1 method)"
      ]
     },
     "execution_count": 7,
     "metadata": {},
     "output_type": "execute_result"
    }
   ],
   "source": [
    "function wrap_to_π(θ)\n",
    "    θ = θ + (θ .< -π).*(2*Float64(π)) - (θ .> π).*(2*Float64(π)) \n",
    "end"
   ]
  },
  {
   "cell_type": "code",
   "execution_count": 8,
   "metadata": {
    "collapsed": false
   },
   "outputs": [
    {
     "data": {
      "text/plain": [
       "GenerateDistanceMap (generic function with 1 method)"
      ]
     },
     "execution_count": 8,
     "metadata": {},
     "output_type": "execute_result"
    }
   ],
   "source": [
    "# generate distance map - it works!\n",
    "function GenerateDistanceMap(roadway)\n",
    "    s = Dict() # current s\n",
    "    for i in 1:length(roadway.segments)\n",
    "        seg = roadway.segments[i]\n",
    "        s[i] = Dict()\n",
    "        for j in 0:length(seg.lanes[1].curve)\n",
    "            #s[i][j] = (starting s at pt, distance to next pt)\n",
    "            if j == 0\n",
    "                if i == 1\n",
    "                    s[i][j] = (0, CurveDist(roadway[seg.lanes[1].entrances[1].target], seg.lanes[1].curve[1]))\n",
    "                else\n",
    "                    s[i][j] = (s[i-1][length(roadway.segments[i-1].lanes[1].curve)][1] + s[i-1][length(roadway.segments[i-1].lanes[1].curve)][2], 0)\n",
    "                end\n",
    "            elseif j != length(seg.lanes[1].curve)\n",
    "                s[i][j] = (s[i][j-1][1]+s[i][j-1][2], seg.lanes[1].curve[j+1].s - seg.lanes[1].curve[j].s)\n",
    "            else\n",
    "                s[i][j] = (s[i][j-1][1]+s[i][j-1][2], CurveDist(roadway[seg.lanes[1].exits[1].target], seg.lanes[1].curve[end]))\n",
    "            end\n",
    "        end\n",
    "    end\n",
    "    s\n",
    "end"
   ]
  },
  {
   "cell_type": "markdown",
   "metadata": {},
   "source": [
    "# HRHC Algorithm"
   ]
  },
  {
   "cell_type": "markdown",
   "metadata": {},
   "source": [
    "### 0. Initialize motion primitives"
   ]
  },
  {
   "cell_type": "markdown",
   "metadata": {},
   "source": [
    "### 1. Identify eligible (reachable) motion primitives based on current state"
   ]
  },
  {
   "cell_type": "code",
   "execution_count": 9,
   "metadata": {
    "collapsed": false
   },
   "outputs": [
    {
     "data": {
      "text/plain": [
       "getLegalMoves! (generic function with 1 method)"
      ]
     },
     "execution_count": 9,
     "metadata": {},
     "output_type": "execute_result"
    }
   ],
   "source": [
    "function getLegalMoves!(hrhc::HRHC, scene; h=hrhc.h)\n",
    "    v_norm = scene.vehicles[hrhc.car_ID].state.v / hrhc.V_MAX\n",
    "\n",
    "    # Restrict search space to reachable states\n",
    "    hrhc.v_idx_low = max(1, round(Int,(v_norm - hrhc.ΔV₋)*hrhc.V_STEPS)) # index of lowest reachable v in the next time step\n",
    "    hrhc.v_idx_high = min(hrhc.V_STEPS, round(Int, (v_norm + hrhc.ΔV₊)*hrhc.V_STEPS)) # highest reachable v in the next time step\n",
    "\n",
    "    # Restrict search space to reachable states\n",
    "    hrhc.δ_idx_low = max(1, (hrhc.δ_STEPS+1) + round(Int,((hrhc.δ - hrhc.Δδ)/(hrhc.δ_MAX - hrhc.δ_MIN))*(2*hrhc.δ_STEPS+1)))\n",
    "    hrhc.δ_idx_high = min((2*hrhc.δ_STEPS+1), (hrhc.δ_STEPS+1) + round(Int,((hrhc.δ + hrhc.Δδ)/(hrhc.δ_MAX - hrhc.δ_MIN))*(2*hrhc.δ_STEPS+1)))\n",
    "\n",
    "    # legal_moves \n",
    "    hrhc.legal_ΔXYθ = hrhc.ΔXYθ[hrhc.v_idx_low:hrhc.v_idx_high,hrhc.δ_idx_low:hrhc.δ_idx_high,:,:] # 1:h, ΔX, ΔY, Δθ\n",
    "    hrhc.legal_v = hrhc.v_cmds[hrhc.v_idx_low:hrhc.v_idx_high,hrhc.δ_idx_low:hrhc.δ_idx_high]\n",
    "    hrhc.legal_δ = hrhc.δ_cmds[hrhc.v_idx_low:hrhc.v_idx_high,hrhc.δ_idx_low:hrhc.δ_idx_high]\n",
    "    \n",
    "    return\n",
    "end"
   ]
  },
  {
   "cell_type": "markdown",
   "metadata": {},
   "source": [
    "### 2. Calculate resulting final state (posG) from applying each given motion primitive"
   ]
  },
  {
   "cell_type": "code",
   "execution_count": 10,
   "metadata": {
    "collapsed": false
   },
   "outputs": [
    {
     "data": {
      "text/plain": [
       "getSuccessorStates! (generic function with 1 method)"
      ]
     },
     "execution_count": 10,
     "metadata": {},
     "output_type": "execute_result"
    }
   ],
   "source": [
    "#function getSuccessorStates(vehicle, hrhc)\n",
    "function getSuccessorStates!(hrhc::HRHC, scene::Scene)\n",
    "    pos = scene.vehicles[hrhc.car_ID].state.posG # global x,y,z of car\n",
    "\n",
    "    ΔX = hrhc.legal_ΔXYθ[:,:,:,1] * cos(pos.θ) + hrhc.legal_ΔXYθ[:,:,:,2] * -sin(pos.θ)\n",
    "    ΔY = hrhc.legal_ΔXYθ[:,:,:,1] * sin(pos.θ) + hrhc.legal_ΔXYθ[:,:,:,2] * cos(pos.θ)\n",
    "    Δθ = hrhc.legal_ΔXYθ[:,:,:,3]\n",
    "\n",
    "    hrhc.successor_states = zeros(size(hrhc.legal_ΔXYθ))\n",
    "    hrhc.successor_states[:,:,:,1] = ΔX + pos.x\n",
    "    hrhc.successor_states[:,:,:,2] = ΔY + pos.y\n",
    "    hrhc.successor_states[:,:,:,3] = wrap_to_π(Δθ + pos.θ)\n",
    "    \n",
    "    return\n",
    "end"
   ]
  },
  {
   "cell_type": "markdown",
   "metadata": {},
   "source": [
    "### 3. Project posG onto track to determine if a given motion is legal (in bounds)"
   ]
  },
  {
   "cell_type": "code",
   "execution_count": 11,
   "metadata": {
    "collapsed": false
   },
   "outputs": [
    {
     "data": {
      "text/plain": [
       "projectGridToCenterline (generic function with 1 method)"
      ]
     },
     "execution_count": 11,
     "metadata": {},
     "output_type": "execute_result"
    }
   ],
   "source": [
    "function projectGridToCenterline(hrhc::HRHC, roadway, sMap; h=hrhc.h)\n",
    "    s = zeros(size(hrhc.successor_states[:,:,h,1]))\n",
    "    t = zeros(size(s))\n",
    "    ϕ = zeros(size(s))\n",
    "    tag = zeros(size(s))\n",
    "\n",
    "    successor_states_grid = reshape(hrhc.successor_states[:,:,h,:], length(hrhc.successor_states[:,:,h,1]),3) # must reshape to index correctly\n",
    "\n",
    "    for i in 1 : length(s)\n",
    "        myProj = Vec.proj(VecSE2(successor_states_grid[i,:]), roadway) # project point onto roadway\n",
    "        curve = myProj.curveproj\n",
    "        tag[i] = myProj.tag.segment\n",
    "        s[i] = sMap[tag[i]][curve.ind.i][1] + sMap[tag[i]][curve.ind.i][2]*curve.ind.t # total distance traveled\n",
    "        t[i] = curve.t # distance from centerline\n",
    "        ϕ[i] = curve.ϕ\n",
    "    end\n",
    "    \n",
    "    # account for returning to the beginning of the roadway (leaving last segment, entering first segment)\n",
    "    if maximum(tag) == length(roadway.segments) && minimum(tag) == 1\n",
    "        tag_filter = (tag .== minimum(tag))\n",
    "        s += sMap[length(roadway.segments)][length(roadway.segments[end].lanes[1].curve)][1].*tag_filter\n",
    "    end\n",
    "    \n",
    "    return s,t,ϕ\n",
    "end"
   ]
  },
  {
   "cell_type": "markdown",
   "metadata": {},
   "source": [
    "### 4. Select legal motion primitive that yields highest progress"
   ]
  },
  {
   "cell_type": "markdown",
   "metadata": {},
   "source": [
    "### 5. Check each time step up to horizon to make sure the entire trajectory is legal"
   ]
  },
  {
   "cell_type": "code",
   "execution_count": 12,
   "metadata": {
    "collapsed": false
   },
   "outputs": [
    {
     "ename": "LoadError",
     "evalue": "LoadError: syntax: extra token \")\" after end of expression\nwhile loading In[12], in expression starting on line 13",
     "output_type": "error",
     "traceback": [
      "LoadError: syntax: extra token \")\" after end of expression\nwhile loading In[12], in expression starting on line 13",
      ""
     ]
    }
   ],
   "source": [
    "function applyObstacleKernel!(arr, obstacle_ID, hrhc, scene, roadway)\n",
    "    \"\"\"\n",
    "    computes a penalty function over hrhc.successor_states to penalize \n",
    "    successor states that will result in a collision with the obstacle\n",
    "    \"\"\"\n",
    "    \n",
    "    pos = scene.vehicles[obstacle_ID].state.posG # position of obstacle\n",
    "    x = pos.x\n",
    "    y = pos.y\n",
    "    \n",
    "    r = sqrt((hrhc.successor_states[:,:,:,1] - x).^2 + (hrhc.successor_states[:,:,:,2] - y).^2)\n",
    "    \n",
    "    kernel = r .> hrhc.car_length)\n",
    "    flattened_kernel = sum(kernel, 3) .== size(kernel, 3)\n",
    "    arr = arr .* kernel\n",
    "end"
   ]
  },
  {
   "cell_type": "code",
   "execution_count": 13,
   "metadata": {
    "collapsed": false
   },
   "outputs": [
    {
     "data": {
      "text/plain": [
       "computeTrajectory (generic function with 1 method)"
      ]
     },
     "execution_count": 13,
     "metadata": {},
     "output_type": "execute_result"
    }
   ],
   "source": [
    "function computeTrajectory(hrhc::HRHC, scene, cmd_index; h=hrhc.h)\n",
    "    pos = scene.vehicles[hrhc.car_ID].state.posG\n",
    "    \n",
    "    traj_ΔXYθ = hrhc.ΔXYθ[cmd_index[1],cmd_index[2],1:h,:]\n",
    "    \n",
    "    ΔX = traj_ΔXYθ[:,1] * cos(pos.θ) + traj_ΔXYθ[:,2] * -sin(pos.θ)\n",
    "    ΔY = traj_ΔXYθ[:,1] * sin(pos.θ) + traj_ΔXYθ[:,2] * cos(pos.θ)\n",
    "    Δθ = traj_ΔXYθ[:,3]\n",
    "\n",
    "    trajectory = zeros(size(traj_ΔXYθ))\n",
    "    trajectory[:,1] = ΔX + pos.x\n",
    "    trajectory[:,2] = ΔY + pos.y\n",
    "    trajectory[:,3] = wrap_to_π(Δθ + pos.θ)\n",
    "    \n",
    "    return trajectory\n",
    "end"
   ]
  },
  {
   "cell_type": "code",
   "execution_count": 14,
   "metadata": {
    "collapsed": false
   },
   "outputs": [
    {
     "data": {
      "text/plain": [
       "screenTrajectory (generic function with 1 method)"
      ]
     },
     "execution_count": 14,
     "metadata": {},
     "output_type": "execute_result"
    }
   ],
   "source": [
    "function screenTrajectory(trajectory, roadway, hrhc)\n",
    "    out_of_bounds = false\n",
    "    \n",
    "    for i in 1 : size(trajectory,1)\n",
    "        myProj = Vec.proj(VecSE2(trajectory[i,:]), roadway) # project point onto roadway\n",
    "        t = myProj.curveproj.t\n",
    "        if abs(t) > hrhc.T_MAX\n",
    "            #print(\"T OUT OF BOUNDS!!!\")\n",
    "            out_of_bounds=true\n",
    "            return out_of_bounds\n",
    "        end\n",
    "    end\n",
    "    return out_of_bounds\n",
    "end"
   ]
  },
  {
   "cell_type": "markdown",
   "metadata": {},
   "source": [
    "### 6. Apply the motion primitive for a single time step"
   ]
  },
  {
   "cell_type": "markdown",
   "metadata": {},
   "source": [
    "### 7. Go back to 1"
   ]
  },
  {
   "cell_type": "markdown",
   "metadata": {},
   "source": [
    "# get HRHC action function"
   ]
  },
  {
   "cell_type": "code",
   "execution_count": 15,
   "metadata": {
    "collapsed": false
   },
   "outputs": [
    {
     "data": {
      "text/plain": [
       "get_HRHC_action (generic function with 1 method)"
      ]
     },
     "execution_count": 15,
     "metadata": {},
     "output_type": "execute_result"
    }
   ],
   "source": [
    "function get_HRHC_action(hrhc::HRHC, roadway, scene, sMap, obstacles::ObstacleMap)\n",
    "    # get current state\n",
    "    state = scene.vehicles[hrhc.car_ID].state\n",
    "    v = state.v # current v\n",
    "    hrhc.v = v\n",
    "    \n",
    "    action_selected = false\n",
    "    trajectory = zeros(3,hrhc.h)\n",
    "    abs_cmd = (0,0)\n",
    "    \n",
    "    # get legal (reachable from current v, δ) actions\n",
    "    # full depth 1 to h\n",
    "    getLegalMoves!(hrhc, scene)\n",
    "\n",
    "    # calculate successor states\n",
    "    # full depth 1 to h\n",
    "    getSuccessorStates!(hrhc, scene)\n",
    "    \n",
    "    i = 0\n",
    "    for i in 0:(hrhc.h-1)\n",
    "        if action_selected\n",
    "            break # out of for loop\n",
    "        end\n",
    "        \n",
    "        # project successor states onto track\n",
    "        s,t,ϕ = projectGridToCenterline(hrhc, roadway, sMap,h=hrhc.h-i)\n",
    "        \n",
    "        # remove actions that lead to running out of bounds\n",
    "        t_filter = (abs(t) .< hrhc.T_MAX)\n",
    "        eligible_s = s .* t_filter\n",
    "        \n",
    "        # update obstacle kernel - maybe use reactive programming here (in the future)\n",
    "        x = state.posG.x\n",
    "        y = state.posG.y\n",
    "        θ = state.posG.θ\n",
    "        obstacles.proximity_array[1,:] = sqrt((obstacles.coords[1,:] - x).^2 + (obstacles.coords[2,:] - y).^2) # radius\n",
    "        obstacles.proximity_array[2,:] = wrap_to_π(atan2(obstacles.coords[2,:]-y, obstacles.coords[1,:]-x) - θ) # angle\n",
    "        obstacles.proximity_kernel[1,:] = obstacles.proximity_array[1,:] .< v*hrhc.Δt*hrhc.h # only test against obstacles within horizon\n",
    "        obstacles.proximity_kernel[1,:] = obstacles.proximity_kernel[1,:].*(abs(obstacles.proximity_array[2,:]) .< Float64(π)/2) # only test against obstacles ahead of vehicle\n",
    "        \n",
    "        # apply obstacle kernel\n",
    "        if sum(obstacles.proximity_kernel) > 0 # if any obstacle is in range\n",
    "            for i in length(obstacles.IDs)\n",
    "                if obstacles.proximity_kernel[i] > 0 # if the ith obstacle is in range\n",
    "                    # operates on full depth 1 to h\n",
    "                    applyObstacleKernel!(eligible_s, obstacles.IDs[i], hrhc, scene, roadway)\n",
    "                end\n",
    "            end\n",
    "        end\n",
    "        \n",
    "        # select command expected to yield highest forward progress\n",
    "        ######################## OPTIMIZE #########################\n",
    "        while (action_selected==false) && (sum(t_filter) > 0)\n",
    "            index = indmax(eligible_s) # find get a better method of optimizing this\n",
    "            cmd = ind2sub(eligible_s, index)\n",
    "            abs_cmd = (cmd[1]+hrhc.v_idx_low-1, cmd[2]+hrhc.δ_idx_low-1)\n",
    "\n",
    "            # compute full trajectory up to horizon\n",
    "            trajectory = computeTrajectory(hrhc, scene, abs_cmd, h=hrhc.h-i)\n",
    "            \n",
    "            # screen trajectory for collisions / validity\n",
    "            out_of_bounds = screenTrajectory(trajectory, roadway, hrhc)  \n",
    "            if out_of_bounds\n",
    "                t_filter[index] = 0\n",
    "                eligible_s[index] = 0\n",
    "            else\n",
    "                action_selected=true\n",
    "            end\n",
    "        end\n",
    "        \n",
    "        \n",
    "    end\n",
    "\n",
    "    \n",
    "    next_state = VehicleState(VecSE2(trajectory[1,:]),roadway,hrhc.v_cmds[abs_cmd[1], abs_cmd[2]])\n",
    "    action = NextState(next_state)\n",
    "    \n",
    "    hrhc.δ = hrhc.δ_cmds[abs_cmd[1], abs_cmd[2]]\n",
    "    hrhc.v = hrhc.v_cmds[abs_cmd[1], abs_cmd[2]]\n",
    "    \n",
    "    return action\n",
    "    \n",
    "end"
   ]
  },
  {
   "cell_type": "markdown",
   "metadata": {},
   "source": [
    "## Initialize Parameters"
   ]
  },
  {
   "cell_type": "code",
   "execution_count": 16,
   "metadata": {
    "collapsed": false
   },
   "outputs": [
    {
     "data": {
      "text/plain": [
       "0.19634954084936207"
      ]
     },
     "execution_count": 16,
     "metadata": {},
     "output_type": "execute_result"
    }
   ],
   "source": [
    "# scene parameters\n",
    "scene = Scene()\n",
    "framerate = 24\n",
    "Δt = 1.0/framerate # size of rendering timesteps\n",
    "n_integration_sub_steps = 3 # sub steps for smoother integration\n",
    "context = IntegratedContinuous(Δt, n_integration_sub_steps) # integrated continuous context\n",
    "\n",
    "models = Dict{Int, DriverModel}()\n",
    "carcolors = Dict{Int, Colorant}()\n",
    "\n",
    "#car parameters\n",
    "car_length = 4.8 # front wheel to back wheel\n",
    "car_width = 2.5\n",
    "v⁰  = 0.0 # initial velocity\n",
    "δ⁰ = 0.0 # initical steering angle\n",
    "\n",
    "#controller parameters\n",
    "h = 10 # look-ahead horizon\n",
    "V_MIN = 0.0 # mininmum velocity (m/s)\n",
    "V_MAX = 80.0 # maximum velocity (m/s)\n",
    "V_STEPS = 101 # resolution of velocity\n",
    "δ_MAX = Float64(π)/8 # max steering angle (radians)\n",
    "δ_MIN = -δ_MAX # min steering angle (radians)\n",
    "δ_STEPS = 16 # resolution of steering angle\n",
    "ΔV₊ = 1.55 / V_MAX\n",
    "ΔV₋ = 3.05 / V_MAX\n",
    "Δδ = Float64(π)/16"
   ]
  },
  {
   "cell_type": "code",
   "execution_count": 17,
   "metadata": {
    "collapsed": false
   },
   "outputs": [
    {
     "data": {
      "text/plain": [
       "1-element Array{AutomotiveDrivingModels.DriveAction,1}:\n",
       " #undef"
      ]
     },
     "execution_count": 17,
     "metadata": {},
     "output_type": "execute_result"
    }
   ],
   "source": [
    "############### INITIALIZE TRACK ################\n",
    "\n",
    "lane_width = 8.0*DEFAULT_LANE_WIDTH\n",
    "radius = 45.0\n",
    "edge_buffer = 0.25\n",
    "T_MAX = lane_width/2.0 - car_width/2.0 - edge_buffer # max allowable projection distance from center of lane\n",
    "base_speed= 0.0\n",
    "\n",
    "roadway = gen_stadium_roadway(1, radius=radius, lane_width=lane_width)\n",
    "roadind1 = RoadIndex(proj(VecSE2(0.0,-1*DEFAULT_LANE_WIDTH,0.0), roadway))\n",
    "roadind2 = RoadIndex(proj(VecSE2(40.0,-1*DEFAULT_LANE_WIDTH,0.0), roadway))\n",
    "\n",
    "vehstate1 = VehicleState(Frenet(roadind1, roadway), roadway, base_speed+randn())\n",
    "vehstate2 = VehicleState(Frenet(roadind2, roadway), roadway, base_speed+randn())\n",
    "\n",
    "vehdef1 = VehicleDef(1,AgentClass.CAR, 4.8, 1.8)\n",
    "vehdef2 = VehicleDef(2,AgentClass.CAR, 4.8, 1.8)\n",
    "\n",
    "push!(scene,Vehicle(vehstate1, vehdef1))\n",
    "# push!(scene,Vehicle(vehstate2, vehdef2)) # car 2\n",
    "\n",
    "models[1] = Tim2DDriver(context, rec=SceneRecord(1, context.Δt, 1))\n",
    "# models[2] = Tim2DDriver(context, rec=SceneRecord(1, context.Δt, 1))\n",
    "actions = Array(DriveAction, length(scene))"
   ]
  },
  {
   "cell_type": "code",
   "execution_count": 18,
   "metadata": {
    "collapsed": false
   },
   "outputs": [
    {
     "data": {
      "text/plain": [
       "ObstacleMap(Any[2,3,4,5,6,7],[-0.699325 -12.5691 … -55.5216 -40.1924; -3.57843 93.1723 … 39.6784 44.7897; 6.8971 2.67428 … 6.22166 4.56055],[0.0 0.0 … 0.0 0.0; 0.0 0.0 … 0.0 0.0],[0.0 0.0 … 0.0 0.0])"
      ]
     },
     "execution_count": 18,
     "metadata": {},
     "output_type": "execute_result"
    }
   ],
   "source": [
    "############# INITIALIZE OBSTACLES ##############\n",
    "\n",
    "count = 6\n",
    "obstacles = ObstacleMap(count,scene)"
   ]
  },
  {
   "cell_type": "code",
   "execution_count": 19,
   "metadata": {
    "collapsed": false
   },
   "outputs": [
    {
     "data": {
      "text/plain": [
       "Dict{Any,Any} with 4 entries:\n",
       "  4 => Dict{Any,Any}(Pair{Any,Any}(18,(482.127,2.94524)),Pair{Any,Any}(2,(435.0…\n",
       "  2 => Dict{Any,Any}(Pair{Any,Any}(18,(230.755,2.94524)),Pair{Any,Any}(2,(183.6…\n",
       "  3 => Dict{Any,Any}(Pair{Any,Any}(18,(401.441,2.94524)),Pair{Any,Any}(2,(354.3…\n",
       "  1 => Dict{Any,Any}(Pair{Any,Any}(18,(150.069,2.94524)),Pair{Any,Any}(2,(102.9…"
      ]
     },
     "execution_count": 19,
     "metadata": {},
     "output_type": "execute_result"
    }
   ],
   "source": [
    "################################################\n",
    "\n",
    "carcolors[1] = colorant\"red\"\n",
    "# carcolors[2] = colorant\"blue\"\n",
    "\n",
    "# generate distance map\n",
    "sMap = GenerateDistanceMap(roadway)"
   ]
  },
  {
   "cell_type": "code",
   "execution_count": 20,
   "metadata": {
    "collapsed": false
   },
   "outputs": [
    {
     "data": {
      "text/plain": [
       "10.5"
      ]
     },
     "execution_count": 20,
     "metadata": {},
     "output_type": "execute_result"
    }
   ],
   "source": [
    "############# INITIALIZE CONTROLLERS ##############\n",
    "\n",
    "car1 = HRHC(1)\n",
    "# car2 = HRHC(2)\n",
    "car1.T_MAX=T_MAX\n",
    "# car2.T_MAX=T_MAX"
   ]
  },
  {
   "cell_type": "markdown",
   "metadata": {},
   "source": [
    "# Run HRHC:"
   ]
  },
  {
   "cell_type": "code",
   "execution_count": 21,
   "metadata": {
    "collapsed": false,
    "scrolled": false
   },
   "outputs": [
    {
     "data": {
      "text/plain": [
       "drawsim (generic function with 2 methods)"
      ]
     },
     "execution_count": 21,
     "metadata": {},
     "output_type": "execute_result"
    }
   ],
   "source": [
    "function drawsim(t, dt=NaN)\n",
    "    actions[car1.car_ID] = get_HRHC_action(car1, roadway, scene, sMap, obstacles)\n",
    "#     actions[car2.car_ID] = get_HRHC_action(car2, roadway, scene, sMap)\n",
    "    tick!(scene, roadway, actions, models)\n",
    "    render(scene, roadway, cam=FitToContentCamera(), car_colors=carcolors)\n",
    "#     render(scene, roadway, cam=CarFollowCamera(1, 15.0), canvas_height=300)\n",
    "end"
   ]
  },
  {
   "cell_type": "code",
   "execution_count": 22,
   "metadata": {
    "collapsed": false,
    "scrolled": false
   },
   "outputs": [
    {
     "data": {
      "image/png": "[encoded data removed]",
      "text/plain": [
       "Cairo.CairoSurface{UInt32}(Ptr{Void} @0x00007fcc5f7147b0,1000.0,600.0,#undef)"
      ]
     },
     "execution_count": 22,
     "metadata": {
      "comm_id": "56da56a1-1e43-4043-b43f-4f5e42828b70",
      "reactive": true
     },
     "output_type": "execute_result"
    }
   ],
   "source": [
    "ticks = fps(framerate)\n",
    "timestamps = map(_ -> time(), ticks)\n",
    "map(drawsim, timestamps)"
   ]
  },
  {
   "cell_type": "code",
   "execution_count": 24,
   "metadata": {
    "collapsed": false,
    "scrolled": true
   },
   "outputs": [
    {
     "data": {
      "text/plain": [
       "3×6 Array{Float64,2}:\n",
       " -0.699325  -12.5691   110.521     137.593    -55.5216   -40.1924 \n",
       " -3.57843    93.1723    87.5241     10.5676    39.6784    44.7897 \n",
       "  6.8971      2.67428    0.629628   -2.31234    6.22166    4.56055"
      ]
     },
     "execution_count": 24,
     "metadata": {},
     "output_type": "execute_result"
    }
   ],
   "source": [
    "obstacles.coords"
   ]
  },
  {
   "cell_type": "code",
   "execution_count": 27,
   "metadata": {
    "collapsed": false
   },
   "outputs": [
    {
     "data": {
      "text/plain": [
       "29.713638038358187"
      ]
     },
     "execution_count": 27,
     "metadata": {},
     "output_type": "execute_result"
    }
   ],
   "source": [
    "state = scene.vehicles[1].state\n",
    "x = state.posG.x\n",
    "y = state.posG.y\n",
    "θ = state.posG.θ\n",
    "#wrap_to_π(atan2(obstacles.coords[2,:]-y, obstacles.coords[1,:]-x) - θ)"
   ]
  },
  {
   "cell_type": "code",
   "execution_count": null,
   "metadata": {
    "collapsed": false
   },
   "outputs": [],
   "source": [
    "s,t,ϕ = projectGridToCenterline(car1, roadway, sMap)\n",
    "\n",
    "# remove actions that lead to running out of bounds\n",
    "t_filter = (abs(t) .< car1.T_MAX)\n",
    "eligible_s = s .* t_filter\n",
    "eligible_s"
   ]
  },
  {
   "cell_type": "code",
   "execution_count": null,
   "metadata": {
    "collapsed": false
   },
   "outputs": [],
   "source": [
    "# update obstacle kernel - maybe use reactive programming here (in the future)\n",
    "x = scene.vehicles[car1.car_ID].state.posG.x\n",
    "y = scene.vehicles[car1.car_ID].state.posG.y\n",
    "θ = scene.vehicles[car1.car_ID].state.posG.θ\n",
    "v = scene.vehicles[car1.car_ID].state.v\n",
    "obstacles.proximity_array[1,:] = sqrt((obstacles.coords[1,:] - x).^2 + (obstacles.coords[2,:] - y).^2) # radius\n",
    "obstacles.proximity_array[2,:] = wrap_to_π(atan2(obstacles.coords[2,:]-y, obstacles.coords[1,:]-x) - θ) # angle\n",
    "obstacles.proximity_kernel[1,:] = obstacles.proximity_array[1,:] .< v*car1.Δt*car1.h # only test against obstacles within horizon\n",
    "obstacles.proximity_kernel[1,:] = obstacles.proximity_kernel[1,:].*(abs(obstacles.proximity_array[2,:]) .< Float64(π)/2) # only test against obstacles ahead of vehicle\n",
    "\n",
    "# apply obstacle kernel\n",
    "if sum(obstacles.proximity_kernel) > 0\n",
    "    for i in length(obstacles.IDs)\n",
    "        if obstacles.proximity_kernel[i] > 0\n",
    "            print(i)\n",
    "            applyObstacleKernel!(eligible_s, obstacles.IDs[i], car1, scene, roadway)\n",
    "        end\n",
    "    end\n",
    "end"
   ]
  },
  {
   "cell_type": "code",
   "execution_count": null,
   "metadata": {
    "collapsed": false
   },
   "outputs": [],
   "source": [
    "pos = scene.vehicles[obstacles.IDs[6]].state.posG # position of obstacle\n",
    "x = pos.x\n",
    "y = pos.y\n",
    "\n",
    "r = sqrt((car1.successor_states[:,:,1] - x).^2 + (car1.successor_states[:,:,2] - y).^2)"
   ]
  },
  {
   "cell_type": "code",
   "execution_count": null,
   "metadata": {
    "collapsed": false
   },
   "outputs": [],
   "source": [
    "kernel = 1.0*(r .> hrhc.car_length)\n",
    "arr = arr .* kernel"
   ]
  },
  {
   "cell_type": "markdown",
   "metadata": {},
   "source": [
    "# Testing"
   ]
  },
  {
   "cell_type": "code",
   "execution_count": null,
   "metadata": {
    "collapsed": true
   },
   "outputs": [],
   "source": [
    "# static vehicles are obstacles on race course\n",
    "static_vehicles = Set()\n",
    "\n",
    "roadind1 = RoadIndex(proj(VecSE2(0.0,0,0.0), roadway))\n",
    "roadind2 = RoadIndex(proj(VecSE2(40.0,0,0.0), roadway))\n",
    "\n",
    "vehstate1 = VehicleState(Frenet(roadind1, roadway), roadway, base_speed+randn())\n",
    "vehstate2 = VehicleState(Frenet(roadind2, roadway), roadway, base_speed+randn())\n",
    "\n",
    "vehdef1 = VehicleDef(1,AgentClass.CAR, 4.8, 1.8)\n",
    "vehdef2 = VehicleDef(2,AgentClass.CAR, 4.8, 1.8)\n"
   ]
  },
  {
   "cell_type": "code",
   "execution_count": null,
   "metadata": {
    "collapsed": true
   },
   "outputs": [],
   "source": []
  },
  {
   "cell_type": "markdown",
   "metadata": {},
   "source": [
    "## Visualization stuff"
   ]
  },
  {
   "cell_type": "code",
   "execution_count": null,
   "metadata": {
    "collapsed": false
   },
   "outputs": [],
   "source": [
    "# Visualize motion primitives\n",
    "xgrid = linspace(V_MIN,V_MAX,V_STEPS)*ones(1,2*δ_STEPS+1)\n",
    "ygrid = (linspace(-δ_MAX,δ_MAX,δ_STEPS*2+1)*ones(1,V_STEPS))' # steering angle\n",
    "z = ΔXYθ[:,:,10,1]\n",
    "\n",
    "PyPlot.plot_surface(xgrid, ygrid, z, rstride=1,edgecolors=\"k\", cstride=1,\n",
    "    alpha=0.8, linewidth=0.25)"
   ]
  },
  {
   "cell_type": "markdown",
   "metadata": {},
   "source": [
    "# Features to add"
   ]
  },
  {
   "cell_type": "code",
   "execution_count": null,
   "metadata": {
    "collapsed": false
   },
   "outputs": [],
   "source": [
    "\"\"\"\n",
    "##########\n",
    "Optimization Objective Function\n",
    "- requires more correct measure of arc length s\n",
    "- reward progress on track\n",
    "- penalize heuristic functions of ϕ, t\n",
    "--- f(ϕ,t) to penalize steering away from centerline?\n",
    "\n",
    "##########\n",
    "ProximityKernel(): gives proximity to a given location against a set of locations that represent obstacles\n",
    "proximity = ProximityKernel(X,Y,θ,(ObstacleCoords))\n",
    "proximity = ProximityKernel(s,t,ϕ,(ObstaclesCoords))\n",
    "\n",
    "##########\n",
    "Array-based operations for a faster and more robust search through eligible motion primitives\n",
    "- Search highest V candidates first\n",
    "- break out of a candidate trajectory as soon as ineligible\n",
    "- If no trajectory is feasible, restart full search at horizon level h-1\n",
    "\n",
    "##########\n",
    "Tire Forces Dynamics\n",
    "\n",
    "##########\n",
    "Spline representation (or generation) of racetracks\n",
    "\n",
    "##########\n",
    "Cognitive hierarchy - ditribution over logit-level K\n",
    "\n",
    "\n",
    "\"\"\"\n",
    "\n",
    "\"\"\" Tim has already implemented Bicycle Geometry that I might be able to use for the motion primitives library \"\"\"\n"
   ]
  },
  {
   "cell_type": "code",
   "execution_count": null,
   "metadata": {
    "collapsed": false
   },
   "outputs": [],
   "source": [
    "\"\"\"\n",
    "Email update:\n",
    "What I did: \n",
    "\n",
    "Added functionality for computing the actual distance traveled at any point around the curve. \n",
    "This was actually pretty frustrating, because the Road Network Definition format is really inconvenient for obtaining such a measure\n",
    "\n",
    "What I would like to do\n",
    "Before you told me to start using AutomotiveDrivingModels.jl, I had been planning to design my own simulator with roads represented\n",
    "by B-splines. I like the AutomotiveDrivingModels framework, but roadway representation (or rather, roadway composition) \n",
    "is not very convenient. Thus, I plan to incorporate the B-spline representation\n",
    "Issues?\n",
    "\n",
    "\n",
    "\n",
    "\"\"\"\n"
   ]
  },
  {
   "cell_type": "code",
   "execution_count": null,
   "metadata": {
    "collapsed": true
   },
   "outputs": [],
   "source": [
    "############# INITIALIZE OBSTACLES ##############\n",
    "obstacle_IDs = []\n",
    "for j in 3:6\n",
    "    push!(obstacle_IDs, j)\n",
    "    ind_i = rand([i for i in 1:25])\n",
    "    ind_t = rand([i/100.0 for i in 1:100])\n",
    "    t = rand([i/10.0 for i in -10:10])*lane_width/2.0\n",
    "    ϕ = rand([i/20.0 for i in -20:20])*Float64(π)\n",
    "    segment = rand([i for i in 1:4])\n",
    "    roadind = RoadProjection(CurveProjection(CurveIndex(ind_i, ind_t), t, ϕ), LaneTag(segment,1))\n",
    "    vehstate = VehicleState(Frenet(roadind, roadway), roadway, 0.0)\n",
    "    vehdef = VehicleDef(j, AgentClass.CAR, 4.8, 1.8)\n",
    "    push!(scene, Vehicle(vehstate, vehdef))\n",
    "end\n",
    "# initialize obstacle_coords array\n",
    "obstacle_coords = zeros(3,length(obstacle_IDs))\n",
    "for i in 1:length(obstacle_IDs)\n",
    "    pos = scene.vehicles[obstacle_IDs[i]].state.posG\n",
    "    obstacle_coords[1,i] = pos.x\n",
    "    obstacle_coords[2,i] = pos.y\n",
    "    obstacle_coords[3,i] = pos.θ\n",
    "end\n",
    "# initialize proximity kernel - indicator for whether an agent needs to plan against a given obstacle\n",
    "proximity_array = zeros(2,size(obstacle_coords,2)) # Δr, Δθ\n",
    "proximity_kernel = zeros(1,size(proximity_array,2)) # 1[within_planning_horizon]"
   ]
  }
 ],
 "metadata": {
  "anaconda-cloud": {},
  "kernelspec": {
   "display_name": "Julia 0.5.0",
   "language": "julia",
   "name": "julia-0.5"
  },
  "language_info": {
   "file_extension": ".jl",
   "mimetype": "application/julia",
   "name": "julia",
   "version": "0.5.0"
  }
 },
 "nbformat": 4,
 "nbformat_minor": 0
}
