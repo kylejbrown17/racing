{
 "cells": [
  {
   "cell_type": "code",
   "execution_count": 1,
   "metadata": {
    "collapsed": false
   },
   "outputs": [
    {
     "data": {
      "text/html": [
       "<div id=\"interact-js-shim\">\n",
       "    <script charset=\"utf-8\">\n",
       "(function (IPython, $, _, MathJax) {\n",
       "    $.event.special.destroyed = {\n",
       "\tremove: function(o) {\n",
       "\t    if (o.handler) {\n",
       "\t\to.handler.apply(this, arguments)\n",
       "\t    }\n",
       "\t}\n",
       "    }\n",
       "\n",
       "    var OutputArea = IPython.version >= \"4.0.0\" ? require(\"notebook/js/outputarea\").OutputArea : IPython.OutputArea;\n",
       "\n",
       "    var redrawValue = function (container, type, val) {\n",
       "\tvar selector = $(\"<div/>\");\n",
       "\tvar oa = new OutputArea(_.extend(selector, {\n",
       "\t    selector: selector,\n",
       "\t    prompt_area: true,\n",
       "\t    events: IPython.events,\n",
       "\t    keyboard_manager: IPython.keyboard_manager\n",
       "\t})); // Hack to work with IPython 2.1.0\n",
       "\n",
       "\tswitch (type) {\n",
       "\tcase \"image/png\":\n",
       "            var _src = 'data:' + type + ';base64,' + val;\n",
       "\t    $(container).find(\"img\").attr('src', _src);\n",
       "\t    break;\n",
       "\tdefault:\n",
       "\t    var toinsert = OutputArea.append_map[type].apply(\n",
       "\t\toa, [val, {}, selector]\n",
       "\t    );\n",
       "\t    $(container).empty().append(toinsert.contents());\n",
       "\t    selector.remove();\n",
       "\t}\n",
       "\tif (type === \"text/latex\" && MathJax) {\n",
       "\t    MathJax.Hub.Queue([\"Typeset\", MathJax.Hub, toinsert.get(0)]);\n",
       "\t}\n",
       "    }\n",
       "\n",
       "\n",
       "    $(document).ready(function() {\n",
       "\tfunction initComm(evt, data) {\n",
       "\t    var comm_manager = data.kernel.comm_manager;\n",
       "        //_.extend(comm_manager.targets, require(\"widgets/js/widget\"))\n",
       "\t    comm_manager.register_target(\"Signal\", function (comm) {\n",
       "            comm.on_msg(function (msg) {\n",
       "                //Widgets.log(\"message received\", msg);\n",
       "                var val = msg.content.data.value;\n",
       "                $(\".signal-\" + comm.comm_id).each(function() {\n",
       "                var type = $(this).data(\"type\");\n",
       "                if (val[type]) {\n",
       "                    redrawValue(this, type, val[type], type);\n",
       "                }\n",
       "                });\n",
       "                delete val;\n",
       "                delete msg.content.data.value;\n",
       "            });\n",
       "\t    });\n",
       "\n",
       "\t    // coordingate with Comm and redraw Signals\n",
       "\t    // XXX: Test using Reactive here to improve performance\n",
       "\t    $([IPython.events]).on(\n",
       "\t\t'output_appended.OutputArea', function (event, type, value, md, toinsert) {\n",
       "\t\t    if (md && md.reactive) {\n",
       "                // console.log(md.comm_id);\n",
       "                toinsert.addClass(\"signal-\" + md.comm_id);\n",
       "                toinsert.data(\"type\", type);\n",
       "                // Signal back indicating the mimetype required\n",
       "                var comm_manager = IPython.notebook.kernel.comm_manager;\n",
       "                var comm = comm_manager.comms[md.comm_id];\n",
       "                comm.then(function (c) {\n",
       "                    c.send({action: \"subscribe_mime\",\n",
       "                       mime: type});\n",
       "                    toinsert.bind(\"destroyed\", function() {\n",
       "                        c.send({action: \"unsubscribe_mime\",\n",
       "                               mime: type});\n",
       "                    });\n",
       "                })\n",
       "\t\t    }\n",
       "\t    });\n",
       "\t}\n",
       "\n",
       "\ttry {\n",
       "\t    // try to initialize right away. otherwise, wait on the status_started event.\n",
       "\t    initComm(undefined, IPython.notebook);\n",
       "\t} catch (e) {\n",
       "\t    $([IPython.events]).on('kernel_created.Kernel kernel_created.Session', initComm);\n",
       "\t}\n",
       "    });\n",
       "})(IPython, jQuery, _, MathJax);\n",
       "</script>\n",
       "    <script>\n",
       "        window.interactLoadedFlag = true\n",
       "       $(\"#interact-js-shim\").bind(\"destroyed\", function () {\n",
       "           if (window.interactLoadedFlag) {\n",
       "               console.warn(\"JavaScript required by Interact will be removed if you remove this cell or run using Interact more than once.\")\n",
       "           }\n",
       "       })\n",
       "       $([IPython.events]).on(\"kernel_starting.Kernel kernel_restarting.Kernel\", function () { window.interactLoadedFlag = false })\n",
       "   </script>\n",
       "</div>"
      ]
     },
     "metadata": {},
     "output_type": "display_data"
    },
    {
     "name": "stderr",
     "output_type": "stream",
     "text": [
      "/Users/kyle/anaconda/lib/python2.7/site-packages/matplotlib/font_manager.py:273: UserWarning: Matplotlib is building the font cache using fc-list. This may take a moment.\n",
      "  warnings.warn('Matplotlib is building the font cache using fc-list. This may take a moment.')\n"
     ]
    }
   ],
   "source": [
    "using AutomotiveDrivingModels\n",
    "using AutoViz\n",
    "using Reactive\n",
    "using Interact\n",
    "\n",
    "import PyPlot"
   ]
  },
  {
   "cell_type": "markdown",
   "metadata": {},
   "source": [
    "## functions"
   ]
  },
  {
   "cell_type": "code",
   "execution_count": 2,
   "metadata": {
    "collapsed": false
   },
   "outputs": [
    {
     "data": {
      "text/plain": [
       "MotionPrimitives (generic function with 9 methods)"
      ]
     },
     "execution_count": 2,
     "metadata": {},
     "output_type": "execute_result"
    }
   ],
   "source": [
    "# Return a library of motion primitives (arcs of constant radius) representing short paths that the car can follow.\n",
    "function MotionPrimitives(\n",
    "    car_length::Float64=4.8,\n",
    "    v_min::Float64=0, \n",
    "    v_max::Float64=99, \n",
    "    v_steps::Int=100, \n",
    "    δ_max::Float64=Float64(π)/4, # max steering angle\n",
    "    δ_steps::Int=20, # resolution of steering angle\n",
    "    Δt::Float64=.05, # size of time-steps\n",
    "    h::Int=10 # lookahead horizon (in time-steps)\n",
    "    )\n",
    "    \n",
    "    # 3D array to store motion_primitives\n",
    "    motion_primitives = zeros(v_steps,2*δ_steps+1,2) # v: 0,...,99; δ: -45:45, (arc length, +/- radius)\n",
    "\n",
    "    v = linspace(v_min,v_max,v_steps)*ones(1,2*δ_steps+1)\n",
    "    δ = (linspace(-δ_max,δ_max,δ_steps*2+1)*ones(1,v_steps))' # steering angle\n",
    "\n",
    "    motion_primitives[:,:,1] = v*Δt*h # arc length = velocity * time\n",
    "    motion_primitives[:,:,2] = car_length./sin(δ) # radius of curvature (+ or -)\n",
    "    motion_primitives[:,1+δ_steps,2] = Inf; # radius of curvature is infinite if steering angle = 0\n",
    "    \n",
    "    destination_primitives = zeros(v_steps,2*δ_steps+1,h,3) # lookup table defining car's location at each of next h time steps\n",
    "\n",
    "    for i = 1:h\n",
    "        # angle = 2π * arc_length / r\n",
    "        dθ = v*Δt*i ./ abs(motion_primitives[:,:,2])\n",
    "        \n",
    "        # dX = abs(radius) * sin(angle)\n",
    "        destination_primitives[:,:,i,1] = abs(motion_primitives[:,:,2]) .* sin(dθ)\n",
    "        destination_primitives[:,1+δ_steps,i,1] = v[:,1+δ_steps]*Δt*i # centerline\n",
    "        \n",
    "        # dY = radius * (1 - cos(angle))\n",
    "        destination_primitives[:,:,i,2] = motion_primitives[:,:,2].*(1 - cos(dθ))\n",
    "        destination_primitives[:,1+δ_steps,i,2] = 0 # centerline\n",
    "        \n",
    "        destination_primitives[:,:,i,3] = dθ\n",
    "    end\n",
    "    \n",
    "    # motion_primitives[v, δ, 1,2] = s (arc_length), r (radius of curvature)\n",
    "    # destination_primitives are index by [v, δ, h, 1,2,3] = dx, dy, dθ = changes in x, y and θ after h time steps\n",
    "    return v, δ, motion_primitives, destination_primitives\n",
    "\n",
    "end"
   ]
  },
  {
   "cell_type": "code",
   "execution_count": 3,
   "metadata": {
    "collapsed": false
   },
   "outputs": [
    {
     "data": {
      "text/plain": [
       "QuadraticMask! (generic function with 1 method)"
      ]
     },
     "execution_count": 3,
     "metadata": {},
     "output_type": "execute_result"
    }
   ],
   "source": [
    "# quadratic logical mask\n",
    "function QuadraticMask!(library)\n",
    "    A = size(library)[1]\n",
    "    B = size(library)[2]\n",
    "    X = linspace(0,99,A)*ones(1,B)\n",
    "    Y = ones(A,1)*linspace(-20,20,B)'\n",
    "    f = 24*Y.^2 + X.^2\n",
    "    mask = 1.0*(f.<10000)\n",
    "    \n",
    "#     fig = figure()\n",
    "#     ax = gca()\n",
    "#     p = scatter(X,Y.*mask)\n",
    "#     xlabel(\"velocity\")\n",
    "#     ylabel(\"steering angle\")\n",
    "#     fig[:canvas][:draw]()\n",
    "\n",
    "    if length(size(library)) == 3\n",
    "        for i in 1 : size(library)[3]\n",
    "            library[:,:,i] = library[:,:,i] .* mask\n",
    "        end\n",
    "    end\n",
    "    if length(size(library)) == 4\n",
    "        for i in 1 : size(library)[3]\n",
    "            for j in 1 : size(library)[4]\n",
    "                library[:,:,i,j] = library[:,:,i,j] .* mask\n",
    "            end\n",
    "        end\n",
    "    end\n",
    "end"
   ]
  },
  {
   "cell_type": "code",
   "execution_count": 4,
   "metadata": {
    "collapsed": false
   },
   "outputs": [
    {
     "data": {
      "text/plain": [
       "HRHC_Controller (generic function with 1 method)"
      ]
     },
     "execution_count": 4,
     "metadata": {},
     "output_type": "execute_result"
    }
   ],
   "source": [
    "function HRHC_Controller(v_commands, δ_commands, arc_angle_library, ΔXYθ, scene)\n",
    "    global δ\n",
    "    global V_MIN # mininmum velocity, m/s\n",
    "    global V_MAX # maximum velocity, m/s\n",
    "    global V_STEPS # resolution of velocity\n",
    "\n",
    "    global δ_MAX # max steering angle - radians\n",
    "    global δ_MIN \n",
    "    global δ_STEPS # resolution of steering angle\n",
    "    global T_MAX\n",
    "    \n",
    "    global Δv₊ \n",
    "    global Δv₋\n",
    "    \n",
    "    global Δδ\n",
    "    global v_history\n",
    "    global δ_history\n",
    "    \n",
    "    # get current velocity and steering angle\n",
    "    state = scene.vehicles[1].state\n",
    "    v = state.v # current v\n",
    "    v_norm = v / V_MAX\n",
    "    δ = δ\n",
    "    \n",
    "    # Restrict search space to reachable states\n",
    "    v_index_low = max(1, round(Int,(v_norm - Δv₋)*V_STEPS)) # index of lowest reachable v in the next time step\n",
    "    v_index_high = min(V_STEPS, round(Int,(v_norm + Δv₊)*V_STEPS)) # index of highest reachable v in the next time step\n",
    "    \n",
    "    δ_index_low = max(1, (δ_STEPS+1) + round(Int,((δ - Δδ)/(δ_MAX - δ_MIN))*(2*δ_STEPS+1)))\n",
    "    δ_index_high = min((2*δ_STEPS+1), (δ_STEPS+1) + round(Int,((δ + Δδ)/(δ_MAX - δ_MIN))*(2*δ_STEPS+1)))\n",
    "    \n",
    "    # legal_moves = motion_primitives[v_index_low:v_index_high,δ_index_low:δ_index_high,:]\n",
    "    legal_ΔXYθ = ΔXYθ[v_index_low:v_index_high,δ_index_low:δ_index_high,10,:] # ΔX, ΔY, Δθ\n",
    "    legal_v = v_commands[v_index_low:v_index_high,δ_index_low:δ_index_high]\n",
    "    legal_δ = δ_commands[v_index_low:v_index_high,δ_index_low:δ_index_high]\n",
    "    \n",
    "    # get current global position\n",
    "    pos = state.posG\n",
    "\n",
    "    #calculate successor states\n",
    "    ΔX = legal_ΔXYθ[:,:,1] * cos(pos.θ) + legal_ΔXYθ[:,:,2] * -sin(pos.θ)\n",
    "    ΔY = legal_ΔXYθ[:,:,1] * sin(pos.θ) + legal_ΔXYθ[:,:,2] * cos(pos.θ)\n",
    "    Δθ = legal_ΔXYθ[:,:,3]\n",
    "    successor_states = zeros(size(legal_ΔXYθ))\n",
    "    successor_states[:,:,1] = ΔX + pos.x\n",
    "    successor_states[:,:,2] = ΔY + pos.y\n",
    "    successor_states[:,:,3] = Δθ + pos.θ\n",
    "    \n",
    "    # project successor states onto track to see if they are legal\n",
    "    s = zeros(size(successor_states[:,:,1]))\n",
    "    t = zeros(size(s))\n",
    "    ϕ = zeros(size(s))\n",
    "    successor_states_grid = reshape(successor_states, length(successor_states[:,:,1]),3) # must reshape to index correctly\n",
    "    for i in 1 : length(s)\n",
    "        myProj = Vec.proj(VecSE2(successor_states_grid[i,:]), roadway) # project point onto roadway\n",
    "        curve = myProj.curveproj\n",
    "        #     @show myProj.tag # tag determines which segment the car is on (effects the value of s)\n",
    "        s[i] = curve.ind.i + curve.ind.t # total distance traveled\n",
    "        t[i] = curve.t # distance from centerline\n",
    "        ϕ[i] = curve.ϕ\n",
    "    end\n",
    "    \n",
    "    # select command with highest forward progress\n",
    "    t_filter = (abs(t) .< T_MAX)\n",
    "    if sum(t_filter) > 0\n",
    "        eligible_s = s .* t_filter # filter out bad t values\n",
    "    end\n",
    "\n",
    "    index = indmax(eligible_s)\n",
    "    cmd = ind2sub(s,index) # \n",
    "    abs_cmd = (cmd[1]+v_index_low-1, cmd[2]+δ_index_low-1)    \n",
    "    \n",
    "    # compute trajectory\n",
    "    traj_ΔXYθ = ΔXYθ[abs_cmd[1],abs_cmd[2],:,:]\n",
    "\n",
    "    ΔX = traj_ΔXYθ[:,1] * cos(pos.θ) + traj_ΔXYθ[:,2] * -sin(pos.θ)\n",
    "    ΔY = traj_ΔXYθ[:,1] * sin(pos.θ) + traj_ΔXYθ[:,2] * cos(pos.θ)\n",
    "    Δθ = traj_ΔXYθ[:,3]\n",
    "\n",
    "    trajectory = zeros(size(traj_ΔXYθ))\n",
    "    trajectory[:,1] = ΔX + pos.x\n",
    "    trajectory[:,2] = ΔY + pos.y\n",
    "    trajectory[:,3] = Δθ + pos.θ\n",
    "\n",
    "    # screen trajectory for collisions / validity\n",
    "    traj_s = zeros(size(trajectory[:,1]))\n",
    "    traj_t = zeros(size(traj_s))\n",
    "    traj_ϕ = zeros(size(traj_s))\n",
    "\n",
    "    collision=false\n",
    "    valid_trajectory=true\n",
    "\n",
    "    for i in 1 : length(traj_s)\n",
    "        myProj = Vec.proj(VecSE2(trajectory[i,:]), roadway) # project point onto roadway\n",
    "        curve = myProj.curveproj\n",
    "        #     @show myProj.tag # tag determines which segment the car is on (effects the value of s)\n",
    "        traj_s[i] = curve.ind.i + curve.ind.t # total distance traveled\n",
    "        if collision\n",
    "            print(\"COLLISION PREDICTED!!! INVALID TRAJECTORY\")\n",
    "            valid_trajectory=false\n",
    "        end\n",
    "        traj_t[i] = curve.t # distance from centerline\n",
    "        if abs(traj_t[i]) > T_MAX\n",
    "            print(\"T OUT OF BOUNDS!!!\")\n",
    "            valid_trajectory=false\n",
    "        end\n",
    "        traj_ϕ[i] = curve.ϕ\n",
    "    end\n",
    "    \n",
    "    \n",
    "    δ = δ_commands[abs_cmd[1], abs_cmd[2]]\n",
    "    vP = v_commands[abs_cmd[1], abs_cmd[2]]\n",
    "    \n",
    "    next_state = VehicleState(VecSE2(trajectory[1,:]),roadway,v_commands[abs_cmd[1], abs_cmd[2]])\n",
    "    action = NextState(next_state)\n",
    "    \n",
    "    \n",
    "    push!(v_history,vP)\n",
    "    push!(δ_history,δ)\n",
    "    \n",
    "    return action, δ\n",
    "    \n",
    "end"
   ]
  },
  {
   "cell_type": "markdown",
   "metadata": {},
   "source": [
    "## MAIN: Make single car drive around race track"
   ]
  },
  {
   "cell_type": "code",
   "execution_count": 5,
   "metadata": {
    "collapsed": false
   },
   "outputs": [
    {
     "data": {
      "text/plain": [
       "16"
      ]
     },
     "execution_count": 5,
     "metadata": {},
     "output_type": "execute_result"
    }
   ],
   "source": [
    "#car parameters\n",
    "global car_length = 4.8 # front wheel to back wheel\n",
    "global car_width = 2.5\n",
    "\n",
    "global V_MIN = 0.0 # mininmum velocity, m/s\n",
    "global V_MAX = 100.0 # maximum velocity, m/s\n",
    "global V_STEPS = 100 # resolution of velocity\n",
    "\n",
    "global δ_MAX = Float64(π)/8 # max steering angle - radians\n",
    "global δ_MIN = -δ_MAX \n",
    "global δ_STEPS = 16 # resolution of steering angle"
   ]
  },
  {
   "cell_type": "code",
   "execution_count": 6,
   "metadata": {
    "collapsed": false
   },
   "outputs": [
    {
     "data": {
      "text/plain": [
       "1-element Array{AutomotiveDrivingModels.DriveAction,1}:\n",
       " #undef"
      ]
     },
     "execution_count": 6,
     "metadata": {},
     "output_type": "execute_result"
    }
   ],
   "source": [
    "#track parameters\n",
    "lane_width = 4.0*DEFAULT_LANE_WIDTH\n",
    "radius = 45.0\n",
    "edge_buffer = 0.25\n",
    "global T_MAX = lane_width/2.0 - car_width/2.0 - edge_buffer # max allowable projection distance from center of lane\n",
    "\n",
    "#initialize track\n",
    "srand(0)\n",
    "\n",
    "roadway = gen_stadium_roadway(1, radius=radius, lane_width=lane_width)\n",
    "roadind = RoadIndex(proj(VecSE2(0.0,-1*DEFAULT_LANE_WIDTH,0.0), roadway))\n",
    "\n",
    "scene = Scene()\n",
    "framerate = 24\n",
    "context = IntegratedContinuous(1/framerate,3)\n",
    "\n",
    "Δt=1/framerate # size of time-steps\n",
    "h=10 # lookahead horizon (in time-steps)\n",
    "\n",
    "models = Dict{Int, DriverModel}()\n",
    "carcolors = Dict{Int, Colorant}()\n",
    "base_speed= 20.0\n",
    "\n",
    "\n",
    "vehstate = VehicleState(Frenet(roadind, roadway), roadway, base_speed+randn())\n",
    "vehdef = VehicleDef(1,AgentClass.CAR, 4.8, 1.8)\n",
    "push!(scene,Vehicle(vehstate, vehdef))\n",
    "models[1] = Tim2DDriver(context, rec=SceneRecord(1,context.Δt, 1))\n",
    "set_desired_speed!(models[1], 30.0 + 20*rand())\n",
    "carcolors[1] = colorant\"red\"\n",
    "\n",
    "#actions = get_actions!(Array(DriveAction, length(scene)), scene, roadway, models)\n",
    "actions = Array(DriveAction, length(scene))\n",
    "\n",
    "\n",
    "# function drawsim(t, dt=NaN)\n",
    "#     get_actions!(actions, scene, roadway, models)\n",
    "#     tick!(scene, roadway, actions, models)\n",
    "#     render(scene, roadway, cam=FitToContentCamera(), car_colors=carcolors)\n",
    "# end"
   ]
  },
  {
   "cell_type": "code",
   "execution_count": null,
   "metadata": {
    "collapsed": false,
    "scrolled": false
   },
   "outputs": [],
   "source": [
    "# ticks = fps(framerate)\n",
    "# timestamps = map(_ -> time(), ticks)\n",
    "# map(drawsim, timestamps)"
   ]
  },
  {
   "cell_type": "markdown",
   "metadata": {},
   "source": [
    "# Run HRHC:"
   ]
  },
  {
   "cell_type": "code",
   "execution_count": 7,
   "metadata": {
    "collapsed": false
   },
   "outputs": [
    {
     "data": {
      "text/plain": [
       "0-element Array{Any,1}"
      ]
     },
     "execution_count": 7,
     "metadata": {},
     "output_type": "execute_result"
    }
   ],
   "source": [
    "# get motion primitives\n",
    "v_commands, δ_commands, arc_angle_library, ΔXYθ = MotionPrimitives(car_length,V_MIN,V_MAX,V_STEPS,δ_MAX,δ_STEPS,Δt,h);\n",
    "\n",
    "# apply logical mask to motion primitives library - eliminate impossible turns at high speeds\n",
    "QuadraticMask!(arc_angle_library)\n",
    "QuadraticMask!(ΔXYθ)\n",
    "\n",
    "# acceleration parameters\n",
    "global Δv₊ = 1.05 / V_MAX # ARBITRARY MAX PERCENT INCREASE in velocity per time step\n",
    "global Δv₋ = 1.55 / V_MAX # ARBITRARY MAX PERCENT DECREASE in velocity per time step \n",
    "\n",
    "# steering parameters\n",
    "global δ = 0\n",
    "global Δδ = Float64(π)/16 # ARBITRARY MAX change in steering angle per time step\n",
    "global v_history = []\n",
    "global δ_history = []\n",
    "\n",
    "# action, δ = HRHC_Controller(v_commands, δ_commands, arc_angle_library, ΔXYθ, scene, δ)"
   ]
  },
  {
   "cell_type": "code",
   "execution_count": 8,
   "metadata": {
    "collapsed": false,
    "scrolled": false
   },
   "outputs": [
    {
     "data": {
      "text/plain": [
       "drawsim (generic function with 2 methods)"
      ]
     },
     "execution_count": 8,
     "metadata": {},
     "output_type": "execute_result"
    }
   ],
   "source": [
    "function drawsim(t, dt=NaN)\n",
    "    actions[1],δ = HRHC_Controller(v_commands, δ_commands, arc_angle_library, ΔXYθ, scene)\n",
    "    tick!(scene, roadway, actions, models)\n",
    "    render(scene, roadway, cam=FitToContentCamera(), car_colors=carcolors)\n",
    "end"
   ]
  },
  {
   "cell_type": "code",
   "execution_count": 9,
   "metadata": {
    "collapsed": false
   },
   "outputs": [
    {
     "data": {
      "image/png": "[encoded data removed]",
      "text/plain": [
       "Cairo.CairoSurface{UInt32}(Ptr{Void} @0x00007fc8364d03a0,1000.0,600.0,#undef)"
      ]
     },
     "execution_count": 9,
     "metadata": {
      "comm_id": "6e7169d8-58ef-4c5a-b4ee-cedd1ced9fc2",
      "reactive": true
     },
     "output_type": "execute_result"
    }
   ],
   "source": [
    "ticks = fps(framerate)\n",
    "timestamps = map(_ -> time(), ticks)\n",
    "map(drawsim, timestamps)"
   ]
  },
  {
   "cell_type": "markdown",
   "metadata": {},
   "source": [
    "# HRHC Algorithm"
   ]
  },
  {
   "cell_type": "markdown",
   "metadata": {},
   "source": [
    "### 0. Initialize motion primitives"
   ]
  },
  {
   "cell_type": "code",
   "execution_count": null,
   "metadata": {
    "collapsed": false
   },
   "outputs": [],
   "source": [
    "# get motion primitives\n",
    "v_commands, δ_commands, arc_angle_library, ΔXYθ = MotionPrimitives(car_length,V_MIN,V_MAX,V_STEPS,δ_MAX,δ_STEPS,Δt,h);\n",
    "\n",
    "# apply logical mask to motion primitives library - eliminate impossible turns at high speeds\n",
    "QuadraticMask!(arc_angle_library)\n",
    "QuadraticMask!(ΔXYθ)"
   ]
  },
  {
   "cell_type": "markdown",
   "metadata": {},
   "source": [
    "### 1. Identify eligible (reachable) motion primitives based on current state"
   ]
  },
  {
   "cell_type": "code",
   "execution_count": null,
   "metadata": {
    "collapsed": false,
    "scrolled": true
   },
   "outputs": [],
   "source": [
    "# acceleration parameters\n",
    "Δv₊ = 1.0 / V_MAX # ARBITRARY MAX PERCENT INCREASE in velocity per time step\n",
    "Δv₋ = 1.5 / V_MAX # ARBITRARY MAX PERCENT DECREASE in velocity per time step \n",
    "\n",
    "# get current velocity\n",
    "state = scene.vehicles[1].state\n",
    "v = state.v # current v\n",
    "v_norm = v / V_MAX\n",
    "\n",
    "# Restrict search space to reachable states\n",
    "v_index_low = max(1, round(Int,(v_norm - Δv₋)*V_STEPS)) # index of lowest reachable v in the next time step\n",
    "v_index_high = min(V_STEPS, round(Int,(v_norm + Δv₊)*V_STEPS)) # index of highest reachable v in the next time step\n",
    "\n",
    "# get current steering angle\n",
    "δ = 0\n",
    "Δδ = Float64(π)/16 # ARBITRARY MAX change in steering angle per time step\n",
    "# Restrict search space to reachable states\n",
    "δ_index_low = max(1, (δ_STEPS+1) + round(Int,((δ - Δδ)/(δ_MAX - δ_MIN))*(2*δ_STEPS+1)))\n",
    "δ_index_high = min((2*δ_STEPS+1), (δ_STEPS+1) + round(Int,((δ + Δδ)/(δ_MAX - δ_MIN))*(2*δ_STEPS+1)))\n",
    "\n",
    "# legal_moves = motion_primitives[v_index_low:v_index_high,δ_index_low:δ_index_high,:]\n",
    "legal_ΔXYθ = ΔXYθ[v_index_low:v_index_high,δ_index_low:δ_index_high,10,:] # ΔX, ΔY, Δθ\n",
    "legal_v = v_commands[v_index_low:v_index_high,δ_index_low:δ_index_high]\n",
    "legal_δ = δ_commands[v_index_low:v_index_high,δ_index_low:δ_index_high]"
   ]
  },
  {
   "cell_type": "markdown",
   "metadata": {},
   "source": [
    "### 2. Calculate resulting final state (posG) from applying each given motion primitive"
   ]
  },
  {
   "cell_type": "code",
   "execution_count": null,
   "metadata": {
    "collapsed": false
   },
   "outputs": [],
   "source": [
    "# next_posG = scene.vehicles[1].state.posG\n",
    "pos = state.posG\n",
    "\n",
    "ΔX = legal_ΔXYθ[:,:,1] * cos(pos.θ) + legal_ΔXYθ[:,:,2] * -sin(pos.θ)\n",
    "ΔY = legal_ΔXYθ[:,:,1] * sin(pos.θ) + legal_ΔXYθ[:,:,2] * cos(pos.θ)\n",
    "Δθ = legal_ΔXYθ[:,:,3]\n",
    "\n",
    "successor_states = zeros(size(legal_ΔXYθ))\n",
    "successor_states[:,:,1] = ΔX + pos.x\n",
    "successor_states[:,:,2] = ΔY + pos.y\n",
    "successor_states[:,:,3] = Δθ + pos.θ\n",
    "\n",
    "PyPlot.axis(\"equal\")\n",
    "PyPlot.scatter(successor_states[:,:,1],successor_states[:,:,2])"
   ]
  },
  {
   "cell_type": "markdown",
   "metadata": {},
   "source": [
    "### 3. Project posG onto track to determine if a given motion is legal (in bounds)"
   ]
  },
  {
   "cell_type": "code",
   "execution_count": null,
   "metadata": {
    "collapsed": false
   },
   "outputs": [],
   "source": [
    "# there is a better and faster way to search (priority queue), but I'm going to start with the easy way\n",
    "s = zeros(size(successor_states[:,:,1]))\n",
    "t = zeros(size(s))\n",
    "ϕ = zeros(size(s))\n",
    "\n",
    "successor_states_grid = reshape(successor_states, length(successor_states[:,:,1]),3) # must reshape to index correctly\n",
    "\n",
    "for i in 1 : length(s)\n",
    "    myProj = Vec.proj(VecSE2(successor_states_grid[i,:]), roadway) # project point onto roadway\n",
    "    curve = myProj.curveproj\n",
    "    #     @show myProj.tag # tag determines which segment the car is on (effects the value of s)\n",
    "    s[i] = curve.ind.i + curve.ind.t # total distance traveled\n",
    "    t[i] = curve.t # distance from centerline\n",
    "    ϕ[i] = curve.ϕ\n",
    "end\n",
    "\n",
    "# PyPlot.axis(\"equal\")\n",
    "PyPlot.scatter(s,t)"
   ]
  },
  {
   "cell_type": "markdown",
   "metadata": {},
   "source": [
    "### 4. Select legal motion primitive that yields highest progress"
   ]
  },
  {
   "cell_type": "code",
   "execution_count": null,
   "metadata": {
    "collapsed": false
   },
   "outputs": [],
   "source": [
    "t_filter = (abs(t) .< T_MAX)\n",
    "if sum(t_filter) > 0\n",
    "    eligible_s = s .* t_filter # filter out bad t values\n",
    "end\n",
    "\n",
    "index = indmax(eligible_s)\n",
    "cmd = ind2sub(s,index) # \n",
    "abs_cmd = (cmd[1]+v_index_low-1, cmd[2]+δ_index_low-1)\n",
    "# legal_v[cmd[1],cmd[2]], legal_δ[cmd[1],cmd[2]], abs_cmd\n",
    "v_commands[abs_cmd[1], abs_cmd[2]], δ_commands[abs_cmd[1], abs_cmd[2]], abs_cmd"
   ]
  },
  {
   "cell_type": "markdown",
   "metadata": {},
   "source": [
    "### 5. Check each time step up to horizon to make sure the entire trajectory is legal"
   ]
  },
  {
   "cell_type": "code",
   "execution_count": null,
   "metadata": {
    "collapsed": false
   },
   "outputs": [],
   "source": [
    "# compute trajectory\n",
    "traj_ΔXYθ = ΔXYθ[abs_cmd[1],abs_cmd[2],:,:]\n",
    "\n",
    "ΔX = traj_ΔXYθ[:,1] * cos(pos.θ) + traj_ΔXYθ[:,2] * -sin(pos.θ)\n",
    "ΔY = traj_ΔXYθ[:,1] * sin(pos.θ) + traj_ΔXYθ[:,2] * cos(pos.θ)\n",
    "Δθ = traj_ΔXYθ[:,3]\n",
    "\n",
    "trajectory = zeros(size(traj_ΔXYθ))\n",
    "trajectory[:,1] = ΔX + pos.x\n",
    "trajectory[:,2] = ΔY + pos.y\n",
    "trajectory[:,3] = Δθ + pos.θ\n",
    "\n",
    "# screen trajectory for collisions / validity\n",
    "traj_s = zeros(size(trajectory[:,1]))\n",
    "traj_t = zeros(size(traj_s))\n",
    "traj_ϕ = zeros(size(traj_s))\n",
    "\n",
    "collision=false\n",
    "valid_trajectory=true\n",
    "\n",
    "for i in 1 : length(traj_s)\n",
    "    myProj = Vec.proj(VecSE2(trajectory[i,:]), roadway) # project point onto roadway\n",
    "    curve = myProj.curveproj\n",
    "    #     @show myProj.tag # tag determines which segment the car is on (effects the value of s)\n",
    "    traj_s[i] = curve.ind.i + curve.ind.t # total distance traveled\n",
    "    if collision\n",
    "        print(\"COLLISION PREDICTED!!! INVALID TRAJECTORY\")\n",
    "        valid_trajectory=false\n",
    "    end\n",
    "    traj_t[i] = curve.t # distance from centerline\n",
    "    if abs(traj_t[i]) > T_MAX\n",
    "        print(\"T OUT OF BOUNDS!!!\")\n",
    "        valid_trajectory=false\n",
    "    end\n",
    "    traj_ϕ[i] = curve.ϕ\n",
    "end\n",
    "\n",
    "@show valid_trajectory;"
   ]
  },
  {
   "cell_type": "code",
   "execution_count": null,
   "metadata": {
    "collapsed": false
   },
   "outputs": [],
   "source": [
    "# PyPlot.plot(traj_s,traj_t)"
   ]
  },
  {
   "cell_type": "markdown",
   "metadata": {},
   "source": [
    "### 6. Apply the motion primitive for a single time step"
   ]
  },
  {
   "cell_type": "code",
   "execution_count": null,
   "metadata": {
    "collapsed": false
   },
   "outputs": [],
   "source": [
    "next_state = VehicleState(VecSE2(trajectory[1,:]),roadway,v_commands[abs_cmd[1], abs_cmd[2]])\n",
    "action = NextState(next_state)"
   ]
  },
  {
   "cell_type": "markdown",
   "metadata": {},
   "source": [
    "### 7. Go back to 1"
   ]
  },
  {
   "cell_type": "markdown",
   "metadata": {},
   "source": [
    "# Features to add"
   ]
  },
  {
   "cell_type": "code",
   "execution_count": null,
   "metadata": {
    "collapsed": false
   },
   "outputs": [],
   "source": [
    "\"\"\"\n",
    "##########\n",
    "RoadwayTagMap[lane_tag] -> base distance around the track\n",
    "\n",
    "##########\n",
    "Optimization Objective Function\n",
    "- reward progress on track\n",
    "- penalize heuristic functions of ϕ, t\n",
    "--- f(ϕ,t) to penalize steering away from centerline?\n",
    "\n",
    "##########\n",
    "ProximityKernel(): gives proximity to a given location against a set of locations that represent obstacles\n",
    "proximity = ProximityKernel(X,Y,θ,(ObstacleCoords))\n",
    "proximity = ProximityKernel(s,t,ϕ,(ObstaclesCoords))\n",
    "\n",
    "##########\n",
    "Array-based operations for a faster and more robust search through eligible motion primitives\n",
    "- Search highest V candidates first\n",
    "- break out of a candidate trajectory as soon as ineligible\n",
    "- If no trajectory is feasible, restart full search at horizon level h-1\n",
    "\n",
    "\n",
    "Cognitive hierarchy - ditribution over logit-level K\n",
    "\n",
    "\n",
    "\"\"\""
   ]
  },
  {
   "cell_type": "code",
   "execution_count": null,
   "metadata": {
    "collapsed": true
   },
   "outputs": [],
   "source": [
    "\"\"\"\n",
    "Email update:\n",
    "What I did\n",
    "What I would like to do\n",
    "Issues?\n",
    "\"\"\"\n"
   ]
  }
 ],
 "metadata": {
  "anaconda-cloud": {},
  "kernelspec": {
   "display_name": "Julia 0.5.0",
   "language": "julia",
   "name": "julia-0.5"
  },
  "language_info": {
   "file_extension": ".jl",
   "mimetype": "application/julia",
   "name": "julia",
   "version": "0.5.0"
  }
 },
 "nbformat": 4,
 "nbformat_minor": 0
}
