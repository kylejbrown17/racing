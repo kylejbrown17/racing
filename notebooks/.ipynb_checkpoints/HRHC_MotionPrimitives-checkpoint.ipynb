{
 "cells": [
  {
   "cell_type": "markdown",
   "metadata": {},
   "source": [
    "## Motion Primitive representation\n",
    "\n",
    "### arc length (direct function of velocity), radius of curvature"
   ]
  },
  {
   "cell_type": "code",
   "execution_count": 1,
   "metadata": {
    "collapsed": false
   },
   "outputs": [
    {
     "data": {
      "text/plain": [
       "MotionPrimitives (generic function with 1 method)"
      ]
     },
     "execution_count": 1,
     "metadata": {},
     "output_type": "execute_result"
    }
   ],
   "source": [
    "# Construct a library of motion primitives (arcs of constant radius) representing short paths that the car can follow.\n",
    "function MotionPrimitives()\n",
    "    car_length = 2.5 # front wheel to back wheel\n",
    "\n",
    "    # 3D array to store motion_primitives\n",
    "    motion_primitives = zeros(100,91,2) # v: 0,...,99; δ: -45:45, (arc length, +/- radius)\n",
    "\n",
    "    Δt = .01 # time steps\n",
    "    h = 10 # lookahead horizon = 10 steps long\n",
    "\n",
    "    v = linspace(0,99,100)*ones(1,91)\n",
    "    δ = pi/180*(linspace(-45,45,91)*ones(1,100))' # steering angle\n",
    "\n",
    "    motion_primitives[:,:,1] = v*Δt*h # arc length = velocity * time\n",
    "    motion_primitives[:,:,2] = sign(δ).* (1.0./sin(δ)) # radius of curvature \n",
    "    motion_primitives[:,46,2] = Inf; # radius of curvature is infinite if steering angle = 0\n",
    "    \n",
    "    destination_primitives = zeros(h,100,91,3) # lookup table defining car's location at each of next h time steps\n",
    "\n",
    "    \n",
    "    dX = radius * (1 - cos(angle))\n",
    "    dY = abs(radius) * sin(angle)\n",
    "    dTheta = angle\n",
    "    \n",
    "    return motion_primitives\n",
    "end"
   ]
  },
  {
   "cell_type": "code",
   "execution_count": 2,
   "metadata": {
    "collapsed": false
   },
   "outputs": [
    {
     "data": {
      "text/plain": [
       "100×91×2 Array{Float64,3}:\n",
       "[:, :, 1] =\n",
       " 0.0  0.0  0.0  0.0  0.0  0.0  0.0  0.0  …  0.0  0.0  0.0  0.0  0.0  0.0  0.0\n",
       " 0.1  0.1  0.1  0.1  0.1  0.1  0.1  0.1     0.1  0.1  0.1  0.1  0.1  0.1  0.1\n",
       " 0.2  0.2  0.2  0.2  0.2  0.2  0.2  0.2     0.2  0.2  0.2  0.2  0.2  0.2  0.2\n",
       " 0.3  0.3  0.3  0.3  0.3  0.3  0.3  0.3     0.3  0.3  0.3  0.3  0.3  0.3  0.3\n",
       " 0.4  0.4  0.4  0.4  0.4  0.4  0.4  0.4     0.4  0.4  0.4  0.4  0.4  0.4  0.4\n",
       " 0.5  0.5  0.5  0.5  0.5  0.5  0.5  0.5  …  0.5  0.5  0.5  0.5  0.5  0.5  0.5\n",
       " 0.6  0.6  0.6  0.6  0.6  0.6  0.6  0.6     0.6  0.6  0.6  0.6  0.6  0.6  0.6\n",
       " 0.7  0.7  0.7  0.7  0.7  0.7  0.7  0.7     0.7  0.7  0.7  0.7  0.7  0.7  0.7\n",
       " 0.8  0.8  0.8  0.8  0.8  0.8  0.8  0.8     0.8  0.8  0.8  0.8  0.8  0.8  0.8\n",
       " 0.9  0.9  0.9  0.9  0.9  0.9  0.9  0.9     0.9  0.9  0.9  0.9  0.9  0.9  0.9\n",
       " 1.0  1.0  1.0  1.0  1.0  1.0  1.0  1.0  …  1.0  1.0  1.0  1.0  1.0  1.0  1.0\n",
       " 1.1  1.1  1.1  1.1  1.1  1.1  1.1  1.1     1.1  1.1  1.1  1.1  1.1  1.1  1.1\n",
       " 1.2  1.2  1.2  1.2  1.2  1.2  1.2  1.2     1.2  1.2  1.2  1.2  1.2  1.2  1.2\n",
       " ⋮                        ⋮              ⋱       ⋮                        ⋮  \n",
       " 8.8  8.8  8.8  8.8  8.8  8.8  8.8  8.8     8.8  8.8  8.8  8.8  8.8  8.8  8.8\n",
       " 8.9  8.9  8.9  8.9  8.9  8.9  8.9  8.9     8.9  8.9  8.9  8.9  8.9  8.9  8.9\n",
       " 9.0  9.0  9.0  9.0  9.0  9.0  9.0  9.0  …  9.0  9.0  9.0  9.0  9.0  9.0  9.0\n",
       " 9.1  9.1  9.1  9.1  9.1  9.1  9.1  9.1     9.1  9.1  9.1  9.1  9.1  9.1  9.1\n",
       " 9.2  9.2  9.2  9.2  9.2  9.2  9.2  9.2     9.2  9.2  9.2  9.2  9.2  9.2  9.2\n",
       " 9.3  9.3  9.3  9.3  9.3  9.3  9.3  9.3     9.3  9.3  9.3  9.3  9.3  9.3  9.3\n",
       " 9.4  9.4  9.4  9.4  9.4  9.4  9.4  9.4     9.4  9.4  9.4  9.4  9.4  9.4  9.4\n",
       " 9.5  9.5  9.5  9.5  9.5  9.5  9.5  9.5  …  9.5  9.5  9.5  9.5  9.5  9.5  9.5\n",
       " 9.6  9.6  9.6  9.6  9.6  9.6  9.6  9.6     9.6  9.6  9.6  9.6  9.6  9.6  9.6\n",
       " 9.7  9.7  9.7  9.7  9.7  9.7  9.7  9.7     9.7  9.7  9.7  9.7  9.7  9.7  9.7\n",
       " 9.8  9.8  9.8  9.8  9.8  9.8  9.8  9.8     9.8  9.8  9.8  9.8  9.8  9.8  9.8\n",
       " 9.9  9.9  9.9  9.9  9.9  9.9  9.9  9.9     9.9  9.9  9.9  9.9  9.9  9.9  9.9\n",
       "\n",
       "[:, :, 2] =\n",
       " -1.41421  -1.43956  -1.46628  …  1.49448  1.46628  1.43956  1.41421\n",
       " -1.41421  -1.43956  -1.46628     1.49448  1.46628  1.43956  1.41421\n",
       " -1.41421  -1.43956  -1.46628     1.49448  1.46628  1.43956  1.41421\n",
       " -1.41421  -1.43956  -1.46628     1.49448  1.46628  1.43956  1.41421\n",
       " -1.41421  -1.43956  -1.46628     1.49448  1.46628  1.43956  1.41421\n",
       " -1.41421  -1.43956  -1.46628  …  1.49448  1.46628  1.43956  1.41421\n",
       " -1.41421  -1.43956  -1.46628     1.49448  1.46628  1.43956  1.41421\n",
       " -1.41421  -1.43956  -1.46628     1.49448  1.46628  1.43956  1.41421\n",
       " -1.41421  -1.43956  -1.46628     1.49448  1.46628  1.43956  1.41421\n",
       " -1.41421  -1.43956  -1.46628     1.49448  1.46628  1.43956  1.41421\n",
       " -1.41421  -1.43956  -1.46628  …  1.49448  1.46628  1.43956  1.41421\n",
       " -1.41421  -1.43956  -1.46628     1.49448  1.46628  1.43956  1.41421\n",
       " -1.41421  -1.43956  -1.46628     1.49448  1.46628  1.43956  1.41421\n",
       "  ⋮                            ⋱                             ⋮      \n",
       " -1.41421  -1.43956  -1.46628     1.49448  1.46628  1.43956  1.41421\n",
       " -1.41421  -1.43956  -1.46628     1.49448  1.46628  1.43956  1.41421\n",
       " -1.41421  -1.43956  -1.46628  …  1.49448  1.46628  1.43956  1.41421\n",
       " -1.41421  -1.43956  -1.46628     1.49448  1.46628  1.43956  1.41421\n",
       " -1.41421  -1.43956  -1.46628     1.49448  1.46628  1.43956  1.41421\n",
       " -1.41421  -1.43956  -1.46628     1.49448  1.46628  1.43956  1.41421\n",
       " -1.41421  -1.43956  -1.46628     1.49448  1.46628  1.43956  1.41421\n",
       " -1.41421  -1.43956  -1.46628  …  1.49448  1.46628  1.43956  1.41421\n",
       " -1.41421  -1.43956  -1.46628     1.49448  1.46628  1.43956  1.41421\n",
       " -1.41421  -1.43956  -1.46628     1.49448  1.46628  1.43956  1.41421\n",
       " -1.41421  -1.43956  -1.46628     1.49448  1.46628  1.43956  1.41421\n",
       " -1.41421  -1.43956  -1.46628     1.49448  1.46628  1.43956  1.41421"
      ]
     },
     "execution_count": 2,
     "metadata": {},
     "output_type": "execute_result"
    }
   ],
   "source": [
    "car_length = 2.5 # front wheel to back wheel\n",
    "\n",
    "# 3D array to store motion_primitives\n",
    "motion_primitives = zeros(100,91,2) # v: 0,...,99; δ: -45:45, (arc length, +/- radius)\n",
    "\n",
    "Δt = .01 # time steps\n",
    "h = 10 # lookahead horizon = 10 steps long\n",
    "\n",
    "v = linspace(0,99,100)*ones(1,91)\n",
    "δ = pi/180*(linspace(-45,45,91)*ones(1,100))' # steering angle\n",
    "\n",
    "motion_primitives[:,:,1] = v*Δt*h # arc length = velocity * time\n",
    "motion_primitives[:,:,2] = (1.0./sin(δ)) # radius of curvature \n",
    "motion_primitives[:,46,2] = Inf; # radius of curvature is infinite if steering angle = 0\n",
    "\n",
    "motion_primitives\n",
    "\n",
    "destination_primitives = ones(100,91,h,3) # lookup table defining car's location at each of next h time steps\n",
    "\n",
    "for i = 1:h\n",
    "    # angle = 2π * arc_length / r\n",
    "    dθ = 2*Float64(π)*v*Δt*i ./ abs(motion_primitives[:,:,2])\n",
    "    # dX = radius * (1 - cos(angle))\n",
    "    destination_primitives[:,:,i,1] = motion_primitives[:,:,2].*(1 - cos(dθ))\n",
    "    # dY = abs(radius) * sin(angle)\n",
    "    destination_primitives[:,:,i,2] = abs(motion_primitives[:,:,1]) .* sin(dθ)\n",
    "    destination_primitives[:,:,i,3] = dθ\n",
    "    \n",
    "end\n"
   ]
  },
  {
   "cell_type": "code",
   "execution_count": 11,
   "metadata": {
    "collapsed": false
   },
   "outputs": [
    {
     "data": {
      "text/plain": [
       "100×91 Array{Float64,2}:\n",
       " -0.0         -0.0         -0.0         …  0.0         0.0         0.0       \n",
       " -0.00139554  -0.00137098  -0.001346       0.001346    0.00137098  0.00139554\n",
       " -0.00557942  -0.00548132  -0.00538155     0.00538155  0.00548132  0.00557942\n",
       " -0.0125434   -0.0123232   -0.0120992      0.0120992   0.0123232   0.0125434 \n",
       " -0.0222737   -0.0218835   -0.0214867      0.0214867   0.0218835   0.0222737 \n",
       " -0.0347511   -0.0341442   -0.0335267   …  0.0335267   0.0341442   0.0347511 \n",
       " -0.049951    -0.0490818   -0.0481972      0.0481972   0.0490818   0.049951  \n",
       " -0.0678434   -0.0666678   -0.0654712      0.0654712   0.0666678   0.0678434 \n",
       " -0.088393    -0.0868688   -0.085317       0.085317    0.0868688   0.088393  \n",
       " -0.111559    -0.109646    -0.107698       0.107698    0.109646    0.111559  \n",
       " -0.137296    -0.134957    -0.132574    …  0.132574    0.134957    0.137296  \n",
       " -0.165554    -0.162753    -0.159898       0.159898    0.162753    0.165554  \n",
       " -0.196275    -0.19298     -0.18962        0.18962     0.19298     0.196275  \n",
       "  ⋮                                     ⋱                          ⋮         \n",
       " -2.43132     -2.54123     -2.65166        2.65166     2.54123     2.43132   \n",
       " -2.38667     -2.49974     -2.61361        2.61361     2.49974     2.38667   \n",
       " -2.34011     -2.45624     -2.57344     …  2.57344     2.45624     2.34011   \n",
       " -2.29172     -2.41081     -2.53124        2.53124     2.41081     2.29172   \n",
       " -2.24159     -2.36352     -2.48709        2.48709     2.36352     2.24159   \n",
       " -2.18984     -2.31447     -2.44106        2.44106     2.31447     2.18984   \n",
       " -2.13655     -2.26376     -2.39324        2.39324     2.26376     2.13655   \n",
       " -2.08184     -2.21148     -2.34372     …  2.34372     2.21148     2.08184   \n",
       " -2.02581     -2.15773     -2.29259        2.29259     2.15773     2.02581   \n",
       " -1.96857     -2.1026      -2.23995        2.23995     2.1026      1.96857   \n",
       " -1.91024     -2.04622     -2.18588        2.18588     2.04622     1.91024   \n",
       " -1.85093     -1.98868     -2.13049        2.13049     1.98868     1.85093   "
      ]
     },
     "execution_count": 11,
     "metadata": {},
     "output_type": "execute_result"
    }
   ],
   "source": [
    "motion_primitives[:,:,2] .* (1 - cos(2*Float64(π)*v*Δt*1 ./ abs(motion_primitives[:,:,2])))"
   ]
  },
  {
   "cell_type": "markdown",
   "metadata": {},
   "source": [
    "### Vx, Vy, \\omega"
   ]
  },
  {
   "cell_type": "code",
   "execution_count": null,
   "metadata": {
    "collapsed": true
   },
   "outputs": [],
   "source": [
    "function MotionPrimitivesDifferential()\n",
    "    car_length = 2.5 # front wheel to back wheel\n",
    "\n",
    "    # 3D array to store motion_primitives\n",
    "    motion_primitives = zeros(100,91,2) # v: 0,...,99; δ: -45:45, (Vy,ω)\n",
    "\n",
    "    Δt = .01 # time steps\n",
    "    h = 10 # lookahead horizon = 10 steps long\n",
    "\n",
    "    v = linspace(0,99,100)*ones(1,91)\n",
    "    δ = pi/180*(linspace(-45,45,91)*ones(1,100))' # steering angle\n",
    "    \n",
    "    \n",
    "    \n",
    "    return motion_primitives\n",
    "end"
   ]
  }
 ],
 "metadata": {
  "anaconda-cloud": {},
  "kernelspec": {
   "display_name": "Julia 0.5.0",
   "language": "julia",
   "name": "julia-0.5"
  },
  "language_info": {
   "file_extension": ".jl",
   "mimetype": "application/julia",
   "name": "julia",
   "version": "0.5.0"
  }
 },
 "nbformat": 4,
 "nbformat_minor": 0
}
