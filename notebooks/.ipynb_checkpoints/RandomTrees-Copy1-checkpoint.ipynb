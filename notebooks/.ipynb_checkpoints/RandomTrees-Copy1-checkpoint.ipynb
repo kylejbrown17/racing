{
 "cells": [
  {
   "cell_type": "code",
   "execution_count": 1,
   "metadata": {
    "collapsed": false
   },
   "outputs": [
    {
     "data": {
      "text/html": [
       "<div id=\"interact-js-shim\">\n",
       "    <script charset=\"utf-8\">\n",
       "(function (IPython, $, _, MathJax) {\n",
       "    $.event.special.destroyed = {\n",
       "\tremove: function(o) {\n",
       "\t    if (o.handler) {\n",
       "\t\to.handler.apply(this, arguments)\n",
       "\t    }\n",
       "\t}\n",
       "    }\n",
       "\n",
       "    var OutputArea = IPython.version >= \"4.0.0\" ? require(\"notebook/js/outputarea\").OutputArea : IPython.OutputArea;\n",
       "\n",
       "    var redrawValue = function (container, type, val) {\n",
       "\tvar selector = $(\"<div/>\");\n",
       "\tvar oa = new OutputArea(_.extend(selector, {\n",
       "\t    selector: selector,\n",
       "\t    prompt_area: true,\n",
       "\t    events: IPython.events,\n",
       "\t    keyboard_manager: IPython.keyboard_manager\n",
       "\t})); // Hack to work with IPython 2.1.0\n",
       "\n",
       "\tswitch (type) {\n",
       "\tcase \"image/png\":\n",
       "            var _src = 'data:' + type + ';base64,' + val;\n",
       "\t    $(container).find(\"img\").attr('src', _src);\n",
       "\t    break;\n",
       "\tcase \"text/latex\":\n",
       "\t\tif (MathJax){\n",
       "\t\t\tvar math = MathJax.Hub.getAllJax(container)[0];\n",
       "\t\t\tMathJax.Hub.Queue([\"Text\", math, val.replace(/^\\${1,2}|\\${1,2}$/g, '')]);\n",
       "\t\t\tbreak;\n",
       "\t\t}\n",
       "\tdefault:\n",
       "\t    var toinsert = OutputArea.append_map[type].apply(\n",
       "\t\toa, [val, {}, selector]\n",
       "\t    );\n",
       "\t    $(container).empty().append(toinsert.contents());\n",
       "\t    selector.remove();\n",
       "\t}\n",
       "    }\n",
       "\n",
       "\n",
       "    $(document).ready(function() {\n",
       "\tfunction initComm(evt, data) {\n",
       "\t    var comm_manager = data.kernel.comm_manager;\n",
       "        //_.extend(comm_manager.targets, require(\"widgets/js/widget\"))\n",
       "\t    comm_manager.register_target(\"Signal\", function (comm) {\n",
       "            comm.on_msg(function (msg) {\n",
       "                var val = msg.content.data.value;\n",
       "                $(\".signal-\" + comm.comm_id).each(function() {\n",
       "                var type = $(this).data(\"type\");\n",
       "                if (typeof(val[type]) !== \"undefined\" && val[type] !== null) {\n",
       "                    redrawValue(this, type, val[type], type);\n",
       "                }\n",
       "                });\n",
       "                delete val;\n",
       "                delete msg.content.data.value;\n",
       "            });\n",
       "\t    });\n",
       "\n",
       "\t    // coordingate with Comm and redraw Signals\n",
       "\t    // XXX: Test using Reactive here to improve performance\n",
       "\t    $([IPython.events]).on(\n",
       "\t\t'output_appended.OutputArea', function (event, type, value, md, toinsert) {\n",
       "\t\t    if (md && md.reactive) {\n",
       "                // console.log(md.comm_id);\n",
       "                toinsert.addClass(\"signal-\" + md.comm_id);\n",
       "                toinsert.data(\"type\", type);\n",
       "                // Signal back indicating the mimetype required\n",
       "                var comm_manager = IPython.notebook.kernel.comm_manager;\n",
       "                var comm = comm_manager.comms[md.comm_id];\n",
       "                comm.then(function (c) {\n",
       "                    c.send({action: \"subscribe_mime\",\n",
       "                       mime: type});\n",
       "                    toinsert.bind(\"destroyed\", function() {\n",
       "                        c.send({action: \"unsubscribe_mime\",\n",
       "                               mime: type});\n",
       "                    });\n",
       "                })\n",
       "\t\t    }\n",
       "\t    });\n",
       "\t}\n",
       "\n",
       "\ttry {\n",
       "\t    // try to initialize right away. otherwise, wait on the status_started event.\n",
       "\t    initComm(undefined, IPython.notebook);\n",
       "\t} catch (e) {\n",
       "\t    $([IPython.events]).on('kernel_created.Kernel kernel_created.Session', initComm);\n",
       "\t}\n",
       "    });\n",
       "})(IPython, jQuery, _, MathJax);\n",
       "</script>\n",
       "    <script>\n",
       "        window.interactLoadedFlag = true\n",
       "       $(\"#interact-js-shim\").bind(\"destroyed\", function () {\n",
       "           if (window.interactLoadedFlag) {\n",
       "               console.warn(\"JavaScript required by Interact will be removed if you remove this cell or run using Interact more than once.\")\n",
       "           }\n",
       "       })\n",
       "       $([IPython.events]).on(\"kernel_starting.Kernel kernel_restarting.Kernel\", function () { window.interactLoadedFlag = false })\n",
       "   </script>\n",
       "</div>"
      ]
     },
     "metadata": {},
     "output_type": "display_data"
    },
    {
     "name": "stderr",
     "output_type": "stream",
     "text": [
      "/Users/kyle/anaconda/lib/python2.7/site-packages/matplotlib/font_manager.py:273: UserWarning: Matplotlib is building the font cache using fc-list. This may take a moment.\n",
      "  warnings.warn('Matplotlib is building the font cache using fc-list. This may take a moment.')\n"
     ]
    }
   ],
   "source": [
    "using AutomotiveDrivingModels\n",
    "using AutoViz\n",
    "using Reactive\n",
    "using Interact\n",
    "using SplineUtils\n",
    "using SplineRaceWay\n",
    "using HierarchicalRecedingHorizonController\n",
    "using NearestNeighbors"
   ]
  },
  {
   "cell_type": "code",
   "execution_count": 2,
   "metadata": {
    "collapsed": true
   },
   "outputs": [],
   "source": [
    "# scene parameters\n",
    "scene = Scene()\n",
    "framerate = 24\n",
    "Δt = 1.0/framerate # size of rendering timesteps\n",
    "n_integration_sub_steps = 3 # sub steps for smoother integration\n",
    "context = IntegratedContinuous(Δt, n_integration_sub_steps) # integrated continuous context\n",
    "\n",
    "#car parameters\n",
    "car_length = 4.8 # front wheel to back wheel\n",
    "car_width = 2.5\n",
    "v⁰  = 0.0 # initial velocity\n",
    "δ⁰ = 0.0 # initical steering angle\n",
    "\n",
    "############### INITIALIZE TRACK ################\n",
    "lane_width = 30.0\n",
    "radius = 45.0\n",
    "edge_buffer = 0.25\n",
    "T_MAX = lane_width/2.0 - car_width/2.0 - edge_buffer # max allowable projection distance from center of lane\n",
    "base_speed= 0.0\n",
    "\n",
    "# spline control points\n",
    "Pts = 50*[0 -1 -2 -3 -3.5 -3 -2 -1 -0.5 -1 -2 -3 -4 -5 -6 -6.5 -6 -5.5 -6 -6 -5 -4 -3 -2 -1.5 -1 0 1 1.5 2 3 4 5 6.25 7 7 7 7 7 7 7 6 5 4 4 4 3 2 1 0; \n",
    "       0 0 0 0 -1 -2 -2 -2 -3 -4 -4 -4 -4 -4 -4 -3 -2 -1 0 1 2 3 4 4 3 2 2 2 3 4 4 4 4 4 3 2 1 0 -1 -2 -3 -4 -4 -3 -2 -1 0 0 0 0]\n",
    "degree = 3 # degree of spline\n",
    "num_points = 10001\n",
    "num_samples = 1000\n",
    "\n",
    "track = Raceway(Pts,degree,num_points,num_samples,lane_width)\n",
    "\n",
    "carcolors = Dict{Int, Colorant}()\n",
    "\n",
    "roadind1 = RoadIndex(CurveIndex(4,0),LaneTag(1,1))\n",
    "vehstate1 = VehicleState(Frenet(roadind1, track.roadway), track.roadway, 0.0)\n",
    "vehdef1 = VehicleDef(1,AgentClass.CAR, car_length, car_width)\n",
    "push!(scene,Vehicle(vehstate1, vehdef1))\n",
    "carcolors[1] = colorant\"red\"\n",
    "track.models[1] = mapHRHC(1,track.roadway,context,h=12,v_max=120.0,μ=30.0,a_step=12.0,a_range=[-1,0,1],k=2)\n",
    "\n",
    "roadind2 = RoadIndex(CurveIndex(4,0),LaneTag(1,1))\n",
    "vehstate2 = VehicleState(Frenet(roadind2, track.roadway), track.roadway, 0.0)\n",
    "vehdef2 = VehicleDef(2,AgentClass.CAR, car_length, car_width)\n",
    "push!(scene,Vehicle(vehstate2, vehdef2))\n",
    "carcolors[2] = colorant\"blue\"\n",
    "track.models[2] = mapHRHC(2,track.roadway,context,h=12,v_max=125.0,μ=32.0,a_step=12.0,a_range=[-1,0,1],k=3)\n",
    "\n",
    "roadind3 = RoadIndex(CurveIndex(14,0),LaneTag(1,1))\n",
    "vehstate3 = VehicleState(Frenet(roadind3, track.roadway), track.roadway, 0.0)\n",
    "vehdef3 = VehicleDef(3,AgentClass.CAR, car_length, car_width)\n",
    "push!(scene,Vehicle(vehstate3, vehdef3))\n",
    "carcolors[3] = colorant\"yellow\"\n",
    "track.models[3] = mapHRHC(3,track.roadway,context,h=12,v_max=100.0,μ=25.0,a_step=12.0,a_range=[-1,0,1],k=3)\n",
    "\n",
    "roadind4 = RoadIndex(CurveIndex(410,0),LaneTag(1,1))\n",
    "vehstate4 = VehicleState(Frenet(roadind4, track.roadway), track.roadway, 0.0)\n",
    "vehdef4 = VehicleDef(4,AgentClass.CAR, car_length, car_width)\n",
    "push!(scene,Vehicle(vehstate4, vehdef4))\n",
    "carcolors[4] = colorant\"green\"\n",
    "track.models[4] = mapHRHC(4,track.roadway,context,h=12,v_max=125.0,μ=36.0,a_step=16.0,a_range=[-1,0,1],k=1)\n",
    "\n",
    "actions = Array(DriveAction, length(scene))\n",
    "\n",
    "track.obstacleMap = generateObstacleMap(scene, track.models)\n",
    "track;"
   ]
  },
  {
   "cell_type": "code",
   "execution_count": null,
   "metadata": {
    "collapsed": true
   },
   "outputs": [],
   "source": [
    "pathSegment(v,δ,h,x₀,y₀,θ₀,base_node.v_idx,track,agent)"
   ]
  },
  {
   "cell_type": "code",
   "execution_count": 3,
   "metadata": {
    "collapsed": false,
    "scrolled": true
   },
   "outputs": [],
   "source": [
    "type pathSegment\n",
    "    x::Array{Float64}\n",
    "    y::Array{Float64}\n",
    "    θ::Array{Float64}\n",
    "    s::Float64\n",
    "    t::Float64\n",
    "    ϕ::Float64\n",
    "    v_idx::Int\n",
    "    h::Int\n",
    "    v_bds\n",
    "    δ_bds\n",
    "    h_bds\n",
    "    \n",
    "    function pathSegment(v_cmd,δ_cmd,h,x₀,y₀,θ₀,vᵢ,track,agent)\n",
    "        pS = new()\n",
    "        pS.h = h\n",
    "        ΔXYθ = agent.motion_map[vᵢ][v_cmd,δ_cmd,1:h,:]\n",
    "        pS.x = x₀ + cos(θ₀)*ΔXYθ[:,1] - sin(θ₀)*ΔXYθ[:,2]\n",
    "        pS.y = y₀ + sin(θ₀)*ΔXYθ[:,1] + cos(θ₀)*ΔXYθ[:,2]\n",
    "        pS.θ = θ₀ + ΔXYθ[:,3]\n",
    "        v_idx = vᵢ\n",
    "        for _ in 1:h\n",
    "            # may want to pre-compute this in motion primitives\n",
    "            v_idx = agent.v_map[v_idx][v_cmd,δ_cmd] # increment velocity to the appropriate level\n",
    "        end\n",
    "        pS.v_idx = v_idx\n",
    "        pS.v_bds = [1 size(agent.motion_map[vᵢ],1)]\n",
    "        pS.δ_bds = [1 size(agent.motion_map[vᵢ],2)]\n",
    "        pS.h_bds = [1 agent.h]\n",
    "        pS.s, pS.t, pS.ϕ = kdProject(pS.x[end],pS.y[end],pS.θ[end],track.tree,track.roadway,agent)\n",
    "        \n",
    "        pS\n",
    "    end\n",
    "    \n",
    "end"
   ]
  },
  {
   "cell_type": "code",
   "execution_count": null,
   "metadata": {
    "collapsed": false
   },
   "outputs": [],
   "source": [
    "# moving average filter over curvature - used to guide motion primitive search for controller\n",
    "filtersize = 20\n",
    "\n",
    "μk = [mean(track.k[i:i+filtersize]) for i in 1:(length(track.k) - filtersize)]\n",
    "σk = [var(track.k[i:i+filtersize]) for i in 1:(length(track.k) - filtersize)]\n",
    "\n",
    "PyPlot.figure(figsize=[8,3])\n",
    "PyPlot.plot(μk)\n",
    "PyPlot.plot(100*σk,c=\"r\")"
   ]
  },
  {
   "cell_type": "code",
   "execution_count": null,
   "metadata": {
    "collapsed": false,
    "scrolled": true
   },
   "outputs": [],
   "source": [
    "agent = track.models[1]\n",
    "agent.v_cmd = 20\n",
    "path = pathSegment(3,20,10,0,0,0,agent.v_cmd,track,agent)\n",
    "# s,t,ϕ = kdProject(path.x[end],path.y[end],path.θ[end],track.tree,track.roadway,agent)\n",
    "path.v_idx"
   ]
  },
  {
   "cell_type": "code",
   "execution_count": null,
   "metadata": {
    "collapsed": false
   },
   "outputs": [],
   "source": [
    "δ_mid = Int((size(agent.motion_map[agent.v_cmd],2) + 1)/2)\n",
    "v = size(agent.motion_map[agent.v_cmd],1)\n",
    "h = agent.h\n",
    "lookahead = agent.motion_map[agent.v_cmd][v,δ_mid,h,1] # farthest possible progress from current position\n",
    "\n",
    "posG = scene.vehicles[agent.car_ID].state.posG\n",
    "\n",
    "i_list, d_list = knn(track.tree,[posG.x;posG.y],1)\n",
    "curve_idx = i_list[1]\n",
    "\n",
    "lookahead/track.Δs"
   ]
  },
  {
   "cell_type": "code",
   "execution_count": null,
   "metadata": {
    "collapsed": false
   },
   "outputs": [],
   "source": [
    "Int(round(agent.motion_map[200][3,δ_mid,12,1]/track.Δs))"
   ]
  },
  {
   "cell_type": "code",
   "execution_count": 91,
   "metadata": {
    "collapsed": false,
    "scrolled": true
   },
   "outputs": [],
   "source": [
    "agent = track.models[1]\n",
    "agent.v_cmd = 50\n",
    "v_idx = agent.v_cmd\n",
    "\n",
    "δ_mid = Int((size(agent.motion_map[agent.v_cmd],2) + 1)/2)\n",
    "v = size(agent.motion_map[agent.v_cmd],1)\n",
    "h = agent.h\n",
    "loohahead = agent.motion_map[agent.v_cmd][v,δ_mid,h,:] # farthest possible progress from current position\n",
    "\n",
    "\n",
    "H = 30 # total planning horizon\n",
    "N = 40 # total trajectories to sample\n",
    "n = 10 # sampling factor per round\n",
    "B_paths = [] # base paths\n",
    "M_paths = [] # mid paths\n",
    "C_paths = [] # completed trajectories\n",
    "\n",
    "# v_idx_range = [i for i in 1:size(agent.motion_map[v_idx],1)]\n",
    "# δ_idx_range = [i for i in 1:size(agent.motion_map[v_idx],2)]\n",
    "# h_idx_range = [i for i in 1:agent.h]\n",
    "\n",
    "v_idx_range = [i for i in 1:size(agent.motion_map[v_idx],1)]\n",
    "δ_idx_range = [i for i in 15:29]\n",
    "h_idx_range = [i for i in 6:agent.h]\n",
    "\n",
    "# initial trajectories\n",
    "v_idxs = rand(v_idx_range,n,1)\n",
    "δ_idxs = rand(δ_idx_range,n,1)\n",
    "h_idxs = rand(h_idx_range,n,1)\n",
    "\n",
    "posG = scene.vehicles[agent.car_ID].state.posG\n",
    "posF = scene.vehicles[agent.car_ID].state.posF\n",
    "\n",
    "for i in 1:n\n",
    "    path = []\n",
    "    \n",
    "#     ΔXYθ = agent.motion_map[v_idx][v_idxs[i],δ_idxs[i],h_idxs[i],:]\n",
    "#     XYθ = [posG.x; posG.y; posG.θ] + [cos(posG.θ) -sin(posG.θ) 0;sin(posG.θ) cos(posG.θ) 0; 0 0 1]*ΔXYθ\n",
    "#     s,t,ϕ = kdProject(XYθ[1],XYθ[2],XYθ[3],track.tree,track.roadway,agent)\n",
    "#     o = calculateObjective(agent.car_ID,posF.s,s,t,ϕ,agent.T_MAX)\n",
    "#     v_cmd = agent.v_map[v_idx][v_idxs[i],δ_idxs[i]]\n",
    "#     push!(path,[v_cmd,δ_idxs[i],h_idxs[i],XYθ])\n",
    "    \n",
    "#     ΔXYθ = agent.motion_map[v_idx][v_idxs[i],δ_idxs[i],1:h_idxs[i],:]\n",
    "#     X = posG.x + cos(posG.θ)*ΔXYθ[:,1] - sin(posG.θ)*ΔXYθ[:,2]\n",
    "#     Y = posG.y + sin(posG.θ)*ΔXYθ[:,1] + cos(posG.θ)*ΔXYθ[:,2]\n",
    "#     θ = posG.θ + ΔXYθ[:,3]\n",
    "#     v_cmd = agent.v_map[agent.v_cmd][v_idxs[i],δ_idxs[i]]\n",
    "#     push!(path,[v_cmd,δ_idxs[i],h_idxs[i],X,Y,θ])\n",
    "    \n",
    "    push!(path,pathSegment(v_idxs[i],δ_idxs[i],h_idxs[i],posG.x,posG.y,posG.θ,agent.v_cmd,track,agent))\n",
    "\n",
    "    \n",
    "    push!(M_paths,path)\n",
    "end"
   ]
  },
  {
   "cell_type": "code",
   "execution_count": 92,
   "metadata": {
    "collapsed": false
   },
   "outputs": [
    {
     "data": {
      "text/plain": [
       "(10,0)"
      ]
     },
     "execution_count": 92,
     "metadata": {},
     "output_type": "execute_result"
    }
   ],
   "source": [
    "length(M_paths),length(B_paths)"
   ]
  },
  {
   "cell_type": "code",
   "execution_count": 93,
   "metadata": {
    "collapsed": false,
    "scrolled": false
   },
   "outputs": [],
   "source": [
    "# v_idxs = rand(v_idx_range,n,1)\n",
    "# δ_idxs = rand(δ_idx_range,n,1)\n",
    "# h_idxs = rand(h_idx_range,n,1)\n",
    "\n",
    "while length(C_paths) < N\n",
    "    B_paths = M_paths\n",
    "    M_paths = []\n",
    "#     for i in 1:n\n",
    "    while length(M_paths) < n && length(C_paths) < N\n",
    "        path_idx = rand([j for j in 1:length(B_paths)]) \n",
    "#         path = copy(B_paths[path_idx]) # choose an existing path at random\n",
    "#         v_idx = path[end][1] # current velocity index for motion planning\n",
    "        \n",
    "#         overshoot = max(0, sum([p[3] for p in path]) - H) # overshoot past H (full horizon)\n",
    "#         if overshoot > 0\n",
    "#             path[end][3] -= overshoot\n",
    "#         end\n",
    "#         θ = path[end][end][3]\n",
    "#         ΔXYθ = agent.motion_map[v_idx][v_idxs[i],δ_idxs[i],h_idxs[i],:]\n",
    "#         XYθ = path[end][end] + [cos(θ) -sin(θ) 0; sin(θ) cos(θ) 0; 0 0 1]*ΔXYθ\n",
    "#         s,t,ϕ = kdProject(XYθ[1],XYθ[2],XYθ[3],track.tree,track.roadway,agent)\n",
    "#         o = calculateObjective(agent.car_ID,posF.s,s,t,ϕ,agent.T_MAX)\n",
    "#         v_cmd = agent.v_map[v_idx][v_idxs[i],δ_idxs[i]]\n",
    "#         push!(path,[v_cmd,δ_idxs[i],h_idxs[i],XYθ])\n",
    "        \n",
    "#         x₀ = path[end][4][end]\n",
    "#         y₀ = path[end][5][end]\n",
    "#         θ₀ = path[end][6][end]\n",
    "        \n",
    "#         ΔXYθ = agent.motion_map[v_idx][v_idxs[i],δ_idxs[i],1:h_idxs[i],:]\n",
    "#         X = x₀ + cos(θ₀)*ΔXYθ[:,1] - sin(θ₀)*ΔXYθ[:,2]\n",
    "#         Y = y₀ + sin(θ₀)*ΔXYθ[:,1] + cos(θ₀)*ΔXYθ[:,2]\n",
    "#         θ = θ₀ + ΔXYθ[:,3]\n",
    "#         v_cmd = agent.v_map[v_idx][v_idxs[i],δ_idxs[i]]\n",
    "#         push!(path,[v_cmd,δ_idxs[i],h_idxs[i],X,Y,θ])\n",
    "        \n",
    "        path = copy(B_paths[path_idx])\n",
    "        base_node = path[end]\n",
    "        v_idx = base_node.v_idx\n",
    "        \n",
    "        v = rand(v_idx_range)\n",
    "        δ = rand(δ_idx_range)\n",
    "        h = rand(h_idx_range)\n",
    "        \n",
    "        overshoot = sum([p.h for p in path]) + h - H # overshoot past H (full horizon)\n",
    "        if overshoot >= 0\n",
    "            h -= overshoot\n",
    "        end\n",
    "        \n",
    "        x₀ = path[end].x[end]\n",
    "        y₀ = path[end].y[end]\n",
    "        θ₀ = path[end].θ[end]\n",
    "        \n",
    "        if h != 0\n",
    "            push!(path, pathSegment(v,δ,h,x₀,y₀,θ₀,base_node.v_idx,track,agent))\n",
    "        end\n",
    "\n",
    "        if overshoot >= 0\n",
    "            push!(C_paths,path)\n",
    "            if length(C_paths) >= N\n",
    "                break\n",
    "            end\n",
    "        else\n",
    "            push!(M_paths,path)\n",
    "        end\n",
    "#         @show i,length(M_paths),length(B_paths),length(C_paths)\n",
    "    end\n",
    "end\n"
   ]
  },
  {
   "cell_type": "code",
   "execution_count": 94,
   "metadata": {
    "collapsed": false
   },
   "outputs": [
    {
     "data": {
      "image/png": "[encoded data removed]",
      "text/plain": [
       "PyPlot.Figure(PyObject <matplotlib.figure.Figure object at 0x3214854d0>)"
      ]
     },
     "metadata": {},
     "output_type": "display_data"
    }
   ],
   "source": [
    "for i in 1:N\n",
    "    arr = nothing\n",
    "    path = C_paths[i]\n",
    "    for p in path\n",
    "        if arr == nothing\n",
    "#             arr = p[end]'\n",
    "#             arr = hcat(p[4],p[5],p[6])\n",
    "            arr = hcat(p.x,p.y,p.θ)\n",
    "        else\n",
    "#             arr = vcat(arr,p[end]')\n",
    "#             arr = vcat(arr,hcat(p[4],p[5],p[6]))\n",
    "            arr = vcat(arr,hcat(p.x,p.y,p.θ))\n",
    "        end\n",
    "    end\n",
    "    PyPlot.plot(arr[:,1],arr[:,2])\n",
    "    PyPlot.scatter(arr[end,1],arr[end,2],c=\"r\",edgecolor=\"none\")\n",
    "end\n",
    "# plotSplineRoadway(track.x[1:100],track.y[1:100],track.θ[1:100],lane_width)\n",
    "# PyPlot.scatter(track.x[1:10],track.y[1:10],c=\"g\",edgecolor=\"none\")"
   ]
  },
  {
   "cell_type": "code",
   "execution_count": 98,
   "metadata": {
    "collapsed": false
   },
   "outputs": [
    {
     "data": {
      "text/plain": [
       "9"
      ]
     },
     "execution_count": 98,
     "metadata": {},
     "output_type": "execute_result"
    }
   ],
   "source": [
    "minimum([maximum([p.h for p in path]) for path in C_paths])"
   ]
  },
  {
   "cell_type": "code",
   "execution_count": null,
   "metadata": {
    "collapsed": true
   },
   "outputs": [],
   "source": []
  }
 ],
 "metadata": {
  "kernelspec": {
   "display_name": "Julia 0.5.0",
   "language": "julia",
   "name": "julia-0.5"
  },
  "language_info": {
   "file_extension": ".jl",
   "mimetype": "application/julia",
   "name": "julia",
   "version": "0.5.0"
  }
 },
 "nbformat": 4,
 "nbformat_minor": 0
}
