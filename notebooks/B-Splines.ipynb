{
 "cells": [
  {
   "cell_type": "markdown",
   "metadata": {},
   "source": [
    "# Parametric spline to define race course"
   ]
  },
  {
   "cell_type": "code",
   "execution_count": 17,
   "metadata": {
    "collapsed": true
   },
   "outputs": [],
   "source": [
    "import numpy as np\n",
    "import matplotlib.pyplot as plt\n",
    "from scipy import interpolate\n",
    "%matplotlib inline "
   ]
  },
  {
   "cell_type": "markdown",
   "metadata": {
    "collapsed": true
   },
   "source": [
    "## Homemade B-splines:"
   ]
  },
  {
   "cell_type": "code",
   "execution_count": 18,
   "metadata": {
    "collapsed": false
   },
   "outputs": [
    {
     "data": {
      "text/plain": [
       "array([[ 0,  0,  4,  0,  0],\n",
       "       [ 0,  1,  1, -1,  0]])"
      ]
     },
     "execution_count": 18,
     "metadata": {},
     "output_type": "execute_result"
    }
   ],
   "source": [
    "k = 3 # degree of spline\n",
    "n = 5 # number of control points = n + 1\n",
    "m = n + k + 1\n",
    "\n",
    "P = np.array([[0,0,4,0,0],[0,1,1,-1,0]])\n",
    "P"
   ]
  },
  {
   "cell_type": "code",
   "execution_count": 19,
   "metadata": {
    "collapsed": false
   },
   "outputs": [
    {
     "data": {
      "text/plain": [
       "array([ 0.        ,  0.16666667,  0.33333333,  0.5       ,  0.66666667,\n",
       "        0.83333333])"
      ]
     },
     "execution_count": 19,
     "metadata": {},
     "output_type": "execute_result"
    }
   ],
   "source": [
    "T = np.zeros([k+1,])\n",
    "np.arange(0.0,1.0,1.0/(n+1))\n"
   ]
  },
  {
   "cell_type": "code",
   "execution_count": 22,
   "metadata": {
    "collapsed": false
   },
   "outputs": [
    {
     "data": {
      "text/plain": [
       "array([ 0.,  0.,  0.])"
      ]
     },
     "execution_count": 22,
     "metadata": {},
     "output_type": "execute_result"
    }
   ],
   "source": [
    "T[:-1]"
   ]
  },
  {
   "cell_type": "code",
   "execution_count": 25,
   "metadata": {
    "collapsed": false
   },
   "outputs": [
    {
     "data": {
      "text/plain": [
       "array([[ 0. ],\n",
       "       [ 0. ],\n",
       "       [ 0. ],\n",
       "       [ 0. ],\n",
       "       [ 0.5],\n",
       "       [ 1. ],\n",
       "       [ 1. ],\n",
       "       [ 1. ],\n",
       "       [ 1. ]])"
      ]
     },
     "execution_count": 25,
     "metadata": {},
     "output_type": "execute_result"
    }
   ],
   "source": [
    "# T = np.array([[0,0,0,1.0/4,2.0/4,3.0/4,1,1,1]]).T\n",
    "T = np.array([[0,0,0,0,2.0/4,1,1,1,1]]).T\n",
    "T"
   ]
  },
  {
   "cell_type": "code",
   "execution_count": 26,
   "metadata": {
    "collapsed": false
   },
   "outputs": [
    {
     "data": {
      "text/plain": [
       "array([[0],\n",
       "       [0],\n",
       "       [0],\n",
       "       [0],\n",
       "       [1],\n",
       "       [0],\n",
       "       [0],\n",
       "       [0]])"
      ]
     },
     "execution_count": 26,
     "metadata": {},
     "output_type": "execute_result"
    }
   ],
   "source": [
    "t = 0.9\n",
    "N = {}\n",
    "N[0] = np.array((t >= T[:-1]) * (t < T[1:]), dtype=int)\n",
    "N[0]"
   ]
  },
  {
   "cell_type": "code",
   "execution_count": 29,
   "metadata": {
    "collapsed": false
   },
   "outputs": [
    {
     "name": "stdout",
     "output_type": "stream",
     "text": [
      "[[ 0. ]\n",
      " [ 0. ]\n",
      " [ 0. ]\n",
      " [ 0.2]\n",
      " [ 0.8]\n",
      " [ 0. ]\n",
      " [ 0. ]]\n",
      "[[ 0.  ]\n",
      " [ 0.  ]\n",
      " [ 0.02]\n",
      " [ 0.34]\n",
      " [ 0.64]\n",
      " [ 0.  ]]\n",
      "[[ 0.   ]\n",
      " [ 0.002]\n",
      " [ 0.052]\n",
      " [ 0.434]\n",
      " [ 0.512]]\n"
     ]
    }
   ],
   "source": [
    "invd = {}\n",
    "for i in range(k+1):\n",
    "    invd[i] = T[(i+1):] - T[:-(i+1)]\n",
    "    \n",
    "    # take care of empty knot spans\n",
    "    for j in range(invd[i].shape[0]):\n",
    "        if invd[i][j] != 0:\n",
    "            invd[i][j] = 1.0/invd[i][j]\n",
    "            \n",
    "for i in range(k+1):\n",
    "    if i > 0:\n",
    "        N[i] = ((t-T[:-i])*invd[i-1]*N[i-1])[:-1] + \n",
    "        ((T[i:] - t)*invd[i-1]*N[i-1])[1:]\n",
    "        print N[i]"
   ]
  },
  {
   "cell_type": "code",
   "execution_count": 30,
   "metadata": {
    "collapsed": false
   },
   "outputs": [],
   "source": [
    "tt = np.arange(0,1.01,.01)\n",
    "rx = np.zeros(tt.shape)\n",
    "ry = np.zeros(tt.shape)\n",
    "\n",
    "for j in range(tt.shape[0]):\n",
    "    t = tt[j]\n",
    "    N[0] = np.array((t >= T[:-1]) * (t < T[1:]), dtype=float)\n",
    "    \n",
    "    # IF t = t_m, set N[-1] = 0\n",
    "    \n",
    "    for i in range(k+1):\n",
    "        if i > 0:\n",
    "            N[i] = ((t - T[:-i])*invd[i - 1]*N[i - 1])[:-1] + ((T[i:] - t)*invd[i - 1]*N[i - 1])[1:]\n",
    "    rx[j] = np.dot(P[0],N[k])\n",
    "    ry[j] = np.dot(P[1],N[k])"
   ]
  },
  {
   "cell_type": "code",
   "execution_count": 8,
   "metadata": {
    "collapsed": false
   },
   "outputs": [
    {
     "name": "stderr",
     "output_type": "stream",
     "text": [
      "/Users/kyle/anaconda/envs/deepAtariEnv/lib/python2.7/site-packages/matplotlib/collections.py:548: FutureWarning: elementwise comparison failed; returning scalar instead, but in the future will perform elementwise comparison\n",
      "  if self._edgecolors == 'face':\n"
     ]
    },
    {
     "data": {
      "image/png": "[encoded data removed]",
      "text/plain": [
       "<matplotlib.figure.Figure at 0x107259b10>"
      ]
     },
     "metadata": {},
     "output_type": "display_data"
    }
   ],
   "source": [
    "plt.figure()\n",
    "plt.hold=True\n",
    "plt.scatter(P[0],P[1])\n",
    "plt.plot(rx,ry)\n",
    "# plt.axis([-0.05, 2.05, -0.05, 1.05])\n",
    "plt.axis('equal')\n",
    "plt.show()"
   ]
  },
  {
   "cell_type": "markdown",
   "metadata": {
    "collapsed": true
   },
   "source": [
    "## Python B-splines"
   ]
  },
  {
   "cell_type": "markdown",
   "metadata": {},
   "source": [
    "#### See if I can reproduce the B-splines based on the values returned from interpolate.splprep"
   ]
  },
  {
   "cell_type": "code",
   "execution_count": 9,
   "metadata": {
    "collapsed": false
   },
   "outputs": [],
   "source": [
    "xs = [1,4,3,6,6,5,4,3]\n",
    "ys = [6,4,3,2,2.5,3,1,5]\n",
    "\n",
    "# generates spline points by interpolation\n",
    "tck, u = interpolate.splprep([xs, ys], s=0) # s is smoothing factor\n",
    "unew = np.arange(0, 1.01, 0.01)\n",
    "# evaluate spline at locations specified by unew\n",
    "out = interpolate.splev(unew, tck)"
   ]
  },
  {
   "cell_type": "code",
   "execution_count": 10,
   "metadata": {
    "collapsed": true
   },
   "outputs": [],
   "source": [
    "filename = 'track1'\n",
    "path = '/Users/kyle/Documents/SCHOOL/Stanford/Research/RoboRace/workspace/trackSplines/'+filename+'/tck.npy'\n",
    "\n",
    "tck = np.load(path)\n"
   ]
  },
  {
   "cell_type": "code",
   "execution_count": 11,
   "metadata": {
    "collapsed": false
   },
   "outputs": [],
   "source": [
    "knots = tck[0]\n",
    "controlPoints = tck[1]\n",
    "degree = tck[2]\n",
    "\n",
    "P = controlPoints\n",
    "T = knots\n",
    "k = degree"
   ]
  },
  {
   "cell_type": "code",
   "execution_count": 12,
   "metadata": {
    "collapsed": false
   },
   "outputs": [],
   "source": [
    "invd = {}\n",
    "for i in range(k+1):\n",
    "    invd[i] = T[(i+1):] - T[:-(i+1)]\n",
    "    \n",
    "    # take care of empty knot spans\n",
    "    for j in range(invd[i].shape[0]):\n",
    "        if invd[i][j] != 0:\n",
    "            invd[i][j] = 1.0/invd[i][j]"
   ]
  },
  {
   "cell_type": "code",
   "execution_count": 13,
   "metadata": {
    "collapsed": false
   },
   "outputs": [],
   "source": [
    "tt = np.arange(0,1.01,.01)\n",
    "rx = np.zeros(tt.shape)\n",
    "ry = np.zeros(tt.shape)\n",
    "N = {}\n",
    "\n",
    "for j in range(tt.shape[0]):\n",
    "    t = tt[j]\n",
    "    N[0] = np.array((t >= T[:-1]) * (t < T[1:]), dtype=float)\n",
    "    for i in range(k+1):\n",
    "        if i > 0:\n",
    "            N[i] = ((t - T[:-i])*invd[i - 1]*N[i - 1])[:-1] + ((T[i:] - t)*invd[i - 1]*N[i - 1])[1:]\n",
    "    rx[j] = np.dot(P[0],N[k])\n",
    "    ry[j] = np.dot(P[1],N[k])\n",
    "    # set the last point to be equal to the final control point (otherwise it goes to zero)\n",
    "    rx[-1] = P[0][-1]\n",
    "    ry[-1] = P[1][-1]"
   ]
  },
  {
   "cell_type": "code",
   "execution_count": 14,
   "metadata": {
    "collapsed": false
   },
   "outputs": [
    {
     "data": {
      "image/png": "[encoded data removed]",
      "text/plain": [
       "<matplotlib.figure.Figure at 0x107276910>"
      ]
     },
     "metadata": {},
     "output_type": "display_data"
    }
   ],
   "source": [
    "plt.figure()\n",
    "plt.hold=True\n",
    "plt.scatter(P[0],P[1])\n",
    "plt.plot(rx,ry)\n",
    "# plt.axis([-0.05, 2.05, -0.05, 1.05])\n",
    "plt.axis('equal')\n",
    "plt.show()"
   ]
  },
  {
   "cell_type": "code",
   "execution_count": 15,
   "metadata": {
    "collapsed": false
   },
   "outputs": [
    {
     "data": {
      "image/png": "[encoded data removed]",
      "text/plain": [
       "<matplotlib.figure.Figure at 0x10748e110>"
      ]
     },
     "metadata": {},
     "output_type": "display_data"
    }
   ],
   "source": [
    "plt.figure()\n",
    "plt.hold=True\n",
    "plt.scatter(xs,ys)\n",
    "plt.scatter(out[0],out[1])\n",
    "# plt.axis([-0.05, 2.05, -0.05, 1.05])\n",
    "plt.axis('equal')\n",
    "plt.show()"
   ]
  },
  {
   "cell_type": "markdown",
   "metadata": {},
   "source": [
    "## Derivatives, Curvature, Normals"
   ]
  },
  {
   "cell_type": "code",
   "execution_count": 16,
   "metadata": {
    "collapsed": false
   },
   "outputs": [
    {
     "name": "stdout",
     "output_type": "stream",
     "text": [
      "[ 0.  0.  0.  0.  0.  0.  0.  0.  0.  0.  0.  0.  0.  0.  0.  0.  0.  0.\n",
      "  0.  0.  0.  0.  0.  0.  0.  0.  0.  0.  0.  0.  0.  0.  0.  0.  0.  0.]\n",
      "[ 0.  0.  0.  0.  0.  0.  0.  0.  0.  0.  0.  0.  0.  0.  0.  0.  0.  0.\n",
      "  0.  0.  0.  0.  0.  0.  0.  0.  0.  0.  0.  0.  0.  0.  0.  0.  0.]\n",
      "[ 0.  0.  0.  0.  0.  0.  0.  0.  0.  0.  0.  0.  0.  0.  0.  0.  0.  0.\n",
      "  0.  0.  0.  0.  0.  0.  0.  0.  0.  0.  0.  0.  0.  0.  0.  0.]\n"
     ]
    }
   ],
   "source": [
    "invd = {}\n",
    "dN = {}\n",
    "for i in range(k+1):\n",
    "    invd[i] = T[(i+1):] - T[:-(i+1)]\n",
    "    \n",
    "    # take care of empty knot spans\n",
    "    for j in range(invd[i].shape[0]):\n",
    "        if invd[i][j] != 0:\n",
    "            invd[i][j] = 1.0/invd[i][j]\n",
    "            \n",
    "for i in range(k+1):\n",
    "    if i > 0:\n",
    "        dN[i] = ((i)*invd[i-1]*N[i-1])[:-1] + ((i)*invd[i-1]*N[i-1])[1:]\n",
    "        print N[i]"
   ]
  },
  {
   "cell_type": "code",
   "execution_count": null,
   "metadata": {
    "collapsed": true
   },
   "outputs": [],
   "source": []
  }
 ],
 "metadata": {
  "kernelspec": {
   "display_name": "Python [deepAtariEnv]",
   "language": "python",
   "name": "Python [deepAtariEnv]"
  },
  "language_info": {
   "codemirror_mode": {
    "name": "ipython",
    "version": 2
   },
   "file_extension": ".py",
   "mimetype": "text/x-python",
   "name": "python",
   "nbconvert_exporter": "python",
   "pygments_lexer": "ipython2",
   "version": "2.7.12"
  }
 },
 "nbformat": 4,
 "nbformat_minor": 1
}
