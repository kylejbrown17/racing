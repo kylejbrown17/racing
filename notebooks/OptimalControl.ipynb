{
 "cells": [
  {
   "cell_type": "markdown",
   "metadata": {},
   "source": [
    "## RaceCar NLP"
   ]
  },
  {
   "cell_type": "code",
   "execution_count": null,
   "metadata": {
    "collapsed": false
   },
   "outputs": [],
   "source": [
    "using JuMP\n",
    "using NLopt\n",
    "using Ipopt\n",
    "using SplineUtils\n",
    "using SplineRaceWay"
   ]
  },
  {
   "cell_type": "code",
   "execution_count": null,
   "metadata": {
    "collapsed": false
   },
   "outputs": [],
   "source": [
    "Pts = 40*[0 -1 -2 -3 -3.5 -3 -2 -1 -0.5 -1 -2 -3 -4 -5 -5.5 -5 -4.5 -5 -5 -4 -3 -2 -1 -1 -1 0 1 1 1 2 3 4 5 5 5 5 5 5 5 4 3 3 3 3 2 1 0; \n",
    "       0 0 0 0 -1 -2 -2 -2 -3 -4 -4 -4 -4 -4 -3 -2 -1 0 1 2 3 4 4 3 2 2 2 3 4 4 4 4 3 2 1 0 -1 -2 -3 -4 -3 -2 -1 0 0 0 0]\n",
    "\n",
    "degree = 3 # degree of spline\n",
    "num_points = 10001\n",
    "num_samples = 420\n",
    "lane_width = 20.0\n",
    "track = Raceway(Pts,degree,num_points,num_samples,lane_width)\n",
    "track;"
   ]
  },
  {
   "cell_type": "code",
   "execution_count": null,
   "metadata": {
    "collapsed": false
   },
   "outputs": [],
   "source": [
    "### Racecar model\n",
    "\n",
    "car_length = 4.8\n",
    "car_width = 2.5\n",
    "L = 4.5 # wheel base of vehicle\n",
    "L₁ = 2 # distance from car center of mass to rear axle\n",
    "L₂ = L - L₁ # distance from center of mass to front axle\n",
    "\n",
    "# X = [s, n, ζ, u, v, ω] # state vector\n",
    "# U = [u̇, δ] # control vector\n",
    "\n",
    "# Bicycle geometry\n",
    "# v = u*tan(δ)*(L₁/L)\n",
    "# ω = u*tan(δ)/L\n",
    "# u̇ = command\n",
    "# δ = command\n",
    "\n",
    "# Curvilinear Representation - s,n,θ\n",
    "# dx = ds*cos(θ) # 1\n",
    "# dy = ds*sin(θ) # 2\n",
    "# dy_dx = tan(θ) # 3\n",
    "# C = dθ_ds = atan2(dy,dx) # 4\n",
    "\n",
    "# ψ = ζ + θ\n",
    "# ṡ = (u*cos(ζ) - v*sin(ζ))/(1 - n*C)\n",
    "# ṅ = (u*sin(ζ) + v*cos(ζ))\n",
    "# ζ̇ = ω - C*ṡ\n",
    "# dt = Sf(s)ds\n",
    "# Sf = (1 - n*C)/(u*cos(ζ) - v*sin(ζ)) # inverse of ds/dt\n",
    "\n",
    "# dn_ds = Sf*(u*cos(ζ) + v*sin(ζ))\n",
    "# dζ_ds = Sf*ω - C\n",
    "# du_ds = Sf(s)*u̇\n",
    "# dv_ds = Sf(s)*v̇\n",
    "# dω_ds = Sf(s)*ω̇\n",
    "\n",
    "# f constraints: approximate derivatives with trapezoidal rule\n",
    "# dx_ds = f()\n",
    "# dn_ds -  Sf*(u*cos(ζ) + v*sin(ζ)) = 0\n",
    "\n",
    "# S = track.s[1:N]\n",
    "# T1 = zeros(N-1,N)\n",
    "# T1[:,1:end-1] -= eye(N-1)\n",
    "# T1[:,2:end] += eye(N-1)\n",
    "# T2 = .5*abs(T1)\n",
    "# Sd = T1*S\n",
    "# T = kron(diagm(Sd)*T2,eye(n_))\n",
    "# C = ones(N)\n",
    "# Sdiff = diff(track.s)\n"
   ]
  },
  {
   "cell_type": "code",
   "execution_count": null,
   "metadata": {
    "collapsed": false
   },
   "outputs": [],
   "source": [
    "N = 20 # horizon length\n",
    "m = 3 # dimensionality of control vector\n",
    "n_ = 6 # dimensionality of state vector\n",
    "\n",
    "car_length = 4.8\n",
    "car_width = 2.5\n",
    "L = 4.5 # wheel base of vehicle\n",
    "L₁ = 2 # distance from car center of mass to rear axle\n",
    "L₂ = L - L₁ # distance from center of mass to front axle\n",
    "\n",
    "# optimizer = Model(solver=NLoptSolver(algorithm=:LD_MMA))\n",
    "optimizer = Model(solver=IpoptSolver())\n",
    "# parameters\n",
    "@NLparameter(optimizer, S[i=1:N] == track.s[i])\n",
    "@NLparameter(optimizer, C[i=1:N] == track.k[i])\n",
    "@NLparameter(optimizer, Sd[i=1:N] == track.s[i+1] - track.s[i])\n",
    "# for i in 1:N\n",
    "#     setvalue(S[i], track.s[i])\n",
    "#     setvalue(C[i], track.k[i])\n",
    "# end\n",
    "# for i in 1:N-1\n",
    "#     setvalue(Sd[i], track.s[i+1] - track.s[i])\n",
    "# end\n",
    "\n",
    "# control vector\n",
    "@variable(optimizer, u̇[1:N], start = 1.0)\n",
    "@variable(optimizer, δ̇[1:N], start = 1.0)\n",
    "\n",
    "# state vector\n",
    "@variable(optimizer, n[1:N], start = 1.0)\n",
    "@variable(optimizer, ζ[1:N], start = 1.0)\n",
    "@variable(optimizer, u[1:N], start = 1.0)\n",
    "@variable(optimizer, δ[1:N], start = 1.0)\n",
    "@variable(optimizer, v[1:N], start = 1.0)\n",
    "@variable(optimizer, v̇[1:N], start = 1.0)\n",
    "@variable(optimizer, ω[1:N], start = 1.0)\n",
    "@variable(optimizer, ω̇[1:N], start = 1.0)\n",
    "\n",
    "# time scale factor: inverse of ds_dt\n",
    "@NLexpression(optimizer, Sf[i=1:N], (1 - n[i]*C[i])/(u[i]*cos(ζ[i]) - v[i]*sin(ζ[i])))\n",
    "# @variable(optimizer, Sf[1:N])\n",
    "# for i in 1:N\n",
    "#     @NLconstraint(optimizer, Sf[i] == (1 - n[i]*C[i])/(u[i]*cos(ζ[i]) - v[i]*sin(ζ[i]))) # set value of Sf\n",
    "# end\n",
    "\n",
    "# L objective\n",
    "@NLobjective(optimizer, Min, sum(0.5*Sd[i]*(Sf[i+1] - Sf[i]) for i = 1:N-1))\n",
    "# @NLobjective(optimizer, Min, u[N-5])"
   ]
  },
  {
   "cell_type": "code",
   "execution_count": null,
   "metadata": {
    "collapsed": false
   },
   "outputs": [],
   "source": [
    "getvalue(Sf);"
   ]
  },
  {
   "cell_type": "code",
   "execution_count": null,
   "metadata": {
    "collapsed": false
   },
   "outputs": [],
   "source": [
    "# constraints\n",
    "μk = 1000.0 # normalized friction coefficient\n",
    "δ_MAX = Float64(π)/4\n",
    "δ̇_MAX = 24*Float64(π) # \n",
    "u_MAX = 100\n",
    "u_MIN = 1\n",
    "u̇_MAX = 1\n",
    "u̇_MIN = -4\n",
    "\n",
    "g = 9.81 # gravity force\n",
    "n_MAX = 20.0 # half-width of track\n",
    "\n",
    "# in\n",
    "n₀ = 0 # n[2]\n",
    "u₀ = 0 # u[2]\n",
    "ω₀ = 0 # ω[2]\n",
    "ζ₀ = 0 # ζ[2]\n",
    "\n",
    "n₁ = 0\n",
    "u₁ = 10 # some value\n",
    "ω₁ = 0 # some value\n",
    "ζ₁ = 0 # some value\n",
    "\n",
    "# BOUNDARY CONSTRAINTS\n",
    "# initial conditions\n",
    "@NLconstraint(optimizer, n[1] == n₀)\n",
    "@NLconstraint(optimizer, u[1] == u₀)\n",
    "@NLconstraint(optimizer, ω[1] == ω₀)\n",
    "@NLconstraint(optimizer, ζ[1] == ζ₀)\n",
    "# final conditions\n",
    "@NLconstraint(optimizer, n[N] == n₁)\n",
    "@NLconstraint(optimizer, u[N] == u₁)\n",
    "@NLconstraint(optimizer, ω[N] == ω₁)\n",
    "@NLconstraint(optimizer, ζ[N] == ζ₁)\n",
    "\n",
    "for i in 1:N-1\n",
    "    # Derivative constraints\n",
    "    @NLconstraint(optimizer, Sf[i] == (1 - n[i]*C[i])/(u[i]*cos(ζ[i]) - v[i]*sin(ζ[i]))) # set value of Sf\n",
    "    @NLconstraint(optimizer, n[i+1]-n[i] == 0.5*Sd[i]*(Sf[i+1]*(u[i+1]*sin(ζ[i+1]) + v[i+1]*cos(ζ[i+1])) + \n",
    "    Sf[i]*(u[i]*sin(ζ[i]) + v[i]*cos(ζ[i]))))\n",
    "    @NLconstraint(optimizer, ζ[i+1]-ζ[i] == 0.5*Sd[i]*(Sf[i+1]*(ω[i+1] - C[i+1]) + Sf[i]*(ω[i] - C[i])))\n",
    "    @NLconstraint(optimizer, u[i+1]-u[i] == 0.5*Sd[i]*(Sf[i+1]*u̇[i+1] + Sf[i]*u̇[i]))\n",
    "    @NLconstraint(optimizer, ω[i] == u[i]*tan(δ[i])*L₁/L) # ω is a function of u,δ\n",
    "    @NLconstraint(optimizer, ω̇[i] == u̇[i]*tan(δ[i])*L₁/L + u[i]*(sec(δ[i])^2)*δ̇[i])\n",
    "    @NLconstraint(optimizer, v[i] == ω[i]*L₁) # ω is a function of u,δ\n",
    "    @NLconstraint(optimizer, v̇[i] == ω̇[i]*L₁) # ω is a function of u,δ\n",
    "    @NLconstraint(optimizer, ω[i+1]-ω[i] == 0.5*Sd[i]*(Sf[i+1]*ω̇[i+1] + Sf[i]*ω̇[i]))\n",
    "    @NLconstraint(optimizer, v[i+1]-v[i] == 0.5*Sd[i]*(Sf[i+1]*v̇[i+1] + Sf[i]*v̇[i]))\n",
    "    \n",
    "    # other constraints\n",
    "    @NLconstraint(optimizer, u_MIN <= u[i] <= u_MAX) # max longitudinal velocity\n",
    "    @NLconstraint(optimizer, u̇_MIN <= u̇[i] <= u̇_MAX) # max longitudinal acceleration\n",
    "    @NLconstraint(optimizer, -δ_MAX <= δ[i] <= δ_MAX) # max turning angle\n",
    "    @NLconstraint(optimizer, -δ̇_MAX <= δ̇[i] <= δ̇_MAX) # derivative\n",
    "    @NLconstraint(optimizer, (u[i]*u[i] + v[i]*v[i])*C[i] <= μk*g) # cornering speed\n",
    "    @NLconstraint(optimizer, -n_MAX <= n[i] <= n_MAX) # half width of track\n",
    "    \n",
    "#     @NLconstraint(optimizer, v[i] == 0)\n",
    "#     @NLconstraint(optimizer, ζ[i] == 0)\n",
    "#     @NLconstraint(optimizer, n[i] == 0)\n",
    "#     @NLconstraint(optimizer, u[i+1] - u[i] == u̇[i])\n",
    "end"
   ]
  },
  {
   "cell_type": "code",
   "execution_count": null,
   "metadata": {
    "collapsed": false,
    "scrolled": false
   },
   "outputs": [],
   "source": [
    "status = solve(optimizer)"
   ]
  },
  {
   "cell_type": "code",
   "execution_count": null,
   "metadata": {
    "collapsed": false
   },
   "outputs": [],
   "source": [
    "N = 20\n",
    "\n",
    "S = track.s[1:N]\n",
    "T1 = zeros(N-1,N)\n",
    "T1[:,1:end-1] -= eye(N-1)\n",
    "T1[:,2:end] += eye(N-1)\n",
    "Sd = T1*S\n",
    "C = track.k[1:N]\n",
    "# T2 = T1*.5\n",
    "# L = ones(N,1)\n",
    "# Sd'*T2*L\n",
    "C;"
   ]
  },
  {
   "cell_type": "code",
   "execution_count": null,
   "metadata": {
    "collapsed": false
   },
   "outputs": [],
   "source": [
    "# L objective\n",
    "@NLobjective(optimizer, Min, sum(0.5*Sd[i]*((1 - n[i+1]*C[i+1])/(u[i+1]*cos(ζ[i+1]) - v[i+1]*sin(ζ[i+1])) - \n",
    "    (1 - n[i]*C[i])/(u[i]*cos(ζ[i]) - v[i]*sin(ζ[i]))) for i = 1:N-1))"
   ]
  },
  {
   "cell_type": "code",
   "execution_count": null,
   "metadata": {
    "collapsed": true
   },
   "outputs": [],
   "source": []
  }
 ],
 "metadata": {
  "anaconda-cloud": {},
  "kernelspec": {
   "display_name": "Julia 0.5.0",
   "language": "julia",
   "name": "julia-0.5"
  },
  "language_info": {
   "file_extension": ".jl",
   "mimetype": "application/julia",
   "name": "julia",
   "version": "0.5.0"
  }
 },
 "nbformat": 4,
 "nbformat_minor": 0
}
