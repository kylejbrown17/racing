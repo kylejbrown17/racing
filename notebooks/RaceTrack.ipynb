{
 "cells": [
  {
   "cell_type": "code",
   "execution_count": 2,
   "metadata": {
    "collapsed": false
   },
   "outputs": [],
   "source": [
    "# using Vec\n",
    "# using Compat\n",
    "\n",
    "using AutomotiveDrivingModels\n",
    "using AutoViz\n",
    "using Reactive\n",
    "using Interact\n",
    "\n",
    "# using PyPlot"
   ]
  },
  {
   "cell_type": "markdown",
   "metadata": {},
   "source": [
    "## Design Racetrack (Roadway)"
   ]
  },
  {
   "cell_type": "code",
   "execution_count": 5,
   "metadata": {
    "collapsed": false
   },
   "outputs": [
    {
     "data": {
      "text/plain": [
       "4-element Array{AutomotiveDrivingModels.AutoCore.RoadSegment,1}:\n",
       " AutomotiveDrivingModels.AutoCore.RoadSegment(1,AutomotiveDrivingModels.AutoCore.Lane[AutomotiveDrivingModels.AutoCore.Lane(LaneTag(1, 1),AutomotiveDrivingModels.AutoCore.CurvePt[CurvePt({100.000, 0.000, 0.000}, 0.000, NaN, NaN),CurvePt({102.943, 0.096, 0.065}, 2.945, NaN, NaN),CurvePt({105.874, 0.385, 0.131}, 5.890, NaN, NaN),CurvePt({108.779, 0.865, 0.196}, 8.836, NaN, NaN),CurvePt({111.647, 1.533, 0.262}, 11.781, NaN, NaN),CurvePt({114.465, 2.388, 0.327}, 14.726, NaN, NaN),CurvePt({117.221, 3.425, 0.393}, 17.671, NaN, NaN),CurvePt({119.903, 4.641, 0.458}, 20.617, NaN, NaN),CurvePt({122.500, 6.029, 0.524}, 23.562, NaN, NaN),CurvePt({125.001, 7.584, 0.589}, 26.507, NaN, NaN)  …  CurvePt({137.416, 19.999, 0.982}, 44.179, NaN, NaN),CurvePt({138.971, 22.500, 1.047}, 47.124, NaN, NaN),CurvePt({140.359, 25.097, 1.113}, 50.069, NaN, NaN),CurvePt({141.575, 27.779, 1.178}, 53.014, NaN, NaN),CurvePt({142.612, 30.535, 1.244}, 55.960, NaN, NaN),CurvePt({143.467, 33.353, 1.309}, 58.905, NaN, NaN),CurvePt({144.135, 36.221, 1.374}, 61.850, NaN, NaN),CurvePt({144.615, 39.126, 1.440}, 64.795, NaN, NaN),CurvePt({144.904, 42.057, 1.505}, 67.741, NaN, NaN),CurvePt({145.000, 45.000, 1.571}, 70.686, NaN, NaN)],3.0,AutomotiveDrivingModels.AutoCore.SpeedLimit(-Inf,Inf),AutomotiveDrivingModels.AutoCore.LaneBoundary(:solid,:white),AutomotiveDrivingModels.AutoCore.LaneBoundary(:solid,:white),AutomotiveDrivingModels.AutoCore.LaneConnection[LaneConnection(D, CurveIndex(24, 1.000), RoadIndex({1, 0.000000}, {2, 1})],AutomotiveDrivingModels.AutoCore.LaneConnection[LaneConnection(U, CurveIndex(1, 0.000), RoadIndex({24, 1.000000}, {4, 1})])])                 \n",
       " AutomotiveDrivingModels.AutoCore.RoadSegment(2,AutomotiveDrivingModels.AutoCore.Lane[AutomotiveDrivingModels.AutoCore.Lane(LaneTag(2, 1),AutomotiveDrivingModels.AutoCore.CurvePt[CurvePt({145.000, 57.000, 1.571}, 0.000, NaN, NaN),CurvePt({144.904, 59.943, 1.636}, 2.945, NaN, NaN),CurvePt({144.615, 62.874, 1.702}, 5.890, NaN, NaN),CurvePt({144.135, 65.779, 1.767}, 8.836, NaN, NaN),CurvePt({143.467, 68.647, 1.833}, 11.781, NaN, NaN),CurvePt({142.612, 71.465, 1.898}, 14.726, NaN, NaN),CurvePt({141.575, 74.221, 1.963}, 17.671, NaN, NaN),CurvePt({140.359, 76.903, 2.029}, 20.617, NaN, NaN),CurvePt({138.971, 79.500, 2.094}, 23.562, NaN, NaN),CurvePt({137.416, 82.001, 2.160}, 26.507, NaN, NaN)  …  CurvePt({125.001, 94.416, 2.553}, 44.179, NaN, NaN),CurvePt({122.500, 95.971, 2.618}, 47.124, NaN, NaN),CurvePt({119.903, 97.359, 2.683}, 50.069, NaN, NaN),CurvePt({117.221, 98.575, 2.749}, 53.014, NaN, NaN),CurvePt({114.465, 99.612, 2.814}, 55.960, NaN, NaN),CurvePt({111.647, 100.467, 2.880}, 58.905, NaN, NaN),CurvePt({108.779, 101.135, 2.945}, 61.850, NaN, NaN),CurvePt({105.874, 101.615, 3.011}, 64.795, NaN, NaN),CurvePt({102.943, 101.904, 3.076}, 67.741, NaN, NaN),CurvePt({100.000, 102.000, 3.142}, 70.686, NaN, NaN)],3.0,AutomotiveDrivingModels.AutoCore.SpeedLimit(-Inf,Inf),AutomotiveDrivingModels.AutoCore.LaneBoundary(:solid,:yellow),AutomotiveDrivingModels.AutoCore.LaneBoundary(:solid,:yellow),AutomotiveDrivingModels.AutoCore.LaneConnection[LaneConnection(D, CurveIndex(24, 1.000), RoadIndex({1, 0.000000}, {3, 1})],AutomotiveDrivingModels.AutoCore.LaneConnection[LaneConnection(U, CurveIndex(1, 0.000), RoadIndex({24, 1.000000}, {1, 1})])])\n",
       " AutomotiveDrivingModels.AutoCore.RoadSegment(3,AutomotiveDrivingModels.AutoCore.Lane[AutomotiveDrivingModels.AutoCore.Lane(LaneTag(3, 1),AutomotiveDrivingModels.AutoCore.CurvePt[CurvePt({0.000, 102.000, 3.142}, 0.000, NaN, NaN),CurvePt({-2.943, 101.904, 3.207}, 2.945, NaN, NaN),CurvePt({-5.874, 101.615, 3.272}, 5.890, NaN, NaN),CurvePt({-8.779, 101.135, 3.338}, 8.836, NaN, NaN),CurvePt({-11.647, 100.467, 3.403}, 11.781, NaN, NaN),CurvePt({-14.465, 99.612, 3.469}, 14.726, NaN, NaN),CurvePt({-17.221, 98.575, 3.534}, 17.671, NaN, NaN),CurvePt({-19.903, 97.359, 3.600}, 20.617, NaN, NaN),CurvePt({-22.500, 95.971, 3.665}, 23.562, NaN, NaN),CurvePt({-25.001, 94.416, 3.731}, 26.507, NaN, NaN)  …  CurvePt({-37.416, 82.001, 4.123}, 44.179, NaN, NaN),CurvePt({-38.971, 79.500, 4.189}, 47.124, NaN, NaN),CurvePt({-40.359, 76.903, 4.254}, 50.069, NaN, NaN),CurvePt({-41.575, 74.221, 4.320}, 53.014, NaN, NaN),CurvePt({-42.612, 71.465, 4.385}, 55.960, NaN, NaN),CurvePt({-43.467, 68.647, 4.451}, 58.905, NaN, NaN),CurvePt({-44.135, 65.779, 4.516}, 61.850, NaN, NaN),CurvePt({-44.615, 62.874, 4.581}, 64.795, NaN, NaN),CurvePt({-44.904, 59.943, 4.647}, 67.741, NaN, NaN),CurvePt({-45.000, 57.000, 4.712}, 70.686, NaN, NaN)],3.0,AutomotiveDrivingModels.AutoCore.SpeedLimit(-Inf,Inf),AutomotiveDrivingModels.AutoCore.LaneBoundary(:solid,:white),AutomotiveDrivingModels.AutoCore.LaneBoundary(:solid,:white),AutomotiveDrivingModels.AutoCore.LaneConnection[LaneConnection(D, CurveIndex(24, 1.000), RoadIndex({1, 0.000000}, {4, 1})],AutomotiveDrivingModels.AutoCore.LaneConnection[LaneConnection(U, CurveIndex(1, 0.000), RoadIndex({24, 1.000000}, {2, 1})])])       \n",
       " AutomotiveDrivingModels.AutoCore.RoadSegment(4,AutomotiveDrivingModels.AutoCore.Lane[AutomotiveDrivingModels.AutoCore.Lane(LaneTag(4, 1),AutomotiveDrivingModels.AutoCore.CurvePt[CurvePt({-45.000, 45.000, 4.712}, 0.000, NaN, NaN),CurvePt({-44.904, 42.057, 4.778}, 2.945, NaN, NaN),CurvePt({-44.615, 39.126, 4.843}, 5.890, NaN, NaN),CurvePt({-44.135, 36.221, 4.909}, 8.836, NaN, NaN),CurvePt({-43.467, 33.353, 4.974}, 11.781, NaN, NaN),CurvePt({-42.612, 30.535, 5.040}, 14.726, NaN, NaN),CurvePt({-41.575, 27.779, 5.105}, 17.671, NaN, NaN),CurvePt({-40.359, 25.097, 5.171}, 20.617, NaN, NaN),CurvePt({-38.971, 22.500, 5.236}, 23.562, NaN, NaN),CurvePt({-37.416, 19.999, 5.301}, 26.507, NaN, NaN)  …  CurvePt({-25.001, 7.584, 5.694}, 44.179, NaN, NaN),CurvePt({-22.500, 6.029, 5.760}, 47.124, NaN, NaN),CurvePt({-19.903, 4.641, 5.825}, 50.069, NaN, NaN),CurvePt({-17.221, 3.425, 5.890}, 53.014, NaN, NaN),CurvePt({-14.465, 2.388, 5.956}, 55.960, NaN, NaN),CurvePt({-11.647, 1.533, 6.021}, 58.905, NaN, NaN),CurvePt({-8.779, 0.865, 6.087}, 61.850, NaN, NaN),CurvePt({-5.874, 0.385, 6.152}, 64.795, NaN, NaN),CurvePt({-2.943, 0.096, 6.218}, 67.741, NaN, NaN),CurvePt({-0.000, 0.000, 6.283}, 70.686, NaN, NaN)],3.0,AutomotiveDrivingModels.AutoCore.SpeedLimit(-Inf,Inf),AutomotiveDrivingModels.AutoCore.LaneBoundary(:solid,:yellow),AutomotiveDrivingModels.AutoCore.LaneBoundary(:solid,:yellow),AutomotiveDrivingModels.AutoCore.LaneConnection[LaneConnection(D, CurveIndex(24, 1.000), RoadIndex({1, 0.000000}, {1, 1})],AutomotiveDrivingModels.AutoCore.LaneConnection[LaneConnection(U, CurveIndex(1, 0.000), RoadIndex({24, 1.000000}, {3, 1})])])                   "
      ]
     },
     "execution_count": 5,
     "metadata": {},
     "output_type": "execute_result"
    }
   ],
   "source": [
    "nlanes = 1\n",
    "road_length = 100.0\n",
    "lane_width = 4.0*DEFAULT_LANE_WIDTH\n",
    "radius = 45.0\n",
    "ncurvepts_per_turn = 25\n",
    "lane_width=DEFAULT_LANE_WIDTH\n",
    "boundary_leftmost=LaneBoundary(:solid, :white)\n",
    "boundary_rightmost=LaneBoundary(:solid, :white)\n",
    "boundary_middle=LaneBoundary(:broken, :white)\n",
    "\n",
    "\n",
    "ncurvepts_per_turn ≥ 2 || error(\"must have at least 2 pts per turn\")\n",
    "\n",
    "A = VecE2(road_length, radius)\n",
    "B = VecE2(road_length, width + radius)\n",
    "C = VecE2(0.0, width + radius)\n",
    "D = VecE2(0.0, radius)\n",
    "\n",
    "seg1 = RoadSegment(1, Array(Lane, nlanes))\n",
    "seg2 = RoadSegment(2, Array(Lane, nlanes))\n",
    "seg3 = RoadSegment(3, Array(Lane, nlanes))\n",
    "seg4 = RoadSegment(4, Array(Lane, nlanes))\n",
    "\n",
    "for i in 1 : nlanes\n",
    "    curvepts1 = Array(CurvePt, ncurvepts_per_turn)\n",
    "    curvepts2 = Array(CurvePt, ncurvepts_per_turn)\n",
    "    curvepts3 = Array(CurvePt, ncurvepts_per_turn)\n",
    "    curvepts4 = Array(CurvePt, ncurvepts_per_turn)\n",
    "\n",
    "    r = radius + lane_width*(i-1)\n",
    "    for j in 1:ncurvepts_per_turn\n",
    "        t = (j-1)/(ncurvepts_per_turn-1) # ∈ [0,1]\n",
    "        s = r*π/2*t\n",
    "        curvepts1[j] = CurvePt(VecSE2(A + Vec.polar(r, lerp(-π/2,  0.0, t)), lerp(0.0,π/2,t)),  s)\n",
    "        curvepts2[j] = CurvePt(VecSE2(B + Vec.polar(r, lerp( 0.0,  π/2, t)), lerp(π/2,π,  t)),  s)\n",
    "        curvepts3[j] = CurvePt(VecSE2(C + Vec.polar(r, lerp( π/2,  π,   t)), lerp(π, 3π/2,t)),  s)\n",
    "        curvepts4[j] = CurvePt(VecSE2(D + Vec.polar(r, lerp( π,   3π/2, t)), lerp(3π/2,2π,t)),  s)\n",
    "    end\n",
    "\n",
    "    laneindex = nlanes-i+1\n",
    "    tag1 = LaneTag(1,laneindex)\n",
    "    tag2 = LaneTag(2,laneindex)\n",
    "    tag3 = LaneTag(3,laneindex)\n",
    "    tag4 = LaneTag(4,laneindex)\n",
    "\n",
    "    boundary_left = (laneindex == nlanes ? boundary_leftmost : boundary_middle)\n",
    "    boundary_right = (laneindex == 1 ? boundary_rightmost : boundary_middle)\n",
    "    curveind_lo = CurveIndex(1,0.0)\n",
    "    curveind_hi = CurveIndex(ncurvepts_per_turn-1,1.0)\n",
    "\n",
    "    seg1.lanes[laneindex] = Lane(tag1, curvepts1, width=lane_width,\n",
    "    boundary_left=LaneBoundary(:solid,:white), boundary_right=LaneBoundary(:solid,:white),\n",
    "                                  next = RoadIndex(curveind_lo, tag2),\n",
    "                                  prev = RoadIndex(curveind_hi, tag4),\n",
    "                                 )\n",
    "    seg2.lanes[laneindex] = Lane(tag2, curvepts2, width=lane_width,\n",
    "    boundary_left=LaneBoundary(:solid,:yellow), boundary_right=LaneBoundary(:solid,:yellow),\n",
    "                                  next = RoadIndex(curveind_lo, tag3),\n",
    "                                  prev = RoadIndex(curveind_hi, tag1),\n",
    "                                 )\n",
    "    seg3.lanes[laneindex] = Lane(tag3, curvepts3, width=lane_width,\n",
    "    boundary_left=LaneBoundary(:solid,:white), boundary_right=LaneBoundary(:solid,:white),\n",
    "                                  next = RoadIndex(curveind_lo, tag4),\n",
    "                                  prev = RoadIndex(curveind_hi, tag2),\n",
    "                                 )\n",
    "    seg4.lanes[laneindex] = Lane(tag4, curvepts4, width=lane_width,\n",
    "    boundary_left=LaneBoundary(:solid,:yellow), boundary_right=LaneBoundary(:solid,:yellow),\n",
    "                                  next = RoadIndex(curveind_lo, tag1),\n",
    "                                  prev = RoadIndex(curveind_hi, tag3),\n",
    "                                 )\n",
    "end\n",
    "\n",
    "retval = Roadway()\n",
    "push!(retval.segments, seg1)\n",
    "push!(retval.segments, seg2)\n",
    "push!(retval.segments, seg3)\n",
    "push!(retval.segments, seg4)\n",
    "# retval\n",
    "\n"
   ]
  },
  {
   "cell_type": "code",
   "execution_count": 6,
   "metadata": {
    "collapsed": false,
    "scrolled": false
   },
   "outputs": [
    {
     "data": {
      "image/png": "[encoded data removed]",
      "text/plain": [
       "Cairo.CairoSurface{UInt32}(Ptr{Void} @0x00007fd8b6e5fdc0,1000.0,600.0,#undef)"
      ]
     },
     "execution_count": 6,
     "metadata": {},
     "output_type": "execute_result"
    }
   ],
   "source": [
    "car_len = 4.8\n",
    "car_width = 1.8\n",
    "\n",
    "roadway = retval\n",
    "scene = Scene()\n",
    "push!(scene,Vehicle(VehicleState(VecSE2(131.0,30.0,pi/2.0), roadway, 29.0+randn()), \n",
    "                    VehicleDef(1, AgentClass.CAR, car_len, car_width)))\n",
    "push!(scene,Vehicle(VehicleState(VecSE2(40.0,0.0,0.0), roadway, 29.0+randn()), \n",
    "                    VehicleDef(2, AgentClass.CAR, car_len, car_width)))\n",
    "push!(scene,Vehicle(VehicleState(VecSE2(70.0,-DEFAULT_LANE_WIDTH,0.0), roadway, 29.0+randn()), \n",
    "                    VehicleDef(3, AgentClass.CAR, car_len, car_width)))\n",
    "\n",
    "render(scene, roadway, cam=FitToContentCamera())"
   ]
  },
  {
   "cell_type": "markdown",
   "metadata": {},
   "source": [
    "## Roadway specs"
   ]
  },
  {
   "cell_type": "code",
   "execution_count": null,
   "metadata": {
    "collapsed": false
   },
   "outputs": [],
   "source": [
    "length(roadway.segments)"
   ]
  },
  {
   "cell_type": "code",
   "execution_count": null,
   "metadata": {
    "collapsed": false
   },
   "outputs": [],
   "source": [
    "roadway.segments[4].lanes[1].curve[1]"
   ]
  },
  {
   "cell_type": "code",
   "execution_count": null,
   "metadata": {
    "collapsed": false
   },
   "outputs": [],
   "source": [
    "fieldnames(roadway.segments[1].lanes[1].curve[1])"
   ]
  },
  {
   "cell_type": "code",
   "execution_count": null,
   "metadata": {
    "collapsed": false
   },
   "outputs": [],
   "source": [
    "roadway.segments[1].lanes[1].entrances"
   ]
  },
  {
   "cell_type": "code",
   "execution_count": null,
   "metadata": {
    "collapsed": false
   },
   "outputs": [],
   "source": [
    "roadway.segments[2].lanes[1].entrances"
   ]
  },
  {
   "cell_type": "code",
   "execution_count": null,
   "metadata": {
    "collapsed": false
   },
   "outputs": [],
   "source": [
    "roadway.segments[3].lanes[1].entrances"
   ]
  },
  {
   "cell_type": "code",
   "execution_count": null,
   "metadata": {
    "collapsed": false
   },
   "outputs": [],
   "source": [
    "roadway.segments[4].lanes[1].entrances"
   ]
  },
  {
   "cell_type": "code",
   "execution_count": null,
   "metadata": {
    "collapsed": false
   },
   "outputs": [],
   "source": [
    "function gen_straight_roadway(nlanes::Int, length::Float64=1000.0;\n",
    "    origin::VecSE2 = VecSE2(0.0,0.0,0.0),\n",
    "    lane_width::Float64=DEFAULT_LANE_WIDTH, # [m]\n",
    "    lane_widths::Vector{Float64} = fill(lane_width, nlanes),\n",
    "    boundary_leftmost::LaneBoundary=LaneBoundary(:solid, :white),\n",
    "    boundary_rightmost::LaneBoundary=LaneBoundary(:solid, :white),\n",
    "    boundary_middle::LaneBoundary=LaneBoundary(:broken, :white),\n",
    "    )\n",
    "\n",
    "    retval = Roadway()\n",
    "    push!(retval.segments, gen_straight_segment(1, nlanes, length,\n",
    "                                                origin=origin, lane_widths=lane_widths,\n",
    "                                                boundary_leftmost=boundary_leftmost,\n",
    "                                                boundary_rightmost=boundary_rightmost,\n",
    "                                                boundary_middle=boundary_middle))\n",
    "    retval\n",
    "end"
   ]
  },
  {
   "cell_type": "code",
   "execution_count": null,
   "metadata": {
    "collapsed": false
   },
   "outputs": [],
   "source": [
    "# Generate Roadway\n",
    "myRoad = Roadway()"
   ]
  },
  {
   "cell_type": "code",
   "execution_count": null,
   "metadata": {
    "collapsed": false
   },
   "outputs": [],
   "source": [
    "# Generate Straight Segment\n",
    "seg_id = 1\n",
    "nlanes = 6\n",
    "segment_length = 100.0\n",
    "origin = VecSE2(0.0, 0.0, 0.0)\n",
    "lane_width = DEFAULT_LANE_WIDTH\n",
    "lane_widths = fill(lane_width,nlanes)\n",
    "boundary_leftmost = LaneBoundary(:solid,:white)\n",
    "boundary_rightmost = LaneBoundary(:solid,:white)\n",
    "boundary_middle = LaneBoundary(:broken,:white)\n",
    "\n",
    "seg = RoadSegment(seg_id, Array(Lane, nlanes))\n",
    "y = -lane_widths[1]/2\n",
    "for i in 1 : nlanes\n",
    "    y += lane_widths[i]/2\n",
    "    seg.lanes[i] = Lane(LaneTag(seg_id,i), [CurvePt(body2inertial(VecSE2( 0.0, y, 0.), origin), 0.0), \n",
    "                                            CurvePt(body2inertial(VecSE2(segment_length,y,0.0), origin), segment_length)], \n",
    "    width=lane_widths[i],\n",
    "    boundary_left=(i == nlanes ? boundary_leftmost : boundary_middle),\n",
    "    boundary_right=(i == 1 ? boundary_rightmost : boundary_middle))\n",
    "    \n",
    "    y+= lane_widths[i]/2\n",
    "end\n",
    "\n",
    "# Push straight segment onto myRoad\n",
    "push!(myRoad.segments, seg)\n",
    "render(myRoad, canvas_height=120)"
   ]
  },
  {
   "cell_type": "code",
   "execution_count": null,
   "metadata": {
    "collapsed": false
   },
   "outputs": [],
   "source": [
    "myRoad.segments[1].lanes[1].entrances"
   ]
  },
  {
   "cell_type": "code",
   "execution_count": null,
   "metadata": {
    "collapsed": false
   },
   "outputs": [],
   "source": [
    "# fieldnames of Roadway type\n",
    "fieldnames(myRoad)"
   ]
  },
  {
   "cell_type": "code",
   "execution_count": null,
   "metadata": {
    "collapsed": false
   },
   "outputs": [],
   "source": [
    "# fieldnames of segments\n",
    "fieldnames(myRoad.segments[1])"
   ]
  },
  {
   "cell_type": "code",
   "execution_count": null,
   "metadata": {
    "collapsed": false
   },
   "outputs": [],
   "source": [
    "# fieldnames of lanes\n",
    "fieldnames(myRoad.segments[1].lanes[1])"
   ]
  },
  {
   "cell_type": "markdown",
   "metadata": {},
   "source": [
    "## Make single car drive around race track"
   ]
  },
  {
   "cell_type": "code",
   "execution_count": 2,
   "metadata": {
    "collapsed": false,
    "scrolled": false
   },
   "outputs": [
    {
     "data": {
      "text/plain": [
       "drawsim (generic function with 2 methods)"
      ]
     },
     "execution_count": 2,
     "metadata": {},
     "output_type": "execute_result"
    }
   ],
   "source": [
    "## Drive single car around the racetrack\n",
    "\n",
    "\n",
    "srand(0)\n",
    "roadway = gen_stadium_roadway(1, radius=45.0, lane_width=4.0*DEFAULT_LANE_WIDTH)\n",
    "\n",
    "roadind = RoadIndex(proj(VecSE2(0.0,-1*DEFAULT_LANE_WIDTH,0.0), roadway))\n",
    "\n",
    "scene = Scene()\n",
    "framerate = 24\n",
    "context = IntegratedContinuous(1/framerate,3)\n",
    "\n",
    "models = Dict{Int, DriverModel}()\n",
    "carcolors = Dict{Int, Colorant}()\n",
    "base_speed= 20.0\n",
    "\n",
    "\n",
    "vehstate = VehicleState(Frenet(roadind, roadway), roadway, base_speed+randn())\n",
    "vehdef = VehicleDef(1,AgentClass.CAR, 4.8, 1.8)\n",
    "push!(scene,Vehicle(vehstate, vehdef))\n",
    "models[1] = Tim2DDriver(context, rec=SceneRecord(1,context.Δt, 1))\n",
    "set_desired_speed!(models[1], 30.0 + 20*rand())\n",
    "carcolors[1] = colorant\"red\"\n",
    "\n",
    "actions = get_actions!(Array(DriveAction, length(scene)), scene, roadway, models)\n",
    "\n",
    "state_record = []\n",
    "\n",
    "function drawsim(t, dt=NaN)\n",
    "    get_actions!(actions, scene, roadway, models)\n",
    "    tick!(scene, roadway, actions, models)\n",
    "    # Store information about how far along the centerline the car has proceeded\n",
    "    push!(state_record, scene.vehicles[1].state.posF.s)\n",
    "    render(scene, roadway, cam=FitToContentCamera(), car_colors=carcolors)\n",
    "end"
   ]
  },
  {
   "cell_type": "code",
   "execution_count": 3,
   "metadata": {
    "collapsed": false
   },
   "outputs": [
    {
     "data": {
      "image/png": "[encoded data removed]",
      "text/plain": [
       "Cairo.CairoSurface{UInt32}(Ptr{Void} @0x00007fd3ca4c9a60,1000.0,600.0,#undef)"
      ]
     },
     "execution_count": 3,
     "metadata": {
      "comm_id": "8f40d6b0-ed56-4ac8-8c26-66f97bf8cdec",
      "reactive": true
     },
     "output_type": "execute_result"
    }
   ],
   "source": [
    "# using Reactive\n",
    "# using Interact\n",
    "\n",
    "\n",
    "ticks = fps(framerate)\n",
    "timestamps = map(_ -> time(), ticks)\n",
    "map(drawsim, timestamps)"
   ]
  },
  {
   "cell_type": "code",
   "execution_count": 15,
   "metadata": {
    "collapsed": false
   },
   "outputs": [
    {
     "data": {
      "text/plain": [
       "4.259883972804222e-14"
      ]
     },
     "execution_count": 15,
     "metadata": {},
     "output_type": "execute_result"
    }
   ],
   "source": [
    "## Projection onto the lane\n",
    "myProjection = Vec.proj(scene.vehicles[1].state.posG, roadway.segments[1].lanes[1], roadway)\n",
    "fieldnames(myProjection.curveproj)\n",
    "myProjection.curveproj.t"
   ]
  },
  {
   "cell_type": "code",
   "execution_count": 17,
   "metadata": {
    "collapsed": false
   },
   "outputs": [
    {
     "data": {
      "text/plain": [
       "-15.0"
      ]
     },
     "execution_count": 17,
     "metadata": {},
     "output_type": "execute_result"
    }
   ],
   "source": [
    "fake_posG = VecSE2(55.0, -15.0, 6.1)\n",
    "fakeProjection = Vec.proj(fake_posG, roadway.segments[1].lanes[1], roadway)\n",
    "fakeProjection.curveproj.t"
   ]
  },
  {
   "cell_type": "code",
   "execution_count": null,
   "metadata": {
    "collapsed": false
   },
   "outputs": [],
   "source": [
    "scene.vehicles[1].state.posG"
   ]
  },
  {
   "cell_type": "code",
   "execution_count": null,
   "metadata": {
    "collapsed": false
   },
   "outputs": [],
   "source": [
    "fieldnames(roadway.segments[1].lanes[1])"
   ]
  },
  {
   "cell_type": "code",
   "execution_count": null,
   "metadata": {
    "collapsed": false
   },
   "outputs": [],
   "source": [
    "using PyPlot\n",
    "plot(state_record)\n"
   ]
  },
  {
   "cell_type": "code",
   "execution_count": null,
   "metadata": {
    "collapsed": false
   },
   "outputs": [],
   "source": [
    "fieldnames(scene.vehicles[1].state)"
   ]
  },
  {
   "cell_type": "code",
   "execution_count": null,
   "metadata": {
    "collapsed": false,
    "scrolled": true
   },
   "outputs": [],
   "source": [
    "fieldnames(scene.vehicles[1].state.posG)"
   ]
  },
  {
   "cell_type": "code",
   "execution_count": null,
   "metadata": {
    "collapsed": false
   },
   "outputs": [],
   "source": [
    "fieldnames(scene.vehicles[1].state.posF)"
   ]
  },
  {
   "cell_type": "code",
   "execution_count": null,
   "metadata": {
    "collapsed": false
   },
   "outputs": [],
   "source": [
    "fieldnames(scene.vehicles[1].state.posF.roadind)"
   ]
  },
  {
   "cell_type": "code",
   "execution_count": null,
   "metadata": {
    "collapsed": false
   },
   "outputs": [],
   "source": [
    "scene.vehicles[1].state.posF"
   ]
  },
  {
   "cell_type": "code",
   "execution_count": null,
   "metadata": {
    "collapsed": false
   },
   "outputs": [],
   "source": [
    "print(scene.vehicles[1].state.posF.roadind)"
   ]
  },
  {
   "cell_type": "code",
   "execution_count": null,
   "metadata": {
    "collapsed": false
   },
   "outputs": [],
   "source": [
    "scene.vehicles[1].state.v"
   ]
  },
  {
   "cell_type": "code",
   "execution_count": null,
   "metadata": {
    "collapsed": false
   },
   "outputs": [],
   "source": [
    "state_record[1:20]"
   ]
  },
  {
   "cell_type": "code",
   "execution_count": null,
   "metadata": {
    "collapsed": false
   },
   "outputs": [],
   "source": [
    "state_record[140:160]"
   ]
  }
 ],
 "metadata": {
  "anaconda-cloud": {},
  "kernelspec": {
   "display_name": "Julia 0.5.0",
   "language": "julia",
   "name": "julia-0.5"
  },
  "language_info": {
   "file_extension": ".jl",
   "mimetype": "application/julia",
   "name": "julia",
   "version": "0.5.0"
  }
 },
 "nbformat": 4,
 "nbformat_minor": 0
}
