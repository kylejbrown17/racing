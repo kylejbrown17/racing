{
 "cells": [
  {
   "cell_type": "code",
   "execution_count": 2,
   "metadata": {
    "collapsed": false
   },
   "outputs": [
    {
     "name": "stderr",
     "output_type": "stream",
     "text": [
      "/Users/kyle/anaconda/lib/python2.7/site-packages/matplotlib/font_manager.py:273: UserWarning: Matplotlib is building the font cache using fc-list. This may take a moment.\n",
      "  warnings.warn('Matplotlib is building the font cache using fc-list. This may take a moment.')\n"
     ]
    }
   ],
   "source": [
    "using AutomotiveDrivingModels\n",
    "using AutoViz\n",
    "using Reactive\n",
    "using Interact\n",
    "using SplineUtils\n",
    "using HierarchicalRecedingHorizonController\n",
    "using NearestNeighbors\n",
    "\n",
    "\n",
    "# import PyPlot"
   ]
  },
  {
   "cell_type": "code",
   "execution_count": 3,
   "metadata": {
    "collapsed": false
   },
   "outputs": [
    {
     "ename": "LoadError",
     "evalue": "UndefVarError: ClosedB_Spline not defined",
     "output_type": "error",
     "traceback": [
      "UndefVarError: ClosedB_Spline not defined",
      ""
     ]
    }
   ],
   "source": [
    "# scene parameters\n",
    "scene = Scene()\n",
    "framerate = 24\n",
    "Δt = 1.0/framerate # size of rendering timesteps\n",
    "n_integration_sub_steps = 3 # sub steps for smoother integration\n",
    "context = IntegratedContinuous(Δt, n_integration_sub_steps) # integrated continuous context\n",
    "\n",
    "\n",
    "#car parameters\n",
    "car_length = 4.8 # front wheel to back wheel\n",
    "car_width = 2.5\n",
    "v⁰  = 0.0 # initial velocity\n",
    "δ⁰ = 0.0 # initical steering angle\n",
    "\n",
    "############### INITIALIZE TRACK ################\n",
    "\n",
    "lane_width = 8.0*DEFAULT_LANE_WIDTH\n",
    "radius = 45.0\n",
    "edge_buffer = 0.25\n",
    "T_MAX = lane_width/2.0 - car_width/2.0 - edge_buffer # max allowable projection distance from center of lane\n",
    "base_speed= 0.0\n",
    "\n",
    "# spline control points\n",
    "# Pts = 40*[0 -1 -2 -3 -3 -3 -2 -1 -1 -1 -2 -3 -4 -5 -5 -5 -5 -5 -5 -4 -3 -2 -1 -1 -1 0 1 1 1 2 3 4 5 5 5 5 5 5 5 4 3 3 3 3 2 1 0; \n",
    "#          0 0 0 0 -1 -2 -2 -2 -3 -4 -4 -4 -4 -4 -3 -2 -1 0 1 2 3 4 4 3 2 2 2 3 4 4 4 4 3 2 1 0 -1 -2 -3 -4 -3 -2 -1 0 0 0 0]\n",
    "Pts = 40*[0 -1 -2 -3 -3.5 -3 -2 -1 -0.5 -1 -2 -3 -4 -5 -5.5 -5 -4.5 -5 -5 -4 -3 -2 -1 -1 -1 0 1 1 1 2 3 4 5 5 5 5 5 5 5 4 3 3 3 3 2 1 0; \n",
    "       0 0 0 0 -1 -2 -2 -2 -3 -4 -4 -4 -4 -4 -3 -2 -1 0 1 2 3 4 4 3 2 2 2 3 4 4 4 4 3 2 1 0 -1 -2 -3 -4 -3 -2 -1 0 0 0 0]\n",
    "\n",
    "\n",
    "degree = 3 # degree of spline\n",
    "num_points = 10001\n",
    "\n",
    "# compute B spline\n",
    "T, tt, rx, ry = ClosedB_Spline(Pts, degree, num_points)\n",
    "# compute B spline derivative\n",
    "ṙx, ṙy = B_SplineDerivative(T,tt,Pts,degree)\n",
    "# compute theta \n",
    "θ = atan2(ṙy,ṙx) # unit tangent vector\n",
    "# compute arc length s\n",
    "s = zeros(size(rx))\n",
    "s[2:end] = cumsum(sqrt(diff(rx).^2 + diff(ry).^2))\n",
    "# compute curvature\n",
    "k = diff(θ)./diff(s) # curvature\n",
    "# resample evenly along spline\n",
    "num_samples = 420\n",
    "xP, yP, θP, sP, kP = ResampleSplineEven(rx,ry,θ,s,k,num_samples)\n",
    "\n",
    "# KDtree for projection onto roadway\n",
    "# tree = KDTree([xP';yP'])\n",
    "\n",
    "lane_width = 20.0\n",
    "roadway, tree = GenSplineRoadway(xP,yP,θP,sP,kP,lane_width)\n",
    "\n",
    "roadind1 = RoadIndex(CurveIndex(8,0),LaneTag(1,1))\n",
    "roadind2 = RoadIndex(CurveIndex(5,0),LaneTag(1,1))\n",
    "roadind3 = RoadIndex(CurveIndex(1,0),LaneTag(1,1))\n",
    "\n",
    "vehstate1 = VehicleState(Frenet(roadind1, roadway), roadway, 0.0)\n",
    "vehstate2 = VehicleState(Frenet(roadind2, roadway), roadway, 0.0)\n",
    "vehstate3 = VehicleState(Frenet(roadind3, roadway), roadway, 0.0)\n",
    "\n",
    "vehdef1 = VehicleDef(1,AgentClass.CAR, car_length, car_width)\n",
    "vehdef2 = VehicleDef(2,AgentClass.CAR, car_length, car_width)\n",
    "vehdef3 = VehicleDef(3,AgentClass.CAR, car_length, car_width)\n",
    "\n",
    "push!(scene,Vehicle(vehstate1, vehdef1))\n",
    "push!(scene,Vehicle(vehstate2, vehdef2))\n",
    "push!(scene,Vehicle(vehstate3, vehdef3))\n",
    "\n",
    "models = Dict{Int, DriverModel}()\n",
    "carcolors = Dict{Int, Colorant}()\n",
    "carcolors[1] = colorant\"red\"\n",
    "carcolors[2] = colorant\"blue\"\n",
    "carcolors[2] = colorant\"yellow\"\n",
    "\n",
    "\n",
    "# hrhc = HRHC(1,roadway,context)\n",
    "models[1] = HRHC(1,roadway,context,ΔV₊=2.05,ΔV₋=4.05,Δδ=Float64(π)/12,V_MIN=0.0,V_MAX=115.0,V_STEPS=230,k=1)\n",
    "models[2] = HRHC(2,roadway,context,ΔV₊=1.55,ΔV₋=4.05,Δδ=Float64(π)/12,V_MIN=0.0,V_MAX=125.0,V_STEPS=250,k=1)\n",
    "models[3] = HRHC(3,roadway,context,ΔV₊=2.55,ΔV₋=4.05,Δδ=Float64(π)/12,V_MIN=0.0,V_MAX=130.0,V_STEPS=250,k=2)\n",
    "actions = Array(DriveAction, length(scene))\n",
    "\n",
    "obstacleMap = generateObstacleMap(scene, models)"
   ]
  },
  {
   "cell_type": "code",
   "execution_count": null,
   "metadata": {
    "collapsed": true
   },
   "outputs": [],
   "source": []
  }
 ],
 "metadata": {
  "anaconda-cloud": {},
  "kernelspec": {
   "display_name": "Julia 0.5.0",
   "language": "julia",
   "name": "julia-0.5"
  },
  "language_info": {
   "file_extension": ".jl",
   "mimetype": "application/julia",
   "name": "julia",
   "version": "0.5.0"
  }
 },
 "nbformat": 4,
 "nbformat_minor": 0
}
