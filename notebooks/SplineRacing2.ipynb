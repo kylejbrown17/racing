{
 "cells": [
  {
   "cell_type": "code",
   "execution_count": null,
   "metadata": {
    "collapsed": false
   },
   "outputs": [],
   "source": [
    "using AutomotiveDrivingModels\n",
    "using AutoViz\n",
    "using Reactive\n",
    "using Interact\n",
    "using SplineUtils\n",
    "using SplineRaceWay\n",
    "using HierarchicalRecedingHorizonController\n",
    "using NearestNeighbors\n",
    "\n",
    "\n",
    "# import PyPlot"
   ]
  },
  {
   "cell_type": "code",
   "execution_count": null,
   "metadata": {
    "collapsed": false
   },
   "outputs": [],
   "source": [
    "# scene parameters\n",
    "scene = Scene()\n",
    "framerate = 24\n",
    "Δt = 1.0/framerate # size of rendering timesteps\n",
    "n_integration_sub_steps = 3 # sub steps for smoother integration\n",
    "context = IntegratedContinuous(Δt, n_integration_sub_steps) # integrated continuous context\n",
    "\n",
    "#car parameters\n",
    "car_length = 4.8 # front wheel to back wheel\n",
    "car_width = 2.5\n",
    "v⁰  = 0.0 # initial velocity\n",
    "δ⁰ = 0.0 # initical steering angle\n",
    "\n",
    "############### INITIALIZE TRACK ################\n",
    "\n",
    "lane_width = 8.0*DEFAULT_LANE_WIDTH\n",
    "radius = 45.0\n",
    "edge_buffer = 0.25\n",
    "T_MAX = lane_width/2.0 - car_width/2.0 - edge_buffer # max allowable projection distance from center of lane\n",
    "base_speed= 0.0\n",
    "\n",
    "# spline control points\n",
    "# Pts = 40*[0 -1 -2 -3 -3 -3 -2 -1 -1 -1 -2 -3 -4 -5 -5 -5 -5 -5 -5 -4 -3 -2 -1 -1 -1 0 1 1 1 2 3 4 5 5 5 5 5 5 5 4 3 3 3 3 2 1 0; \n",
    "#          0 0 0 0 -1 -2 -2 -2 -3 -4 -4 -4 -4 -4 -3 -2 -1 0 1 2 3 4 4 3 2 2 2 3 4 4 4 4 3 2 1 0 -1 -2 -3 -4 -3 -2 -1 0 0 0 0]\n",
    "Pts = 40*[0 -1 -2 -3 -3.5 -3 -2 -1 -0.5 -1 -2 -3 -4 -5 -5.5 -5 -4.5 -5 -5 -4 -3 -2 -1 -1 -1 0 1 1 1 2 3 4 5 5 5 5 5 5 5 4 3 3 3 3 2 1 0; \n",
    "       0 0 0 0 -1 -2 -2 -2 -3 -4 -4 -4 -4 -4 -3 -2 -1 0 1 2 3 4 4 3 2 2 2 3 4 4 4 4 3 2 1 0 -1 -2 -3 -4 -3 -2 -1 0 0 0 0]\n",
    "\n",
    "degree = 3 # degree of spline\n",
    "num_points = 10001\n",
    "num_samples = 420\n",
    "lane_width = 20.0\n",
    "track = Raceway(Pts,degree,num_points,num_samples,lane_width)"
   ]
  },
  {
   "cell_type": "code",
   "execution_count": null,
   "metadata": {
    "collapsed": false
   },
   "outputs": [],
   "source": [
    "# # compute B spline\n",
    "# T, tt, rx, ry = ClosedB_Spline(Pts, degree, num_points)\n",
    "# # compute B spline derivative\n",
    "# ṙx, ṙy = B_SplineDerivative(T,tt,Pts,degree)\n",
    "# # compute theta \n",
    "# θ = atan2(ṙy,ṙx) # unit tangent vector\n",
    "# # compute arc length s\n",
    "# s = zeros(size(rx))\n",
    "# s[2:end] = cumsum(sqrt(diff(rx).^2 + diff(ry).^2))\n",
    "# # compute curvature\n",
    "# k = diff(θ)./diff(s) # curvature\n",
    "# # resample evenly along spline\n",
    "# xP, yP, θP, sP, kP = ResampleSplineEven(rx,ry,θ,s,k,num_samples)\n",
    "\n",
    "# # KDtree for projection onto roadway\n",
    "# # tree = KDTree([xP';yP'])\n",
    "\n",
    "# roadway, tree = GenSplineRoadway(xP,yP,θP,sP,kP,lane_width)"
   ]
  },
  {
   "cell_type": "code",
   "execution_count": null,
   "metadata": {
    "collapsed": false
   },
   "outputs": [],
   "source": [
    "roadind1 = RoadIndex(CurveIndex(20,0),LaneTag(1,1))\n",
    "roadind2 = RoadIndex(CurveIndex(17,0),LaneTag(1,1))\n",
    "roadind3 = RoadIndex(CurveIndex(11,0),LaneTag(1,1))\n",
    "\n",
    "vehstate1 = VehicleState(Frenet(roadind1, track.roadway), track.roadway, 0.0)\n",
    "vehstate2 = VehicleState(Frenet(roadind2, track.roadway), track.roadway, 0.0)\n",
    "vehstate3 = VehicleState(Frenet(roadind3, track.roadway), track.roadway, 0.0)\n",
    "\n",
    "vehdef1 = VehicleDef(1,AgentClass.CAR, car_length, car_width)\n",
    "vehdef2 = VehicleDef(2,AgentClass.CAR, car_length, car_width)\n",
    "vehdef3 = VehicleDef(3,AgentClass.CAR, car_length, car_width)\n",
    "\n",
    "push!(scene,Vehicle(vehstate1, vehdef1))\n",
    "push!(scene,Vehicle(vehstate2, vehdef2))\n",
    "push!(scene,Vehicle(vehstate3, vehdef3))\n",
    "\n",
    "# models = Dict{Int, DriverModel}()\n",
    "carcolors = Dict{Int, Colorant}()\n",
    "carcolors[1] = colorant\"red\"\n",
    "carcolors[2] = colorant\"blue\"\n",
    "carcolors[3] = colorant\"yellow\"\n",
    "\n",
    "\n",
    "# hrhc = HRHC(1,roadway,context)\n",
    "track.models[1] = HRHC(1,track.roadway,context,ΔV₊=2.05,ΔV₋=4.05,Δδ=Float64(π)/12,V_MIN=0.0,V_MAX=115.0,V_STEPS=230,k=1)\n",
    "track.models[2] = HRHC(2,track.roadway,context,ΔV₊=1.55,ΔV₋=4.05,Δδ=Float64(π)/12,V_MIN=0.0,V_MAX=125.0,V_STEPS=250,k=1)\n",
    "track.models[3] = HRHC(3,track.roadway,context,ΔV₊=2.55,ΔV₋=4.05,Δδ=Float64(π)/12,V_MIN=0.0,V_MAX=130.0,V_STEPS=250,k=2)\n",
    "actions = Array(DriveAction, length(scene))\n",
    "\n",
    "track.obstacleMap = generateObstacleMap(scene, track.models)"
   ]
  },
  {
   "cell_type": "code",
   "execution_count": null,
   "metadata": {
    "collapsed": false
   },
   "outputs": [],
   "source": [
    "function drawsim(t, dt=NaN)\n",
    "    # get_actions!(actions, scene, roadway, models)\n",
    "    k_level = 0 # needs to be updated into a loop\n",
    "    for k_level in 0:maximum([model.k for (id,model) in track.models])\n",
    "        for (i, veh) in enumerate(scene)\n",
    "            model = track.models[veh.def.id]\n",
    "            observe!(model, scene, track.roadway, veh.def.id, track.tree, track.obstacleMap, k_level)\n",
    "            actions[i] = rand(model)\n",
    "        end\n",
    "    end\n",
    "    # tick!(scene, roadway, actions, models)\n",
    "    for (veh, action) in zip(scene, actions)\n",
    "        model = track.models[veh.def.id]\n",
    "        context = action_context(model)\n",
    "        veh.state = propagate(veh, action, context, track.roadway)\n",
    "    end\n",
    "    zoom = 5.0\n",
    "    render(scene, track.roadway, cam=FitToContentCamera(), car_colors=carcolors)\n",
    "#     render(scene, track.roadway, cam=SceneFollowCamera(zoom), car_colors=carcolors)\n",
    "\n",
    "end"
   ]
  },
  {
   "cell_type": "code",
   "execution_count": null,
   "metadata": {
    "collapsed": false
   },
   "outputs": [],
   "source": [
    "ticks = fps(framerate)\n",
    "timestamps = map(_ -> time(), ticks)\n",
    "map(drawsim, timestamps)"
   ]
  },
  {
   "cell_type": "code",
   "execution_count": null,
   "metadata": {
    "collapsed": false
   },
   "outputs": [],
   "source": [
    "trajectory = zeros(track.models[1].h,5)\n",
    "out_of_bounds = false\n",
    "objective = zeros(6,17)\n",
    "eligibility_mask = zeros(6,17)\n",
    "s = zeros(6,17)\n",
    "t = zeros(6,17)\n",
    "ϕ = zeros(6,17)\n",
    "action_selected = false\n",
    "cmd = (1,1)\n",
    "abs_cmd = (1,1)"
   ]
  },
  {
   "cell_type": "code",
   "execution_count": null,
   "metadata": {
    "collapsed": false
   },
   "outputs": [],
   "source": [
    "steps = 1\n",
    "for _ in 1:steps\n",
    "    for k_level in 0:maximum([model.k for (id,model) in track.models])\n",
    "        for (i, veh) in enumerate(scene)\n",
    "            model = track.models[veh.def.id]\n",
    "            observe!(model, scene, track.roadway, veh.def.id, track.tree, track.obstacleMap, k_level)\n",
    "            actions[i] = rand(model)\n",
    "        end\n",
    "    end\n",
    "    for (veh, action) in zip(scene, actions)\n",
    "        model = track.models[veh.def.id]\n",
    "        context = action_context(model)\n",
    "        veh.state = propagate(veh, action, context, track.roadway)\n",
    "    end\n",
    "end\n",
    "\n",
    "k_level = 1\n",
    "hrhc = track.models[1]\n",
    "state = scene.vehicles[hrhc.car_ID].state\n",
    "hrhc.curve_ind = state.posF.roadind.ind.i\n",
    "v = state.v # current v\n",
    "hrhc.v = v\n",
    "\n",
    "i = 0\n",
    "for i in 0:(hrhc.h-1)\n",
    "    if action_selected\n",
    "#         @show i-1\n",
    "        break # out of for loop\n",
    "    end\n",
    "    getLegalMoves!(hrhc, scene, h=hrhc.h-i)\n",
    "    getSuccessorStates!(hrhc, scene)\n",
    "    s,t,ϕ = loopProjectionKD(hrhc, scene, track.roadway, track.tree)\n",
    "    objective = calculateObjective(hrhc, scene, track.roadway, track.tree, s, t, ϕ, track.obstacleMap, k_level, hrhc.h-i)\n",
    "\n",
    "    while (action_selected==false) && (minimum(objective) != Inf)            \n",
    "        index = indmin(objective) # find get a better method of optimizing this\n",
    "        cmd = ind2sub(s, index)\n",
    "        abs_cmd = (cmd[1]+hrhc.v_idx_low-1, cmd[2]+hrhc.δ_idx_low-1)\n",
    "\n",
    "        # compute full trajectory up to horizon\n",
    "        trajectory = computeTrajectory(hrhc, scene, abs_cmd, h=hrhc.h-i)\n",
    "\n",
    "        # screen trajectory for collisions / validity\n",
    "        out_of_bounds = screenTrajectory(trajectory, track.obstacleMap, scene, track.roadway, hrhc, track.tree, k_level)\n",
    "\n",
    "        if out_of_bounds\n",
    "            objective[index] = Inf\n",
    "        else\n",
    "            action_selected=true\n",
    "            updateObstacleMap!(track.obstacleMap, k_level, hrhc.car_ID, trajectory)\n",
    "        end\n",
    "    end \n",
    "end\n",
    "\n",
    "# hrhc.δ = hrhc.δ_cmds[abs_cmd[1], abs_cmd[2]]\n",
    "# hrhc.v = hrhc.v_cmds[abs_cmd[1], abs_cmd[2]]\n",
    "\n",
    "# next_state = VehicleState(VecSE2(trajectory[1,:]),roadway,hrhc.v)   \n",
    "# hrhc.action = NextState(next_state) # action\n",
    "plotHRHCInfo(hrhc,track.models,scene,track.roadway,trajectory,cmd,track.x,track.y,track.θ,s,t,ϕ,objective)"
   ]
  },
  {
   "cell_type": "code",
   "execution_count": null,
   "metadata": {
    "collapsed": false
   },
   "outputs": [],
   "source": [
    "# render(scene, track.roadway, cam=FitToContentCamera(), car_colors=carcolors)"
   ]
  },
  {
   "cell_type": "code",
   "execution_count": null,
   "metadata": {
    "collapsed": false
   },
   "outputs": [],
   "source": [
    "# plot_stϕ(hrhc,track.roadway,scene,track.x,track.y,track.θ,trajectory,s,t,ϕ,objective)"
   ]
  },
  {
   "cell_type": "code",
   "execution_count": null,
   "metadata": {
    "collapsed": false
   },
   "outputs": [],
   "source": [
    "# plotObjectiveHorizon(track.models[2],scene,track.roadway,track.tree,trajectory,track.obstacleMap,track.x,track.y,track.θ)"
   ]
  },
  {
   "cell_type": "code",
   "execution_count": null,
   "metadata": {
    "collapsed": true
   },
   "outputs": [],
   "source": [
    "function calculateObjective(hrhc, scene, roadway, tree, s, t, ϕ, obstacleMap, k_level, h; f_ϕ=0.0, f_t=0.1, f_tϕ=3.0)\n",
    "    \"\"\"\n",
    "    Calculates the value of the optimization objective function for every state\n",
    "      in hrhc.successor_states\n",
    "    \"\"\"\n",
    "    state = scene.vehicles[hrhc.car_ID].state\n",
    "    dS = s - state.posF.s\n",
    "    dS = dS / maximum(dS) # normalize\n",
    "    ϕMAX = Float64(π)/2\n",
    "\n",
    "    # penalize large t (proximity to edge of track)\n",
    "    cost_t = (exp(((10-h+f_t)*abs(t/hrhc.T_MAX).^2)) - 1)/exp(f_t)\n",
    "    # penalize large ϕ (steering away from forward direction on the track)\n",
    "    cost_ϕ = (exp(((10-h+f_ϕ)*abs(ϕ/ϕMAX).^2)) - 1)/exp(f_ϕ)\n",
    "    # penalize when t and ϕ have the same sign\n",
    "    A = [1 1; 1 1]\n",
    "    cost_x = (((ϕ/ϕMAX)*A[1,1] + (t/hrhc.T_MAX)*A[2,1]).*(ϕ/ϕMAX) + ((ϕ/ϕMAX)*A[1,2] + (t/hrhc.T_MAX)*A[2,2]).*(t/hrhc.T_MAX))/2\n",
    "    cost_tϕ = (exp(f_tϕ*cost_x) - 1)/exp(1)\n",
    "    eligibility_mask = ((hrhc.successor_states[:,:,1] .== state.posG.x).*(hrhc.successor_states[:,:,2] .== state.posG.y))\n",
    "\n",
    "    # obstacles\n",
    "    collisionCost = zeros(size(cost_t))\n",
    "    threshold_dist = hrhc.car_length*4 # must be at least this close before we care to calculate collision cost\n",
    "    if k_level >= 1\n",
    "        for (id,car) in obstacleMap[k_level - 1]\n",
    "            if id != hrhc.car_ID\n",
    "                state = scene.vehicles[hrhc.car_ID].state\n",
    "                state2 = scene.vehicles[id].state\n",
    "                diff = state.posG - state2.posG\n",
    "                if norm([diff.x, diff.y]) < threshold_dist\n",
    "                    pos = VecSE2(car[h,1:3]) # x,y,θ of opponent at time step h\n",
    "                    ΔX = hrhc.successor_states[:,:,1] - pos.x # Δx, with opponent at origin\n",
    "                    ΔY = hrhc.successor_states[:,:,2] - pos.y # Δy with opponent at origin\n",
    "                    Δθ = hrhc.successor_states[:,:,3] - pos.θ # Δθ with opponent at origin\n",
    "                    pts = [hrhc.car_length hrhc.car_length -hrhc.car_length -hrhc.car_length 0;\n",
    "                        -hrhc.car_width hrhc.car_width hrhc.car_width -hrhc.car_width 0]/2.0\n",
    "                    pX = zeros(size(pts,2),size(hrhc.successor_states,1),size(hrhc.successor_states,2))\n",
    "                    pY = zeros(size(pX))\n",
    "                    for i in 1:size(pts,2)\n",
    "                        pX[i,:,:] = pts[1,i]*cos(Δθ) - pts[2,i]*sin(Δθ) + ΔX\n",
    "                        pY[i,:,:] = pts[1,i]*sin(Δθ) + pts[2,i].*cos(Δθ) + ΔY\n",
    "                    end\n",
    "\n",
    "                    collisionFlag = (maximum((abs(pX) .< hrhc.car_length/2.0),1)[1,:,:]).*(maximum((abs(pY) .< hrhc.car_width/2.0),1)[1,:,:])\n",
    "                    collisionCost = .001+collisionFlag./(minimum(abs(pX),1)[1,:,:].*minimum(abs(pY),1)[1,:,:])\n",
    "                end\n",
    "            end\n",
    "        end\n",
    "    end\n",
    "\n",
    "    objective = cost_t + cost_ϕ + cost_tϕ + 1 - dS + collisionCost + Inf * eligibility_mask\n",
    "    return objective\n",
    "end"
   ]
  },
  {
   "cell_type": "markdown",
   "metadata": {},
   "source": [
    "## Presentation Graphics"
   ]
  },
  {
   "cell_type": "code",
   "execution_count": null,
   "metadata": {
    "collapsed": false
   },
   "outputs": [],
   "source": [
    "indices = 60:70\n",
    "perp_lines1 = zeros(2,length(track.x))\n",
    "perp_lines2 = zeros(2,length(track.x))\n",
    "\n",
    "perp_lines1[1,:] = track.x + (lane_width/2.0)*sin(track.θ)\n",
    "perp_lines1[2,:] = track.y - (lane_width/2.0)*cos(track.θ)\n",
    "perp_lines2[1,:] = track.x - (lane_width/2.0)*sin(track.θ)\n",
    "perp_lines2[2,:] = track.y + (lane_width/2.0)*cos(track.θ)\n",
    "\n",
    "PyPlot.figure()\n",
    "PyPlot.scatter(track.x[indices],track.y[indices],color=\"crimson\",s=50)\n",
    "PyPlot.plot(track.x[indices],track.y[indices],color=\"crimson\")\n",
    "# PyPlot.plot(perp_lines1[1,indices],perp_lines1[2,indices],color=\"orange\")\n",
    "# PyPlot.plot(perp_lines2[1,indices],perp_lines2[2,indices],color=\"orange\")\n",
    "PyPlot.axis(\"equal\")\n",
    "PyPlot.axis(\"off\")"
   ]
  }
 ],
 "metadata": {
  "anaconda-cloud": {},
  "kernelspec": {
   "display_name": "Julia 0.5.0",
   "language": "julia",
   "name": "julia-0.5"
  },
  "language_info": {
   "file_extension": ".jl",
   "mimetype": "application/julia",
   "name": "julia",
   "version": "0.5.0"
  }
 },
 "nbformat": 4,
 "nbformat_minor": 0
}
