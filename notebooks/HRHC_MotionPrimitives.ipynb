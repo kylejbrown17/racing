{
 "cells": [
  {
   "cell_type": "code",
   "execution_count": 1,
   "metadata": {
    "collapsed": false
   },
   "outputs": [
    {
     "name": "stderr",
     "output_type": "stream",
     "text": [
      "/Users/kyle/anaconda/lib/python2.7/site-packages/matplotlib/font_manager.py:273: UserWarning: Matplotlib is building the font cache using fc-list. This may take a moment.\n",
      "  warnings.warn('Matplotlib is building the font cache using fc-list. This may take a moment.')\n"
     ]
    }
   ],
   "source": [
    "using PyPlot"
   ]
  },
  {
   "cell_type": "markdown",
   "metadata": {},
   "source": [
    "## Motion Primitive representation\n",
    "\n",
    "### arc length (direct function of velocity), radius of curvature"
   ]
  },
  {
   "cell_type": "code",
   "execution_count": 2,
   "metadata": {
    "collapsed": false
   },
   "outputs": [
    {
     "data": {
      "text/plain": [
       "MotionPrimitives (generic function with 8 methods)"
      ]
     },
     "execution_count": 2,
     "metadata": {},
     "output_type": "execute_result"
    }
   ],
   "source": [
    "# Return a library of motion primitives (arcs of constant radius) representing short paths that the car can follow.\n",
    "function MotionPrimitives(v_min::Float64=0, \n",
    "    v_max::Float64=99, \n",
    "    v_steps::Int=100, \n",
    "    δ_max::Float64=Float64(π)/4, # max steering angle\n",
    "    δ_steps::Int=20, # resolution of steering angle\n",
    "    Δt::Float64=.05, # size of time-steps\n",
    "    h::Int=10 # lookahead horizon (in time-steps)\n",
    "    )\n",
    "    \n",
    "    car_length = 2.5 # front wheel to back wheel\n",
    "\n",
    "    # 3D array to store motion_primitives\n",
    "    motion_primitives = zeros(v_steps,2*δ_steps+1,2) # v: 0,...,99; δ: -45:45, (arc length, +/- radius)\n",
    "\n",
    "    v = linspace(v_min,v_max,v_steps)*ones(1,2*δ_steps+1)\n",
    "    δ = (linspace(-δ_max,δ_max,δ_steps*2+1)*ones(1,v_steps))' # steering angle\n",
    "\n",
    "    motion_primitives[:,:,1] = v*Δt*h # arc length = velocity * time\n",
    "    motion_primitives[:,:,2] = car_length./sin(δ) # radius of curvature (+ or -)\n",
    "    motion_primitives[:,1+δ_steps,2] = Inf; # radius of curvature is infinite if steering angle = 0\n",
    "    \n",
    "    destination_primitives = zeros(v_steps,2*δ_steps+1,h,3) # lookup table defining car's location at each of next h time steps\n",
    "\n",
    "    for i = 1:h\n",
    "        # angle = 2π * arc_length / r\n",
    "        dθ = v*Δt*i ./ abs(motion_primitives[:,:,2])\n",
    "        \n",
    "        # dX = radius * (1 - cos(angle))\n",
    "        destination_primitives[:,:,i,1] = motion_primitives[:,:,2].*(1 - cos(dθ))\n",
    "        destination_primitives[:,1+δ_steps,i,1] = 0 # centerline\n",
    "        \n",
    "        # dY = abs(radius) * sin(angle)\n",
    "        destination_primitives[:,:,i,2] = abs(motion_primitives[:,:,2]) .* sin(dθ)\n",
    "        destination_primitives[:,1+δ_steps,i,2] = v[:,1+δ_steps]*Δt*i # centerline\n",
    "        \n",
    "        destination_primitives[:,:,i,3] = dθ\n",
    "    end\n",
    "    \n",
    "    # motion_primitives[v, δ, 1,2] = s (arc_length), r (radius of curvature)\n",
    "    # destination_primitives are index by [v, δ, h, 1,2,3] = dx, dy, dθ = changes in x, y and θ after h time steps\n",
    "    return motion_primitives, destination_primitives\n",
    "\n",
    "end"
   ]
  },
  {
   "cell_type": "code",
   "execution_count": 19,
   "metadata": {
    "collapsed": false
   },
   "outputs": [
    {
     "name": "stderr",
     "output_type": "stream",
     "text": [
      "WARNING: Method definition QuadraticMask!(Any) in module Main at In[17]:3 overwritten at In[19]:3.\n"
     ]
    },
    {
     "data": {
      "text/plain": [
       "QuadraticMask! (generic function with 3 methods)"
      ]
     },
     "execution_count": 19,
     "metadata": {},
     "output_type": "execute_result"
    }
   ],
   "source": [
    "# quadratic logical mask\n",
    "function QuadraticMask!(library)\n",
    "    A = size(library)[1]\n",
    "    B = size(library)[2]\n",
    "    X = linspace(0,99,A)*ones(1,B)\n",
    "    Y = ones(A,1)*linspace(-20,20,B)'\n",
    "    f = 24*Y.^2 + X.^2\n",
    "    mask = 1.0*(f.<10000)\n",
    "    \n",
    "#     fig = figure()\n",
    "#     ax = gca()\n",
    "#     p = scatter(X,Y.*mask)\n",
    "#     xlabel(\"velocity\")\n",
    "#     ylabel(\"steering angle\")\n",
    "#     fig[:canvas][:draw]()\n",
    "\n",
    "    if length(size(library)) == 3\n",
    "        for i in 1 : size(library)[3]\n",
    "            library[:,:,i] = library[:,:,i] .* mask\n",
    "        end\n",
    "    end\n",
    "    if length(size(library)) == 4\n",
    "        for i in 1 : size(library)[3]\n",
    "            for j in 1 : size(library)[4]\n",
    "                library[:,:,i,j] = library[:,:,i,j] .* mask\n",
    "            end\n",
    "        end\n",
    "    end\n",
    "end"
   ]
  },
  {
   "cell_type": "code",
   "execution_count": 20,
   "metadata": {
    "collapsed": false
   },
   "outputs": [
    {
     "data": {
      "text/plain": [
       "(-0.22851731806354408,2.0886348222661764,0.21795288008633326)"
      ]
     },
     "execution_count": 20,
     "metadata": {},
     "output_type": "execute_result"
    }
   ],
   "source": [
    "v_min=0.0 # m/s\n",
    "v_max=20.0 # m/s\n",
    "v_steps=20 \n",
    "δ_max=Float64(π)/8 # max steering angle - radians\n",
    "δ_steps=12 # resolution of steering angle\n",
    "Δt=.05 # size of time-steps\n",
    "h=10 # lookahead horizon (in time-steps)\n",
    "\n",
    "# get motion primitives library\n",
    "arc_angle_library, x_y_θ_library = MotionPrimitives(v_min,v_max,v_steps,δ_max,δ_steps,Δt,h);\n",
    "\n",
    "# apply logical mask to motion primitives library - eliminate impossible turns at high speeds\n",
    "QuadraticMask!(arc_angle_library)\n",
    "QuadraticMask!(x_y_θ_library)\n",
    "\n",
    "# x_y_θ_library[:,:,10,3]\n",
    "dx = x_y_θ_library[5,5,10,1]\n",
    "dy = x_y_θ_library[5,5,10,2]\n",
    "dθ = x_y_θ_library[5,5,10,3]\n",
    "dx,dy,dθ"
   ]
  },
  {
   "cell_type": "code",
   "execution_count": null,
   "metadata": {
    "collapsed": true
   },
   "outputs": [],
   "source": []
  }
 ],
 "metadata": {
  "anaconda-cloud": {},
  "kernelspec": {
   "display_name": "Julia 0.5.0",
   "language": "julia",
   "name": "julia-0.5"
  },
  "language_info": {
   "file_extension": ".jl",
   "mimetype": "application/julia",
   "name": "julia",
   "version": "0.5.0"
  }
 },
 "nbformat": 4,
 "nbformat_minor": 0
}
