{
 "cells": [
  {
   "cell_type": "code",
   "execution_count": null,
   "metadata": {
    "collapsed": false,
    "scrolled": true
   },
   "outputs": [],
   "source": [
    "using AutomotiveDrivingModels\n",
    "using AutoViz\n",
    "using Reactive\n",
    "using Interact\n",
    "using SplineUtils\n",
    "using NearestNeighbors\n",
    "\n",
    "\n",
    "import PyPlot"
   ]
  },
  {
   "cell_type": "markdown",
   "metadata": {},
   "source": [
    "# Types"
   ]
  },
  {
   "cell_type": "code",
   "execution_count": null,
   "metadata": {
    "collapsed": false,
    "scrolled": true
   },
   "outputs": [],
   "source": [
    "type HRHC <: DriverModel{NextState, IntegratedContinuous}\n",
    "    action_context::IntegratedContinuous\n",
    "    v_cmds # possible velocity commands\n",
    "    δ_cmds # possible δ_cmds\n",
    "    ΔXYθ # state changes associated with cmd = (v_command, δ_command)\n",
    "    legal_ΔXYθ # reachable from current v, δ\n",
    "    legal_v # reachable from current v, δ\n",
    "    legal_δ # reachable from current v, δ\n",
    "    v_idx_low::Int # index lowest reachable v_command\n",
    "    v_idx_high::Int # index highest reachable v_command\n",
    "    δ_idx_low::Int # index lowest reachable δ_command\n",
    "    δ_idx_high::Int # index highest reachable δ_command\n",
    "    successor_states # reachable next_states\n",
    "    \n",
    "    #car parameters with bicycle geometry model\n",
    "    car_length::Float64 # wheel base\n",
    "    car_width::Float64\n",
    "    car_ID::Int\n",
    "    \n",
    "    # current v, current δ\n",
    "    v::Float64\n",
    "    δ::Float64\n",
    "    curve_ind::Int\n",
    "    Δs::Float64\n",
    "    \n",
    "    # planning horizon\n",
    "    h::Int\n",
    "    Δt::Float64\n",
    "    \n",
    "    # logit level\n",
    "    k::Int\n",
    "    \n",
    "    # reachable range of V and δ within a single time step\n",
    "    ΔV₊::Float64\n",
    "    ΔV₋::Float64\n",
    "    Δδ::Float64\n",
    "    \n",
    "    V_MIN::Float64\n",
    "    V_MAX::Float64\n",
    "    V_STEPS::Int\n",
    "    δ_MAX::Float64\n",
    "    δ_MIN::Float64\n",
    "    δ_STEPS::Int\n",
    "\n",
    "    # maximum deviation from center of track (if |t| > T_MAX, car is out of bounds)\n",
    "    T_MAX::Float64\n",
    "    \n",
    "    # Action = Next State\n",
    "    action::NextState\n",
    "    \n",
    "    function HRHC(car_ID::Int,roadway,context;\n",
    "        car_length::Float64=4.8,\n",
    "        car_width::Float64=2.5,\n",
    "        v::Float64=0.0,\n",
    "        δ::Float64=0.0,\n",
    "        h::Int=10,\n",
    "        Δt::Float64=1.0/24,\n",
    "        ΔV₊::Float64=1.55,\n",
    "        ΔV₋::Float64=3.05,\n",
    "        Δδ::Float64=Float64(π)/12,\n",
    "        V_MIN::Float64=0.0,\n",
    "        V_MAX::Float64=100.0,\n",
    "        V_STEPS::Int=101,\n",
    "        δ_MAX::Float64=Float64(π)/8,\n",
    "        δ_MIN::Float64=-Float64(π)/8,\n",
    "        δ_STEPS::Int=16,\n",
    "        k::Int=1\n",
    "        )\n",
    "        \n",
    "        hrhc = new()\n",
    "        \n",
    "        hrhc.V_MIN=V_MIN\n",
    "        hrhc.V_MAX=V_MAX\n",
    "        hrhc.V_STEPS=V_STEPS\n",
    "        hrhc.δ_MAX=δ_MAX\n",
    "        hrhc.δ_MIN=δ_MIN\n",
    "        hrhc.δ_STEPS=δ_STEPS\n",
    "        hrhc.T_MAX=(roadway.segments[1].lanes[1].width - car_width)/2.0\n",
    "        \n",
    "        hrhc.car_ID = car_ID\n",
    "        hrhc.car_length=car_length\n",
    "        hrhc.car_width=car_width\n",
    "        hrhc.h=h\n",
    "        hrhc.Δt=Δt\n",
    "        hrhc.ΔV₊=ΔV₊\n",
    "        hrhc.ΔV₋=ΔV₋\n",
    "        hrhc.Δδ=Δδ\n",
    "        \n",
    "        hrhc.k=k\n",
    "        \n",
    "        hrhc.v_cmds, hrhc.δ_cmds, hrhc.ΔXYθ = MotionPrimitives(car_length,car_width,h,Δt,V_MIN,V_MAX,V_STEPS,δ_MAX,δ_MIN,δ_STEPS)\n",
    "        QuadraticMask!(hrhc.ΔXYθ)\n",
    "        \n",
    "        hrhc.v=v\n",
    "        hrhc.δ=δ\n",
    "        hrhc.curve_ind=1\n",
    "        hrhc.Δs=roadway.segments[1].lanes[1].curve[2].s-roadway.segments[1].lanes[1].curve[1].s\n",
    "        hrhc.action_context=context    \n",
    "        hrhc.action = NextState(VehicleState(VecSE2(0,0,0),0.0))\n",
    "        \n",
    "        hrhc\n",
    "    end\n",
    "end\n",
    "\n",
    "get_name(::HRHC) = \"HRHC\"\n",
    "action_context(driver::HRHC) = driver.action_context # AutomotiveDrivingModels.action_context\n",
    "Base.rand(hrhc::HRHC) = hrhc.action\n"
   ]
  },
  {
   "cell_type": "markdown",
   "metadata": {},
   "source": [
    "# utility functions"
   ]
  },
  {
   "cell_type": "code",
   "execution_count": null,
   "metadata": {
    "collapsed": false,
    "scrolled": true
   },
   "outputs": [],
   "source": [
    "function GenSplineRoadway(x,y,θ,s,k,lane_width)\n",
    "    nlanes = 1\n",
    "    seg1 = RoadSegment(1, Array(Lane, nlanes))\n",
    "    tag1=LaneTag(1,1)\n",
    "    boundary_left = LaneBoundary(:solid, :white)\n",
    "    boundary_right = LaneBoundary(:solid, :white)\n",
    "\n",
    "    curvepts = Array(CurvePt, length(x))\n",
    "    for i in 1:length(x)\n",
    "        curvepts[i] = CurvePt(VecSE2(x[i],y[i],θ[i]), s[i], k[i], NaN)\n",
    "    end\n",
    "\n",
    "    curveind_lo = CurveIndex(1,0.0)\n",
    "    curveind_hi = CurveIndex(length(curvepts)-1,1.0)\n",
    "#     curveind_hi = CurveIndex(length(curvepts),1.0)\n",
    "\n",
    "    seg1.lanes[1] = Lane(tag1, curvepts, width=lane_width,\n",
    "                                  boundary_left=boundary_left, boundary_right=boundary_right,\n",
    "                                  next = RoadIndex(curveind_lo, tag1),\n",
    "                                  prev = RoadIndex(curveind_hi, tag1),\n",
    "                                 )\n",
    "    \n",
    "    roadway = Roadway()\n",
    "    push!(roadway.segments, seg1)\n",
    "    \n",
    "    return roadway\n",
    "end"
   ]
  },
  {
   "cell_type": "code",
   "execution_count": null,
   "metadata": {
    "collapsed": false,
    "scrolled": true
   },
   "outputs": [],
   "source": [
    "# Return a library of motion primitives (arcs of constant radius) representing short paths that the car can follow.\n",
    "function MotionPrimitives(car_length,car_width,h,Δt,v_min,v_max,v_steps,δ_max,δ_min,δ_steps)\n",
    "    # 3D array to store motion_primitives\n",
    "    motion_primitives = zeros(v_steps,2*δ_steps+1,2) # v: 0,...,99; δ: -45:45, (arc length, +/- radius)\n",
    "\n",
    "    v = linspace(v_min,v_max,v_steps)*ones(1,2*δ_steps+1)\n",
    "    δ = (linspace(-δ_max,δ_max,δ_steps*2+1)*ones(1,v_steps))' # steering angle\n",
    "\n",
    "    motion_primitives[:,:,1] = v*Δt*h # arc length = velocity * time\n",
    "    motion_primitives[:,:,2] = car_length./sin(δ) # radius of curvature (+ or -)\n",
    "    motion_primitives[:,1+δ_steps,2] = Inf; # radius of curvature is infinite if steering angle = 0\n",
    "    \n",
    "    destination_primitives = zeros(v_steps,2*δ_steps+1,h,3) # lookup table defining car's location at each of next h time steps\n",
    "\n",
    "    for i = 1:h\n",
    "        # angle = 2π * arc_length / r\n",
    "        dθ = v*Δt*i ./ motion_primitives[:,:,2]\n",
    "        \n",
    "        # dX = abs(radius) * sin(angle)\n",
    "        destination_primitives[:,:,i,1] = abs(motion_primitives[:,:,2]) .* sin(abs(dθ))\n",
    "        destination_primitives[:,1+δ_steps,i,1] = v[:,1+δ_steps]*Δt*i # centerline\n",
    "        \n",
    "        # dY = radius * (1 - cos(angle))\n",
    "        destination_primitives[:,:,i,2] = motion_primitives[:,:,2].*(1 - cos(dθ))\n",
    "        destination_primitives[:,1+δ_steps,i,2] = 0 # centerline\n",
    "        \n",
    "        destination_primitives[:,:,i,3] = dθ\n",
    "    end\n",
    "    \n",
    "    # motion_primitives[v, δ, i,j] = s (arc_length), r (radius of curvature)\n",
    "    # destination_primitives[v, δ, h, 1=Δx,2=Δy,3=Δθ]= changes in x, y and θ after h time steps\n",
    "    return v, δ, destination_primitives\n",
    "\n",
    "end"
   ]
  },
  {
   "cell_type": "code",
   "execution_count": null,
   "metadata": {
    "collapsed": false,
    "scrolled": false
   },
   "outputs": [],
   "source": [
    "# quadratic logical mask\n",
    "function QuadraticMask!(library)\n",
    "    A = size(library)[1]\n",
    "    B = size(library)[2]\n",
    "    X = linspace(0,100,A)*ones(1,B)\n",
    "    Y = ones(A,1)*linspace(-20,20,B)'\n",
    "    f = X.^2 + 24*(Y.^2 - 10^2)\n",
    "    mask = 1.0*(f.<10000)\n",
    "    \n",
    "\n",
    "#     p = PyPlot.scatter(X,Y.*mask)\n",
    "#     PyPlot.xlabel(\"velocity\")\n",
    "#     PyPlot.ylabel(\"steering angle\")\n",
    "#     PyPlot.show()\n",
    "\n",
    "    if length(size(library)) == 3\n",
    "        for i in 1 : size(library)[3]\n",
    "            library[:,:,i] = library[:,:,i] .* mask\n",
    "        end\n",
    "    end\n",
    "    if length(size(library)) == 4\n",
    "        for i in 1 : size(library)[3]\n",
    "            for j in 1 : size(library)[4]\n",
    "                library[:,:,i,j] = library[:,:,i,j] .* mask\n",
    "            end\n",
    "        end\n",
    "    end\n",
    "end"
   ]
  },
  {
   "cell_type": "code",
   "execution_count": null,
   "metadata": {
    "collapsed": false,
    "scrolled": true
   },
   "outputs": [],
   "source": [
    "function CurveDist(pt1::CurvePt, pt2::CurvePt)\n",
    "#     Δx = pt1.pos.x - pt2.pos.x\n",
    "#     Δy = pt1.pos.y - pt2.pos.y\n",
    "#     d = sqrt(Δx^2 + Δy^2)\n",
    "    d = sqrt((pt1.pos.x - pt2.pos.x)^2 + (pt1.pos.y - pt2.pos.y)^2)\n",
    "end"
   ]
  },
  {
   "cell_type": "code",
   "execution_count": null,
   "metadata": {
    "collapsed": false,
    "scrolled": true
   },
   "outputs": [],
   "source": [
    "function wrap_to_π(θ)\n",
    "#     θ = θ - div(θ,2*Float64(π))*(2*Float64(π))\n",
    "    θ = θ - div(θ,2*Float64(π))*(2*Float64(π)) \n",
    "    θ = θ + (θ .< -π).*(2*Float64(π)) - (θ .> π).*(2*Float64(π))\n",
    "end"
   ]
  },
  {
   "cell_type": "markdown",
   "metadata": {},
   "source": [
    "# Plotting Functions"
   ]
  },
  {
   "cell_type": "markdown",
   "metadata": {},
   "source": [
    "# HRHC Algorithm"
   ]
  },
  {
   "cell_type": "markdown",
   "metadata": {},
   "source": [
    "### 0. Initialize motion primitives"
   ]
  },
  {
   "cell_type": "markdown",
   "metadata": {},
   "source": [
    "### 1. Identify eligible (reachable) motion primitives based on current state"
   ]
  },
  {
   "cell_type": "code",
   "execution_count": null,
   "metadata": {
    "collapsed": false,
    "scrolled": true
   },
   "outputs": [],
   "source": [
    "function getLegalMoves!(hrhc::HRHC, scene; h=hrhc.h)\n",
    "    v_norm = scene.vehicles[hrhc.car_ID].state.v / hrhc.V_MAX\n",
    "\n",
    "    # Restrict search space to reachable states\n",
    "    hrhc.v_idx_low = max(1, round(Int,(v_norm - hrhc.ΔV₋/hrhc.V_MAX)*hrhc.V_STEPS)) # index of lowest reachable v in the next time step\n",
    "    hrhc.v_idx_high = min(hrhc.V_STEPS, 1+round(Int, (v_norm + hrhc.ΔV₊/hrhc.V_MAX)*hrhc.V_STEPS)) # highest reachable v in the next time step\n",
    "\n",
    "    # Restrict search space to reachable states\n",
    "    hrhc.δ_idx_low = max(1, (hrhc.δ_STEPS+1) + round(Int,((hrhc.δ - hrhc.Δδ)/(hrhc.δ_MAX - hrhc.δ_MIN))*(2*hrhc.δ_STEPS+1)))\n",
    "    hrhc.δ_idx_high = min((2*hrhc.δ_STEPS+1), (hrhc.δ_STEPS+1) + round(Int,((hrhc.δ + hrhc.Δδ)/(hrhc.δ_MAX - hrhc.δ_MIN))*(2*hrhc.δ_STEPS+1)))\n",
    "\n",
    "    # legal_moves = motion_primitives[v_idx_low:v_idx_high,δ_idx_low:δ_idx_high,:]\n",
    "    hrhc.legal_ΔXYθ = hrhc.ΔXYθ[hrhc.v_idx_low:hrhc.v_idx_high,hrhc.δ_idx_low:hrhc.δ_idx_high,h,:] # ΔX, ΔY, Δθ\n",
    "    hrhc.legal_v = hrhc.v_cmds[hrhc.v_idx_low:hrhc.v_idx_high,hrhc.δ_idx_low:hrhc.δ_idx_high]\n",
    "    hrhc.legal_δ = hrhc.δ_cmds[hrhc.v_idx_low:hrhc.v_idx_high,hrhc.δ_idx_low:hrhc.δ_idx_high]\n",
    "    \n",
    "    return\n",
    "end"
   ]
  },
  {
   "cell_type": "markdown",
   "metadata": {},
   "source": [
    "### 2. Calculate resulting final state (posG) from applying each given motion primitive"
   ]
  },
  {
   "cell_type": "code",
   "execution_count": null,
   "metadata": {
    "collapsed": false,
    "scrolled": true
   },
   "outputs": [],
   "source": [
    "#function getSuccessorStates(vehicle, hrhc)\n",
    "function getSuccessorStates!(hrhc::HRHC, scene::Scene)\n",
    "    pos = scene.vehicles[hrhc.car_ID].state.posG # global x,y,z of car\n",
    "\n",
    "    ΔX = hrhc.legal_ΔXYθ[:,:,1] * cos(pos.θ) + hrhc.legal_ΔXYθ[:,:,2] * -sin(pos.θ)\n",
    "    ΔY = hrhc.legal_ΔXYθ[:,:,1] * sin(pos.θ) + hrhc.legal_ΔXYθ[:,:,2] * cos(pos.θ)\n",
    "    Δθ = hrhc.legal_ΔXYθ[:,:,3]\n",
    "\n",
    "    hrhc.successor_states = zeros(size(hrhc.legal_ΔXYθ))\n",
    "    hrhc.successor_states[:,:,1] = ΔX + pos.x\n",
    "    hrhc.successor_states[:,:,2] = ΔY + pos.y\n",
    "    hrhc.successor_states[:,:,3] = Δθ + pos.θ\n",
    "    \n",
    "    return\n",
    "end"
   ]
  },
  {
   "cell_type": "markdown",
   "metadata": {},
   "source": [
    "### 3. Project posG onto track to determine if a given motion is legal (in bounds)"
   ]
  },
  {
   "cell_type": "code",
   "execution_count": null,
   "metadata": {
    "collapsed": false,
    "scrolled": true
   },
   "outputs": [],
   "source": [
    "function loopProjectionKD(hrhc::HRHC,scene,roadway,tree)\n",
    "    curve = roadway.segments[1].lanes[1].curve\n",
    "\n",
    "    s_grid = zeros(size(hrhc.successor_states,1),size(hrhc.successor_states,2))\n",
    "    t_grid = zeros(size(s_grid))\n",
    "    ϕ_grid = zeros(size(s_grid))\n",
    "    idx_grid = zeros(Int,size(s_grid))\n",
    "    \n",
    "    pts = [reshape(hrhc.successor_states[:,:,1],size(hrhc.successor_states[:,:,1],1)*size(hrhc.successor_states[:,:,1],2),1)';\n",
    "    reshape(hrhc.successor_states[:,:,2],size(hrhc.successor_states[:,:,2],1)*size(hrhc.successor_states[:,:,2],2),1)']\n",
    "    idxs_list, _ = knn(tree,pts,1)\n",
    "    idxs=reshape(idxs_list,size(hrhc.successor_states[:,:,2],1),size(hrhc.successor_states[:,:,2],2))\n",
    "    \n",
    "    \n",
    "    for i in 1:size(s_grid,1)\n",
    "        for j in 1:size(s_grid,2)\n",
    "            idxA = idxs[i,j][1]-1\n",
    "            idxB = idxs[i,j][1]+1\n",
    "            if idxs[i,j][1] == length(curve)\n",
    "                idxB = 1 # wrap to the beginning of the curve\n",
    "            end\n",
    "            if idxs[i,j][1] == 1\n",
    "                idxA = length(curve) # wrap to the end of the curve\n",
    "            end\n",
    "            x = hrhc.successor_states[i,j,1]\n",
    "            y = hrhc.successor_states[i,j,2]\n",
    "            dA = sqrt(sum(([curve[idxA].pos.x, curve[idxA].pos.y]-[x,y]).^2))\n",
    "            dB = sqrt(sum(([curve[idxB].pos.x, curve[idxB].pos.y]-[x,y]).^2))\n",
    "            if dA < dB\n",
    "                idxB = idxs[i,j][1]\n",
    "            else\n",
    "                idxA = idxs[i,j][1]\n",
    "            end\n",
    "            \n",
    "            # project\n",
    "            vec1 = [curve[idxB].pos.x - curve[idxA].pos.x, curve[idxB].pos.y - curve[idxA].pos.y, 0]\n",
    "            vec2 = [x - curve[idxA].pos.x, y - curve[idxA].pos.y, 0]\n",
    "            idx_t = dot(vec2, vec1)/norm(vec1)^2\n",
    "            \n",
    "            s_θ = curve[idxA].pos.θ + idx_t*(curve[idxB].pos.θ - curve[idxA].pos.θ)\n",
    "    \n",
    "            s_grid[i,j] = curve[idxA].s + idx_t*hrhc.Δs\n",
    "            t_grid[i,j] = norm(vec2 - idx_t*vec1)*sign(sum(cross(vec1, vec2)))\n",
    "            ϕ_grid[i,j] = wrap_to_π(hrhc.successor_states[i,j,3] - s_θ)\n",
    "            idx_grid[i,j] = idxA\n",
    "        end\n",
    "    end\n",
    "    # account for wrap-around\n",
    "    s_grid[s_grid .< scene.vehicles[hrhc.car_ID].state.posF.s] += curve[end].s + hrhc.Δs\n",
    "    \n",
    "    return s_grid, t_grid, ϕ_grid\n",
    "end"
   ]
  },
  {
   "cell_type": "code",
   "execution_count": null,
   "metadata": {
    "collapsed": false
   },
   "outputs": [],
   "source": [
    "function kdProject(x,y,θ,tree,roadway,hrhc)\n",
    "    curve = roadway.segments[1].lanes[1].curve\n",
    "\n",
    "    idx_list,dist = knn(tree,[x;y],1)\n",
    "    idx = idx_list[1]\n",
    "    idxA = idx-1\n",
    "    idxB = idx+1\n",
    "\n",
    "    if idx == length(curve)\n",
    "        idxB = 1 # back to the beginning of the curve\n",
    "    end\n",
    "    if idx == 1\n",
    "        idxA = length(curve)\n",
    "    end\n",
    "    dA = sqrt(sum(([curve[idxA].pos.x, curve[idxA].pos.y]-[x,y]).^2))\n",
    "    dB = sqrt(sum(([curve[idxB].pos.x, curve[idxB].pos.y]-[x,y]).^2))\n",
    "    if dA < dB\n",
    "        idxB = idx\n",
    "    else\n",
    "        idxA = idx\n",
    "    end\n",
    "\n",
    "    # project\n",
    "    vec1 = [curve[idxB].pos.x - curve[idxA].pos.x, curve[idxB].pos.y - curve[idxA].pos.y, 0]\n",
    "    vec2 = [x - curve[idxA].pos.x, y - curve[idxA].pos.y, 0]\n",
    "    idx_t = dot(vec2, vec1)/norm(vec1)^2\n",
    "\n",
    "    pθ = curve[idxA].pos.θ + idx_t*(curve[idxB].pos.θ - curve[idxA].pos.θ)\n",
    "\n",
    "    s = curve[idxA].s + idx_t*hrhc.Δs\n",
    "    t = -norm(vec2 - idx_t*vec1)\n",
    "    ϕ = wrap_to_π(θ - pθ)\n",
    "\n",
    "    s,t,ϕ,idxA\n",
    "end"
   ]
  },
  {
   "cell_type": "markdown",
   "metadata": {},
   "source": [
    "### 4. Select legal motion primitive that yields highest progress"
   ]
  },
  {
   "cell_type": "markdown",
   "metadata": {},
   "source": [
    "### 5. Check each time step up to horizon to make sure the entire trajectory is legal"
   ]
  },
  {
   "cell_type": "code",
   "execution_count": null,
   "metadata": {
    "collapsed": false,
    "scrolled": true
   },
   "outputs": [],
   "source": [
    "function applyObstacleKernel!(arr, obstacle_ID, hrhc, scene, roadway)\n",
    "    \"\"\"\n",
    "    computes a penalty function over hrhc.successor_states to penalize which\n",
    "    successor states will result in a collision with the obstacle\n",
    "    \"\"\"\n",
    "    \n",
    "    pos = scene.vehicles[obstacle_ID].state.posG # position of obstacle\n",
    "    x = pos.x\n",
    "    y = pos.y\n",
    "    \n",
    "    r = sqrt((hrhc.successor_states[:,:,1] - x).^2 + (hrhc.successor_states[:,:,2] - y).^2)\n",
    "    \n",
    "    kernel = 1.0*(r .> hrhc.car_length)\n",
    "    arr = arr .* kernel\n",
    "end"
   ]
  },
  {
   "cell_type": "code",
   "execution_count": null,
   "metadata": {
    "collapsed": false,
    "scrolled": true
   },
   "outputs": [],
   "source": [
    "function computeTrajectory(hrhc::HRHC, scene, cmd_index; h=hrhc.h)\n",
    "    pos = scene.vehicles[hrhc.car_ID].state.posG\n",
    "    \n",
    "    traj_ΔXYθ = hrhc.ΔXYθ[cmd_index[1],cmd_index[2],1:h,:]\n",
    "    \n",
    "    ΔX = traj_ΔXYθ[:,1] * cos(pos.θ) + traj_ΔXYθ[:,2] * -sin(pos.θ)\n",
    "    ΔY = traj_ΔXYθ[:,1] * sin(pos.θ) + traj_ΔXYθ[:,2] * cos(pos.θ)\n",
    "    Δθ = traj_ΔXYθ[:,3]\n",
    "\n",
    "    trajectory = zeros(size(traj_ΔXYθ,1),size(traj_ΔXYθ,2)+2)\n",
    "    trajectory[:,1] = ΔX + pos.x\n",
    "    trajectory[:,2] = ΔY + pos.y\n",
    "    trajectory[:,3] = Δθ + pos.θ\n",
    "    trajectory[:,4] = hrhc.v_cmds[cmd_index[1],cmd_index[2]]\n",
    "    trajectory[:,5] = hrhc.δ_cmds[cmd_index[1],cmd_index[2]]\n",
    "    \n",
    "    return trajectory\n",
    "end"
   ]
  },
  {
   "cell_type": "code",
   "execution_count": null,
   "metadata": {
    "collapsed": false,
    "scrolled": true
   },
   "outputs": [],
   "source": [
    "function screenTrajectory(trajectory, obstacleMap, scene, roadway, hrhc, tree, k_level)\n",
    "    out_of_bounds = false\n",
    "    collision_flag = false\n",
    "    threshold_dist = 4.0*hrhc.car_length\n",
    "    for i in 1 : size(trajectory,1)\n",
    "        x = trajectory[i,1]\n",
    "        y = trajectory[i,2]\n",
    "        θ = trajectory[i,3]\n",
    "        s,t,ϕ = kdProject(x,y,θ,tree,roadway,hrhc)\n",
    "\n",
    "    #     if k_level >= 1\n",
    "    #         for (id,car) in obstacleMap[k_level - 1]\n",
    "    #             if id != hrhc.car_ID\n",
    "    #                 state = scene.vehicles[hrhc.car_ID].state\n",
    "    #                 state2 = scene.vehicles[id].state\n",
    "    #                 diff = state.posG - state2.posG\n",
    "    #                 if norm([diff.x, diff.y]) < threshold_dist\n",
    "    #                     egoCar = VecSE2(x,y,θ)\n",
    "    #                     car2 = VecSE2(car[i,1],car[i,2],car[i,3])\n",
    "    #                     collision_flag = checkCollision(scene,egoCar,car2,hrhc.car_ID,id)\n",
    "    #                     if collision_flag\n",
    "    #                         return collision_flag\n",
    "    #                     end\n",
    "    #                 end\n",
    "    #             end\n",
    "    #         end\n",
    "    #     end\n",
    "        \n",
    "        if abs(t) > hrhc.T_MAX\n",
    "            out_of_bounds=true\n",
    "            return out_of_bounds\n",
    "        end\n",
    "    end\n",
    "    return out_of_bounds\n",
    "end"
   ]
  },
  {
   "cell_type": "code",
   "execution_count": null,
   "metadata": {
    "collapsed": false
   },
   "outputs": [],
   "source": [
    "obstacleMap[1][1]"
   ]
  },
  {
   "cell_type": "code",
   "execution_count": null,
   "metadata": {
    "collapsed": false
   },
   "outputs": [],
   "source": [
    "function checkCollision(scene,car1::VecSE2,car2::VecSE2,id1,id2)\n",
    "    L1 = scene.vehicles[id1].def.length\n",
    "    w1 = scene.vehicles[id1].def.width\n",
    "    L2 = scene.vehicles[id2].def.length\n",
    "    w2 = scene.vehicles[id2].def.width\n",
    "    diff = car1 - car2\n",
    "    R = [cos(diff.θ) -sin(diff.θ); sin(diff.θ) cos(diff.θ)]\n",
    "    car2_pts = R*[L2 L2 -L2 -L2; -w2 w2 w2 -w2]/2.0 + [diff.x 0;0 diff.y]*ones(2,4)\n",
    "    collision_flag = (sum((abs(car2_pts[1,:]) .>= L1/2.0).*(abs(car2_pts[2,:]) .>= w1/2.0)) > 0)\n",
    "    return collision_flag\n",
    "end"
   ]
  },
  {
   "cell_type": "markdown",
   "metadata": {},
   "source": [
    "### 6. Apply the motion primitive for a single time step"
   ]
  },
  {
   "cell_type": "markdown",
   "metadata": {},
   "source": [
    "### 7. Go back to 1"
   ]
  },
  {
   "cell_type": "markdown",
   "metadata": {},
   "source": [
    "## Obstacle Map"
   ]
  },
  {
   "cell_type": "code",
   "execution_count": null,
   "metadata": {
    "collapsed": false
   },
   "outputs": [],
   "source": [
    "function generateObstacleMap(scene, models)\n",
    "    k = maximum([driver.k for (id, driver) in models])\n",
    "    n = length(scene)\n",
    "    h = maximum([driver.h for (id, driver) in models]) # h should be the same for all vehicles on the track\n",
    "    obstacleDict = Dict()\n",
    "    for level in 0:k\n",
    "        obstacleDict[level] = Dict()\n",
    "        for (id, driver) in models\n",
    "            obstacleDict[level][id] = zeros(h,5) # x,y,θ,v,δ\n",
    "        end\n",
    "    end\n",
    "    \n",
    "    return obstacleDict\n",
    "end"
   ]
  },
  {
   "cell_type": "code",
   "execution_count": null,
   "metadata": {
    "collapsed": false
   },
   "outputs": [],
   "source": [
    "function updateObstacleMap!(obstacleMap, level, car_ID, trajectory)\n",
    "    obstacleMap[level][car_ID][1:size(trajectory,1),1:size(trajectory,2)] = trajectory\n",
    "end"
   ]
  },
  {
   "cell_type": "code",
   "execution_count": null,
   "metadata": {
    "collapsed": false
   },
   "outputs": [],
   "source": [
    "function getObstacleCoords(obstacleMap, level, car_ID, h)\n",
    "    return obstacleMap[level][car_ID][h,:]\n",
    "end"
   ]
  },
  {
   "cell_type": "markdown",
   "metadata": {},
   "source": [
    "# get HRHC action function"
   ]
  },
  {
   "cell_type": "code",
   "execution_count": null,
   "metadata": {
    "collapsed": false
   },
   "outputs": [],
   "source": [
    "function calculateObjective(hrhc, scene, roadway, tree, s, t, ϕ, obstacleMap, k_level, h; f_ϕ=0.0, f_t=0.1, f_tϕ=3.0)\n",
    "    # optimization objective\n",
    "    state = scene.vehicles[hrhc.car_ID].state\n",
    "    dS = s - state.posF.s\n",
    "    dS = dS / maximum(dS) # normalize\n",
    "    ϕMAX = Float64(π)/2\n",
    "    \n",
    "    # penalize large t (proximity to edge of track)\n",
    "    cost_t = (exp(((10-h+f_t)*abs(t/hrhc.T_MAX).^2)) - 1)/exp(f_t)\n",
    "    # penalize large ϕ (steering away from forward direction on the track)\n",
    "    cost_ϕ = (exp(((10-h+f_ϕ)*abs(ϕ/ϕMAX).^2)) - 1)/exp(f_ϕ)\n",
    "    # penalize when t and ϕ have the same sign\n",
    "    A = [1 1; 1 1]\n",
    "    cost_x = (((ϕ/ϕMAX)*A[1,1] + (t/T_MAX)*A[2,1]).*(ϕ/ϕMAX) + ((ϕ/ϕMAX)*A[1,2] + (t/T_MAX)*A[2,2]).*(t/T_MAX))/2\n",
    "    cost_tϕ = (exp(f_tϕ*cost_x) - 1)/exp(1)\n",
    "    eligibility_mask = ((hrhc.successor_states[:,:,1] .== state.posG.x).*(hrhc.successor_states[:,:,2] .== state.posG.y))\n",
    "    \n",
    "    # obstacles\n",
    "    collisionCost = zeros(size(cost_t))\n",
    "    threshold_dist = hrhc.car_length*4 # must be at least this close before we care to calculate collision cost\n",
    "    if k_level >= 1\n",
    "        for (id,car) in obstacleMap[k_level - 1]\n",
    "            if id != hrhc.car_ID\n",
    "                state = scene.vehicles[hrhc.car_ID].state\n",
    "                state2 = scene.vehicles[id].state\n",
    "                diff = state.posG - state2.posG\n",
    "                if norm([diff.x, diff.y]) < threshold_dist\n",
    "                    pos = VecSE2(car[h,1:3]) # x,y,θ of opponent at time step h                              \n",
    "                    ΔX = hrhc.successor_states[:,:,1] - pos.x # Δx, with opponent at origin\n",
    "                    ΔY = hrhc.successor_states[:,:,2] - pos.y # Δy with opponent at origin\n",
    "                    Δθ = hrhc.successor_states[:,:,3] - pos.θ # Δθ with opponent at origin\n",
    "                    pts = [hrhc.car_length hrhc.car_length -hrhc.car_length -hrhc.car_length;\n",
    "                        -hrhc.car_width hrhc.car_width hrhc.car_width -hrhc.car_width]/2.0\n",
    "                    pX = zeros(4,size(hrhc.successor_states,1),size(hrhc.successor_states,2))\n",
    "                    pY = zeros(size(pX))\n",
    "                    for i in 1:4\n",
    "                        pX[i,:,:] = pts[1,i]*cos(Δθ) - pts[2,i]*sin(Δθ) + ΔX\n",
    "                        pY[i,:,:] = pts[1,i]*sin(Δθ) + pts[2,i].*cos(Δθ) + ΔY\n",
    "                    end\n",
    "\n",
    "                    collisionFlag = (sum((abs(pX) .< hrhc.car_length/2.0),1)[1,:,:]).*(sum((abs(pY) .< hrhc.car_width/2.0),1)[1,:,:])\n",
    "                    collisionCost = .001+(collisionFlag .>= 1)./(minimum(abs(pX),1)[1,:,:].*minimum(abs(pY),1)[1,:,:])\n",
    "                end\n",
    "            end\n",
    "        end\n",
    "    end\n",
    "    \n",
    "    objective = cost_t + cost_ϕ + cost_tϕ + 1 - dS + collisionCost + Inf * eligibility_mask\n",
    "    return objective\n",
    "end"
   ]
  },
  {
   "cell_type": "code",
   "execution_count": null,
   "metadata": {
    "collapsed": false,
    "scrolled": true
   },
   "outputs": [],
   "source": [
    "function observe!(hrhc::HRHC, scene::Scene, roadway::Roadway, egoid::Int, tree::KDTree, obstacleMap, k_level)\n",
    "    if k_level > hrhc.k\n",
    "        return\n",
    "    end\n",
    "    state = scene.vehicles[hrhc.car_ID].state\n",
    "    hrhc.curve_ind = state.posF.roadind.ind.i\n",
    "    v = state.v # current v\n",
    "    hrhc.v = v\n",
    "    \n",
    "    trajectory = zeros(hrhc.h,5)\n",
    "    action_selected = false\n",
    "    abs_cmd = (1,1)\n",
    "    \n",
    "    i = 0\n",
    "    for i in 0:(hrhc.h-1)\n",
    "        if action_selected\n",
    "            break # out of for loop\n",
    "        end\n",
    "        \n",
    "        # get legal (reachable from current v, δ) actions\n",
    "        getLegalMoves!(hrhc, scene, h=hrhc.h-i)\n",
    "        \n",
    "        # calculate successor states\n",
    "        getSuccessorStates!(hrhc, scene)\n",
    "        \n",
    "        # project successor states onto track\n",
    "        s,t,ϕ = loopProjectionKD(hrhc, scene, roadway, tree)\n",
    "        \n",
    "        # optimization objective        \n",
    "        objective = calculateObjective(hrhc, scene, roadway, tree, s, t, ϕ, obstacleMap, k_level, hrhc.h-i,f_t=0.0)\n",
    "\n",
    "        while (action_selected==false) && (minimum(objective) != Inf)            \n",
    "            index = indmin(objective) # find get a better method of optimizing this\n",
    "            cmd = ind2sub(s, index)\n",
    "            abs_cmd = (cmd[1]+hrhc.v_idx_low-1, cmd[2]+hrhc.δ_idx_low-1)\n",
    "\n",
    "            # compute full trajectory up to horizon\n",
    "            trajectory = computeTrajectory(hrhc, scene, abs_cmd, h=hrhc.h-i)\n",
    "            \n",
    "            # screen trajectory for collisions / validity\n",
    "            out_of_bounds = screenTrajectory(trajectory, obstacleMap, scene, roadway, hrhc, tree, k_level)\n",
    "            \n",
    "            if out_of_bounds\n",
    "                objective[index] = Inf\n",
    "            else\n",
    "                action_selected=true\n",
    "                updateObstacleMap!(obstacleMap, k_level, hrhc.car_ID, trajectory)\n",
    "            end\n",
    "        end \n",
    "    end\n",
    "    \n",
    "    hrhc.δ = hrhc.δ_cmds[abs_cmd[1], abs_cmd[2]]\n",
    "    hrhc.v = hrhc.v_cmds[abs_cmd[1], abs_cmd[2]]\n",
    "    \n",
    "    next_state = VehicleState(VecSE2(trajectory[1,1:3]),roadway,hrhc.v)   \n",
    "    hrhc.action = NextState(next_state) # action\n",
    "end"
   ]
  },
  {
   "cell_type": "code",
   "execution_count": null,
   "metadata": {
    "collapsed": false
   },
   "outputs": [],
   "source": [
    "s,t,ϕ = loopProjectionKD(models[2], scene, roadway, tree)\n",
    "# objective, collisionCost = calculateObjective(models[2], scene, roadway, tree, s, t, ϕ, obstacleMap, 0, models[2].h, f_t=0.0)\n",
    "# PyPlot.pcolor(collisionCost)\n"
   ]
  },
  {
   "cell_type": "code",
   "execution_count": null,
   "metadata": {
    "collapsed": false,
    "scrolled": true
   },
   "outputs": [],
   "source": [
    "function plotSplineRoadway(x,y,θ,lane_width)\n",
    "    perp_lines1 = zeros(2,length(x))\n",
    "    perp_lines2 = zeros(2,length(x))\n",
    "    \n",
    "    perp_lines1[1,:] = x + (lane_width/2.0)*sin(θ)\n",
    "    perp_lines1[2,:] = y - (lane_width/2.0)*cos(θ)\n",
    "    perp_lines2[1,:] = x - (lane_width/2.0)*sin(θ)\n",
    "    perp_lines2[2,:] = y + (lane_width/2.0)*cos(θ)\n",
    "    \n",
    "#     PyPlot.figure()\n",
    "#     PyPlot.scatter(x,y)\n",
    "    PyPlot.plot(x,y)\n",
    "    PyPlot.plot(perp_lines1[1,:],perp_lines1[2,:],color=\"green\")\n",
    "    PyPlot.plot(perp_lines2[1,:],perp_lines2[2,:],color=\"green\")\n",
    "    PyPlot.axis(\"equal\")\n",
    "#     PyPlot.show()\n",
    "end"
   ]
  },
  {
   "cell_type": "markdown",
   "metadata": {},
   "source": [
    "## Initialize Parameters"
   ]
  },
  {
   "cell_type": "code",
   "execution_count": null,
   "metadata": {
    "collapsed": false,
    "scrolled": false
   },
   "outputs": [],
   "source": [
    "# scene parameters\n",
    "scene = Scene()\n",
    "framerate = 24\n",
    "Δt = 1.0/framerate # size of rendering timesteps\n",
    "n_integration_sub_steps = 3 # sub steps for smoother integration\n",
    "context = IntegratedContinuous(Δt, n_integration_sub_steps) # integrated continuous context\n",
    "\n",
    "\n",
    "#car parameters\n",
    "car_length = 4.8 # front wheel to back wheel\n",
    "car_width = 2.5\n",
    "v⁰  = 0.0 # initial velocity\n",
    "δ⁰ = 0.0 # initical steering angle\n",
    "\n",
    "############### INITIALIZE TRACK ################\n",
    "\n",
    "lane_width = 8.0*DEFAULT_LANE_WIDTH\n",
    "radius = 45.0\n",
    "edge_buffer = 0.25\n",
    "T_MAX = lane_width/2.0 - car_width/2.0 - edge_buffer # max allowable projection distance from center of lane\n",
    "base_speed= 0.0\n",
    "\n",
    "# spline control points\n",
    "# Pts = 40*[0 -1 -2 -3 -3 -3 -2 -1 -1 -1 -2 -3 -4 -5 -5 -5 -5 -5 -5 -4 -3 -2 -1 -1 -1 0 1 1 1 2 3 4 5 5 5 5 5 5 5 4 3 3 3 3 2 1 0; \n",
    "#          0 0 0 0 -1 -2 -2 -2 -3 -4 -4 -4 -4 -4 -3 -2 -1 0 1 2 3 4 4 3 2 2 2 3 4 4 4 4 3 2 1 0 -1 -2 -3 -4 -3 -2 -1 0 0 0 0]\n",
    "Pts = 40*[0 -1 -2 -3 -3.5 -3 -2 -1 -0.5 -1 -2 -3 -4 -5 -5.5 -5 -4.5 -5 -5 -4 -3 -2 -1 -1 -1 0 1 1 1 2 3 4 5 5 5 5 5 5 5 4 3 3 3 3 2 1 0; \n",
    "       0 0 0 0 -1 -2 -2 -2 -3 -4 -4 -4 -4 -4 -3 -2 -1 0 1 2 3 4 4 3 2 2 2 3 4 4 4 4 3 2 1 0 -1 -2 -3 -4 -3 -2 -1 0 0 0 0]\n",
    "\n",
    "\n",
    "degree = 3 # degree of spline\n",
    "num_points = 10001\n",
    "\n",
    "# compute B spline\n",
    "T, tt, rx, ry = ClosedB_Spline(Pts, degree, num_points)\n",
    "# compute B spline derivative\n",
    "ṙx, ṙy = B_SplineDerivative(T,tt,Pts,degree)\n",
    "# compute theta \n",
    "θ = atan2(ṙy,ṙx) # unit tangent vector\n",
    "# compute arc length s\n",
    "s = zeros(size(rx))\n",
    "s[2:end] = cumsum(sqrt(diff(rx).^2 + diff(ry).^2))\n",
    "# compute curvature\n",
    "k = diff(θ)./diff(s) # curvature\n",
    "# resample evenly along spline\n",
    "num_samples = 420\n",
    "xP, yP, θP, sP, kP = ResampleSplineEven(rx,ry,θ,s,k,num_samples)\n",
    "\n",
    "# KDtree for projection onto roadway\n",
    "tree = KDTree([xP';yP'])\n",
    "\n",
    "lane_width = 20.0\n",
    "roadway = GenSplineRoadway(xP,yP,θP,sP,kP,lane_width)\n",
    "\n",
    "roadind1 = RoadIndex(CurveIndex(8,0),LaneTag(1,1))\n",
    "roadind2 = RoadIndex(CurveIndex(5,0),LaneTag(1,1))\n",
    "roadind3 = RoadIndex(CurveIndex(1,0),LaneTag(1,1))\n",
    "\n",
    "vehstate1 = VehicleState(Frenet(roadind1, roadway), roadway, 0.0)\n",
    "vehstate2 = VehicleState(Frenet(roadind2, roadway), roadway, 0.0)\n",
    "vehstate3 = VehicleState(Frenet(roadind3, roadway), roadway, 0.0)\n",
    "\n",
    "vehdef1 = VehicleDef(1,AgentClass.CAR, car_length, car_width)\n",
    "vehdef2 = VehicleDef(2,AgentClass.CAR, car_length, car_width)\n",
    "vehdef3 = VehicleDef(3,AgentClass.CAR, car_length, car_width)\n",
    "\n",
    "push!(scene,Vehicle(vehstate1, vehdef1))\n",
    "push!(scene,Vehicle(vehstate2, vehdef2))\n",
    "push!(scene,Vehicle(vehstate3, vehdef3))\n",
    "\n",
    "models = Dict{Int, DriverModel}()\n",
    "carcolors = Dict{Int, Colorant}()\n",
    "carcolors[1] = colorant\"red\"\n",
    "carcolors[2] = colorant\"blue\"\n",
    "carcolors[2] = colorant\"yellow\"\n",
    "\n",
    "\n",
    "# hrhc = HRHC(1,roadway,context)\n",
    "models[1] = HRHC(1,roadway,context,ΔV₊=2.05,ΔV₋=4.05,Δδ=Float64(π)/12,V_MIN=0.0,V_MAX=115.0,V_STEPS=230,k=1)\n",
    "models[2] = HRHC(2,roadway,context,ΔV₊=1.55,ΔV₋=4.05,Δδ=Float64(π)/12,V_MIN=0.0,V_MAX=125.0,V_STEPS=250,k=1)\n",
    "models[3] = HRHC(3,roadway,context,ΔV₊=2.55,ΔV₋=4.05,Δδ=Float64(π)/12,V_MIN=0.0,V_MAX=130.0,V_STEPS=250,k=2)\n",
    "actions = Array(DriveAction, length(scene))\n",
    "\n",
    "obstacleMap = generateObstacleMap(scene, models)"
   ]
  },
  {
   "cell_type": "markdown",
   "metadata": {},
   "source": [
    "# Run HRHC:"
   ]
  },
  {
   "cell_type": "code",
   "execution_count": null,
   "metadata": {
    "collapsed": false,
    "scrolled": true
   },
   "outputs": [],
   "source": [
    "function drawsim(t, dt=NaN)\n",
    "#     get_actions!(actions, scene, roadway, models)\n",
    "    k_level = 0 # needs to be updated into a loop\n",
    "    for k_level in 0:maximum([model.k for (id,model) in models])\n",
    "        for (i, veh) in enumerate(scene)\n",
    "            model = models[veh.def.id]\n",
    "            observe!(model, scene, roadway, veh.def.id, tree, obstacleMap, k_level)\n",
    "            actions[i] = rand(model)\n",
    "        end\n",
    "    end\n",
    "#     tick!(scene, roadway, actions, models)\n",
    "    for (veh, action) in zip(scene, actions)\n",
    "        model = models[veh.def.id]\n",
    "        context = action_context(model)\n",
    "        veh.state = propagate(veh, action, context, roadway)\n",
    "    end\n",
    "    render(scene, roadway, cam=FitToContentCamera(), car_colors=carcolors)\n",
    "end"
   ]
  },
  {
   "cell_type": "code",
   "execution_count": null,
   "metadata": {
    "collapsed": false,
    "scrolled": false
   },
   "outputs": [],
   "source": [
    "ticks = fps(framerate)\n",
    "timestamps = map(_ -> time(), ticks)\n",
    "map(drawsim, timestamps)"
   ]
  },
  {
   "cell_type": "code",
   "execution_count": null,
   "metadata": {
    "collapsed": false
   },
   "outputs": [],
   "source": [
    "vehstate1 = VehicleState(VecSE2(1,3,Float64(π)/8.0), roadway, 73.0)\n",
    "vehstate2 = VehicleState(VecSE2(4,0,0), roadway, 80.0)\n",
    "vehdef1 = VehicleDef(1,AgentClass.CAR, car_length, car_width)\n",
    "vehdef2 = VehicleDef(2,AgentClass.CAR, car_length, car_width)\n",
    "veh1 = Vehicle(vehstate1, vehdef1)\n",
    "veh2 = Vehicle(vehstate2, vehdef2)\n",
    "\n",
    "# difference between vehicle centerpoints\n",
    "diff = veh2.state.posG -  veh1.state.posG\n",
    "R = [cos(diff.θ) -sin(diff.θ);\n",
    "    sin(diff.θ) cos(diff.θ)]\n",
    "\n",
    "v1_pts = [car_length/2 car_length/2 -car_length/2 -car_length/2 car_length/2; -car_width/2 car_width/2 car_width/2 -car_width/2 -car_width/2]\n",
    "v2_pts = R*v1_pts + [diff.x 0;0 diff.y]*ones(2,5)\n",
    "# collision_flag = 0\n",
    "collision_flag = (sum((abs(v2_pts[1,:]) .>= car_length/2.0).*(abs(v2_pts[2,:]) .>= car_width/2.0)) > 0)\n",
    "PyPlot.figure(figsize=[3,2])\n",
    "for i in 1:4\n",
    "    PyPlot.plot([v2_pts[1,i],v2_pts[1,i]],[0,v2_pts[2,i]],\"green\")\n",
    "end\n",
    "\n",
    "PyPlot.scatter(v1_pts[1,:],v1_pts[2,:],s=80)\n",
    "PyPlot.plot(v1_pts[1,:],v1_pts[2,:])\n",
    "PyPlot.scatter(v2_pts[1,:],v2_pts[2,:],c=\"red\",s=80)\n",
    "PyPlot.plot(v2_pts[1,:],v2_pts[2,:],c=\"red\")\n",
    "\n",
    "PyPlot.axis(\"equal\")\n",
    "\n",
    "# function checkCollision(scene,car1::VecSE2,car2::VecSE2,id1,id2)\n",
    "#     L1 = scene.vehicles[id1].def.length\n",
    "#     w1 = scene.vehicles[id1].def.width\n",
    "#     L2 = scene.vehicles[id2].def.length\n",
    "#     w2 = scene.vehicles[id2].def.width\n",
    "#     diff = car1 - car2\n",
    "#     R = [cos(diff.θ) -sin(diff.θ); sin(diff.θ) cos(diff.θ)]\n",
    "#     car2_pts = R*[L2 L2 -L2 -L2; -w2 w2 w2 -w2]/2.0 + [diff.x 0;0 diff.y]*ones(2,4)\n",
    "#     collision_flag = (sum((abs(car2_pts[1,:]) .>= L1/2.0).*(abs(car2_pts[2,:]) .>= w1/2.0)) > 0)\n",
    "#     return collision_flag\n",
    "# end\n",
    "\n",
    "checkCollision(scene,VecSE2(1,3,Float64(π)/8.0), VecSE2(4,0,0),1,2)"
   ]
  },
  {
   "cell_type": "code",
   "execution_count": null,
   "metadata": {
    "collapsed": false
   },
   "outputs": [],
   "source": [
    "pos = VecSE2(-53.9,-118,.5)   \n",
    "hrhc = models[1]\n",
    "ΔX = hrhc.successor_states[:,:,1] - pos.x # Δx, with opponent at origin\n",
    "ΔY = hrhc.successor_states[:,:,2] - pos.y # Δy with opponent at origin\n",
    "Δθ = hrhc.successor_states[:,:,3] - pos.θ # Δθ with opponent at origin\n",
    "pts = [hrhc.car_length hrhc.car_length -hrhc.car_length -hrhc.car_length;\n",
    "    -hrhc.car_width hrhc.car_width hrhc.car_width -hrhc.car_width]/2.0\n",
    "pX = zeros(4,size(hrhc.successor_states,1),size(hrhc.successor_states,2))\n",
    "pY = zeros(size(pX))\n",
    "for i in 1:4\n",
    "    pX[i,:,:] = pts[1,i]*cos(Δθ) - pts[2,i]*sin(Δθ) + ΔX\n",
    "    pY[i,:,:] = pts[1,i]*sin(Δθ) + pts[2,i].*cos(Δθ) + ΔY\n",
    "end\n",
    "\n",
    "threshold_dist = hrhc.car_length*4 # must be at least this close before we care to calculate collision cost\n",
    "collisionFlag = (sum((abs(pX) .< hrhc.car_length/2.0),1)[1,:,:]).*(sum((abs(pY) .< hrhc.car_width/2.0),1)[1,:,:])\n",
    "collisionCost = .001+(collisionFlag .>= 1)./(minimum(abs(pX),1)[1,:,:].*minimum(abs(pY),1)[1,:,:])\n",
    "PyPlot.figure(figsize=[3,2])\n",
    "PyPlot.pcolor(log(collisionCost))\n",
    "PyPlot.ylabel(\"v\")\n",
    "PyPlot.xlabel(\"delta\")\n",
    "collisionFlag"
   ]
  },
  {
   "cell_type": "markdown",
   "metadata": {},
   "source": [
    "## Test HRHC"
   ]
  },
  {
   "cell_type": "code",
   "execution_count": null,
   "metadata": {
    "collapsed": false
   },
   "outputs": [],
   "source": [
    "k_level = 1\n",
    "hrhc = models[1]\n",
    "\n",
    "state = scene.vehicles[hrhc.car_ID].state\n",
    "hrhc.curve_ind = state.posF.roadind.ind.i\n",
    "\n",
    "v = state.v # current v\n",
    "hrhc.v = v\n",
    "\n",
    "trajectory = zeros(hrhc.h,5)\n",
    "out_of_bounds = false\n",
    "objective = zeros(6,17)\n",
    "eligibility_mask = zeros(6,17)\n",
    "s = zeros(6,17)\n",
    "t = zeros(6,17)\n",
    "ϕ = zeros(6,17)\n",
    "action_selected = false\n",
    "cmd = (1,1)\n",
    "abs_cmd = (1,1)\n",
    "\n",
    "i = 0\n",
    "\n",
    "# get legal (reachable from current v, δ) actions\n",
    "getLegalMoves!(hrhc, scene, h=hrhc.h-i)\n",
    "\n",
    "# calculate successor states\n",
    "getSuccessorStates!(hrhc, scene)\n",
    "\n",
    "# project successor states onto track\n",
    "s,t,ϕ = loopProjectionKD(hrhc, scene, roadway, tree)"
   ]
  },
  {
   "cell_type": "code",
   "execution_count": null,
   "metadata": {
    "collapsed": false
   },
   "outputs": [],
   "source": [
    "f_t = .1\n",
    "f_ϕ = 0.0\n",
    "f_tϕ = .3\n",
    "h  = hrhc.h\n",
    "# optimization objective\n",
    "state = scene.vehicles[hrhc.car_ID].state\n",
    "dS = s - state.posF.s\n",
    "dS = dS / maximum(dS) # normalize\n",
    "ϕMAX = Float64(π)/2\n",
    "\n",
    "# penalize large t (proximity to edge of track)\n",
    "cost_t = (exp(((10-hrhc.h+f_t)*abs(t/hrhc.T_MAX).^2)) - 1)/exp(f_t)\n",
    "# penalize large ϕ (steering away from forward direction on the track)\n",
    "cost_ϕ = (exp(((10-hrhc.h+f_ϕ)*abs(ϕ/ϕMAX).^2)) - 1)/exp(f_ϕ)\n",
    "# penalize when t and ϕ have the same sign\n",
    "A = [1 1; 1 1]\n",
    "cost_x = (((ϕ/ϕMAX)*A[1,1] + (t/T_MAX)*A[2,1]).*(ϕ/ϕMAX) + ((ϕ/ϕMAX)*A[1,2] + (t/T_MAX)*A[2,2]).*(t/T_MAX))/2\n",
    "cost_tϕ = (exp(f_tϕ*cost_x) - 1)/exp(1)\n",
    "eligibility_mask = ((hrhc.successor_states[:,:,1] .== state.posG.x).*(hrhc.successor_states[:,:,2] .== state.posG.y))\n",
    "\n",
    "# obstacles\n",
    "collisionCost = zeros(size(cost_t))\n",
    "threshold_dist = hrhc.car_length*4 # must be at least this close before we care to calculate collision cost\n",
    "if k_level >= 1\n",
    "    for (id,car) in obstacleMap[k_level - 1]\n",
    "        if id != hrhc.car_ID\n",
    "            state = scene.vehicles[hrhc.car_ID].state\n",
    "            state2 = scene.vehicles[id].state\n",
    "            diff = state.posG - state2.posG\n",
    "            if norm([diff.x, diff.y]) < threshold_dist\n",
    "                pos = VecSE2(car[h,1:3]) # x,y,θ of opponent at time step h                              \n",
    "                # ΔX = hrhc.successor_states[:,:,1] - pos.x # Δx, with opponent at origin\n",
    "                # ΔY = hrhc.successor_states[:,:,2] - pos.y # Δy with opponent at origin\n",
    "                # Δθ = hrhc.successor_states[:,:,3] - pos.θ # Δθ with opponent at origin\n",
    "                # pts = [hrhc.car_length hrhc.car_length -hrhc.car_length -hrhc.car_length;\n",
    "                #     -hrhc.car_width hrhc.car_width hrhc.car_width -hrhc.car_width]/2.0\n",
    "                # pX = zeros(4,size(hrhc.successor_states,1),size(hrhc.successor_states,2))\n",
    "                # pY = zeros(size(pX))\n",
    "                # for i in 1:4\n",
    "                #     pX[i,:,:] = pts[1,i]*cos(Δθ) - pts[2,i]*sin(Δθ) + ΔX\n",
    "                #     pY[i,:,:] = pts[1,i]*sin(Δθ) + pts[2,i].*cos(Δθ) + ΔY\n",
    "                # end\n",
    "\n",
    "                # collisionFlag = (sum((abs(pX) .< hrhc.car_length/2.0),1)[1,:,:]).*(sum((abs(pY) .< hrhc.car_width/2.0),1)[1,:,:])\n",
    "                # collisionCost = .001+(collisionFlag .>= 1)./(minimum(abs(pX),1)[1,:,:].*minimum(abs(pY),1)[1,:,:])\n",
    "            end\n",
    "        end\n",
    "    end\n",
    "end\n",
    "\n",
    "objective = cost_t + cost_ϕ + cost_tϕ + 1 - dS + collisionCost + Inf * eligibility_mask\n"
   ]
  },
  {
   "cell_type": "code",
   "execution_count": null,
   "metadata": {
    "collapsed": false
   },
   "outputs": [],
   "source": [
    "models[2].h"
   ]
  },
  {
   "cell_type": "code",
   "execution_count": null,
   "metadata": {
    "collapsed": true
   },
   "outputs": [],
   "source": []
  },
  {
   "cell_type": "code",
   "execution_count": null,
   "metadata": {
    "collapsed": false,
    "scrolled": false
   },
   "outputs": [],
   "source": [
    "steps = 1\n",
    "for _ in 1:steps\n",
    "    for k_level in 0:maximum([model.k for (id,model) in models])\n",
    "        for (i, veh) in enumerate(scene)\n",
    "            model = models[veh.def.id]\n",
    "            observe!(model, scene, roadway, veh.def.id, tree, obstacleMap, k_level)\n",
    "            actions[i] = rand(model)\n",
    "        end\n",
    "    end\n",
    "    #     tick!(scene, roadway, actions, models)\n",
    "    for (veh, action) in zip(scene, actions)\n",
    "        model = models[veh.def.id]\n",
    "        context = action_context(model)\n",
    "        veh.state = propagate(veh, action, context, roadway)\n",
    "    end\n",
    "end\n",
    "\n",
    "k_level = 1\n",
    "hrhc = models[1]\n",
    "\n",
    "state = scene.vehicles[hrhc.car_ID].state\n",
    "hrhc.curve_ind = state.posF.roadind.ind.i\n",
    "\n",
    "v = state.v # current v\n",
    "hrhc.v = v\n",
    "\n",
    "trajectory = zeros(hrhc.h,5)\n",
    "out_of_bounds = false\n",
    "objective = zeros(6,17)\n",
    "eligibility_mask = zeros(6,17)\n",
    "s = zeros(6,17)\n",
    "t = zeros(6,17)\n",
    "ϕ = zeros(6,17)\n",
    "action_selected = false\n",
    "cmd = (1,1)\n",
    "abs_cmd = (1,1)\n",
    "\n",
    "i = 0\n",
    "for i in 0:(hrhc.h-1)\n",
    "    if action_selected\n",
    "#         @show i-1\n",
    "        break # out of for loop\n",
    "    end\n",
    "\n",
    "    # get legal (reachable from current v, δ) actions\n",
    "    getLegalMoves!(hrhc, scene, h=hrhc.h-i)\n",
    "\n",
    "    # calculate successor states\n",
    "    getSuccessorStates!(hrhc, scene)\n",
    "\n",
    "    # project successor states onto track\n",
    "    s,t,ϕ = loopProjectionKD(hrhc, scene, roadway, tree)\n",
    "\n",
    "    # optimization objective        \n",
    "    objective = calculateObjective(hrhc, scene, roadway, tree, s, t, ϕ, obstacleMap, k_level, hrhc.h-i)\n",
    "\n",
    "    while (action_selected==false) && (minimum(objective) != Inf)            \n",
    "        index = indmin(objective) # find get a better method of optimizing this\n",
    "        cmd = ind2sub(s, index)\n",
    "        abs_cmd = (cmd[1]+hrhc.v_idx_low-1, cmd[2]+hrhc.δ_idx_low-1)\n",
    "\n",
    "        # compute full trajectory up to horizon\n",
    "        trajectory = computeTrajectory(hrhc, scene, abs_cmd, h=hrhc.h-i)\n",
    "\n",
    "        # screen trajectory for collisions / validity\n",
    "        out_of_bounds = screenTrajectory(trajectory, obstacleMap, scene, roadway, hrhc, tree, k_level)\n",
    "\n",
    "        if out_of_bounds\n",
    "            objective[index] = Inf\n",
    "        else\n",
    "            action_selected=true\n",
    "            updateObstacleMap!(obstacleMap, k_level, hrhc.car_ID, trajectory)\n",
    "        end\n",
    "    end \n",
    "end\n",
    "\n",
    "# hrhc.δ = hrhc.δ_cmds[abs_cmd[1], abs_cmd[2]]\n",
    "# hrhc.v = hrhc.v_cmds[abs_cmd[1], abs_cmd[2]]\n",
    "\n",
    "# next_state = VehicleState(VecSE2(trajectory[1,:]),roadway,hrhc.v)   \n",
    "# hrhc.action = NextState(next_state) # action\n",
    "plotHRHCInfo(hrhc,models,scene,roadway,s,t,ϕ,objective)"
   ]
  },
  {
   "cell_type": "code",
   "execution_count": null,
   "metadata": {
    "collapsed": false
   },
   "outputs": [],
   "source": [
    "# plot_stϕ(hrhc,roadway,scene,xP,yP,θP,trajectory,s,t,ϕ,objective)"
   ]
  },
  {
   "cell_type": "code",
   "execution_count": null,
   "metadata": {
    "collapsed": false
   },
   "outputs": [],
   "source": [
    "f_ϕ=0.0\n",
    "f_t=.1\n",
    "f_tϕ=3.0\n",
    "plotObjectiveHorizon(hrhc,scene,roadway,tree,xP,yP,θP)"
   ]
  },
  {
   "cell_type": "code",
   "execution_count": null,
   "metadata": {
    "collapsed": false
   },
   "outputs": [],
   "source": [
    "k_level"
   ]
  },
  {
   "cell_type": "code",
   "execution_count": null,
   "metadata": {
    "collapsed": false
   },
   "outputs": [],
   "source": [
    "vehicleMap = generateObstacleMap(scene, models)\n",
    "vehicleMap[1][1]"
   ]
  },
  {
   "cell_type": "code",
   "execution_count": null,
   "metadata": {
    "collapsed": false
   },
   "outputs": [],
   "source": [
    "function plotObjectiveHorizon(hrhc,scene,roadway,tree,xP,yP,θP)\n",
    "    lo=hrhc.curve_ind\n",
    "    hi = hrhc.curve_ind + Int(1+2*div(hrhc.V_MAX*hrhc.Δt*hrhc.h,hrhc.Δs))\n",
    "    \n",
    "    x = zeros(hrhc.h,size(hrhc.successor_states,1),size(hrhc.successor_states,2))\n",
    "    y = zeros(size(x))\n",
    "    z = zeros(size(x))\n",
    "    s = zeros(size(x))\n",
    "    t = zeros(size(x))\n",
    "    ϕ = zeros(size(x))\n",
    "    objective = zeros(size(x))\n",
    "    \n",
    "    for i in 1:hrhc.h\n",
    "        getLegalMoves!(hrhc, scene, h=i)\n",
    "        getSuccessorStates!(hrhc, scene)\n",
    "        x[i,:,:] = copy(hrhc.successor_states[:,:,1])\n",
    "        y[i,:,:] = copy(hrhc.successor_states[:,:,2])\n",
    "        z[i,:,:] = copy(hrhc.successor_states[:,:,3])\n",
    "        s[i,:,:], t[i,:,:], ϕ[i,:,:] = loopProjectionKD(hrhc,scene,roadway,tree)\n",
    "        objective[i,:,:] = calculateObjective(hrhc,scene, roadway, tree,s[i,:,:],t[i,:,:],ϕ[i,:,:],obstacleMap,hrhc.k,hrhc.h)\n",
    "    end\n",
    "    \n",
    "    PyPlot.figure(figsize=[12,4])\n",
    "\n",
    "    PyPlot.subplot(141) # ϕ\n",
    "    plotSplineRoadway(xP[lo:hi],yP[lo:hi],θP[lo:hi],lane_width)\n",
    "    PyPlot.scatter(x,y,c=ϕ,edgecolor=\"none\")\n",
    "    PyPlot.plot(trajectory[:,1],trajectory[:,2],color=\"red\")\n",
    "    PyPlot.axis(\"off\")\n",
    "    PyPlot.title(\"|phi|\")\n",
    "    \n",
    "    PyPlot.subplot(142) # s\n",
    "    plotSplineRoadway(xP[lo:hi],yP[lo:hi],θP[lo:hi],lane_width)\n",
    "    PyPlot.scatter(x,y,c=s,edgecolor=\"none\")\n",
    "    PyPlot.plot(trajectory[:,1],trajectory[:,2],color=\"red\")\n",
    "    PyPlot.axis(\"off\")\n",
    "    PyPlot.title(\"s\")\n",
    "    \n",
    "    PyPlot.subplot(143) # t\n",
    "    plotSplineRoadway(xP[lo:hi],yP[lo:hi],θP[lo:hi],lane_width)\n",
    "    PyPlot.scatter(x,y,c=t,edgecolor=\"none\")\n",
    "    PyPlot.plot(trajectory[:,1],trajectory[:,2],color=\"red\")\n",
    "    PyPlot.axis(\"off\")\n",
    "    PyPlot.title(\"t\")\n",
    "    \n",
    "    PyPlot.subplot(144) # objective\n",
    "    plotSplineRoadway(xP[lo:hi],yP[lo:hi],θP[lo:hi],lane_width)\n",
    "    PyPlot.scatter(x,y,c=log(objective),edgecolor=\"none\")\n",
    "    PyPlot.plot(trajectory[:,1],trajectory[:,2],color=\"red\")\n",
    "    PyPlot.axis(\"off\")\n",
    "    PyPlot.title(\"log objective\")\n",
    "    \n",
    "end"
   ]
  },
  {
   "cell_type": "code",
   "execution_count": null,
   "metadata": {
    "collapsed": false
   },
   "outputs": [],
   "source": [
    "function plot_stϕ(hrhc,roadway,scene,xP,yP,θP,trajectory,s,t,ϕ,objective)\n",
    "    lo=hrhc.curve_ind\n",
    "    hi=hrhc.curve_ind + Int(1+2*div(hrhc.V_MAX*hrhc.Δt*hrhc.h,hrhc.Δs))\n",
    "    if hi > length(roadway.segments[1].lanes[1].curve)\n",
    "        lo = length(roadway.segments[1].lanes[1].curve)\n",
    "        hi=hrhc.curve_ind + Int(1+2*div(hrhc.V_MAX*hrhc.Δt*hrhc.h,hrhc.Δs))\n",
    "    end\n",
    "    \n",
    "    PyPlot.figure(figsize=[12,4])\n",
    "    PyPlot.subplot(141)\n",
    "    plotSplineRoadway(xP[lo:hi],yP[lo:hi],θP[lo:hi],lane_width)\n",
    "    # PyPlot.scatter(Pts[1,:],Pts[2,:],color=\"red\")\n",
    "    PyPlot.scatter(hrhc.successor_states[:,:,1],hrhc.successor_states[:,:,2],c=abs(ϕ),edgecolor=\"none\")\n",
    "    PyPlot.plot(trajectory[:,1],trajectory[:,2],color=\"red\")\n",
    "    PyPlot.scatter(scene.vehicles[hrhc.car_ID].state.posG.x, scene.vehicles[hrhc.car_ID].state.posG.y, c=\"k\", edgecolors=\"none\",s=40)\n",
    "    PyPlot.axis(\"off\")\n",
    "    PyPlot.title(\"|phi|\")\n",
    "\n",
    "    PyPlot.subplot(142)\n",
    "    plotSplineRoadway(xP[lo:hi],yP[lo:hi],θP[lo:hi],lane_width)\n",
    "    # PyPlot.scatter(Pts[1,:],Pts[2,:],color=\"red\")\n",
    "    PyPlot.scatter(hrhc.successor_states[:,:,1],hrhc.successor_states[:,:,2],c=abs(t),edgecolor=\"none\")\n",
    "    PyPlot.plot(trajectory[:,1],trajectory[:,2],color=\"red\")\n",
    "    PyPlot.scatter(scene.vehicles[hrhc.car_ID].state.posG.x, scene.vehicles[hrhc.car_ID].state.posG.y, c=\"k\", edgecolors=\"none\",s=40)\n",
    "    PyPlot.axis(\"off\")\n",
    "    PyPlot.title(\"|t|\")\n",
    "\n",
    "    PyPlot.subplot(143)\n",
    "    plotSplineRoadway(xP[lo:hi],yP[lo:hi],θP[lo:hi],lane_width)\n",
    "    # PyPlot.scatter(Pts[1,:],Pts[2,:],color=\"red\")\n",
    "    PyPlot.scatter(hrhc.successor_states[:,:,1],hrhc.successor_states[:,:,2],c=s,edgecolor=\"none\")\n",
    "    PyPlot.scatter(scene.vehicles[hrhc.car_ID].state.posG.x, scene.vehicles[hrhc.car_ID].state.posG.y, c=\"k\", edgecolors=\"none\",s=40)\n",
    "    PyPlot.plot(trajectory[:,1],trajectory[:,2],color=\"red\")\n",
    "    PyPlot.axis(\"off\")\n",
    "    PyPlot.title(\"s\")\n",
    "\n",
    "\n",
    "    PyPlot.subplot(144)\n",
    "    plotSplineRoadway(xP[lo:hi],yP[lo:hi],θP[lo:hi],lane_width)\n",
    "    # PyPlot.scatter(Pts[1,:],Pts[2,:],color=\"red\")\n",
    "    PyPlot.scatter(hrhc.successor_states[:,:,1],hrhc.successor_states[:,:,2],c=log(objective),edgecolor=\"none\")\n",
    "    PyPlot.plot(trajectory[:,1],trajectory[:,2],color=\"red\")    \n",
    "    PyPlot.scatter(scene.vehicles[hrhc.car_ID].state.posG.x, scene.vehicles[hrhc.car_ID].state.posG.y, c=\"k\", edgecolors=\"none\",s=40)\n",
    "    PyPlot.axis(\"off\")\n",
    "    PyPlot.title(\"objective\")\n",
    "end"
   ]
  },
  {
   "cell_type": "code",
   "execution_count": null,
   "metadata": {
    "collapsed": false
   },
   "outputs": [],
   "source": [
    "function plotHRHCInfo(hrhc,models,scene,roadway,s,t,ϕ,objective)\n",
    "    lo=hrhc.curve_ind\n",
    "    hi = hrhc.curve_ind + Int(1+2*div(hrhc.V_MAX*hrhc.Δt*hrhc.h,hrhc.Δs))\n",
    "    lo, hi\n",
    "    PyPlot.figure(figsize=[12,10])\n",
    "    # Plot Raceway\n",
    "    PyPlot.subplot(221)\n",
    "    # plotSplineRoadway(xP[lo:hi],yP[lo:hi],θP[lo:hi],lane_width)\n",
    "    plotSplineRoadway(xP,yP,θP,lane_width)\n",
    "    PyPlot.scatter(hrhc.successor_states[:,:,1],hrhc.successor_states[:,:,2],color=\"red\")\n",
    "    PyPlot.plot(trajectory[:,1],trajectory[:,2],color=\"red\")\n",
    "    PyPlot.scatter(roadway.segments[1].lanes[1].curve[hrhc.curve_ind].pos.x, roadway.segments[1].lanes[1].curve[hrhc.curve_ind].pos.y, c=\"white\", s=40)\n",
    "    for (id,car) in models\n",
    "        if id != hrhc.car_ID\n",
    "            PyPlot.scatter(scene.vehicles[id].state.posG.x,scene.vehicles[id].state.posG.y,c=\"blue\",s=40)\n",
    "        end\n",
    "    end\n",
    "    PyPlot.axis(\"off\")\n",
    "    PyPlot.title(\"Raceway with Motion Primitives\")\n",
    "\n",
    "    PyPlot.subplot(222)\n",
    "    plotSplineRoadway(xP[lo:hi],yP[lo:hi],θP[lo:hi],lane_width)\n",
    "    PyPlot.scatter(scene.vehicles[hrhc.car_ID].state.posG.x, scene.vehicles[hrhc.car_ID].state.posG.y, c=\"red\", edgecolors=\"none\",s=40)\n",
    "    PyPlot.scatter(hrhc.successor_states[:,:,1], hrhc.successor_states[:,:,2],c=log(objective),edgecolors=\"none\")\n",
    "    PyPlot.scatter(hrhc.successor_states[cmd[1],cmd[2],1], hrhc.successor_states[cmd[1],cmd[2],2],c=\"white\",s=40)\n",
    "    PyPlot.plot(trajectory[:,1],trajectory[:,2],color=\"red\")\n",
    "    PyPlot.axis(\"off\")\n",
    "    PyPlot.title(\"Log Objective Function\")\n",
    "end"
   ]
  },
  {
   "cell_type": "markdown",
   "metadata": {},
   "source": [
    "## Visualization of Objective function"
   ]
  },
  {
   "cell_type": "code",
   "execution_count": null,
   "metadata": {
    "collapsed": false,
    "scrolled": false
   },
   "outputs": [],
   "source": [
    "# dS = s_grid - state.s # find increase in arc length\n",
    "# dS = dS/(maximum(dS))\n",
    "# s_objective = 1 - dS\n",
    "\n",
    "h = 10\n",
    "\n",
    "ϕMAX = 1 # Float64(π)/2\n",
    "tMAX = 1.0 # roadway.segments[1].lanes[1].width\n",
    "ϕ_steps = 100\n",
    "t_steps = 100\n",
    "\n",
    "ϕgrid = linspace(-ϕMAX,ϕMAX,ϕ_steps)*ones(1,t_steps)\n",
    "tgrid = (linspace(-tMAX,tMAX,t_steps)*ones(1,ϕ_steps))'\n",
    "# cost_function1 = (10*(tgrid.^2)/(tMAX.^2) + 2*(ϕgrid.^2)/(ϕMAX.^2))/12\n",
    "f_ϕ = 0 # 2\n",
    "f_t = .5 # 8\n",
    "f_tϕ = 1 # 5\n",
    "\n",
    "A = [1 1;\n",
    "     1 1]\n",
    "cost_function_cross = (ϕgrid*A[1,1] + tgrid*A[2,1]).*(ϕgrid) + (ϕgrid*A[1,2] + tgrid*A[2,2]).*(tgrid)\n",
    "PyPlot.figure(figsize=[12,7])\n",
    "for i in 0:9\n",
    "    h = 10-i\n",
    "    PyPlot.subplot(2,5,i+1)\n",
    "    cost_function1 = (exp(((10-h+f_t)*abs(tgrid).^2)) - 1)/exp(f_t)\n",
    "    cost_function2 = (exp(((f_ϕ)*abs(ϕgrid).^2)) - 1)/exp(f_ϕ)\n",
    "    cost_function3 = (exp(f_tϕ*cost_function_cross) - 1)/exp(1)\n",
    "    cost_function = cost_function1+cost_function2+cost_function3\n",
    "#     PyPlot.plot(cost_function)\n",
    "    PyPlot.pcolor(cost_function.*(cost_function .< 1.0))\n",
    "    PyPlot.axis(\"off\")\n",
    "    PyPlot.title(\"h = $h\")\n",
    "end"
   ]
  },
  {
   "cell_type": "code",
   "execution_count": null,
   "metadata": {
    "collapsed": true
   },
   "outputs": [],
   "source": []
  }
 ],
 "metadata": {
  "anaconda-cloud": {},
  "kernelspec": {
   "display_name": "Julia 0.5.0",
   "language": "julia",
   "name": "julia-0.5"
  },
  "language_info": {
   "file_extension": ".jl",
   "mimetype": "application/julia",
   "name": "julia",
   "version": "0.5.0"
  }
 },
 "nbformat": 4,
 "nbformat_minor": 0
}
