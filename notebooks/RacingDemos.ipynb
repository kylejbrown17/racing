{
 "cells": [
  {
   "cell_type": "code",
   "execution_count": 1,
   "metadata": {
    "collapsed": false
   },
   "outputs": [
    {
     "data": {
      "text/html": [
       "<div id=\"interact-js-shim\">\n",
       "    <script charset=\"utf-8\">\n",
       "(function (IPython, $, _, MathJax) {\n",
       "    $.event.special.destroyed = {\n",
       "\tremove: function(o) {\n",
       "\t    if (o.handler) {\n",
       "\t\to.handler.apply(this, arguments)\n",
       "\t    }\n",
       "\t}\n",
       "    }\n",
       "\n",
       "    var OutputArea = IPython.version >= \"4.0.0\" ? require(\"notebook/js/outputarea\").OutputArea : IPython.OutputArea;\n",
       "\n",
       "    var redrawValue = function (container, type, val) {\n",
       "\tvar selector = $(\"<div/>\");\n",
       "\tvar oa = new OutputArea(_.extend(selector, {\n",
       "\t    selector: selector,\n",
       "\t    prompt_area: true,\n",
       "\t    events: IPython.events,\n",
       "\t    keyboard_manager: IPython.keyboard_manager\n",
       "\t})); // Hack to work with IPython 2.1.0\n",
       "\n",
       "\tswitch (type) {\n",
       "\tcase \"image/png\":\n",
       "            var _src = 'data:' + type + ';base64,' + val;\n",
       "\t    $(container).find(\"img\").attr('src', _src);\n",
       "\t    break;\n",
       "\tcase \"text/latex\":\n",
       "\t\tif (MathJax){\n",
       "\t\t\tvar math = MathJax.Hub.getAllJax(container)[0];\n",
       "\t\t\tMathJax.Hub.Queue([\"Text\", math, val.replace(/^\\${1,2}|\\${1,2}$/g, '')]);\n",
       "\t\t\tbreak;\n",
       "\t\t}\n",
       "\tdefault:\n",
       "\t    var toinsert = OutputArea.append_map[type].apply(\n",
       "\t\toa, [val, {}, selector]\n",
       "\t    );\n",
       "\t    $(container).empty().append(toinsert.contents());\n",
       "\t    selector.remove();\n",
       "\t}\n",
       "    }\n",
       "\n",
       "\n",
       "    $(document).ready(function() {\n",
       "\tfunction initComm(evt, data) {\n",
       "\t    var comm_manager = data.kernel.comm_manager;\n",
       "        //_.extend(comm_manager.targets, require(\"widgets/js/widget\"))\n",
       "\t    comm_manager.register_target(\"Signal\", function (comm) {\n",
       "            comm.on_msg(function (msg) {\n",
       "                var val = msg.content.data.value;\n",
       "                $(\".signal-\" + comm.comm_id).each(function() {\n",
       "                var type = $(this).data(\"type\");\n",
       "                if (typeof(val[type]) !== \"undefined\" && val[type] !== null) {\n",
       "                    redrawValue(this, type, val[type], type);\n",
       "                }\n",
       "                });\n",
       "                delete val;\n",
       "                delete msg.content.data.value;\n",
       "            });\n",
       "\t    });\n",
       "\n",
       "\t    // coordingate with Comm and redraw Signals\n",
       "\t    // XXX: Test using Reactive here to improve performance\n",
       "\t    $([IPython.events]).on(\n",
       "\t\t'output_appended.OutputArea', function (event, type, value, md, toinsert) {\n",
       "\t\t    if (md && md.reactive) {\n",
       "                // console.log(md.comm_id);\n",
       "                toinsert.addClass(\"signal-\" + md.comm_id);\n",
       "                toinsert.data(\"type\", type);\n",
       "                // Signal back indicating the mimetype required\n",
       "                var comm_manager = IPython.notebook.kernel.comm_manager;\n",
       "                var comm = comm_manager.comms[md.comm_id];\n",
       "                comm.then(function (c) {\n",
       "                    c.send({action: \"subscribe_mime\",\n",
       "                       mime: type});\n",
       "                    toinsert.bind(\"destroyed\", function() {\n",
       "                        c.send({action: \"unsubscribe_mime\",\n",
       "                               mime: type});\n",
       "                    });\n",
       "                })\n",
       "\t\t    }\n",
       "\t    });\n",
       "\t}\n",
       "\n",
       "\ttry {\n",
       "\t    // try to initialize right away. otherwise, wait on the status_started event.\n",
       "\t    initComm(undefined, IPython.notebook);\n",
       "\t} catch (e) {\n",
       "\t    $([IPython.events]).on('kernel_created.Kernel kernel_created.Session', initComm);\n",
       "\t}\n",
       "    });\n",
       "})(IPython, jQuery, _, MathJax);\n",
       "</script>\n",
       "    <script>\n",
       "        window.interactLoadedFlag = true\n",
       "       $(\"#interact-js-shim\").bind(\"destroyed\", function () {\n",
       "           if (window.interactLoadedFlag) {\n",
       "               console.warn(\"JavaScript required by Interact will be removed if you remove this cell or run using Interact more than once.\")\n",
       "           }\n",
       "       })\n",
       "       $([IPython.events]).on(\"kernel_starting.Kernel kernel_restarting.Kernel\", function () { window.interactLoadedFlag = false })\n",
       "   </script>\n",
       "</div>"
      ]
     },
     "metadata": {},
     "output_type": "display_data"
    },
    {
     "name": "stderr",
     "output_type": "stream",
     "text": [
      "/Users/kyle/anaconda/lib/python2.7/site-packages/matplotlib/font_manager.py:273: UserWarning: Matplotlib is building the font cache using fc-list. This may take a moment.\n",
      "  warnings.warn('Matplotlib is building the font cache using fc-list. This may take a moment.')\n"
     ]
    }
   ],
   "source": [
    "using AutomotiveDrivingModels\n",
    "using AutoViz\n",
    "using Reactive\n",
    "using Interact\n",
    "using SplineUtils\n",
    "using SplineRaceWay\n",
    "using HierarchicalRecedingHorizonController\n",
    "using NearestNeighbors"
   ]
  },
  {
   "cell_type": "code",
   "execution_count": 2,
   "metadata": {
    "collapsed": true
   },
   "outputs": [],
   "source": [
    "# scene parameters\n",
    "scene = Scene()\n",
    "framerate = 24\n",
    "Δt = 1.0/framerate # size of rendering timesteps\n",
    "n_integration_sub_steps = 3 # sub steps for smoother integration\n",
    "context = IntegratedContinuous(Δt, n_integration_sub_steps) # integrated continuous context\n",
    "\n",
    "#car parameters\n",
    "car_length = 4.8 # front wheel to back wheel\n",
    "car_width = 2.5\n",
    "v⁰  = 0.0 # initial velocity\n",
    "δ⁰ = 0.0 # initical steering angle\n",
    "\n",
    "############### INITIALIZE TRACK ################\n",
    "lane_width = 30.0\n",
    "radius = 45.0\n",
    "edge_buffer = 0.25\n",
    "T_MAX= lane_width/2.0 - car_width/2.0 - edge_buffer # max allowable projection distance from center of lane\n",
    "base_speed= 0.0\n",
    "\n",
    "# spline control points\n",
    "# Pts = 50*[0 -1 -2 -3 -3.5 -3 -2 -1 -0.5 -1 -2 -3 -4 -5 -6 -6.5 -6 -5.5 -6 -6 -5 -4 -3 -2 -1.5 -1 0 1 1.5 2 3 4 5 6 6 6 7 7 7 7 6 5 4 4 4 3 2 1 0; \n",
    "#        0 0 0 0 -1 -2 -2 -2 -3 -4 -4 -4 -4 -4 -4 -3 -2 -1 0 1 2 3 4 4 3 2 2 2 3 4 4 4 4 3 2 1 0 -1 -2 -3 -4 -4 -3 -2 -1 0 0 0 0]\n",
    "Pts = 50*[0 -1 -2 -3 -3.5 -3 -2 -1 -0.5 -1 -2 -3 -4 -5 -6 -6.5 -6 -5.5 -6 -6 -5 -4 -3 -2 -1.5 -1 0 1 1.5 2 3 4 5 6.25 7 7 7 7 7 7 7 6 5 4 4 4 3 2 1 0; \n",
    "       0 0 0 0 -1 -2 -2 -2 -3 -4 -4 -4 -4 -4 -4 -3 -2 -1 0 1 2 3 4 4 3 2 2 2 3 4 4 4 4 4 3 2 1 0 -1 -2 -3 -4 -4 -3 -2 -1 0 0 0 0]\n",
    "degree = 3 # degree of spline\n",
    "num_points = 10001\n",
    "num_samples = 420\n",
    "\n",
    "track = Raceway(Pts,degree,num_points,num_samples,lane_width)\n",
    "track;"
   ]
  },
  {
   "cell_type": "code",
   "execution_count": 3,
   "metadata": {
    "collapsed": true
   },
   "outputs": [],
   "source": [
    "carcolors = Dict{Int, Colorant}()\n",
    "\n",
    "roadind1 = RoadIndex(CurveIndex(12,0),LaneTag(1,1))\n",
    "vehstate1 = VehicleState(Frenet(roadind1, track.roadway), track.roadway, 0.0)\n",
    "vehdef1 = VehicleDef(1,AgentClass.CAR, car_length, car_width)\n",
    "push!(scene,Vehicle(vehstate1, vehdef1))\n",
    "carcolors[1] = colorant\"red\"\n",
    "track.models[1] = mapHRHC(1,track.roadway,context,h=12,v_max=120.0,μ=30.0,a_step=12.0,a_range=[-1,0,1],k=2)\n",
    "\n",
    "roadind2 = RoadIndex(CurveIndex(4,0),LaneTag(1,1))\n",
    "vehstate2 = VehicleState(Frenet(roadind2, track.roadway), track.roadway, 0.0)\n",
    "vehdef2 = VehicleDef(2,AgentClass.CAR, car_length, car_width)\n",
    "push!(scene,Vehicle(vehstate2, vehdef2))\n",
    "carcolors[2] = colorant\"blue\"\n",
    "track.models[2] = mapHRHC(2,track.roadway,context,h=12,v_max=125.0,μ=32.0,a_step=12.0,a_range=[-1,0,1],k=3)\n",
    "\n",
    "roadind3 = RoadIndex(CurveIndex(14,0),LaneTag(1,1))\n",
    "vehstate3 = VehicleState(Frenet(roadind3, track.roadway), track.roadway, 0.0)\n",
    "vehdef3 = VehicleDef(3,AgentClass.CAR, car_length, car_width)\n",
    "push!(scene,Vehicle(vehstate3, vehdef3))\n",
    "carcolors[3] = colorant\"yellow\"\n",
    "track.models[3] = mapHRHC(3,track.roadway,context,h=12,v_max=100.0,μ=25.0,a_step=12.0,a_range=[-1,0,1],k=3)\n",
    "\n",
    "actions = Array(DriveAction, length(scene))\n",
    "\n",
    "track.obstacleMap = generateObstacleMap(scene, track.models)\n",
    "track;"
   ]
  },
  {
   "cell_type": "code",
   "execution_count": 4,
   "metadata": {
    "collapsed": false
   },
   "outputs": [
    {
     "data": {
      "text/plain": [
       "drawsim (generic function with 2 methods)"
      ]
     },
     "execution_count": 4,
     "metadata": {},
     "output_type": "execute_result"
    }
   ],
   "source": [
    "function drawsim(t, dt=NaN)\n",
    "    k_level = 0 # needs to be updated into a loop\n",
    "    for k_level in 0:maximum([model.k for (id,model) in track.models])\n",
    "        for (i, veh) in enumerate(scene)\n",
    "            model = track.models[veh.def.id]\n",
    "            observe!(model, scene, track.roadway, veh.def.id, track.tree, track.obstacleMap, k_level)\n",
    "            actions[i] = rand(model)\n",
    "        end\n",
    "    end\n",
    "    for (veh, action) in zip(scene, actions)\n",
    "        model = track.models[veh.def.id]\n",
    "        context = action_context(model)\n",
    "        veh.state = propagate(veh, action, context, track.roadway)\n",
    "    end\n",
    "#     render(scene, track.roadway, cam=FitToContentCamera(), car_colors=carcolors)\n",
    "    zoom = 4.0\n",
    "    render(scene, track.roadway, cam=SceneFollowCamera(zoom), car_colors=carcolors)\n",
    "end"
   ]
  },
  {
   "cell_type": "code",
   "execution_count": 5,
   "metadata": {
    "collapsed": true
   },
   "outputs": [],
   "source": [
    "# ticks = fps(framerate)\n",
    "# timestamps = map(_ -> time(), ticks)\n",
    "# map(drawsim, timestamps)"
   ]
  },
  {
   "cell_type": "markdown",
   "metadata": {},
   "source": [
    "## Demo Visualization Functions"
   ]
  },
  {
   "cell_type": "code",
   "execution_count": 6,
   "metadata": {
    "collapsed": false
   },
   "outputs": [
    {
     "data": {
      "text/plain": [
       "DemoMotionPrimitives (generic function with 1 method)"
      ]
     },
     "execution_count": 6,
     "metadata": {},
     "output_type": "execute_result"
    }
   ],
   "source": [
    "function DemoMotionPrimitives()\n",
    "    demoCar = mapHRHC(1,track.roadway,context,h=50,v_max=120.0,μ=30.0,a_step=12.0,a_range=[-1,0,1],k=2)\n",
    "\n",
    "    v_idx = [50,150,220]\n",
    "    δ_idx = [18,14,40]\n",
    "    a_idx = [3,1,2]\n",
    "    titles = [\"V = 50\", \"V = 150\", \"V = 220\"]\n",
    "    h=12\n",
    "    motion_map = demoCar.motion_map\n",
    "\n",
    "    PyPlot.figure(figsize=[12,4])\n",
    "    for i in 1:3\n",
    "        PyPlot.subplot(1,3,i)\n",
    "        PyPlot.axis(\"tight\")\n",
    "        PyPlot.axis(\"off\")\n",
    "        ΔXYθ = motion_map[v_idx[i]][:,:,h,:]\n",
    "        trajectory = motion_map[v_idx[i]][a_idx[i],:,1:h,:]\n",
    "        for j in 1:size(trajectory,1)\n",
    "            PyPlot.plot(trajectory[j,:,2],trajectory[j,:,1],c=\"red\")\n",
    "        end\n",
    "        PyPlot.plot(trajectory[δ_idx[i],:,2],trajectory[δ_idx[i],:,1],c=\"lime\",linewidth=2)\n",
    "        PyPlot.scatter(ΔXYθ[:,:,2],ΔXYθ[:,:,1],edgecolor=\"none\")\n",
    "\n",
    "        PyPlot.axis(\"equal\")\n",
    "        PyPlot.ylim([0,80])\n",
    "        PyPlot.xlim([-40,40])\n",
    "\n",
    "        PyPlot.title(titles[i])\n",
    "    end\n",
    "end"
   ]
  },
  {
   "cell_type": "code",
   "execution_count": 7,
   "metadata": {
    "collapsed": false
   },
   "outputs": [
    {
     "data": {
      "text/plain": [
       "DemoIncreasedHorizonBehavior (generic function with 1 method)"
      ]
     },
     "execution_count": 7,
     "metadata": {},
     "output_type": "execute_result"
    }
   ],
   "source": [
    "function DemoIncreasedHorizonBehavior()\n",
    "    demoCar = mapHRHC(1,track.roadway,context,h=50,v_max=120.0,μ=30.0,a_step=12.0,a_range=[-1,0,1],k=2)\n",
    "    v_idx = 220\n",
    "    δ_idx = 40\n",
    "    a_idx = 3\n",
    "    h=demoCar.h\n",
    "    motion_map = demoCar.motion_map\n",
    "    PyPlot.figure()\n",
    "    ΔXYθ = motion_map[v_idx][:,:,h,:]\n",
    "    trajectory = motion_map[v_idx][a_idx,:,1:h,:]\n",
    "    for j in 1:size(trajectory,1)\n",
    "        PyPlot.plot(trajectory[j,:,2],trajectory[j,:,1],c=\"red\")\n",
    "    end\n",
    "    PyPlot.plot(trajectory[δ_idx,:,2],trajectory[δ_idx,:,1],c=\"lime\",linewidth=2)\n",
    "    PyPlot.scatter(ΔXYθ[:,:,2],ΔXYθ[:,:,1],edgecolor=\"none\")\n",
    "\n",
    "    PyPlot.axis(\"tight\")\n",
    "    PyPlot.axis(\"off\")\n",
    "    PyPlot.axis(\"equal\")\n",
    "    PyPlot.title(\"Increased Horizon Behavior (V = 220)\")\n",
    "end"
   ]
  },
  {
   "cell_type": "code",
   "execution_count": 8,
   "metadata": {
    "collapsed": false
   },
   "outputs": [
    {
     "data": {
      "text/plain": [
       "PlotDemoBuildingBlocks (generic function with 1 method)"
      ]
     },
     "execution_count": 8,
     "metadata": {},
     "output_type": "execute_result"
    }
   ],
   "source": [
    "function PlotDemoBuildingBlocks()\n",
    "    t1 = linspace(-13,13,200)\n",
    "    T_MAX = 10\n",
    "    t_cost = exp(abs(t1/T_MAX).^6)\n",
    "\n",
    "    ϕ1 = linspace(-Float64(π),Float64(π),200)\n",
    "    ϕ_MAX = Float64(π)/2\n",
    "    ϕ_cost = exp(abs(ϕ1/ϕ_MAX).^2)\n",
    "\n",
    "    s1 = linspace(0,1,20)\n",
    "    s_factor = 5\n",
    "    s_cost = s_factor*(1-s1/maximum(s1))\n",
    "\n",
    "    PyPlot.figure(figsize=[12,4])\n",
    "    PyPlot.subplot(1,4,1)\n",
    "    PyPlot.plot(t1/T_MAX,t_cost)\n",
    "    PyPlot.ylim([0,50])\n",
    "    PyPlot.title(\"cost(t)\")\n",
    "    PyPlot.subplot(1,4,2)\n",
    "    PyPlot.plot(ϕ1/ϕ_MAX,ϕ_cost)\n",
    "    PyPlot.ylim([0,50])\n",
    "    PyPlot.title(\"cost(phi)\")\n",
    "    PyPlot.subplot(1,4,3)\n",
    "    PyPlot.plot(s1,s_cost)\n",
    "    PyPlot.ylim([0,50])\n",
    "    PyPlot.title(\"cost(s)\")\n",
    "end"
   ]
  },
  {
   "cell_type": "code",
   "execution_count": 9,
   "metadata": {
    "collapsed": false
   },
   "outputs": [
    {
     "data": {
      "text/plain": [
       "PlotObjectiveDemo (generic function with 1 method)"
      ]
     },
     "execution_count": 9,
     "metadata": {},
     "output_type": "execute_result"
    }
   ],
   "source": [
    "function PlotObjectiveDemo(t_shift)\n",
    "    θ = linspace(-Float64(π),Float64(π),360)\n",
    "    r = linspace(1.0,20.0,20)\n",
    "    x = [cos(i) for i in θ]*[i for i in r]'\n",
    "    y = [sin(i) for i in θ]*[i for i in r]'\n",
    "    R = [1 for i in θ]*[i for i in r]'\n",
    "    Θ = [i for i in θ]*[1 for i in r]'\n",
    "    s = x\n",
    "    t = y - t_shift\n",
    "    ϕ = Θ\n",
    "\n",
    "    car_ID = 1\n",
    "    s₀ = -21 # scene.vehicles[car_ID].state.posF.s\n",
    "\n",
    "    T_MAX= 10\n",
    "    ϕ_MAX = Float64(π)\n",
    "\n",
    "    s_norm = s/maximum(s)\n",
    "    t_norm = t/T_MAX\n",
    "    ϕ_norm = ϕ/ϕ_MAX\n",
    "\n",
    "    #costs\n",
    "    t_cost = abs(t_norm).^6\n",
    "    ϕ_cost = abs(ϕ_norm).^6\n",
    "    s_factor = 1\n",
    "    s_cost = s_factor*(1-s_norm)\n",
    "    A = [1 .5; #  [ϕ t] [a1 a2] [ϕ]\n",
    "        .5 0] #         [a2 a3] [t]\n",
    "    tϕ_cost = A[1,1]*(ϕ_norm).^2 + (A[1,2]+A[2,1])*(ϕ_norm).*(t_norm) + A[2,2]*(t_norm).^2\n",
    "\n",
    "    objective = calculateObjective(car_ID,s,s₀,t,ϕ,T_MAX)\n",
    "\n",
    "    PyPlot.figure(figsize=[12,3])\n",
    "\n",
    "    PyPlot.subplot(1,4,1)\n",
    "    PyPlot.plot([-20,20],[T_MAX+t_shift, T_MAX+t_shift],c=\"black\",linewidth=2)\n",
    "    PyPlot.plot([-20,20],[-T_MAX+t_shift, -T_MAX+t_shift],c=\"black\",linewidth=2)\n",
    "    PyPlot.scatter(x,y,c=s_cost,edgecolor=\"none\",s=4)\n",
    "    PyPlot.axis(\"off\")\n",
    "    PyPlot.axis(\"equal\")\n",
    "    PyPlot.title(\"cost(s)\")\n",
    "    PyPlot.subplot(1,4,2)\n",
    "    PyPlot.plot([-20,20],[T_MAX+t_shift, T_MAX+t_shift],c=\"black\",linewidth=2)\n",
    "    PyPlot.plot([-20,20],[-T_MAX+t_shift,-T_MAX+t_shift],c=\"black\",linewidth=2)\n",
    "    PyPlot.scatter(x,y,c=t_cost,edgecolor=\"none\",s=4)\n",
    "    PyPlot.axis(\"off\")\n",
    "    PyPlot.axis(\"equal\")\n",
    "    PyPlot.title(\"cost(t)\")\n",
    "    PyPlot.subplot(1,4,3)\n",
    "    PyPlot.plot([-20,20],[T_MAX+t_shift, T_MAX+t_shift],c=\"black\",linewidth=2)\n",
    "    PyPlot.plot([-20,20],[-T_MAX+t_shift,-T_MAX+t_shift],c=\"black\",linewidth=2)\n",
    "    PyPlot.scatter(x,y,c=tϕ_cost,edgecolor=\"none\",s=4)\n",
    "    PyPlot.axis(\"off\")\n",
    "    PyPlot.axis(\"equal\")\n",
    "    PyPlot.title(\"cost(t,phi)\")\n",
    "    PyPlot.subplot(1,4,4)\n",
    "    PyPlot.plot([-20,20],[T_MAX+t_shift, T_MAX+t_shift],c=\"black\",linewidth=2)\n",
    "    PyPlot.plot([-20,20],[-T_MAX+t_shift,-T_MAX+t_shift],c=\"black\",linewidth=2)\n",
    "    PyPlot.scatter(x,y,c=log(objective),edgecolor=\"none\",s=4)\n",
    "    PyPlot.scatter(x[indmin(objective)],y[indmin(objective)],c=\"white\",s=30)\n",
    "    PyPlot.axis(\"off\")\n",
    "    PyPlot.axis(\"equal\")\n",
    "    PyPlot.title(\"objective = cost(s,t,phi)\")\n",
    "end"
   ]
  },
  {
   "cell_type": "code",
   "execution_count": 10,
   "metadata": {
    "collapsed": false
   },
   "outputs": [
    {
     "data": {
      "text/plain": [
       "TailGateAvoidanceVisualization (generic function with 1 method)"
      ]
     },
     "execution_count": 10,
     "metadata": {},
     "output_type": "execute_result"
    }
   ],
   "source": [
    "function TailGateAvoidanceVisualization()\n",
    "    θ = linspace(-Float64(π),Float64(π),360)\n",
    "    r = linspace(1.0,20.0,20)\n",
    "    x = [cos(i) for i in θ]*[i for i in r]'\n",
    "    y = [sin(i) for i in θ]*[i for i in r]'\n",
    "    R = [1 for i in θ]*[i for i in r]'\n",
    "    ψ = [i for i in θ]*[1 for i in r]'\n",
    "\n",
    "    #costs\n",
    "    R_cost = 1./(2.5*R.*cos(ψ).^2 + 2*4.8*R.*sin(ψ).^2 + 1)\n",
    "    # ψ_cost = 1./(R.*(sin(ψ).^2 + 1))\n",
    "    ψ_cost = -cos(ψ).^3 + 1.1\n",
    "    Rψ_cost = R_cost.*ψ_cost + 1\n",
    "\n",
    "    PyPlot.figure(figsize=[12,4])\n",
    "\n",
    "    PyPlot.subplot(1,3,1)\n",
    "    PyPlot.scatter(x,y,c=R_cost,edgecolor=\"none\",s=8)\n",
    "    PyPlot.axis(\"equal\")\n",
    "    PyPlot.axis(\"off\")\n",
    "    PyPlot.title(\"cost(r)\")\n",
    "    PyPlot.subplot(1,3,2)\n",
    "    PyPlot.scatter(x,y,c=ψ_cost,edgecolor=\"none\",s=8)\n",
    "    PyPlot.axis(\"equal\")\n",
    "    PyPlot.axis(\"off\")\n",
    "    PyPlot.title(\"cost(psi)\")\n",
    "    PyPlot.subplot(1,3,3)\n",
    "    PyPlot.scatter(x,y,c=Rψ_cost,edgecolor=\"none\",s=8)\n",
    "    PyPlot.axis(\"equal\")\n",
    "    PyPlot.axis(\"off\")\n",
    "    PyPlot.title(\"cost(r,psi)\")\n",
    "    \n",
    "    return x,y,Rψ_cost\n",
    "end"
   ]
  },
  {
   "cell_type": "code",
   "execution_count": 11,
   "metadata": {
    "collapsed": false
   },
   "outputs": [
    {
     "data": {
      "text/plain": [
       "ObserveActPlotObjective (generic function with 1 method)"
      ]
     },
     "execution_count": 11,
     "metadata": {},
     "output_type": "execute_result"
    }
   ],
   "source": [
    "function ObserveActPlotObjective(track,scene;steps=50)\n",
    "    for i in 1:steps\n",
    "        k_level = 0 # needs to be updated into a loop\n",
    "        for k_level in 0:maximum([model.k for (id,model) in track.models])\n",
    "            for (i, veh) in enumerate(scene)\n",
    "                model = track.models[veh.def.id]\n",
    "                observe!(model, scene, track.roadway, veh.def.id, track.tree, track.obstacleMap, k_level)\n",
    "                actions[i] = rand(model)\n",
    "            end\n",
    "        end\n",
    "        for (veh, action) in zip(scene, actions)\n",
    "            model = track.models[veh.def.id]\n",
    "            context = action_context(model)\n",
    "            veh.state = propagate(veh, action, context, track.roadway)\n",
    "        end\n",
    "    end\n",
    "    \n",
    "    PyPlot.figure(figsize=[12,8])\n",
    "    \n",
    "    lo = Inf\n",
    "    hi = 0\n",
    "\n",
    "    for (id,hrhc) in track.models\n",
    "        lo = Int(min(lo,hrhc.curve_ind))\n",
    "        hi = Int(max(hi,hrhc.curve_ind + Int(1+div(hrhc.v_range[end]*hrhc.Δt*hrhc.h,hrhc.Δs))))\n",
    "        lane_width = track.roadway.segments[1].lanes[1].width\n",
    "\n",
    "        x = zeros(hrhc.h,size(hrhc.successor_states,1),size(hrhc.successor_states,2))\n",
    "        y = zeros(size(x))\n",
    "        Θ = zeros(size(x))\n",
    "        s = zeros(size(x))\n",
    "        t = zeros(size(x))\n",
    "        ϕ = zeros(size(x))\n",
    "        objective = zeros(size(x))\n",
    "        avoidanceCost = zeros(size(x))\n",
    "        collisionFlag = zeros(size(x))\n",
    "\n",
    "        s₀ = scene.vehicles[hrhc.car_ID].state.posF.s\n",
    "        for i in 1:hrhc.h\n",
    "            successor_states = getSuccessorStates(hrhc.motion_map[hrhc.v_cmd],hrhc.car_ID, i, scene)\n",
    "            x[i,:,:] = copy(successor_states[:,:,1])\n",
    "            y[i,:,:] = copy(successor_states[:,:,2])\n",
    "            Θ[i,:,:] = copy(successor_states[:,:,3])\n",
    "            s[i,:,:], t[i,:,:], ϕ[i,:,:] = loopProjectionKD(hrhc,scene,track.roadway,track.tree)\n",
    "            objective[i,:,:] = calculateObjective(hrhc.car_ID,s[i,:,:],s₀,t[i,:,:],ϕ[i,:,:],hrhc.T_MAX)\n",
    "            avoidanceCost[i,:,:] = TailgateAvoidance(hrhc, track.obstacleMap, track.tree, track.roadway, scene, hrhc.k)\n",
    "            objective[i,:,:] = objective[i,:,:] + avoidanceCost[i,:,:]\n",
    "            collisionFlag[i,:,:] = screenCollision(hrhc, track.obstacleMap, track.tree, track.roadway, scene, hrhc.k)\n",
    "        end\n",
    "        objective[collisionFlag .> 0] = Inf\n",
    "        trajectory = track.obstacleMap[hrhc.k][hrhc.car_ID]\n",
    "        \n",
    "        PyPlot.scatter(x,y,c=log(objective),edgecolor=\"none\")\n",
    "        PyPlot.plot(trajectory[:,1],trajectory[:,2],color=\"red\")\n",
    "        PyPlot.axis(\"off\")\n",
    "        PyPlot.title(\"log objective functions of vehicles on track\")\n",
    "        \n",
    "    end\n",
    "    plotSplineRoadway(track.x[lo:hi],track.y[lo:hi],track.θ[lo:hi],lane_width)\n",
    "#     return objective,avoidanceCost,collisionScreen\n",
    "end"
   ]
  },
  {
   "cell_type": "markdown",
   "metadata": {},
   "source": [
    "# Motion Primitives"
   ]
  },
  {
   "cell_type": "code",
   "execution_count": null,
   "metadata": {
    "collapsed": false
   },
   "outputs": [],
   "source": [
    "DemoMotionPrimitives()"
   ]
  },
  {
   "cell_type": "code",
   "execution_count": null,
   "metadata": {
    "collapsed": false
   },
   "outputs": [],
   "source": [
    "DemoIncreasedHorizonBehavior()"
   ]
  },
  {
   "cell_type": "markdown",
   "metadata": {},
   "source": [
    "# Reward Shaping: Building the Objective Function"
   ]
  },
  {
   "cell_type": "code",
   "execution_count": null,
   "metadata": {
    "collapsed": false
   },
   "outputs": [],
   "source": [
    "PlotDemoBuildingBlocks()"
   ]
  },
  {
   "cell_type": "code",
   "execution_count": null,
   "metadata": {
    "collapsed": false
   },
   "outputs": [],
   "source": [
    "t_shift = 0\n",
    "PlotObjectiveDemo(t_shift)"
   ]
  },
  {
   "cell_type": "markdown",
   "metadata": {},
   "source": [
    "# Other Objective Function Visualizations"
   ]
  },
  {
   "cell_type": "markdown",
   "metadata": {},
   "source": [
    "## Fixing the Tailgating Problem"
   ]
  },
  {
   "cell_type": "code",
   "execution_count": null,
   "metadata": {
    "collapsed": false
   },
   "outputs": [],
   "source": [
    "x,y,Rψ_cost = TailGateAvoidanceVisualization()\n",
    "Rψ_cost;"
   ]
  },
  {
   "cell_type": "code",
   "execution_count": null,
   "metadata": {
    "collapsed": false
   },
   "outputs": [],
   "source": [
    "PyPlot.scatter3D(x,y,Rψ_cost,c=Rψ_cost,edgecolor=\"none\")\n",
    "# PyPlot.axis(\"off\")\n",
    "PyPlot.title(\"3D visualization of cost(R,psi)\")"
   ]
  },
  {
   "cell_type": "markdown",
   "metadata": {},
   "source": [
    "# Objective Function in Action"
   ]
  },
  {
   "cell_type": "code",
   "execution_count": null,
   "metadata": {
    "collapsed": false
   },
   "outputs": [],
   "source": [
    "ObserveActPlotObjective(track,scene,steps=50) #60, 100, 140, 180"
   ]
  },
  {
   "cell_type": "code",
   "execution_count": null,
   "metadata": {
    "collapsed": true
   },
   "outputs": [],
   "source": []
  }
 ],
 "metadata": {
  "kernelspec": {
   "display_name": "Julia 0.5.0",
   "language": "julia",
   "name": "julia-0.5"
  },
  "language_info": {
   "file_extension": ".jl",
   "mimetype": "application/julia",
   "name": "julia",
   "version": "0.5.0"
  }
 },
 "nbformat": 4,
 "nbformat_minor": 0
}
