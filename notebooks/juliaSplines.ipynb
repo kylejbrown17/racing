{
 "cells": [
  {
   "cell_type": "code",
   "execution_count": 1,
   "metadata": {
    "collapsed": false
   },
   "outputs": [
    {
     "name": "stderr",
     "output_type": "stream",
     "text": [
      "/Users/kyle/anaconda/lib/python2.7/site-packages/matplotlib/font_manager.py:273: UserWarning: Matplotlib is building the font cache using fc-list. This may take a moment.\n",
      "  warnings.warn('Matplotlib is building the font cache using fc-list. This may take a moment.')\n"
     ]
    }
   ],
   "source": [
    "# push!(LOAD_PATH, \"/Users/kyle/Documents/SCHOOL/Stanford/Research/RoboRace/workspace/src\")\n",
    "using AutomotiveDrivingModels\n",
    "using Reactive\n",
    "using AutoViz\n",
    "using Interpolations\n",
    "# using SplineUtils\n",
    "\n",
    "import PyPlot"
   ]
  },
  {
   "cell_type": "code",
   "execution_count": 12,
   "metadata": {
    "collapsed": false
   },
   "outputs": [
    {
     "name": "stderr",
     "output_type": "stream",
     "text": [
      "WARNING: Method definition ClosedB_Spline(Any, Any, Any) in module Main at In[2]:2 overwritten at In[12]:2.\n"
     ]
    },
    {
     "data": {
      "text/plain": [
       "ClosedB_Spline (generic function with 1 method)"
      ]
     },
     "execution_count": 12,
     "metadata": {},
     "output_type": "execute_result"
    }
   ],
   "source": [
    "function ClosedB_Spline(Pts, degree, L_tt) # returns spline and derivative of spline\n",
    "    k = degree\n",
    "    p = k - 1 # degree of derivative\n",
    "    n = size(Pts,2) # number of control points\n",
    "    m = n + k + 1; # number of knots in T\n",
    "    \n",
    "    #knots\n",
    "    T = 0.5*ones(m,1)\n",
    "    T[1:k] = 0\n",
    "    T[(k+1):end-(k)] = linspace(0,1,m-2*k)\n",
    "    T[end-(k):end] = 1.0\n",
    "    \n",
    "    tt = linspace(0,1,L_tt)\n",
    "    rx = zeros(size(tt))\n",
    "    ry = zeros(size(tt))\n",
    "    \n",
    "#     Q = zeros(size(Pts[:,1:end-1]))\n",
    "#     ṙx = zeros(size(tt)) # derivatives\n",
    "#     ṙy = zeros(size(tt)) # derivatives\n",
    "\n",
    "    invd = Dict() # inverse denominator (to deal with zero denominators)\n",
    "    for i = 1:k+1\n",
    "        invd[i] = T[(i+1):end] - T[1:(end-(i))]\n",
    "        # take care of empty knot spans\n",
    "        for j = 1:size(invd[i])[1]\n",
    "            if invd[i][j] != 0\n",
    "                invd[i][j] = 1.0/invd[i][j]\n",
    "            end\n",
    "        end\n",
    "    end\n",
    "    \n",
    "    # Derivative\n",
    "#     Q[1,:] = p*invd[1][p+1:end-p].*(Pts[1,2:end] - Pts[1,1:end-1])\n",
    "#     Q[2,:] = p*invd[1][p+1:end-p].*(Pts[2,2:end] - Pts[2,1:end-1])\n",
    "    \n",
    "    N = Dict()\n",
    "    for j = 1:size(tt)[1]\n",
    "        t = tt[j]\n",
    "        N[1] = 1.0*(t .>= T[1:end-1]) .* (t .< T[2:end])\n",
    "\n",
    "        for i = 1:k+1\n",
    "            if i > 1\n",
    "                N[i] = (t - T[1:end-i]) .* (invd[i-1].*N[i-1])[1:end-1] + (T[i+1:end] - t) .*(invd[i-1].*N[i-1])[2:end]\n",
    "            end\n",
    "        end\n",
    "        \n",
    "        rx[j] = (Pts[1,:]'*N[k+1])[1]\n",
    "        ry[j] = (Pts[2,:]'*N[k+1])[1]\n",
    "        \n",
    "#         ṙx[j] = (Q[1,:]'*N[k][2:end-1])[1] # derivatives\n",
    "#         ṙy[j] = (Q[2,:]'*N[k][2:end-1])[1] # derivatives\n",
    "    end\n",
    "    \n",
    "    rx[end] = Pts[1,end]\n",
    "    ry[end] = Pts[2,end] \n",
    "    \n",
    "    return T, tt, rx, ry\n",
    "end"
   ]
  },
  {
   "cell_type": "code",
   "execution_count": 3,
   "metadata": {
    "collapsed": false
   },
   "outputs": [
    {
     "data": {
      "text/plain": [
       "B_SplineDerivative (generic function with 1 method)"
      ]
     },
     "execution_count": 3,
     "metadata": {},
     "output_type": "execute_result"
    }
   ],
   "source": [
    "function B_SplineDerivative(T, # knots\n",
    "    tt, # sample locations t ∈ [0,1.0]\n",
    "    Pts, # control points\n",
    "    k) # degree of spline\n",
    "\n",
    "    p = k - 1 # degree of derivative\n",
    "    n = size(Pts,2) # number of control points\n",
    "    m = n + k + 1; # number of knots in T\n",
    "    \n",
    "#     Q = zeros(size(Pts[:,1:end-1]))\n",
    "#     ṙx = zeros(size(tt)) # derivatives\n",
    "#     ṙy = zeros(size(tt)) # derivatives\n",
    "    \n",
    "    invd = Dict() # inverse denominator (to deal with zero denominators)\n",
    "    for i = 1:k+1\n",
    "        invd[i] = T[(i+1):end] - T[1:(end-(i))]\n",
    "        # take care of empty knot spans\n",
    "        for j = 1:size(invd[i])[1]\n",
    "            if invd[i][j] != 0\n",
    "                invd[i][j] = 1.0/invd[i][j]\n",
    "            end\n",
    "        end\n",
    "    end\n",
    "    \n",
    "    Q = zeros(size(Pts[:,1:end-1]))\n",
    "    ṙx = zeros(size(tt)) # derivatives\n",
    "    ṙy = zeros(size(tt)) # derivatives\n",
    "    \n",
    "    # Derivative\n",
    "    Q[1,:] = p*invd[1][p+1:end-p].*(Pts[1,2:end] - Pts[1,1:end-1])\n",
    "    Q[2,:] = p*invd[1][p+1:end-p].*(Pts[2,2:end] - Pts[2,1:end-1])\n",
    "    \n",
    "    N = Dict()\n",
    "    for j = 1:size(tt)[1]\n",
    "        t = tt[j]\n",
    "        N[1] = 1.0*(t .>= T[1:end-1]) .* (t .< T[2:end])\n",
    "        for i = 1:k+1\n",
    "            if i > 1\n",
    "                N[i] = (t - T[1:end-i]) .* (invd[i-1].*N[i-1])[1:end-1] + (T[i+1:end] - t) .*(invd[i-1].*N[i-1])[2:end]\n",
    "            end\n",
    "        end\n",
    "        \n",
    "        ṙx[j] = (Q[1,:]'*N[k][2:end-1])[1] # derivatives\n",
    "        ṙy[j] = (Q[2,:]'*N[k][2:end-1])[1] # derivatives\n",
    "    end\n",
    "    \n",
    "    ṙx[1] = ṙx[2]\n",
    "    ṙx[end] = ṙx[end-1]\n",
    "    ṙy[1] = ṙy[2]\n",
    "    ṙy[end] = ṙy[end-1]\n",
    "    \n",
    "    return ṙx, ṙy\n",
    "end"
   ]
  },
  {
   "cell_type": "code",
   "execution_count": 4,
   "metadata": {
    "collapsed": false
   },
   "outputs": [
    {
     "data": {
      "text/plain": [
       "PlotSplineRoadway (generic function with 1 method)"
      ]
     },
     "execution_count": 4,
     "metadata": {},
     "output_type": "execute_result"
    }
   ],
   "source": [
    "function PlotSplineRoadway(x,y,θ,lane_width)\n",
    "    perp_lines1 = zeros(2,length(x))\n",
    "    perp_lines2 = zeros(2,length(x))\n",
    "    \n",
    "    perp_lines1[1,:] = x + (lane_width/2.0)*sin(θ)\n",
    "    perp_lines1[2,:] = y - (lane_width/2.0)*cos(θ)\n",
    "    perp_lines2[1,:] = x - (lane_width/2.0)*sin(θ)\n",
    "    perp_lines2[2,:] = y + (lane_width/2.0)*cos(θ)\n",
    "    \n",
    "    PyPlot.figure()\n",
    "#     PyPlot.scatter(Pts[1,:],Pts[2,:],color=\"red\")\n",
    "    PyPlot.scatter(x,y)\n",
    "    PyPlot.plot(x,y)\n",
    "    PyPlot.plot(perp_lines1[1,:],perp_lines1[2,:],color=\"green\")\n",
    "    PyPlot.plot(perp_lines2[1,:],perp_lines2[2,:],color=\"green\")\n",
    "    PyPlot.axis(\"equal\")\n",
    "    PyPlot.show()\n",
    "end"
   ]
  },
  {
   "cell_type": "code",
   "execution_count": 48,
   "metadata": {
    "collapsed": false
   },
   "outputs": [
    {
     "name": "stderr",
     "output_type": "stream",
     "text": [
      "WARNING: Method definition ResampleSplineEven(Any, Any, Any, Any, Any, Any) in module Main at In[38]:2 overwritten at In[48]:2.\n"
     ]
    },
    {
     "data": {
      "text/plain": [
       "ResampleSplineEven (generic function with 1 method)"
      ]
     },
     "execution_count": 48,
     "metadata": {},
     "output_type": "execute_result"
    }
   ],
   "source": [
    "function ResampleSplineEven(rx,ry,θ,s,k,num_samples)\n",
    "    \"\"\"\n",
    "    Evenly resamples spline at num_samples points along arc_length\n",
    "    \n",
    "    \"\"\"\n",
    "    s_span = linspace(0,s[end],num_samples+1)\n",
    "    xP = zeros(num_samples)\n",
    "    yP = zeros(num_samples)\n",
    "    sP = zeros(num_samples)\n",
    "    θP = zeros(num_samples)\n",
    "    kP = zeros(num_samples)\n",
    "    \n",
    "    xP[1] = rx[1]\n",
    "#     xP[end] = rx[end]\n",
    "    yP[1] = ry[1]\n",
    "#     yP[end] = ry[end]\n",
    "    θP[1] = θ[1]\n",
    "#     θP[end] = θ[end]\n",
    "    sP[1] = s[1]\n",
    "#     sP[end] = s[end]\n",
    "    kP[1] = k[1]\n",
    "#     kP[end] = k[end]\n",
    "\n",
    "    j = 1\n",
    "    for t in 2:length(s)\n",
    "        if j > num_samples\n",
    "            break\n",
    "        end\n",
    "        if (s[t] > s_span[j]) && (s[t-1] <= s_span[j])\n",
    "            sP[j] = s_span[j]\n",
    "            xP[j] = rx[t-1] + (rx[t] - rx[t-1])*(s_span[j] - s[t-1]) / (s[t] - s[t-1])\n",
    "            yP[j] = ry[t-1] + (ry[t] - ry[t-1])*(s_span[j] - s[t-1]) / (s[t] - s[t-1])\n",
    "            θP[j] = θ[t-1] + (θ[t] - θ[t-1])*(s_span[j] - s[t-1]) / (s[t] - s[t-1])\n",
    "            kP[j] = k[t-1] + (k[t] - k[t-1])*(s_span[j] - s[t-1]) / (s[t] - s[t-1])\n",
    "            j += 1\n",
    "        end\n",
    "    end\n",
    "    \n",
    "    return xP, yP, θP, sP, kP\n",
    "end"
   ]
  },
  {
   "cell_type": "code",
   "execution_count": 39,
   "metadata": {
    "collapsed": false
   },
   "outputs": [
    {
     "name": "stderr",
     "output_type": "stream",
     "text": [
      "WARNING: Method definition GenSplineRoadway(Any, Any, Any, Any, Any, Any) in module Main at In[6]:2 overwritten at In[39]:2.\n"
     ]
    },
    {
     "data": {
      "text/plain": [
       "GenSplineRoadway (generic function with 1 method)"
      ]
     },
     "execution_count": 39,
     "metadata": {},
     "output_type": "execute_result"
    }
   ],
   "source": [
    "function GenSplineRoadway(x,y,θ,s,k,lane_width)\n",
    "    nlanes = 1\n",
    "    seg1 = RoadSegment(1, Array(Lane, nlanes))\n",
    "    tag1=LaneTag(1,1)\n",
    "    boundary_left = LaneBoundary(:solid, :white)\n",
    "    boundary_right = LaneBoundary(:solid, :white)\n",
    "\n",
    "    curvepts = Array(CurvePt, length(x))\n",
    "    for i in 1:length(x)\n",
    "        curvepts[i] = CurvePt(VecSE2(x[i],y[i],θ[i]), s[i], k[i], NaN)\n",
    "    end\n",
    "\n",
    "    curveind_lo = CurveIndex(1,0.0)\n",
    "    curveind_hi = CurveIndex(length(curvepts)-1,1.0)\n",
    "\n",
    "    seg1.lanes[1] = Lane(tag1, curvepts, width=lane_width,\n",
    "                                  boundary_left=boundary_left, boundary_right=boundary_right,\n",
    "                                  next = RoadIndex(curveind_lo, tag1),\n",
    "                                  prev = RoadIndex(curveind_hi, tag1),\n",
    "                                 )\n",
    "    \n",
    "    roadway = Roadway()\n",
    "    push!(roadway.segments, seg1)\n",
    "    \n",
    "    return roadway\n",
    "end"
   ]
  },
  {
   "cell_type": "markdown",
   "metadata": {},
   "source": [
    "### Demo"
   ]
  },
  {
   "cell_type": "code",
   "execution_count": 49,
   "metadata": {
    "collapsed": false
   },
   "outputs": [],
   "source": [
    "# control points\n",
    "Pts = 30*[0 -1 -2 -3 -3 -3 -2 -1 -1 -1 -2 -3 -4 -5 -5 -5 -5 -5 -5 -4 -3 -2 -1 -1 -1 0 1 1 1 2 3 4 5 5 5 5 5 5 5 4 3 3 3 3 2 1 0; \n",
    "        0 0 0 0 -1 -2 -2 -2 -3 -4 -4 -4 -4 -4 -3 -2 -1 0 1 2 3 4 4 3 2 2 2 3 4 4 4 4 3 2 1 0 -1 -2 -3 -4 -3 -2 -1 0 0 0 0]\n",
    "\n",
    "degree = 3 # degree of spline\n",
    "num_points = 10001\n",
    "\n",
    "# compute B spline\n",
    "T, tt, rx, ry = ClosedB_Spline(Pts, degree, num_points)\n",
    "T;"
   ]
  },
  {
   "cell_type": "code",
   "execution_count": 50,
   "metadata": {
    "collapsed": false
   },
   "outputs": [],
   "source": [
    "# compute B spline derivative\n",
    "ṙx, ṙy = B_SplineDerivative(T,tt,Pts,degree);"
   ]
  },
  {
   "cell_type": "code",
   "execution_count": 51,
   "metadata": {
    "collapsed": false
   },
   "outputs": [],
   "source": [
    "# compute theta \n",
    "θ = atan2(ṙy,ṙx) # unit tangent vector\n",
    "# compute arc length s\n",
    "s = zeros(size(rx))\n",
    "s[2:end] = cumsum(sqrt(diff(rx).^2 + diff(ry).^2))\n",
    "# compute curvature\n",
    "k = diff(θ)./diff(s) # curvature\n",
    "R = 1./k # radius of curvature\n",
    "R;"
   ]
  },
  {
   "cell_type": "code",
   "execution_count": 52,
   "metadata": {
    "collapsed": false
   },
   "outputs": [],
   "source": [
    "# resample spline based on arc length\n",
    "num_samples = 420\n",
    "xP, yP, θP, sP, kP = ResampleSplineEven(rx,ry,θ,s,k,num_samples);\n",
    "xP;"
   ]
  },
  {
   "cell_type": "code",
   "execution_count": 53,
   "metadata": {
    "collapsed": false
   },
   "outputs": [
    {
     "data": {
      "image/png": "[encoded data removed]",
      "text/plain": [
       "Cairo.CairoSurface{UInt32}(Ptr{Void} @0x00007f9fc7141220,1000.0,600.0,#undef)"
      ]
     },
     "execution_count": 53,
     "metadata": {},
     "output_type": "execute_result"
    }
   ],
   "source": [
    "lane_width = 20.0\n",
    "\n",
    "roadway = GenSplineRoadway(xP,yP,θP,sP,kP,lane_width)\n",
    "scene = Scene()\n",
    "\n",
    "roadind1 = RoadIndex(proj(VecSE2(0.0,-1*DEFAULT_LANE_WIDTH,0.0), roadway))\n",
    "vehstate1 = VehicleState(Frenet(roadind1, roadway), roadway, 0.0)\n",
    "vehdef1 = VehicleDef(1,AgentClass.CAR, 4.8, 1.8)\n",
    "push!(scene,Vehicle(vehstate1, vehdef1))\n",
    "\n",
    "carcolors = Dict{Int, Colorant}()\n",
    "carcolors[1]=colorant\"red\"\n",
    "\n",
    "render(scene, roadway, cam=FitToContentCamera(), car_colors=carcolors)"
   ]
  },
  {
   "cell_type": "code",
   "execution_count": 45,
   "metadata": {
    "collapsed": false
   },
   "outputs": [],
   "source": [
    "# Visualize roadway with PyPlot\n",
    "# PlotSplineRoadway(xP,yP,θP,lane_width)\n",
    "# PyPlot.scatter(Pts[1,:],Pts[2,:],color=\"red\")\n",
    "# PyPlot.show()"
   ]
  },
  {
   "cell_type": "code",
   "execution_count": 33,
   "metadata": {
    "collapsed": false
   },
   "outputs": [],
   "source": [
    "s_span = linspace(0,s[end],num_samples)\n",
    "xP = zeros(num_samples)\n",
    "yP = zeros(num_samples)\n",
    "sP = zeros(num_samples)\n",
    "θP = zeros(num_samples)\n",
    "kP = zeros(num_samples)\n",
    "s_span;"
   ]
  },
  {
   "cell_type": "code",
   "execution_count": 34,
   "metadata": {
    "collapsed": false
   },
   "outputs": [
    {
     "data": {
      "text/plain": [
       "0.0"
      ]
     },
     "execution_count": 34,
     "metadata": {},
     "output_type": "execute_result"
    }
   ],
   "source": [
    "xP[1] = rx[1]\n",
    "xP[end] = rx[end]\n",
    "yP[1] = ry[1]\n",
    "yP[end] = ry[end]\n",
    "θP[1] = θ[1]\n",
    "θP[end] = θ[end]\n",
    "sP[1] = s[1]\n",
    "sP[end] = s[end]\n",
    "kP[1] = k[1]\n",
    "kP[end] = k[end]"
   ]
  },
  {
   "cell_type": "code",
   "execution_count": 35,
   "metadata": {
    "collapsed": true
   },
   "outputs": [],
   "source": [
    "j = 1\n",
    "for t in 2:length(s)\n",
    "    if j > num_samples\n",
    "        break\n",
    "    end\n",
    "    if (s[t] > s_span[j]) && (s[t-1] <= s_span[j])\n",
    "        sP[j] = s_span[j]\n",
    "        xP[j] = rx[t-1] + (rx[t] - rx[t-1])*(s_span[j] - s[t-1]) / (s[t] - s[t-1])\n",
    "        yP[j] = ry[t-1] + (ry[t] - ry[t-1])*(s_span[j] - s[t-1]) / (s[t] - s[t-1])\n",
    "        θP[j] = θ[t-1] + (θ[t] - θ[t-1])*(s_span[j] - s[t-1]) / (s[t] - s[t-1])\n",
    "        kP[j] = k[t-1] + (k[t] - k[t-1])*(s_span[j] - s[t-1]) / (s[t] - s[t-1])\n",
    "        j += 1\n",
    "    end\n",
    "end"
   ]
  },
  {
   "cell_type": "code",
   "execution_count": null,
   "metadata": {
    "collapsed": true
   },
   "outputs": [],
   "source": []
  },
  {
   "cell_type": "code",
   "execution_count": 47,
   "metadata": {
    "collapsed": false
   },
   "outputs": [
    {
     "data": {
      "image/png": "[encoded data removed]",
      "text/plain": [
       "PyPlot.Figure(PyObject <matplotlib.figure.Figure object at 0x322ba3e50>)"
      ]
     },
     "metadata": {},
     "output_type": "display_data"
    }
   ],
   "source": [
    "PyPlot.scatter(xP[21:81],yP[21:81])\n",
    "PyPlot.axis(\"equal\")\n",
    "PyPlot.show()"
   ]
  },
  {
   "cell_type": "code",
   "execution_count": 55,
   "metadata": {
    "collapsed": false
   },
   "outputs": [
    {
     "data": {
      "text/plain": [
       "(0.0,3.2133226102201524,6.426645220440472,9.639967830660774)"
      ]
     },
     "execution_count": 55,
     "metadata": {},
     "output_type": "execute_result"
    }
   ],
   "source": [
    "xP[1],xP[end],xP[end-1],xP[end-2]"
   ]
  },
  {
   "cell_type": "code",
   "execution_count": null,
   "metadata": {
    "collapsed": true
   },
   "outputs": [],
   "source": []
  }
 ],
 "metadata": {
  "anaconda-cloud": {},
  "kernelspec": {
   "display_name": "Julia 0.5.0",
   "language": "julia",
   "name": "julia-0.5"
  },
  "language_info": {
   "file_extension": ".jl",
   "mimetype": "application/julia",
   "name": "julia",
   "version": "0.5.0"
  }
 },
 "nbformat": 4,
 "nbformat_minor": 0
}
