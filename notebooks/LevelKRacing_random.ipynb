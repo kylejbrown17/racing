{
 "cells": [
  {
   "cell_type": "code",
   "execution_count": null,
   "metadata": {
    "collapsed": false
   },
   "outputs": [],
   "source": [
    "using AutomotiveDrivingModels\n",
    "using AutoViz\n",
    "using Reactive\n",
    "using Interact\n",
    "using SplineUtils\n",
    "using SplineRaceWay\n",
    "using HierarchicalRecedingHorizonController\n",
    "using NearestNeighbors"
   ]
  },
  {
   "cell_type": "code",
   "execution_count": null,
   "metadata": {
    "collapsed": false
   },
   "outputs": [],
   "source": [
    "# scene parameters\n",
    "scene = Scene()\n",
    "framerate = 24\n",
    "Δt = 1.0/framerate # size of rendering timesteps\n",
    "n_integration_sub_steps = 3 # sub steps for smoother integration\n",
    "context = IntegratedContinuous(Δt, n_integration_sub_steps) # integrated continuous context\n",
    "\n",
    "#car parameters\n",
    "car_length = 4.8 # front wheel to back wheel\n",
    "car_width = 2.5\n",
    "v⁰  = 0.0 # initial velocity\n",
    "δ⁰ = 0.0 # initical steering angle\n",
    "\n",
    "############### INITIALIZE TRACK ################\n",
    "lane_width = 30.0\n",
    "radius = 45.0\n",
    "edge_buffer = 0.25\n",
    "T_MAX = lane_width/2.0 - car_width/2.0 - edge_buffer # max allowable projection distance from center of lane\n",
    "base_speed= 0.0\n",
    "\n",
    "# spline control points\n",
    "Pts = 50*[0 -1 -2 -3 -3.5 -3 -2 -1 -0.5 -1 -2 -3 -4 -5 -6 -6.5 -6 -5.5 -6 -6 -5 -4 -3 -2 -1.5 -1 0 1 1.5 2 3 4 5 6.25 7 7 7 7 7 7 7 6 5 4 4 4 3 2 1 0; \n",
    "       0 0 0 0 -1 -2 -2 -2 -3 -4 -4 -4 -4 -4 -4 -3 -2 -1 0 1 2 3 4 4 3 2 2 2 3 4 4 4 4 4 3 2 1 0 -1 -2 -3 -4 -4 -3 -2 -1 0 0 0 0]\n",
    "degree = 3 # degree of spline\n",
    "num_points = 10001\n",
    "num_samples = 420\n",
    "\n",
    "track = Raceway(Pts,degree,num_points,num_samples,lane_width)\n",
    "track;"
   ]
  },
  {
   "cell_type": "code",
   "execution_count": null,
   "metadata": {
    "collapsed": false
   },
   "outputs": [],
   "source": [
    "carcolors = Dict{Int, Colorant}()\n",
    "colors = [colorant\"yellow\",colorant\"green\",colorant\"blue\",colorant\"red\"]\n",
    "numCars = 4\n",
    "curve_idxs = Set()\n",
    "while length(curve_idxs) < 12\n",
    "    push!(curve_idxs,rand(1:num_samples))\n",
    "end\n",
    "idx_list = [i for i in curve_idxs]\n",
    "for i in 1:numCars\n",
    "    roadind = RoadIndex(CurveIndex(idx_list[i],0),LaneTag(1,1))\n",
    "    vehstate = VehicleState(Frenet(roadind, track.roadway), track.roadway, 0.0)\n",
    "    vehdef = VehicleDef(i,AgentClass.CAR, car_length, car_width)\n",
    "    push!(scene,Vehicle(vehstate, vehdef))\n",
    "    k = rand(1:4)\n",
    "    carcolors[i] = colors[k]\n",
    "    track.models[i] = mapHRHC(i,track.roadway,context,h=12,v_max=100.0+rand(1:20),\n",
    "    μ=30.0 + rand(1:5),a_step=10.0 + rand(1:3),a_range=[-1,0,1],k=rand(1:4))\n",
    "end\n",
    "\n",
    "actions = Array(DriveAction, length(scene))\n",
    "\n",
    "track.obstacleMap = generateObstacleMap(scene, track.models)\n",
    "track;"
   ]
  },
  {
   "cell_type": "code",
   "execution_count": null,
   "metadata": {
    "collapsed": false
   },
   "outputs": [],
   "source": [
    "function drawsim(t, dt=NaN)\n",
    "    k_level = 0 # needs to be updated into a loop\n",
    "    for k_level in 0:maximum([model.k for (id,model) in track.models])\n",
    "        for (i, veh) in enumerate(scene)\n",
    "            model = track.models[veh.def.id]\n",
    "            observe!(model, scene, track.roadway, veh.def.id, track.tree, track.obstacleMap, k_level)\n",
    "            actions[i] = rand(model)\n",
    "        end\n",
    "    end\n",
    "    for (veh, action) in zip(scene, actions)\n",
    "        model = track.models[veh.def.id]\n",
    "        context = action_context(model)\n",
    "        veh.state = propagate(veh, action, context, track.roadway)\n",
    "    end\n",
    "    render(scene, track.roadway, cam=FitToContentCamera(), car_colors=carcolors)\n",
    "#     zoom = 3.0\n",
    "#     render(scene, track.roadway, cam=SceneFollowCamera(zoom), car_colors=carcolors)\n",
    "end"
   ]
  },
  {
   "cell_type": "code",
   "execution_count": null,
   "metadata": {
    "collapsed": false,
    "scrolled": false
   },
   "outputs": [],
   "source": [
    "ticks = fps(framerate)\n",
    "timestamps = map(_ -> time(), ticks)\n",
    "map(drawsim, timestamps)"
   ]
  },
  {
   "cell_type": "code",
   "execution_count": null,
   "metadata": {
    "collapsed": false
   },
   "outputs": [],
   "source": [
    "# using Reel\n",
    "# film = roll(drawsim, fps=framerate, duration=20)\n",
    "# write(\"Level3Overtake.gif\", film) # Write to a gif file"
   ]
  },
  {
   "cell_type": "code",
   "execution_count": null,
   "metadata": {
    "collapsed": false
   },
   "outputs": [],
   "source": []
  }
 ],
 "metadata": {
  "kernelspec": {
   "display_name": "Julia 0.5.0",
   "language": "julia",
   "name": "julia-0.5"
  },
  "language_info": {
   "file_extension": ".jl",
   "mimetype": "application/julia",
   "name": "julia",
   "version": "0.5.0"
  }
 },
 "nbformat": 4,
 "nbformat_minor": 0
}
