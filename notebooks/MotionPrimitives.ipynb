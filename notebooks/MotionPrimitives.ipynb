{
 "cells": [
  {
   "cell_type": "code",
   "execution_count": null,
   "metadata": {
    "collapsed": false
   },
   "outputs": [],
   "source": [
    "import PyPlot"
   ]
  },
  {
   "cell_type": "code",
   "execution_count": null,
   "metadata": {
    "collapsed": false
   },
   "outputs": [],
   "source": [
    "function MotionPrimitives(car_length,car_width,h,Δt,v_min,v_max,v_steps,δ_max,δ_min,δ_steps)\n",
    "    \"\"\"\n",
    "    Return a library of motion primitives (arcs of constant radius) representing short paths that the car can follow.\n",
    "    \"\"\"\n",
    "    # 3D array to store motion_primitives\n",
    "    motion_primitives = zeros(v_steps,2*δ_steps+1,2) # v: 0,...,99; δ: -45:45, (arc length, +/- radius)\n",
    "\n",
    "    v = linspace(v_min,v_max,v_steps)*ones(1,2*δ_steps+1)\n",
    "    δ = (linspace(-δ_max,δ_max,δ_steps*2+1)*ones(1,v_steps))' # steering angle\n",
    "\n",
    "    motion_primitives[:,:,1] = v*Δt*h # arc length = velocity * time\n",
    "    motion_primitives[:,:,2] = car_length./sin(δ) # radius of curvature (+ or -)\n",
    "    motion_primitives[:,1+δ_steps,2] = Inf; # radius of curvature is infinite if steering angle = 0\n",
    "\n",
    "    destination_primitives = zeros(v_steps,2*δ_steps+1,h,3) # lookup table defining car's location at each of next h time steps\n",
    "\n",
    "    for i = 1:h\n",
    "        # angle = 2π * arc_length / r\n",
    "        dθ = v*Δt*i ./ motion_primitives[:,:,2]\n",
    "\n",
    "        # dX = abs(radius) * sin(angle)\n",
    "        destination_primitives[:,:,i,1] = abs(motion_primitives[:,:,2]) .* sin(abs(dθ))\n",
    "        destination_primitives[:,1+δ_steps,i,1] = v[:,1+δ_steps]*Δt*i # centerline\n",
    "\n",
    "        # dY = radius * (1 - cos(angle))\n",
    "        destination_primitives[:,:,i,2] = motion_primitives[:,:,2].*(1 - cos(dθ))\n",
    "        destination_primitives[:,1+δ_steps,i,2] = 0 # centerline\n",
    "\n",
    "        destination_primitives[:,:,i,3] = dθ\n",
    "    end\n",
    "\n",
    "    # destination_primitives[v, δ, h, 1=Δx,2=Δy,3=Δθ]= changes in x, y and θ after h time steps\n",
    "    \n",
    "    return v, δ, destination_primitives\n",
    "end"
   ]
  },
  {
   "cell_type": "code",
   "execution_count": null,
   "metadata": {
    "collapsed": false
   },
   "outputs": [],
   "source": [
    "car_length = 4.8\n",
    "car_width = 1.5\n",
    "h = 10\n",
    "Δt = 1/24.0\n",
    "v_min = 0.0\n",
    "v_max = 100.0\n",
    "δ_max = Float64(π)/6.0\n",
    "δ_min = -δ_max\n"
   ]
  },
  {
   "cell_type": "code",
   "execution_count": null,
   "metadata": {
    "collapsed": false
   },
   "outputs": [],
   "source": [
    "δ_step = Float64(π)/128\n",
    "\n",
    "ΔT = 2.5 # seconds\n",
    "ΔV = 60*1600/3600 # 0->60 mph = 0->26.6 m/s\n",
    "a_max = ΔV/ΔT # maximum acceleration = 10.66 m/s^2\n",
    "v_step = a_max*Δt"
   ]
  },
  {
   "cell_type": "code",
   "execution_count": null,
   "metadata": {
    "collapsed": false
   },
   "outputs": [],
   "source": [
    "a_max"
   ]
  },
  {
   "cell_type": "code",
   "execution_count": null,
   "metadata": {
    "collapsed": false,
    "scrolled": true
   },
   "outputs": [],
   "source": [
    "\"\"\"\n",
    "Return a library of motion primitives (arcs of constant radius) representing short paths that the car can follow.\n",
    "\"\"\"\n",
    "# 3D array to store motion_primitives\n",
    "# radius = zeros(v_steps,2*δ_steps+1) # v: 0,...,99; δ: -45:45, (arc length, +/- radius)\n",
    "\n",
    "v = linspace(v_min,v_max,round(v_max/v_step))*ones(1,2*Int(round((δ_max)/δ_step))+1) # velocity\n",
    "δ = (linspace(-δ_max,δ_max,2*round((δ_max)/δ_step)+1)*ones(1,Int(round(v_max/v_step))))' # steering angle\n",
    "\n",
    "radius = car_length./sin(δ) # radius of curvature (+ or -)\n",
    "radius[:,Int(round((δ_max)/δ_step))+1] = Inf; # radius of curvature is infinite if steering angle = 0\n",
    "\n",
    "destination_primitives = zeros(size(v,1),size(v,2),3,h,3)\n",
    "\n",
    "accels = [-a_max,0,a_max]\n",
    "for j in 1:3\n",
    "    v₀ = copy(v)\n",
    "    a = accels[j]\n",
    "    for i = 1:h\n",
    "        vᵢ = v₀+a*i*Δt # velocity at end of time step\n",
    "        tire_force = sqrt((((vᵢ).^2)./abs(radius)).^2 + a^2) # tire force must be less than μ*g\n",
    "        v_threshold = ones(size(v,1),1)*maximum(vᵢ.*(tire_force .< μ*g), 1)\n",
    "        vᵢ = min(vᵢ,v_threshold)\n",
    "        Δs = max((v₀+vᵢ)/2.0, 0.0)*i*Δt\n",
    "        \n",
    "        Δθ = Δs./radius # change in heading\n",
    "        v₀[1:end-i,:] = v[i+1:end,:] # increase v₀ by one step for next round\n",
    "\n",
    "        # dX = abs(radius) * sin(angle)\n",
    "        destination_primitives[:,:,j,i,1] = abs(radius) .* sin(abs(Δθ))\n",
    "        destination_primitives[:,Int(round((δ_max)/δ_step))+1,j,i,1] = Δs[:,Int(round((δ_max)/δ_step))+1] # centerline\n",
    "\n",
    "        # dY = radius * (1 - cos(angle))\n",
    "        destination_primitives[:,:,j,i,2] = radius.*(1 - cos(Δθ))\n",
    "        destination_primitives[:,Int(round((δ_max)/δ_step))+1,j,i,2] = 0 # centerline\n",
    "\n",
    "        destination_primitives[:,:,j,i,3] = Δθ\n",
    "    end\n",
    "end"
   ]
  },
  {
   "cell_type": "code",
   "execution_count": null,
   "metadata": {
    "collapsed": false
   },
   "outputs": [],
   "source": [
    "function MotionPrimitivesAcceleration(wheel_base,h,Δt,v_min,v_max,v_step,δ_min,δ_max,δ_step)\n",
    "    \"\"\"\n",
    "    Return a library of motion primitives (arcs of constant radius) representing short paths that the car can follow.\n",
    "    \"\"\"\n",
    "    # 3D array to store motion_primitives\n",
    "    # radius = zeros(v_steps,2*δ_steps+1) # v: 0,...,99; δ: -45:45, (arc length, +/- radius)\n",
    "\n",
    "    v = linspace(v_min,v_max,round(v_max/v_step))*ones(1,2*Int(round((δ_max)/δ_step))+1) # velocity\n",
    "    δ = (linspace(-δ_max,δ_max,2*round((δ_max)/δ_step)+1)*ones(1,Int(round(v_max/v_step))))' # steering angle\n",
    "\n",
    "    radius = wheel_base./sin(δ) # radius of curvature (+ or -)\n",
    "    radius[:,Int(round((δ_max)/δ_step))+1] = Inf; # radius of curvature is infinite if steering angle = 0\n",
    "\n",
    "    destination_primitives = zeros(size(v,1),size(v,2),3,h,3)\n",
    "\n",
    "    accels = [-a_max,0,a_max]\n",
    "    for j in 1:3\n",
    "        v₀ = copy(v)\n",
    "        a = accels[j]\n",
    "        for i = 1:h\n",
    "            vᵢ = max(v₀+a*i*Δt, 0.0) # velocity at end of time step\n",
    "            tire_force = sqrt((((vᵢ).^2)./abs(radius)).^2 + a^2) # tire force must be less than μ*g\n",
    "            v_threshold = ones(size(v,1),1)*maximum(vᵢ.*(tire_force .< μ*g), 1)\n",
    "            vᵢ = min(vᵢ,v_threshold)\n",
    "            Δs = max((v₀+vᵢ)/2.0, 0.0)*i*Δt\n",
    "\n",
    "            Δθ = Δs./radius # change in heading\n",
    "            if j == 3 # accel = -1\n",
    "                v₀[1:end-i,:] = v[i+1:end,:] # increase v₀ by one step for next round\n",
    "            elseif j == 1 # accel = +1\n",
    "                v₀[i+1:end,:] = v[1:end-i,:] # increase v₀ by one step for next round\n",
    "            end\n",
    "            # dX = abs(radius) * sin(angle)\n",
    "            destination_primitives[:,:,j,i,1] = abs(radius) .* sin(abs(Δθ))\n",
    "            destination_primitives[:,Int(round((δ_max)/δ_step))+1,j,i,1] = Δs[:,Int(round((δ_max)/δ_step))+1] # centerline\n",
    "\n",
    "            # dY = radius * (1 - cos(angle))\n",
    "            destination_primitives[:,:,j,i,2] = radius.*(1 - cos(Δθ))\n",
    "            destination_primitives[:,Int(round((δ_max)/δ_step))+1,j,i,2] = 0 # centerline\n",
    "\n",
    "            destination_primitives[:,:,j,i,3] = Δθ\n",
    "        end\n",
    "    end\n",
    "    tire_force = sqrt((((v).^2)./abs(radius)).^2) # tire force must be less than μ*g\n",
    "    mask = (tire_force .< μ*g)\n",
    "    v_threshold = ones(size(v,1),1)*maximum(v.*mask, 1)\n",
    "    v = min(v,v_threshold)\n",
    "    \n",
    "    return v, δ, destination_primitives, mask\n",
    "end"
   ]
  },
  {
   "cell_type": "code",
   "execution_count": null,
   "metadata": {
    "collapsed": false
   },
   "outputs": [],
   "source": [
    "function MotionPrimitivesAcceleration(wheel_base,h,Δt,v_min,v_max,v_step,δ_min,δ_max,δ_step)\n",
    "    \"\"\"\n",
    "    Return a library of motion primitives (arcs of constant radius) representing short paths that the car can follow.\n",
    "    \"\"\"\n",
    "    # 3D array to store motion_primitives\n",
    "    # radius = zeros(v_steps,2*δ_steps+1) # v: 0,...,99; δ: -45:45, (arc length, +/- radius)\n",
    "\n",
    "    v = linspace(v_min,v_max,round(v_max/v_step))*ones(1,2*Int(round((δ_max)/δ_step))+1) # velocity\n",
    "    δ = (linspace(-δ_max,δ_max,2*round((δ_max)/δ_step)+1)*ones(1,Int(round(v_max/v_step))))' # steering angle\n",
    "\n",
    "    radius = wheel_base./sin(δ) # radius of curvature (+ or -)\n",
    "    radius[:,Int(round((δ_max)/δ_step))+1] = Inf; # radius of curvature is infinite if steering angle = 0\n",
    "    \n",
    "    n_actions = 3 # slow down, stay, speed up\n",
    "    destination_primitives = zeros(size(v,1),size(v,2),n_actions,h,3)\n",
    "\n",
    "    accels = [-a_max,0,a_max]\n",
    "    for j in 1:3\n",
    "        v₀ = copy(v)\n",
    "        a = accels[j]\n",
    "        for i = 1:h\n",
    "            vᵢ = max(v₀+a*i*Δt, 0.0) # velocity at end of time step\n",
    "            tire_force = sqrt((((vᵢ).^2)./abs(radius)).^2 + a^2) # tire force must be less than μ*g\n",
    "            v_threshold = ones(size(v,1),1)*maximum(vᵢ.*(tire_force .< μ*g), 1)\n",
    "            vᵢ = min(vᵢ,v_threshold)\n",
    "            Δs = max((v₀+vᵢ)/2.0, 0.0)*i*Δt\n",
    "\n",
    "            Δθ = Δs./radius # change in heading\n",
    "            if j == 3 # accel = -1\n",
    "                v₀[1:end-i,:] = v[i+1:end,:] # increase v₀ by one step for next round\n",
    "            elseif j == 1 # accel = +1\n",
    "                v₀[i+1:end,:] = v[1:end-i,:] # increase v₀ by one step for next round\n",
    "            end\n",
    "            # dX = abs(radius) * sin(angle)\n",
    "            destination_primitives[:,:,j,i,1] = abs(radius) .* sin(abs(Δθ))\n",
    "            destination_primitives[:,Int(round((δ_max)/δ_step))+1,j,i,1] = Δs[:,Int(round((δ_max)/δ_step))+1] # centerline\n",
    "\n",
    "            # dY = radius * (1 - cos(angle))\n",
    "            destination_primitives[:,:,j,i,2] = radius.*(1 - cos(Δθ))\n",
    "            destination_primitives[:,Int(round((δ_max)/δ_step))+1,j,i,2] = 0 # centerline\n",
    "\n",
    "            destination_primitives[:,:,j,i,3] = Δθ\n",
    "        end\n",
    "    end\n",
    "    \n",
    "    tire_force = sqrt((((v).^2)./abs(radius)).^2) # tire force must be less than μ*g\n",
    "    mask = (tire_force .< μ*g)\n",
    "    v_threshold = ones(size(v,1),1)*maximum(v.*mask, 1)\n",
    "    v = min(v,v_threshold)\n",
    "    motion_map = Dict()\n",
    "    for i in 1:size(v,1) # motion_map[i] contains the reachable states from v[i]\n",
    "        motion_map[i] = destination_primitives[i,:,:,:,:]\n",
    "    end\n",
    "    \n",
    "    return v, δ, destination_primitives, motion_map, mask\n",
    "end"
   ]
  },
  {
   "cell_type": "code",
   "execution_count": null,
   "metadata": {
    "collapsed": false
   },
   "outputs": [],
   "source": [
    "v, δ, destination_primitives, motion_map, mask = MotionPrimitivesAcceleration(car_length,h,Δt,v_min,v_max,v_step,δ_min,δ_max,δ_step)\n",
    "destination_primitives;"
   ]
  },
  {
   "cell_type": "code",
   "execution_count": null,
   "metadata": {
    "collapsed": false
   },
   "outputs": [],
   "source": [
    "v_idx = 3\n",
    "δ_idx = 21\n",
    "a_idx = 1\n",
    "ΔXYθ = motion_map[v_idx][:,:,10,:]\n",
    "trajectory = motion_map[v_idx][δ_idx,a_idx,:,:]\n",
    "PyPlot.scatter(ΔXYθ[:,:,2],ΔXYθ[:,:,1],edgecolor=\"none\")\n",
    "PyPlot.scatter(trajectory[:,2],trajectory[:,1],c=\"red\")\n",
    "PyPlot.axis(\"equal\")"
   ]
  },
  {
   "cell_type": "code",
   "execution_count": null,
   "metadata": {
    "collapsed": false
   },
   "outputs": [],
   "source": [
    "radius = car_length./sin(δ) # radius of curvature (+ or -)\n",
    "# mask for tire saturation\n",
    "tire_force⁺ = sqrt(((v₀.^2)./abs(radius)).^2 + a_max^2)\n",
    "tire_force⁰ = sqrt(((v₀.^2)./abs(radius)).^2 + 0)\n",
    "tire_force⁻ = sqrt(((v₀.^2)./abs(radius)).^2 + a_max^2)\n",
    "\n",
    "# Plot tire force saturation threshold\n",
    "PyPlot.figure(figsize=[12,4])\n",
    "PyPlot.subplot(1,3,1)\n",
    "PyPlot.title(\"Tire Forces +\")\n",
    "PyPlot.scatter(δ[tire_force⁺ .< μ*g]*180.0/Float64(π),v[tire_force⁺ .< μ*g],c=tire_force⁺[tire_force⁺ .< μ*g],edgecolor=\"none\")\n",
    "PyPlot.xlabel(\"Steering Angle (degrees)\")\n",
    "PyPlot.ylabel(\"Tangential Velocity (m/s)\")\n",
    "PyPlot.axis(\"tight\")\n",
    "PyPlot.subplot(1,3,2)\n",
    "PyPlot.title(\"Tire Forces 0\")\n",
    "PyPlot.scatter(δ[tire_force⁰ .< μ*g]*180.0/Float64(π),v[tire_force⁰ .< μ*g],c=tire_force⁰[tire_force⁰ .< μ*g],edgecolor=\"none\")\n",
    "PyPlot.xlabel(\"Steering Angle (degrees)\")\n",
    "# PyPlot.ylabel(\"Tangential Velocity (m/s)\")\n",
    "PyPlot.axis(\"tight\")\n",
    "PyPlot.subplot(1,3,3)\n",
    "PyPlot.title(\"Tire Forces -\")\n",
    "PyPlot.scatter(δ[tire_force⁻ .< μ*g]*180.0/Float64(π),v[tire_force⁻ .< μ*g],c=tire_force⁻[tire_force⁻ .< μ*g],edgecolor=\"none\")\n",
    "PyPlot.xlabel(\"Steering Angle (degrees)\")\n",
    "# PyPlot.ylabel(\"Tangential Velocity (m/s)\")\n",
    "PyPlot.axis(\"tight\")"
   ]
  },
  {
   "cell_type": "code",
   "execution_count": null,
   "metadata": {
    "collapsed": false
   },
   "outputs": [],
   "source": [
    "PyPlot.scatter(δ[tire_force⁰ .< μ*g],v[tire_force⁰ .< μ*g],c=tire_force⁰[tire_force⁰ .< μ*g],edgecolor=\"none\")"
   ]
  },
  {
   "cell_type": "code",
   "execution_count": null,
   "metadata": {
    "collapsed": false,
    "scrolled": false
   },
   "outputs": [],
   "source": [
    "# v_threshold = ones(size(v,1),1)*maximum(v₀.*(tire_force⁰ .< μ*g),1)\n",
    "# v₀[1:end-1,:] = v[1+1:end,:]\n",
    "# v₀ = min(v₀,v_threshold)\n",
    "PyPlot.scatter(δ,v,edgecolor=\"none\",c=v)"
   ]
  },
  {
   "cell_type": "markdown",
   "metadata": {},
   "source": [
    "## Modify HRHC parameters"
   ]
  },
  {
   "cell_type": "code",
   "execution_count": 1,
   "metadata": {
    "collapsed": false
   },
   "outputs": [
    {
     "name": "stderr",
     "output_type": "stream",
     "text": [
      "/Users/kyle/anaconda/lib/python2.7/site-packages/matplotlib/font_manager.py:273: UserWarning: Matplotlib is building the font cache using fc-list. This may take a moment.\n",
      "  warnings.warn('Matplotlib is building the font cache using fc-list. This may take a moment.')\n"
     ]
    }
   ],
   "source": [
    "using AutomotiveDrivingModels\n",
    "using AutoViz\n",
    "using SplineRaceWay\n",
    "using SplineUtils\n",
    "using NearestNeighbors"
   ]
  },
  {
   "cell_type": "code",
   "execution_count": 2,
   "metadata": {
    "collapsed": false
   },
   "outputs": [
    {
     "data": {
      "text/plain": [
       "wrap_to_π (generic function with 1 method)"
      ]
     },
     "execution_count": 2,
     "metadata": {},
     "output_type": "execute_result"
    }
   ],
   "source": [
    "function CurveDist(pt1::CurvePt, pt2::CurvePt)\n",
    "    d = sqrt((pt1.pos.x - pt2.pos.x)^2 + (pt1.pos.y - pt2.pos.y)^2)\n",
    "end\n",
    "function wrap_to_π(θ)\n",
    "    θ = θ - div(θ,2*Float64(π))*(2*Float64(π))\n",
    "    θ = θ + (θ .< -π).*(2*Float64(π)) - (θ .> π).*(2*Float64(π))\n",
    "end"
   ]
  },
  {
   "cell_type": "code",
   "execution_count": 3,
   "metadata": {
    "collapsed": false
   },
   "outputs": [],
   "source": [
    "type accelHRHC <: DriverModel{NextState, IntegratedContinuous}\n",
    "    action_context::IntegratedContinuous\n",
    "    v_cmds # possible velocity commands\n",
    "    δ_cmds # possible δ_cmds\n",
    "    ΔXYθ # state changes associated with cmd = (v_command, δ_command) - this is the motion map\n",
    "    eligibility_mask # logical array with zeros at locations of tire force saturation\n",
    "    v_idx::Int # index of v in v_cmds\n",
    "    δ_idx::Int # index of δ in δ_cmds\n",
    "    successor_states # reachable next_states\n",
    "\n",
    "    #car parameters with bicycle geometry model\n",
    "    car_length::Float64 # wheel base\n",
    "    car_width::Float64\n",
    "    car_ID::Int\n",
    "\n",
    "    # current v, current δ\n",
    "    v::Float64\n",
    "    δ::Float64\n",
    "    curve_ind::Int\n",
    "    Δs::Float64\n",
    "\n",
    "    # planning horizon\n",
    "    h::Int\n",
    "    Δt::Float64\n",
    "\n",
    "    # logit level\n",
    "    k::Int\n",
    "\n",
    "    V_MIN::Float64\n",
    "    V_MAX::Float64\n",
    "    \n",
    "    a_max::Float64 # max acceleration (m/s)\n",
    "    μ::Float64 # friction coefficient\n",
    "\n",
    "    # maximum deviation from center of track (if |t| > T_MAX, car is out of bounds)\n",
    "    T_MAX::Float64\n",
    "\n",
    "    # Action = Next State\n",
    "    action::NextState\n",
    "\n",
    "    function accelHRHC(car_ID::Int,roadway,context;\n",
    "        car_length::Float64=4.8,\n",
    "        car_width::Float64=2.5,\n",
    "        v::Float64=0.0,\n",
    "        δ::Float64=0.0,\n",
    "        h::Int=10,\n",
    "        Δt::Float64=1.0/24,\n",
    "        ΔV₊::Float64=1.55,\n",
    "        ΔV₋::Float64=3.05,\n",
    "        Δδ::Float64=Float64(π)/12,\n",
    "        V_MIN::Float64=0.0,\n",
    "        V_MAX::Float64=100.0,\n",
    "        a_max::Float64=10.0,\n",
    "        μ::Float64=20.0,\n",
    "        g::Float64=9.81,\n",
    "        δ_MAX::Float64=Float64(π)/8,\n",
    "        δ_MIN::Float64=-Float64(π)/8,\n",
    "        δ_STEP::Float64=Float64(π)/64,\n",
    "        k::Int=1\n",
    "        )\n",
    "\n",
    "        hrhc = new()\n",
    "\n",
    "        hrhc.V_MIN=V_MIN\n",
    "        hrhc.V_MAX=V_MAX\n",
    "        \n",
    "        hrhc.T_MAX=(roadway.segments[1].lanes[1].width - car_width)/2.0\n",
    "\n",
    "        hrhc.car_ID = car_ID\n",
    "        hrhc.car_length=car_length\n",
    "        hrhc.car_width=car_width\n",
    "        hrhc.h=h\n",
    "        hrhc.Δt=Δt\n",
    "        hrhc.a_max=a_max\n",
    "        hrhc.μ=μ\n",
    "\n",
    "        hrhc.k=k\n",
    "        v_step = a_max*Δt\n",
    "\n",
    "        hrhc.v_cmds, hrhc.δ_cmds, _, hrhc.ΔXYθ, hrhc.eligibility_mask  = MotionPrimitivesAcceleration(car_length,h,Δt,V_MIN,V_MAX,a_max,v_step,δ_MIN,δ_MAX,δ_STEP,μ,g)\n",
    "\n",
    "        hrhc.v=v\n",
    "        hrhc.δ=δ\n",
    "        hrhc.v_idx = 1\n",
    "        hrhc.δ_idx = Int((size(hrhc.δ_cmds, 2) - 1)/2)\n",
    "        hrhc.curve_ind=1\n",
    "        hrhc.Δs=roadway.segments[1].lanes[1].curve[2].s-roadway.segments[1].lanes[1].curve[1].s\n",
    "        hrhc.action_context=context\n",
    "        hrhc.action = NextState(VehicleState(VecSE2(0,0,0),0.0))\n",
    "\n",
    "        hrhc\n",
    "    end\n",
    "end"
   ]
  },
  {
   "cell_type": "code",
   "execution_count": 4,
   "metadata": {
    "collapsed": false
   },
   "outputs": [
    {
     "data": {
      "text/plain": [
       "getObstacleCoords (generic function with 1 method)"
      ]
     },
     "execution_count": 4,
     "metadata": {},
     "output_type": "execute_result"
    }
   ],
   "source": [
    "function generateObstacleMap(scene, models)\n",
    "    k = maximum([driver.k for (id, driver) in models])\n",
    "    n = length(scene)\n",
    "    h = maximum([driver.h for (id, driver) in models]) # h should be the same for all vehicles on the track\n",
    "    obstacleDict = Dict()\n",
    "    for level in 0:k\n",
    "        obstacleDict[level] = Dict()\n",
    "        for (id, driver) in models\n",
    "            obstacleDict[level][id] = zeros(h,5) # x,y,θ,v,δ\n",
    "        end\n",
    "    end\n",
    "\n",
    "    return obstacleDict\n",
    "end\n",
    "function updateObstacleMap!(obstacleMap, level, car_ID, trajectory)\n",
    "    obstacleMap[level][car_ID][1:size(trajectory,1),1:size(trajectory,2)] = trajectory\n",
    "end\n",
    "function getObstacleCoords(obstacleMap, level, car_ID, h)\n",
    "    return obstacleMap[level][car_ID][h,:]\n",
    "end"
   ]
  },
  {
   "cell_type": "code",
   "execution_count": 5,
   "metadata": {
    "collapsed": false
   },
   "outputs": [
    {
     "data": {
      "text/plain": [
       "MotionPrimitivesAcceleration (generic function with 1 method)"
      ]
     },
     "execution_count": 5,
     "metadata": {},
     "output_type": "execute_result"
    }
   ],
   "source": [
    "function MotionPrimitivesAcceleration(wheel_base,h,Δt,v_min,v_max,a_max,v_step,δ_min,δ_max,δ_step,μ,g)\n",
    "    \"\"\"\n",
    "    Return a library of motion primitives (arcs of constant radius) representing short paths that the car can follow.\n",
    "    \"\"\"\n",
    "    # 3D array to store motion_primitives\n",
    "    # radius = zeros(v_steps,2*δ_steps+1) # v: 0,...,99; δ: -45:45, (arc length, +/- radius)\n",
    "\n",
    "    v = linspace(v_min,v_max,round(v_max/v_step))*ones(1,2*Int(round((δ_max)/δ_step))+1) # velocity\n",
    "    δ = (linspace(-δ_max,δ_max,2*round((δ_max)/δ_step)+1)*ones(1,Int(round(v_max/v_step))))' # steering angle\n",
    "\n",
    "    radius = wheel_base./sin(δ) # radius of curvature (+ or -)\n",
    "    radius[:,Int(round((δ_max)/δ_step))+1] = Inf; # radius of curvature is infinite if steering angle = 0\n",
    "    \n",
    "    n_actions = 3 # slow down, stay, speed up\n",
    "    destination_primitives = zeros(size(v,1),size(v,2),n_actions,h,3)\n",
    "\n",
    "    accels = [-a_max,0,a_max]\n",
    "    for j in 1:3\n",
    "        v₀ = copy(v)\n",
    "        a = accels[j]\n",
    "        for i = 1:h\n",
    "            vᵢ = max(v₀+a*i*Δt, 0.0) # velocity at end of time step\n",
    "            tire_force = sqrt((((vᵢ).^2)./abs(radius)).^2 + a^2) # tire force must be less than μ*g\n",
    "            v_threshold = ones(size(v,1),1)*maximum(vᵢ.*(tire_force .< μ*g), 1)\n",
    "            vᵢ = min(vᵢ,v_threshold)\n",
    "            Δs = max((v₀+vᵢ)/2.0, 0.0)*i*Δt\n",
    "\n",
    "            Δθ = Δs./radius # change in heading\n",
    "            if j == 3 # accel = -1\n",
    "                v₀[1:end-i,:] = v[i+1:end,:] # increase v₀ by one step for next round\n",
    "            elseif j == 1 # accel = +1\n",
    "                v₀[i+1:end,:] = v[1:end-i,:] # increase v₀ by one step for next round\n",
    "            end\n",
    "            # dX = abs(radius) * sin(angle)\n",
    "            destination_primitives[:,:,j,i,1] = abs(radius) .* sin(abs(Δθ))\n",
    "            destination_primitives[:,Int(round((δ_max)/δ_step))+1,j,i,1] = Δs[:,Int(round((δ_max)/δ_step))+1] # centerline\n",
    "\n",
    "            # dY = radius * (1 - cos(angle))\n",
    "            destination_primitives[:,:,j,i,2] = radius.*(1 - cos(Δθ))\n",
    "            destination_primitives[:,Int(round((δ_max)/δ_step))+1,j,i,2] = 0 # centerline\n",
    "\n",
    "            destination_primitives[:,:,j,i,3] = Δθ\n",
    "        end\n",
    "    end\n",
    "    \n",
    "    tire_force = sqrt((((v).^2)./abs(radius)).^2) # tire force must be less than μ*g\n",
    "    mask = (tire_force .< μ*g)\n",
    "    v_threshold = ones(size(v,1),1)*maximum(v.*mask, 1)\n",
    "    v = min(v,v_threshold)\n",
    "    motion_map = Dict()\n",
    "    for i in 1:size(v,1) # motion_map[i] contains the reachable states from v[i]\n",
    "        motion_map[i] = destination_primitives[i,:,:,:,:]\n",
    "    end\n",
    "    \n",
    "    return v, δ, destination_primitives, motion_map, mask\n",
    "end"
   ]
  },
  {
   "cell_type": "code",
   "execution_count": 6,
   "metadata": {
    "collapsed": false
   },
   "outputs": [
    {
     "data": {
      "text/plain": [
       "getSuccessorStates! (generic function with 1 method)"
      ]
     },
     "execution_count": 6,
     "metadata": {},
     "output_type": "execute_result"
    }
   ],
   "source": [
    "function getSuccessorStates!(hrhc::accelHRHC, scene::Scene)\n",
    "    \"\"\" gets legal successor_states from motion primitives library \"\"\"\n",
    "    pos = scene.vehicles[hrhc.car_ID].state.posG # global x,y,z of car\n",
    "\n",
    "    ΔX = hrhc.ΔXYθ[hrhc.v_idx][:,:,:,1] * cos(pos.θ) + hrhc.ΔXYθ[hrhc.v_idx][:,:,:,2] * -sin(pos.θ)\n",
    "    ΔY = hrhc.ΔXYθ[hrhc.v_idx][:,:,:,1] * sin(pos.θ) + hrhc.ΔXYθ[hrhc.v_idx][:,:,:,2] * cos(pos.θ)\n",
    "    Δθ = hrhc.ΔXYθ[hrhc.v_idx][:,:,:,3]\n",
    "\n",
    "    hrhc.successor_states = zeros(size(hrhc.ΔXYθ[hrhc.v_idx]))\n",
    "    hrhc.successor_states[:,:,:,1] = ΔX + pos.x\n",
    "    hrhc.successor_states[:,:,:,2] = ΔY + pos.y\n",
    "    hrhc.successor_states[:,:,:,3] = Δθ + pos.θ\n",
    "\n",
    "    return\n",
    "end"
   ]
  },
  {
   "cell_type": "code",
   "execution_count": 7,
   "metadata": {
    "collapsed": false
   },
   "outputs": [
    {
     "data": {
      "text/plain": [
       "computeTrajectory (generic function with 1 method)"
      ]
     },
     "execution_count": 7,
     "metadata": {},
     "output_type": "execute_result"
    }
   ],
   "source": [
    "function computeTrajectory(hrhc::accelHRHC, scene, cmd_index; h=hrhc.h)\n",
    "    pos = scene.vehicles[hrhc.car_ID].state.posG\n",
    "\n",
    "    traj_ΔXYθ = hrhc.ΔXYθ[hrhc.v_idx][cmd_index[2],cmd_index[1],1:h,:]\n",
    "\n",
    "    ΔX = traj_ΔXYθ[:,1] * cos(pos.θ) + traj_ΔXYθ[:,2] * -sin(pos.θ)\n",
    "    ΔY = traj_ΔXYθ[:,1] * sin(pos.θ) + traj_ΔXYθ[:,2] * cos(pos.θ)\n",
    "    Δθ = traj_ΔXYθ[:,3]\n",
    "\n",
    "    trajectory = zeros(size(traj_ΔXYθ,1),size(traj_ΔXYθ,2)+2)\n",
    "    trajectory[:,1] = ΔX + pos.x\n",
    "    trajectory[:,2] = ΔY + pos.y\n",
    "    trajectory[:,3] = Δθ + pos.θ\n",
    "    trajectory[:,4] = hrhc.v_cmds[cmd_index[1],cmd_index[2]]\n",
    "    trajectory[:,5] = hrhc.δ_cmds[cmd_index[1],cmd_index[2]]\n",
    "\n",
    "    return trajectory\n",
    "end"
   ]
  },
  {
   "cell_type": "code",
   "execution_count": 8,
   "metadata": {
    "collapsed": false
   },
   "outputs": [
    {
     "data": {
      "text/plain": [
       "loopProjectionKD (generic function with 1 method)"
      ]
     },
     "execution_count": 8,
     "metadata": {},
     "output_type": "execute_result"
    }
   ],
   "source": [
    "function loopProjectionKD(hrhc::accelHRHC,scene,roadway,tree)\n",
    "    \"\"\"\n",
    "    projects all points in hrhc.successor_states to the kdtree representing\n",
    "    the spline points along the centerline of roadway\n",
    "    \"\"\"\n",
    "    curve = roadway.segments[1].lanes[1].curve\n",
    "\n",
    "    s_grid = zeros(size(hrhc.successor_states,1),size(hrhc.successor_states,2))\n",
    "    t_grid = zeros(size(s_grid))\n",
    "    ϕ_grid = zeros(size(s_grid))\n",
    "    idx_grid = zeros(Int,size(s_grid))\n",
    "\n",
    "    pts = [reshape(hrhc.successor_states[:,:,1],size(hrhc.successor_states[:,:,1],1)*size(hrhc.successor_states[:,:,1],2),1)';\n",
    "    reshape(hrhc.successor_states[:,:,2],size(hrhc.successor_states[:,:,2],1)*size(hrhc.successor_states[:,:,2],2),1)']\n",
    "    idxs_list, _ = knn(tree,pts,1)\n",
    "    idxs=reshape(idxs_list,size(hrhc.successor_states[:,:,2],1),size(hrhc.successor_states[:,:,2],2))\n",
    "\n",
    "\n",
    "    for i in 1:size(s_grid,1)\n",
    "        for j in 1:size(s_grid,2)\n",
    "            idxA = idxs[i,j][1]-1\n",
    "            idxB = idxs[i,j][1]+1\n",
    "            if idxs[i,j][1] == length(curve)\n",
    "                idxB = 1 # wrap to the beginning of the curve\n",
    "            end\n",
    "            if idxs[i,j][1] == 1\n",
    "                idxA = length(curve) # wrap to the end of the curve\n",
    "            end\n",
    "            x = hrhc.successor_states[i,j,1]\n",
    "            y = hrhc.successor_states[i,j,2]\n",
    "            dA = sqrt(sum(([curve[idxA].pos.x, curve[idxA].pos.y]-[x,y]).^2))\n",
    "            dB = sqrt(sum(([curve[idxB].pos.x, curve[idxB].pos.y]-[x,y]).^2))\n",
    "            if dA < dB\n",
    "                idxB = idxs[i,j][1]\n",
    "            else\n",
    "                idxA = idxs[i,j][1]\n",
    "            end\n",
    "\n",
    "            # project\n",
    "            vec1 = [curve[idxB].pos.x - curve[idxA].pos.x, curve[idxB].pos.y - curve[idxA].pos.y, 0]\n",
    "            vec2 = [x - curve[idxA].pos.x, y - curve[idxA].pos.y, 0]\n",
    "            idx_t = dot(vec2, vec1)/norm(vec1)^2\n",
    "\n",
    "            s_θ = curve[idxA].pos.θ + idx_t*(curve[idxB].pos.θ - curve[idxA].pos.θ)\n",
    "\n",
    "            s_grid[i,j] = curve[idxA].s + idx_t*hrhc.Δs\n",
    "            t_grid[i,j] = norm(vec2 - idx_t*vec1)*sign(sum(cross(vec1, vec2)))\n",
    "            ϕ_grid[i,j] = wrap_to_π(hrhc.successor_states[i,j,3] - s_θ)\n",
    "            idx_grid[i,j] = idxA\n",
    "        end\n",
    "    end\n",
    "    # account for wrap-around\n",
    "    s_grid[s_grid .< scene.vehicles[hrhc.car_ID].state.posF.s] += curve[end].s + hrhc.Δs\n",
    "\n",
    "    return s_grid, t_grid, ϕ_grid\n",
    "end"
   ]
  },
  {
   "cell_type": "code",
   "execution_count": 9,
   "metadata": {
    "collapsed": false
   },
   "outputs": [
    {
     "data": {
      "text/plain": [
       "calculateObjective (generic function with 1 method)"
      ]
     },
     "execution_count": 9,
     "metadata": {},
     "output_type": "execute_result"
    }
   ],
   "source": [
    "function calculateObjective(hrhc::accelHRHC, scene, roadway, tree, s, t, ϕ, obstacleMap, k_level, h; f_ϕ=0.0, f_t=0.1, f_tϕ=3.0)\n",
    "    \"\"\"\n",
    "    Calculates the value of the optimization objective function for every state\n",
    "      in hrhc.successor_states\n",
    "    \"\"\"\n",
    "    state = scene.vehicles[hrhc.car_ID].state\n",
    "    dS = s - state.posF.s\n",
    "    dS = dS / maximum(dS) # normalize\n",
    "    ϕMAX = Float64(π)/2\n",
    "\n",
    "    # penalize large t (proximity to edge of track)\n",
    "    cost_t = (exp(((10-h+f_t)*abs(t/hrhc.T_MAX).^2)) - 1)/exp(f_t) + Inf*(t.>hrhc.T_MAX)\n",
    "    # penalize large ϕ (steering away from forward direction on the track)\n",
    "    cost_ϕ = (exp(((10-h+f_ϕ)*abs(ϕ/ϕMAX).^2)) - 1)/exp(f_ϕ)\n",
    "    # penalize when t and ϕ have the same sign\n",
    "    A = [1 1; 1 1]\n",
    "    cost_x = (((ϕ/ϕMAX)*A[1,1] + (t/hrhc.T_MAX)*A[2,1]).*(ϕ/ϕMAX) + ((ϕ/ϕMAX)*A[1,2] + (t/hrhc.T_MAX)*A[2,2]).*(t/hrhc.T_MAX))/2\n",
    "    cost_tϕ = (exp(f_tϕ*cost_x) - 1)/exp(1)\n",
    "    eligibility_mask = ((hrhc.successor_states[:,:,1] .== state.posG.x).*(hrhc.successor_states[:,:,2] .== state.posG.y))\n",
    "\n",
    "    # obstacles\n",
    "    collisionCost = zeros(size(cost_t))\n",
    "    threshold_dist = hrhc.car_length*4 # must be at least this close before we care to calculate collision cost\n",
    "    if k_level >= 1\n",
    "        for (id,car) in obstacleMap[k_level - 1]\n",
    "            if id != hrhc.car_ID\n",
    "                state = scene.vehicles[hrhc.car_ID].state\n",
    "                state2 = scene.vehicles[id].state\n",
    "                diff = state.posG - state2.posG\n",
    "                s1,_,_ = kdProject(state.posG.x,state.posG.y,state.posG.θ,tree,roadway,hrhc)\n",
    "                s2,_,_ = kdProject(state2.posG.x,state2.posG.y,state2.posG.θ,tree,roadway,hrhc)\n",
    "                if (norm([diff.x, diff.y]) < threshold_dist) && (s1 <= s2) # don't care if opponent is behind us\n",
    "                    pos = VecSE2(car[h,1:3]) # x,y,θ of opponent at time step h\n",
    "                    ΔX = hrhc.successor_states[:,:,1] - pos.x # Δx, with opponent at origin\n",
    "                    ΔY = hrhc.successor_states[:,:,2] - pos.y # Δy with opponent at origin\n",
    "                    Δθ = hrhc.successor_states[:,:,3] - pos.θ # Δθ with opponent at origin\n",
    "                    pts = [hrhc.car_length hrhc.car_length -hrhc.car_length -hrhc.car_length 0;\n",
    "                        -hrhc.car_width hrhc.car_width hrhc.car_width -hrhc.car_width 0]/1.8\n",
    "                    pX = zeros(size(pts,2),size(hrhc.successor_states,1),size(hrhc.successor_states,2))\n",
    "                    pY = zeros(size(pX))\n",
    "                    for i in 1:size(pts,2)\n",
    "                        pX[i,:,:] = pts[1,i]*cos(Δθ) - pts[2,i]*sin(Δθ) + ΔX\n",
    "                        pY[i,:,:] = pts[1,i]*sin(Δθ) + pts[2,i].*cos(Δθ) + ΔY\n",
    "                    end\n",
    "\n",
    "                    collisionFlag = (maximum((abs(pX) .< hrhc.car_length/1.0),1)[1,:,:]).*(maximum((abs(pY) .< hrhc.car_width/1.9),1)[1,:,:])\n",
    "                    collisionCost = .001+(collisionFlag .>= 1)./(minimum(abs(pX),1)[1,:,:].*minimum(abs(pY),1)[1,:,:])\n",
    "                    # collisionCost = Inf.*collisionFlag\n",
    "                end\n",
    "            end\n",
    "        end\n",
    "    end\n",
    "\n",
    "    objective = cost_t + cost_ϕ + cost_tϕ + 1 - dS + collisionCost + Inf * eligibility_mask\n",
    "    return objective\n",
    "end"
   ]
  },
  {
   "cell_type": "code",
   "execution_count": 10,
   "metadata": {
    "collapsed": false
   },
   "outputs": [],
   "source": [
    "# scene parameters\n",
    "scene = Scene()\n",
    "framerate = 24\n",
    "Δt = 1.0/framerate # size of rendering timesteps\n",
    "n_integration_sub_steps = 3 # sub steps for smoother integration\n",
    "context = IntegratedContinuous(Δt, n_integration_sub_steps) # integrated continuous context\n",
    "\n",
    "#car parameters\n",
    "car_length = 4.8 # front wheel to back wheel\n",
    "car_width = 2.5\n",
    "v⁰  = 0.0 # initial velocity\n",
    "δ⁰ = 0.0 # initical steering angle\n",
    "\n",
    "############### INITIALIZE TRACK ################\n",
    "\n",
    "lane_width = 8.0*DEFAULT_LANE_WIDTH\n",
    "radius = 45.0\n",
    "edge_buffer = 0.25\n",
    "T_MAX = lane_width/2.0 - car_width/2.0 - edge_buffer # max allowable projection distance from center of lane\n",
    "base_speed= 0.0\n",
    "\n",
    "# spline control points\n",
    "# Pts = 40*[0 -1 -2 -3 -3 -3 -2 -1 -1 -1 -2 -3 -4 -5 -5 -5 -5 -5 -5 -4 -3 -2 -1 -1 -1 0 1 1 1 2 3 4 5 5 5 5 5 5 5 4 3 3 3 3 2 1 0; \n",
    "#          0 0 0 0 -1 -2 -2 -2 -3 -4 -4 -4 -4 -4 -3 -2 -1 0 1 2 3 4 4 3 2 2 2 3 4 4 4 4 3 2 1 0 -1 -2 -3 -4 -3 -2 -1 0 0 0 0]\n",
    "Pts = 40*[0 -1 -2 -3 -3.5 -3 -2 -1 -0.5 -1 -2 -3 -4 -5 -5.5 -5 -4.5 -5 -5 -4 -3 -2 -1 -1 -1 0 1 1 1 2 3 4 5 5 5 5 5 5 5 4 3 3 3 3 2 1 0; \n",
    "       0 0 0 0 -1 -2 -2 -2 -3 -4 -4 -4 -4 -4 -3 -2 -1 0 1 2 3 4 4 3 2 2 2 3 4 4 4 4 3 2 1 0 -1 -2 -3 -4 -3 -2 -1 0 0 0 0]\n",
    "\n",
    "degree = 3 # degree of spline\n",
    "num_points = 10001\n",
    "num_samples = 420\n",
    "lane_width = 20.0\n",
    "track = Raceway(Pts,degree,num_points,num_samples,lane_width)\n",
    "track;"
   ]
  },
  {
   "cell_type": "code",
   "execution_count": 11,
   "metadata": {
    "collapsed": false
   },
   "outputs": [],
   "source": [
    "car = accelHRHC(1,track.roadway,context)\n",
    "car;"
   ]
  },
  {
   "cell_type": "code",
   "execution_count": 12,
   "metadata": {
    "collapsed": false
   },
   "outputs": [
    {
     "data": {
      "text/plain": [
       "1-element Array{AutomotiveDrivingModels.DriveAction,1}:\n",
       " #undef"
      ]
     },
     "execution_count": 12,
     "metadata": {},
     "output_type": "execute_result"
    }
   ],
   "source": [
    "roadind1 = RoadIndex(CurveIndex(20,0),LaneTag(1,1))\n",
    "vehstate1 = VehicleState(Frenet(roadind1, track.roadway), track.roadway, 0.0)\n",
    "vehdef1 = VehicleDef(1,AgentClass.CAR, car_length, car_width)\n",
    "push!(scene,Vehicle(vehstate1, vehdef1))\n",
    "\n",
    "carcolors = Dict{Int, Colorant}()\n",
    "carcolors[1] = colorant\"red\"\n",
    "\n",
    "# hrhc = HRHC(1,roadway,context)\n",
    "track.models[1] = car\n",
    "track.obstacleMap = generateObstacleMap(scene, track.models)\n",
    "actions = Array(DriveAction, length(scene))"
   ]
  },
  {
   "cell_type": "code",
   "execution_count": 13,
   "metadata": {
    "collapsed": false
   },
   "outputs": [
    {
     "data": {
      "text/plain": [
       "(17,3,10,3)"
      ]
     },
     "execution_count": 13,
     "metadata": {},
     "output_type": "execute_result"
    }
   ],
   "source": [
    "size(car.ΔXYθ[car.v_idx])"
   ]
  },
  {
   "cell_type": "code",
   "execution_count": 14,
   "metadata": {
    "collapsed": false
   },
   "outputs": [
    {
     "data": {
      "text/plain": [
       "17×3 Array{Float64,2}:\n",
       " -85.7005   0.196803    -3.32661\n",
       " -85.7037   0.168677    -3.30336\n",
       " -85.7065   0.139998    -3.2797 \n",
       " -85.7089   0.110843    -3.25568\n",
       " -85.7108   0.0812864   -3.23137\n",
       " -85.7122   0.0514086   -3.20681\n",
       " -85.7132   0.0212893   -3.18208\n",
       " -85.7137  -0.00898994  -3.15723\n",
       " -85.7136  -0.0393471   -3.13232\n",
       " -85.7131  -0.0696995   -3.1074 \n",
       " -85.7121  -0.0999648   -3.08255\n",
       " -85.7105  -0.130061    -3.05782\n",
       " -85.7085  -0.159907    -3.03326\n",
       " -85.7061  -0.189422    -3.00895\n",
       " -85.7032  -0.218529    -2.98493\n",
       " -85.6998  -0.247151    -2.96127\n",
       " -85.6961  -0.275213    -2.93802"
      ]
     },
     "execution_count": 14,
     "metadata": {},
     "output_type": "execute_result"
    }
   ],
   "source": [
    "getSuccessorStates!(car,scene)\n",
    "action = 3\n",
    "car.successor_states[:,action,car.h,:]"
   ]
  },
  {
   "cell_type": "code",
   "execution_count": 16,
   "metadata": {
    "collapsed": false
   },
   "outputs": [
    {
     "data": {
      "text/plain": [
       "(\n",
       "[229.795 229.795 229.787; 229.795 229.795 229.787; … ; 229.795 229.795 229.787; 229.795 229.795 229.787],\n",
       "\n",
       "[-3.28483 -3.28483 -3.35445; -3.28483 -3.28483 -3.35445; … ; -3.28483 -3.28483 -3.35445; -3.28483 -3.28483 -3.35445],\n",
       "\n",
       "[-1.59041 -1.59041 -1.77312; -1.59041 -1.59041 -1.77312; … ; -1.59041 -1.59041 -1.7731; -1.59041 -1.59041 -1.77309])"
      ]
     },
     "execution_count": 16,
     "metadata": {},
     "output_type": "execute_result"
    }
   ],
   "source": [
    "s,t,ϕ = loopProjectionKD(car, scene, track.roadway, track.tree)"
   ]
  },
  {
   "cell_type": "code",
   "execution_count": 17,
   "metadata": {
    "collapsed": false
   },
   "outputs": [
    {
     "data": {
      "text/plain": [
       "17×3 Array{Float64,2}:\n",
       " 6.26021  6.26021  11.0042\n",
       " 6.26021  6.26021  11.0042\n",
       " 6.26021  6.26021  11.0042\n",
       " 6.26021  6.26021  11.0042\n",
       " 6.26021  6.26021  11.0041\n",
       " 6.26021  6.26021  11.0041\n",
       " 6.26021  6.26021  11.0041\n",
       " 6.26021  6.26021  11.004 \n",
       " 6.26021  6.26021  11.004 \n",
       " 6.26021  6.26021  11.0039\n",
       " 6.26021  6.26021  11.0039\n",
       " 6.26021  6.26021  11.0038\n",
       " 6.26021  6.26021  11.0037\n",
       " 6.26021  6.26021  11.0036\n",
       " 6.26021  6.26021  11.0035\n",
       " 6.26021  6.26021  11.0034\n",
       " 6.26021  6.26021  11.0033"
      ]
     },
     "execution_count": 17,
     "metadata": {},
     "output_type": "execute_result"
    }
   ],
   "source": [
    "calculateObjective(car, scene, track.roadway, track.tree, s, t, ϕ, track.obstacleMap, car.k, car.h)"
   ]
  },
  {
   "cell_type": "code",
   "execution_count": 15,
   "metadata": {
    "collapsed": false
   },
   "outputs": [
    {
     "data": {
      "text/plain": [
       "10×5 Array{Float64,2}:\n",
       " -83.2853  -0.0168176   -3.1324   0.83682  -0.0490874\n",
       " -83.3462  -0.0173583   -3.13303  0.83682  -0.0490874\n",
       " -83.4594  -0.018262    -3.13418  0.83682  -0.0490874\n",
       " -83.6247  -0.0193475   -3.13587  0.83682  -0.0490874\n",
       " -83.8423  -0.0203499   -3.1381   0.83682  -0.0490874\n",
       " -84.1122  -0.0209208   -3.14086  0.83682  -0.0490874\n",
       " -84.4342  -0.0206278   -3.14415  0.83682  -0.0490874\n",
       " -84.8085  -0.0189553   -3.14797  0.83682  -0.0490874\n",
       " -85.235   -0.0153037   -3.15233  0.83682  -0.0490874\n",
       " -85.7137  -0.00898994  -3.15723  0.83682  -0.0490874"
      ]
     },
     "execution_count": 15,
     "metadata": {},
     "output_type": "execute_result"
    }
   ],
   "source": [
    "trajectory = computeTrajectory(car,scene,(3,8))"
   ]
  },
  {
   "cell_type": "code",
   "execution_count": 20,
   "metadata": {
    "collapsed": false
   },
   "outputs": [
    {
     "data": {
      "text/plain": [
       "screenTrajectory (generic function with 1 method)"
      ]
     },
     "execution_count": 20,
     "metadata": {},
     "output_type": "execute_result"
    }
   ],
   "source": [
    "function screenTrajectory(trajectory, obstacleMap, scene, roadway, hrhc, tree, k_level)\n",
    "    out_of_bounds = false\n",
    "    collision_flag = false\n",
    "    # check out of bounds\n",
    "    for i in 1 : size(trajectory,1)\n",
    "        x = trajectory[i,1]\n",
    "        y = trajectory[i,2]\n",
    "        θ = trajectory[i,3]\n",
    "        s,t,ϕ = kdProject(x,y,θ,tree,roadway,hrhc)\n",
    "\n",
    "        if abs(t) > hrhc.T_MAX\n",
    "            out_of_bounds=true\n",
    "            return out_of_bounds\n",
    "        end\n",
    "    end\n",
    "    # check for collision\n",
    "    # threshold_dist = 4.0*hrhc.car_length\n",
    "    # if k_level >= 1\n",
    "    #     for (id,car) in obstacleMap[k_level - 1]\n",
    "    #         if id != hrhc.car_ID\n",
    "    #             state = scene.vehicles[hrhc.car_ID].state\n",
    "    #             state2 = scene.vehicles[id].state\n",
    "    #             diff = state.posG - state2.posG\n",
    "    #             s1,_,_ = kdProject(state.posG.x,state.posG.y,state.posG.θ,tree,roadway,hrhc)\n",
    "    #             s2,_,_ = kdProject(state2.posG.x,state2.posG.y,state2.posG.θ,tree,roadway,hrhc)\n",
    "    #             if (norm([diff.x, diff.y]) < threshold_dist) && (s1 <= s2) # check which car is ahead\n",
    "    #                 for i in 1: size(trajectory,1)\n",
    "    #                     egoCar = VecSE2(trajectory[i,1],trajectory[i,2],trajectory[i,3])\n",
    "    #                     car2 = VecSE2(car[i,1],car[i,2],car[i,3])\n",
    "    #                     collision_flag = checkCollision(scene,egoCar,car2,hrhc.car_ID,id)\n",
    "    #                     if collision_flag\n",
    "    #                         return collision_flag\n",
    "    #                     end\n",
    "    #                 end\n",
    "    #             end\n",
    "    #         end\n",
    "    #     end\n",
    "    # end\n",
    "\n",
    "    return out_of_bounds\n",
    "end"
   ]
  },
  {
   "cell_type": "code",
   "execution_count": 22,
   "metadata": {
    "collapsed": false
   },
   "outputs": [
    {
     "data": {
      "text/plain": [
       "kdProject (generic function with 1 method)"
      ]
     },
     "execution_count": 22,
     "metadata": {},
     "output_type": "execute_result"
    }
   ],
   "source": [
    "function kdProject(x,y,θ,tree,roadway,hrhc)\n",
    "    \"\"\"\n",
    "    project single (x,y,Θ) point to roadway spline using kdtree to find the nearest spline point\n",
    "    \"\"\"\n",
    "    curve = roadway.segments[1].lanes[1].curve\n",
    "    # Δs = roadway.segments[1].lanes[1].curve[2].s - roadway.segments[1].lanes[1].curve[1].s\n",
    "    idx_list,dist = knn(tree,[x;y],1)\n",
    "    idx = idx_list[1]\n",
    "    idxA = idx-1\n",
    "    idxB = idx+1\n",
    "\n",
    "    if idx == length(curve)\n",
    "        idxB = 1 # back to the beginning of the curve\n",
    "    end\n",
    "    if idx == 1\n",
    "        idxA = length(curve)\n",
    "    end\n",
    "    dA = sqrt(sum(([curve[idxA].pos.x, curve[idxA].pos.y]-[x,y]).^2))\n",
    "    dB = sqrt(sum(([curve[idxB].pos.x, curve[idxB].pos.y]-[x,y]).^2))\n",
    "    if dA < dB\n",
    "        idxB = idx\n",
    "    else\n",
    "        idxA = idx\n",
    "    end\n",
    "\n",
    "    # project\n",
    "    vec1 = [curve[idxB].pos.x - curve[idxA].pos.x, curve[idxB].pos.y - curve[idxA].pos.y, 0]\n",
    "    vec2 = [x - curve[idxA].pos.x, y - curve[idxA].pos.y, 0]\n",
    "    idx_t = dot(vec2, vec1)/norm(vec1)^2\n",
    "\n",
    "    pθ = curve[idxA].pos.θ + idx_t*(curve[idxB].pos.θ - curve[idxA].pos.θ)\n",
    "\n",
    "    s = curve[idxA].s + idx_t*hrhc.Δs\n",
    "    t = -norm(vec2 - idx_t*vec1)\n",
    "    ϕ = wrap_to_π(θ - pθ)\n",
    "\n",
    "    s,t,ϕ,idxA\n",
    "end"
   ]
  },
  {
   "cell_type": "code",
   "execution_count": 25,
   "metadata": {
    "collapsed": false
   },
   "outputs": [
    {
     "data": {
      "text/plain": [
       "NextState(VehicleState(VecSE2({-83.277, -0.017}, -3.132), Frenet(RoadIndex({20, -0.000000}, {1, 1}), 83.277, 0.000, 0.000), 0.000))"
      ]
     },
     "execution_count": 25,
     "metadata": {},
     "output_type": "execute_result"
    }
   ],
   "source": [
    "observe!(car,scene,track.roadway,1,track.tree,track.obstacleMap,car.k)"
   ]
  },
  {
   "cell_type": "code",
   "execution_count": 24,
   "metadata": {
    "collapsed": false
   },
   "outputs": [
    {
     "name": "stderr",
     "output_type": "stream",
     "text": [
      "WARNING: Method definition observe!(Main.accelHRHC, AutomotiveDrivingModels.AutoCore.Scene, AutomotiveDrivingModels.AutoCore.Roadway, Int64, NearestNeighbors.KDTree, Any, Any) in module Main at In[18]:2 overwritten at In[24]:2.\n"
     ]
    }
   ],
   "source": [
    "function AutomotiveDrivingModels.observe!(hrhc::accelHRHC, scene::Scene, roadway::Roadway, egoid::Int, tree::KDTree, obstacleMap, k_level)\n",
    "    \"\"\"\n",
    "    Observe the current environment and select optimal action to apply at next\n",
    "    time step\n",
    "    \"\"\"\n",
    "    if k_level > hrhc.k\n",
    "        return\n",
    "    end\n",
    "    state = scene.vehicles[hrhc.car_ID].state\n",
    "    hrhc.curve_ind = state.posF.roadind.ind.i\n",
    "    v = state.v # current v\n",
    "    hrhc.v = v\n",
    "\n",
    "    trajectory = zeros(hrhc.h,5)\n",
    "    action_selected = false\n",
    "    abs_cmd = (hrhc.v_idx,hrhc.δ_idx)\n",
    "    v_cmd = hrhc.v_idx\n",
    "    δ_cmd = hrhc.δ_idx\n",
    "\n",
    "    i = 0\n",
    "    for i in 0:(hrhc.h-1)\n",
    "        if action_selected\n",
    "            break # out of for loop\n",
    "        end\n",
    "        \n",
    "        # calculate successor states\n",
    "        getSuccessorStates!(hrhc, scene)\n",
    "\n",
    "        # project successor states onto track\n",
    "        s,t,ϕ = loopProjectionKD(hrhc, scene, roadway, tree)\n",
    "\n",
    "        # optimization objective\n",
    "        objective = calculateObjective(hrhc, scene, roadway, tree, s, t, ϕ, obstacleMap, k_level, hrhc.h-i,f_t=0.0)\n",
    "\n",
    "        while (action_selected==false) && (minimum(objective) != Inf)\n",
    "            index = indmin(objective) # find get a better method of optimizing this\n",
    "            v_cmd,δ_cmd = ind2sub(s, index)\n",
    "\n",
    "            # compute full trajectory up to horizon\n",
    "            trajectory = computeTrajectory(hrhc, scene, (v_cmd,δ_cmd), h=hrhc.h-i)\n",
    "\n",
    "            # screen trajectory for collisions / validity\n",
    "            out_of_bounds = screenTrajectory(trajectory, obstacleMap, scene, roadway, hrhc, tree, k_level)\n",
    "\n",
    "            if out_of_bounds\n",
    "                objective[index] = Inf\n",
    "            else\n",
    "                action_selected=true\n",
    "                updateObstacleMap!(obstacleMap, k_level, hrhc.car_ID, trajectory)\n",
    "            end\n",
    "        end\n",
    "    end\n",
    "\n",
    "    hrhc.δ_idx = δ_cmd\n",
    "    hrhc.v_idx = min(max(1,hrhc.v_idx+v_cmd-2), size(hrhc.v,1))\n",
    "    \n",
    "    hrhc.δ = hrhc.δ_cmds[hrhc.v_idx, δ_cmd] # next δ\n",
    "    hrhc.v = hrhc.v_cmds[hrhc.v_idx, δ_cmd] # next v\n",
    "\n",
    "    next_state = VehicleState(VecSE2(trajectory[1,1:3]),roadway,hrhc.v)\n",
    "    hrhc.action = NextState(next_state) # action\n",
    "end"
   ]
  },
  {
   "cell_type": "code",
   "execution_count": null,
   "metadata": {
    "collapsed": true
   },
   "outputs": [],
   "source": []
  }
 ],
 "metadata": {
  "kernelspec": {
   "display_name": "Julia 0.5.0",
   "language": "julia",
   "name": "julia-0.5"
  },
  "language_info": {
   "file_extension": ".jl",
   "mimetype": "application/julia",
   "name": "julia",
   "version": "0.5.0"
  }
 },
 "nbformat": 4,
 "nbformat_minor": 0
}
