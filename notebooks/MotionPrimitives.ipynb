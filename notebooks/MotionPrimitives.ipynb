{
 "cells": [
  {
   "cell_type": "code",
   "execution_count": null,
   "metadata": {
    "collapsed": false
   },
   "outputs": [],
   "source": [
    "import PyPlot"
   ]
  },
  {
   "cell_type": "code",
   "execution_count": null,
   "metadata": {
    "collapsed": false
   },
   "outputs": [],
   "source": [
    "function MotionPrimitives(car_length,car_width,h,Δt,v_min,v_max,v_steps,δ_max,δ_min,δ_steps)\n",
    "    \"\"\"\n",
    "    Return a library of motion primitives (arcs of constant radius) representing short paths that the car can follow.\n",
    "    \"\"\"\n",
    "    # 3D array to store motion_primitives\n",
    "    motion_primitives = zeros(v_steps,2*δ_steps+1,2) # v: 0,...,99; δ: -45:45, (arc length, +/- radius)\n",
    "\n",
    "    v = linspace(v_min,v_max,v_steps)*ones(1,2*δ_steps+1)\n",
    "    δ = (linspace(-δ_max,δ_max,δ_steps*2+1)*ones(1,v_steps))' # steering angle\n",
    "\n",
    "    motion_primitives[:,:,1] = v*Δt*h # arc length = velocity * time\n",
    "    motion_primitives[:,:,2] = car_length./sin(δ) # radius of curvature (+ or -)\n",
    "    motion_primitives[:,1+δ_steps,2] = Inf; # radius of curvature is infinite if steering angle = 0\n",
    "\n",
    "    destination_primitives = zeros(v_steps,2*δ_steps+1,h,3) # lookup table defining car's location at each of next h time steps\n",
    "\n",
    "    for i = 1:h\n",
    "        # angle = 2π * arc_length / r\n",
    "        dθ = v*Δt*i ./ motion_primitives[:,:,2]\n",
    "\n",
    "        # dX = abs(radius) * sin(angle)\n",
    "        destination_primitives[:,:,i,1] = abs(motion_primitives[:,:,2]) .* sin(abs(dθ))\n",
    "        destination_primitives[:,1+δ_steps,i,1] = v[:,1+δ_steps]*Δt*i # centerline\n",
    "\n",
    "        # dY = radius * (1 - cos(angle))\n",
    "        destination_primitives[:,:,i,2] = motion_primitives[:,:,2].*(1 - cos(dθ))\n",
    "        destination_primitives[:,1+δ_steps,i,2] = 0 # centerline\n",
    "\n",
    "        destination_primitives[:,:,i,3] = dθ\n",
    "    end\n",
    "\n",
    "    # destination_primitives[v, δ, h, 1=Δx,2=Δy,3=Δθ]= changes in x, y and θ after h time steps\n",
    "    \n",
    "    return v, δ, destination_primitives\n",
    "end"
   ]
  },
  {
   "cell_type": "code",
   "execution_count": null,
   "metadata": {
    "collapsed": false
   },
   "outputs": [],
   "source": [
    "car_length = 4.8\n",
    "wheel_base = car_length\n",
    "car_width = 1.5\n",
    "h = 10\n",
    "Δt = 1/24.0\n",
    "v_min = 0.0\n",
    "v_max = 100.0\n",
    "δ_max = Float64(π)/6.0\n",
    "δ_min = -δ_max\n",
    "μ = 20.0\n",
    "g = 9.81"
   ]
  },
  {
   "cell_type": "code",
   "execution_count": null,
   "metadata": {
    "collapsed": false
   },
   "outputs": [],
   "source": [
    "δ_step = Float64(π)/128\n",
    "\n",
    "ΔT = 2.5 # seconds to go from 0 to 60\n",
    "ΔV = 60*1600/3600 # 0->60 mph = 0->26.6 m/s\n",
    "a_max = ΔV/ΔT # maximum acceleration = 10.66 m/s^2\n",
    "v_step = a_max*Δt"
   ]
  },
  {
   "cell_type": "code",
   "execution_count": null,
   "metadata": {
    "collapsed": false
   },
   "outputs": [],
   "source": [
    "function GenerateMotionMap(v_min,v_max,a_max,δ_max,δ_step,wheel_base,h,μ,Δt)\n",
    "    \n",
    "    v_step = a_max*Δt\n",
    "    v_range = linspace(v_min,v_max,round(v_max/v_step))\n",
    "    δ_range = linspace(-δ_max,δ_max,2*round((δ_max)/δ_step)+1)\n",
    "    R_range = wheel_base./tan(δ_range)\n",
    "    a_range = [-1,0,1]\n",
    "    motion_map = Dict()\n",
    "    v_map = Dict()\n",
    "    δ_map = Dict()\n",
    "\n",
    "    for v_idx in 1:length(v_range)\n",
    "        v = v_range[v_idx]\n",
    "        v_map[v_idx] = zeros(Int,length(a_range),length(δ_range))\n",
    "        δ_map[v_idx] = zeros(Int,length(a_range),length(δ_range))\n",
    "        for a_idx in 1:length(a_range)\n",
    "            Δv_idx = a_range[a_idx]\n",
    "            tire_force = sqrt(((v^2)./abs(R_range)).^2 + (Δv_idx*a_max)^2)\n",
    "            if v_idx + Δv_idx >= 1 && v_idx + Δv_idx <= length(v_range)\n",
    "                v_map[v_idx][a_idx,:] = Int(v_idx + Δv_idx)# v_range[v_idx+Δv_idx]\n",
    "            else\n",
    "                v_map[v_idx][a_idx,:] = Int(v_idx) #v_range[v_idx]\n",
    "            end\n",
    "            if v_idx > 1\n",
    "                for j in 1:length(δ_range)\n",
    "                    if tire_force[j] >= μ*g\n",
    "                        v_map[v_idx][a_idx,j] = Int(v_idx) - 1# v_range[v_idx-1] # decelerate\n",
    "                    end\n",
    "                end\n",
    "            end\n",
    "            #δ_map[v_idx][a_idx,:] = δ_range.*(tire_force .< μ*g) + \n",
    "             #   maximum(abs(δ_range[tire_force .< μ*g])).*sign(δ_range).*(tire_force .>= μ*g)\n",
    "            δ_map[v_idx][a_idx,:] = [i for i in 1:length(δ_range)].*(tire_force .< μ*g) + \n",
    "            indmax(abs(δ_range).*(tire_force .< μ*g)).*(tire_force .>= μ*g).*-sign(δ_range) + \n",
    "            (length(δ_range)+1).*(sign(δ_range) .> 0).*(tire_force .>= μ*g)\n",
    "        end\n",
    "    end\n",
    "\n",
    "\n",
    "    # fill motion map\n",
    "    for v_idx in 1:length(v_range)\n",
    "        motion_map[v_idx] = zeros(length(a_range),length(δ_range),h,3)\n",
    "        level_v_idx = copy(v_map[v_idx])\n",
    "        level_δ_idx = copy(δ_map[v_idx])\n",
    "        Δθ = zeros(length(a_range),length(δ_range))\n",
    "        for i in 1:h\n",
    "            radius = wheel_base./tan(δ_range[level_δ_idx])\n",
    "            Δs = ((v_range[v_idx] + v_range[level_v_idx])./2.0)*Δt\n",
    "            Δθ = Δs./radius\n",
    "            ΔX = abs(radius) .* sin(abs(Δθ))\n",
    "            ΔX[:,Int((length(δ_range)-1)/2)+1] = Δs[:,Int((length(δ_range)-1)/2)+1]\n",
    "            ΔY = radius.*(1 - cos(Δθ))\n",
    "            ΔY[:,Int((length(δ_range)-1)/2)+1] = 0\n",
    "            if i == 1\n",
    "                motion_map[v_idx][:,:,i,1] = ΔX\n",
    "                motion_map[v_idx][:,:,i,2] = ΔY\n",
    "                motion_map[v_idx][:,:,i,3] = Δθ\n",
    "            else\n",
    "                motion_map[v_idx][:,:,i,1] = motion_map[v_idx][:,:,i-1,1] + \n",
    "                    ΔX.*cos(motion_map[v_idx][:,:,i-1,3]) - ΔY.*sin(motion_map[v_idx][:,:,i-1,3])\n",
    "                motion_map[v_idx][:,:,i,2] = motion_map[v_idx][:,:,i-1,2] + \n",
    "                    ΔX.*sin(motion_map[v_idx][:,:,i-1,3]) + ΔY.*cos(motion_map[v_idx][:,:,i-1,3])\n",
    "                motion_map[v_idx][:,:,i,3] = Δθ + motion_map[v_idx][:,:,i-1,3]  # + motion_map[v_idx][:,:,i-1,3]\n",
    "            end\n",
    "            for j in 1:length(level_v_idx) # update to next velocity\n",
    "                level_v_idx[j] = v_map[level_v_idx[j]][j]\n",
    "                level_δ_idx[j] = δ_map[level_v_idx[j]][j]\n",
    "            end\n",
    "        end\n",
    "    end\n",
    "    return motion_map, v_map, δ_map, v_range, δ_range\n",
    "end"
   ]
  },
  {
   "cell_type": "code",
   "execution_count": null,
   "metadata": {
    "collapsed": true
   },
   "outputs": [],
   "source": [
    "mapHRHC()"
   ]
  },
  {
   "cell_type": "code",
   "execution_count": null,
   "metadata": {
    "collapsed": false,
    "scrolled": true
   },
   "outputs": [],
   "source": [
    "motion_map, v_map, δ_map, v_range, δ_range = GenerateMotionMap(v_min,v_max,a_max,δ_max,δ_step,wheel_base,h,μ,Δt)\n",
    "motion_map;"
   ]
  },
  {
   "cell_type": "code",
   "execution_count": null,
   "metadata": {
    "collapsed": false
   },
   "outputs": [],
   "source": [
    "v_idx = 160\n",
    "δ_idx = 18\n",
    "a_idx = 3\n",
    "ΔXYθ = motion_map[v_idx][:,:,h,:]\n",
    "trajectory = motion_map[v_idx][a_idx,:,:,:]\n",
    "for i in 1:size(trajectory,1)\n",
    "    PyPlot.plot(trajectory[i,:,2],trajectory[i,:,1],c=\"red\")\n",
    "end\n",
    "PyPlot.plot(trajectory[δ_idx,:,2],trajectory[δ_idx,:,1],c=\"lime\",linewidth=2)\n",
    "PyPlot.scatter(ΔXYθ[:,:,2],ΔXYθ[:,:,1],edgecolor=\"none\")\n",
    "\n",
    "PyPlot.axis(\"equal\")"
   ]
  },
  {
   "cell_type": "code",
   "execution_count": null,
   "metadata": {
    "collapsed": false
   },
   "outputs": [],
   "source": [
    "# generate full motion primitives\n",
    "v_range = linspace(v_min,v_max,round(v_max/v_step))\n",
    "δ_range = linspace(-δ_max,δ_max,2*round((δ_max)/δ_step)+1)\n",
    "R_range = wheel_base./tan(δ_range)\n",
    "a_range = [-1,0,1]\n",
    "motion_map = Dict()\n",
    "v_map = Dict()\n",
    "δ_map = Dict()\n",
    "h = 10\n",
    "\n",
    "for v_idx in 1:length(v_range)\n",
    "    v = v_range[v_idx]\n",
    "    v_map[v_idx] = zeros(Int,length(a_range),length(δ_range))\n",
    "    δ_map[v_idx] = zeros(Int,length(a_range),length(δ_range))\n",
    "    for a_idx in 1:length(a_range)\n",
    "        Δv_idx = a_range[a_idx]\n",
    "        tire_force = sqrt(((v^2)./abs(R_range)).^2 + (Δv_idx*a_max)^2)\n",
    "        if v_idx + Δv_idx >= 1 && v_idx + Δv_idx <= length(v_range)\n",
    "            v_map[v_idx][a_idx,:] = Int(v_idx + Δv_idx)# v_range[v_idx+Δv_idx]\n",
    "        else\n",
    "            v_map[v_idx][a_idx,:] = Int(v_idx) #v_range[v_idx]\n",
    "        end\n",
    "        if v_idx > 1\n",
    "            for j in 1:length(δ_range)\n",
    "                if tire_force[j] >= μ*g\n",
    "                    v_map[v_idx][a_idx,j] = Int(v_idx) - 1# v_range[v_idx-1] # decelerate\n",
    "                end\n",
    "            end\n",
    "        end\n",
    "        #δ_map[v_idx][a_idx,:] = δ_range.*(tire_force .< μ*g) + \n",
    "         #   maximum(abs(δ_range[tire_force .< μ*g])).*sign(δ_range).*(tire_force .>= μ*g)\n",
    "        δ_map[v_idx][a_idx,:] = [i for i in 1:length(δ_range)].*(tire_force .< μ*g) + \n",
    "        indmax(abs(δ_range).*(tire_force .< μ*g)).*(tire_force .>= μ*g).*-sign(δ_range) + \n",
    "        (length(δ_range)+1).*(sign(δ_range) .> 0).*(tire_force .>= μ*g)\n",
    "    end\n",
    "end\n",
    "\n",
    "\n",
    "# fill motion map\n",
    "for v_idx in 1:length(v_range)\n",
    "    motion_map[v_idx] = zeros(length(a_range),length(δ_range),h,3)\n",
    "    level_v_idx = copy(v_map[v_idx])\n",
    "    level_δ_idx = copy(δ_map[v_idx])\n",
    "    Δθ = zeros(length(a_range),length(δ_range))\n",
    "    for i in 1:h\n",
    "        radius = wheel_base./tan(δ_range[level_δ_idx])\n",
    "        Δs = ((v_range[v_idx] + v_range[level_v_idx])./2.0)*Δt\n",
    "        Δθ = Δs./radius\n",
    "        ΔX = abs(radius) .* sin(abs(Δθ))\n",
    "        ΔX[:,Int((length(δ_range)-1)/2)+1] = Δs[:,Int((length(δ_range)-1)/2)+1]\n",
    "        ΔY = radius.*(1 - cos(Δθ))\n",
    "        ΔY[:,Int((length(δ_range)-1)/2)+1] = 0\n",
    "        if i == 1\n",
    "            motion_map[v_idx][:,:,i,1] = ΔX\n",
    "            motion_map[v_idx][:,:,i,2] = ΔY\n",
    "            motion_map[v_idx][:,:,i,3] = Δθ\n",
    "        else\n",
    "            motion_map[v_idx][:,:,i,1] = motion_map[v_idx][:,:,i-1,1] + \n",
    "                ΔX.*cos(motion_map[v_idx][:,:,i-1,3]) - ΔY.*sin(motion_map[v_idx][:,:,i-1,3])\n",
    "            motion_map[v_idx][:,:,i,2] = motion_map[v_idx][:,:,i-1,2] + \n",
    "                ΔX.*sin(motion_map[v_idx][:,:,i-1,3]) + ΔY.*cos(motion_map[v_idx][:,:,i-1,3])\n",
    "            motion_map[v_idx][:,:,i,3] = Δθ + motion_map[v_idx][:,:,i-1,3]  # + motion_map[v_idx][:,:,i-1,3]\n",
    "        end\n",
    "        for j in 1:length(level_v_idx) # update to next velocity\n",
    "            level_v_idx[j] = v_map[level_v_idx[j]][j]\n",
    "            level_δ_idx[j] = δ_map[level_v_idx[j]][j]\n",
    "        end\n",
    "    end\n",
    "end"
   ]
  },
  {
   "cell_type": "code",
   "execution_count": null,
   "metadata": {
    "collapsed": false,
    "scrolled": true
   },
   "outputs": [],
   "source": [
    "\"\"\"\n",
    "Return a library of motion primitives (arcs of constant radius) representing short paths that the car can follow.\n",
    "\"\"\"\n",
    "# 3D array to store motion_primitives\n",
    "# radius = zeros(v_steps,2*δ_steps+1) # v: 0,...,99; δ: -45:45, (arc length, +/- radius)\n",
    "\n",
    "v = linspace(v_min,v_max,round(v_max/v_step))*ones(1,2*Int(round((δ_max)/δ_step))+1) # velocity\n",
    "δ = (linspace(-δ_max,δ_max,2*round((δ_max)/δ_step)+1)*ones(1,Int(round(v_max/v_step))))' # steering angle\n",
    "\n",
    "radius = car_length./sin(δ) # radius of curvature (+ or -)\n",
    "radius[:,Int(round((δ_max)/δ_step))+1] = Inf; # radius of curvature is infinite if steering angle = 0\n",
    "\n",
    "destination_primitives = zeros(size(v,1),size(v,2),3,h,3)\n",
    "\n",
    "accels = [-a_max,0,a_max]\n",
    "for j in 1:3\n",
    "    v₀ = copy(v)\n",
    "    a = accels[j]\n",
    "    for i = 1:h\n",
    "        vᵢ = v₀+a*i*Δt # velocity at end of time step\n",
    "        tire_force = sqrt((((vᵢ).^2)./abs(radius)).^2 + a^2) # tire force must be less than μ*g\n",
    "        v_threshold = ones(size(v,1),1)*maximum(vᵢ.*(tire_force .< μ*g), 1)\n",
    "        vᵢ = min(vᵢ,v_threshold)\n",
    "        Δs = max((v₀+vᵢ)/2.0, 0.0)*i*Δt\n",
    "        \n",
    "        Δθ = Δs./radius # change in heading\n",
    "        v₀[1:end-i,:] = v[i+1:end,:] # increase v₀ by one step for next round\n",
    "\n",
    "        # dX = abs(radius) * sin(angle)\n",
    "        destination_primitives[:,:,j,i,1] = abs(radius) .* sin(abs(Δθ))\n",
    "        destination_primitives[:,Int(round((δ_max)/δ_step))+1,j,i,1] = Δs[:,Int(round((δ_max)/δ_step))+1] # centerline\n",
    "\n",
    "        # dY = radius * (1 - cos(angle))\n",
    "        destination_primitives[:,:,j,i,2] = radius.*(1 - cos(Δθ))\n",
    "        destination_primitives[:,Int(round((δ_max)/δ_step))+1,j,i,2] = 0 # centerline\n",
    "\n",
    "        destination_primitives[:,:,j,i,3] = Δθ\n",
    "    end\n",
    "end"
   ]
  },
  {
   "cell_type": "code",
   "execution_count": null,
   "metadata": {
    "collapsed": false
   },
   "outputs": [],
   "source": [
    "function MotionPrimitivesAcceleration(wheel_base,h,Δt,v_min,v_max,v_step,δ_min,δ_max,δ_step,μ)\n",
    "    \"\"\"\n",
    "    Return a library of motion primitives (arcs of constant radius) representing short paths that the car can follow.\n",
    "    \"\"\"\n",
    "    # 3D array to store motion_primitives\n",
    "    # radius = zeros(v_steps,2*δ_steps+1) # v: 0,...,99; δ: -45:45, (arc length, +/- radius)\n",
    "    g = 9.81\n",
    "    v = linspace(v_min,v_max,round(v_max/v_step))*ones(1,2*Int(round((δ_max)/δ_step))+1) # velocity\n",
    "    δ = (linspace(-δ_max,δ_max,2*round((δ_max)/δ_step)+1)*ones(1,Int(round(v_max/v_step))))' # steering angle\n",
    "\n",
    "    radius = wheel_base./sin(δ) # radius of curvature (+ or -)\n",
    "    radius[:,Int(round((δ_max)/δ_step))+1] = Inf; # radius of curvature is infinite if steering angle = 0\n",
    "    \n",
    "    n_actions = 3 # slow down, stay, speed up\n",
    "    destination_primitives = zeros(size(v,1),size(v,2),n_actions,h,3)\n",
    "\n",
    "    accels = [-a_max,0,a_max]\n",
    "    for j in 1:3\n",
    "        v₀ = copy(v)\n",
    "        a = accels[j]\n",
    "        for i = 1:h\n",
    "            vᵢ = max(v₀+a*i*Δt, 0.0) # velocity at end of time step\n",
    "            tire_force = sqrt((((vᵢ).^2)./abs(radius)).^2 + a^2) # tire force must be less than μ*g\n",
    "            v_threshold = ones(size(v,1),1)*maximum(vᵢ.*(tire_force .< μ*g), 1)\n",
    "            vᵢ = min(vᵢ,v_threshold)\n",
    "            Δs = max((v₀+vᵢ)/2.0, 0.0)*i*Δt\n",
    "\n",
    "            Δθ = Δs./radius # change in heading\n",
    "            if j == 3 # accel = -1\n",
    "                v₀[1:end-i,:] = v[i+1:end,:] # increase v₀ by one step for next round\n",
    "            elseif j == 1 # accel = +1\n",
    "                v₀[i+1:end,:] = v[1:end-i,:] # increase v₀ by one step for next round\n",
    "            end\n",
    "            # dX = abs(radius) * sin(angle)\n",
    "            destination_primitives[:,:,j,i,1] = abs(radius) .* sin(abs(Δθ))\n",
    "            destination_primitives[:,Int(round((δ_max)/δ_step))+1,j,i,1] = Δs[:,Int(round((δ_max)/δ_step))+1] # centerline\n",
    "\n",
    "            # dY = radius * (1 - cos(angle))\n",
    "            destination_primitives[:,:,j,i,2] = radius.*(1 - cos(Δθ))\n",
    "            destination_primitives[:,Int(round((δ_max)/δ_step))+1,j,i,2] = 0 # centerline\n",
    "\n",
    "            destination_primitives[:,:,j,i,3] = Δθ\n",
    "        end\n",
    "    end\n",
    "    \n",
    "    tire_force = sqrt((((v).^2)./abs(radius)).^2) # tire force must be less than μ*g\n",
    "    mask = (tire_force .< μ*g)\n",
    "    v_threshold = ones(size(v,1),1)*maximum(v.*mask, 1)\n",
    "    v = min(v,v_threshold)\n",
    "    motion_map = Dict()\n",
    "    for i in 1:size(v,1) # motion_map[i] contains the reachable states from v[i]\n",
    "        motion_map[i] = destination_primitives[i,:,:,:,:]\n",
    "    end\n",
    "    \n",
    "    return v, δ, destination_primitives, motion_map, mask\n",
    "end"
   ]
  },
  {
   "cell_type": "code",
   "execution_count": null,
   "metadata": {
    "collapsed": false
   },
   "outputs": [],
   "source": [
    "v, δ, destination_primitives, motion_map, mask = MotionPrimitivesAcceleration(car_length,h,Δt,v_min,v_max,v_step,δ_min,δ_max,δ_step,μ)\n",
    "destination_primitives;"
   ]
  },
  {
   "cell_type": "code",
   "execution_count": null,
   "metadata": {
    "collapsed": false
   },
   "outputs": [],
   "source": [
    "tire_force = sqrt((((v).^2)./abs(radius)).^2)\n",
    "PyPlot.scatter(δ[tire_force .< μ*g],v[tire_force .< μ*g],c=tire_force[tire_force .< μ*g],edgecolor=\"none\")"
   ]
  },
  {
   "cell_type": "code",
   "execution_count": 25,
   "metadata": {
    "collapsed": false
   },
   "outputs": [
    {
     "data": {
      "image/png": "[encoded data removed]",
      "text/plain": [
       "PyPlot.Figure(PyObject <matplotlib.figure.Figure object at 0x32761acd0>)"
      ]
     },
     "metadata": {},
     "output_type": "display_data"
    },
    {
     "data": {
      "text/plain": [
       "(-0.6000000000000001,0.6000000000000001,0.0,3.0)"
      ]
     },
     "execution_count": 25,
     "metadata": {},
     "output_type": "execute_result"
    }
   ],
   "source": [
    "v_idx = 14\n",
    "δ_idx = 1\n",
    "a_idx = 2\n",
    "ΔXYθ = car1.motion_map[v_idx][:,:,10,:]\n",
    "trajectory = car1.motion_map[v_idx][:,a_idx,:,:]\n",
    "PyPlot.scatter(ΔXYθ[:,:,2],ΔXYθ[:,:,1],edgecolor=\"none\")\n",
    "PyPlot.scatter(trajectory[:,:,2],trajectory[:,:,1],c=\"red\",edgecolor=\"none\")\n",
    "PyPlot.axis(\"equal\")"
   ]
  },
  {
   "cell_type": "code",
   "execution_count": null,
   "metadata": {
    "collapsed": false
   },
   "outputs": [],
   "source": [
    "radius = car_length./sin(δ) # radius of curvature (+ or -)\n",
    "# mask for tire saturation\n",
    "tire_force⁺ = sqrt(((v₀.^2)./abs(radius)).^2 + a_max^2)\n",
    "tire_force⁰ = sqrt(((v₀.^2)./abs(radius)).^2 + 0)\n",
    "tire_force⁻ = sqrt(((v₀.^2)./abs(radius)).^2 + a_max^2)\n",
    "\n",
    "# Plot tire force saturation threshold\n",
    "PyPlot.figure(figsize=[12,4])\n",
    "PyPlot.subplot(1,3,1)\n",
    "PyPlot.title(\"Tire Forces +\")\n",
    "PyPlot.scatter(δ[tire_force⁺ .< μ*g]*180.0/Float64(π),v[tire_force⁺ .< μ*g],c=tire_force⁺[tire_force⁺ .< μ*g],edgecolor=\"none\")\n",
    "PyPlot.xlabel(\"Steering Angle (degrees)\")\n",
    "PyPlot.ylabel(\"Tangential Velocity (m/s)\")\n",
    "PyPlot.axis(\"tight\")\n",
    "PyPlot.subplot(1,3,2)\n",
    "PyPlot.title(\"Tire Forces 0\")\n",
    "PyPlot.scatter(δ[tire_force⁰ .< μ*g]*180.0/Float64(π),v[tire_force⁰ .< μ*g],c=tire_force⁰[tire_force⁰ .< μ*g],edgecolor=\"none\")\n",
    "PyPlot.xlabel(\"Steering Angle (degrees)\")\n",
    "# PyPlot.ylabel(\"Tangential Velocity (m/s)\")\n",
    "PyPlot.axis(\"tight\")\n",
    "PyPlot.subplot(1,3,3)\n",
    "PyPlot.title(\"Tire Forces -\")\n",
    "PyPlot.scatter(δ[tire_force⁻ .< μ*g]*180.0/Float64(π),v[tire_force⁻ .< μ*g],c=tire_force⁻[tire_force⁻ .< μ*g],edgecolor=\"none\")\n",
    "PyPlot.xlabel(\"Steering Angle (degrees)\")\n",
    "# PyPlot.ylabel(\"Tangential Velocity (m/s)\")\n",
    "PyPlot.axis(\"tight\")"
   ]
  },
  {
   "cell_type": "code",
   "execution_count": null,
   "metadata": {
    "collapsed": false,
    "scrolled": false
   },
   "outputs": [],
   "source": [
    "# v_threshold = ones(size(v,1),1)*maximum(v₀.*(tire_force⁰ .< μ*g),1)\n",
    "# v₀[1:end-1,:] = v[1+1:end,:]\n",
    "# v₀ = min(v₀,v_threshold)\n",
    "PyPlot.scatter(δ,v,edgecolor=\"none\",c=v)"
   ]
  },
  {
   "cell_type": "markdown",
   "metadata": {},
   "source": [
    "## Modify HRHC parameters"
   ]
  },
  {
   "cell_type": "code",
   "execution_count": 1,
   "metadata": {
    "collapsed": false
   },
   "outputs": [
    {
     "name": "stderr",
     "output_type": "stream",
     "text": [
      "/Users/kyle/anaconda/lib/python2.7/site-packages/matplotlib/font_manager.py:273: UserWarning: Matplotlib is building the font cache using fc-list. This may take a moment.\n",
      "  warnings.warn('Matplotlib is building the font cache using fc-list. This may take a moment.')\n"
     ]
    }
   ],
   "source": [
    "using AutomotiveDrivingModels\n",
    "using AutoViz\n",
    "using SplineRaceWay\n",
    "using SplineUtils\n",
    "using NearestNeighbors\n",
    "using HierarchicalRecedingHorizonController"
   ]
  },
  {
   "cell_type": "code",
   "execution_count": 2,
   "metadata": {
    "collapsed": false
   },
   "outputs": [],
   "source": [
    "# scene parameters\n",
    "scene = Scene()\n",
    "framerate = 24\n",
    "Δt = 1.0/framerate # size of rendering timesteps\n",
    "h = 15\n",
    "n_integration_sub_steps = 3 # sub steps for smoother integration\n",
    "context = IntegratedContinuous(Δt, n_integration_sub_steps) # integrated continuous context\n",
    "\n",
    "#car parameters\n",
    "car_length = 4.8 # front wheel to back wheel\n",
    "car_width = 2.5\n",
    "v⁰  = 0.0 # initial velocity\n",
    "δ⁰ = 0.0 # initical steering angle\n",
    "\n",
    "############### INITIALIZE TRACK ################\n",
    "\n",
    "lane_width = 8.0*DEFAULT_LANE_WIDTH\n",
    "radius = 45.0\n",
    "edge_buffer = 0.25\n",
    "T_MAX = lane_width/2.0 - car_width/2.0 - edge_buffer # max allowable projection distance from center of lane\n",
    "base_speed= 0.0\n",
    "\n",
    "# spline control points\n",
    "# Pts = 40*[0 -1 -2 -3 -3 -3 -2 -1 -1 -1 -2 -3 -4 -5 -5 -5 -5 -5 -5 -4 -3 -2 -1 -1 -1 0 1 1 1 2 3 4 5 5 5 5 5 5 5 4 3 3 3 3 2 1 0; \n",
    "#          0 0 0 0 -1 -2 -2 -2 -3 -4 -4 -4 -4 -4 -3 -2 -1 0 1 2 3 4 4 3 2 2 2 3 4 4 4 4 3 2 1 0 -1 -2 -3 -4 -3 -2 -1 0 0 0 0]\n",
    "Pts = 40*[0 -1 -2 -3 -3.5 -3 -2 -1 -0.5 -1 -2 -3 -4 -5 -5.5 -5 -4.5 -5 -5 -4 -3 -2 -1 -1 -1 0 1 1 1 2 3 4 5 5 5 5 5 5 5 4 3 3 3 3 2 1 0; \n",
    "       0 0 0 0 -1 -2 -2 -2 -3 -4 -4 -4 -4 -4 -3 -2 -1 0 1 2 3 4 4 3 2 2 2 3 4 4 4 4 3 2 1 0 -1 -2 -3 -4 -3 -2 -1 0 0 0 0]\n",
    "\n",
    "degree = 3 # degree of spline\n",
    "num_points = 10001\n",
    "num_samples = 420\n",
    "lane_width = 20.0\n",
    "track = Raceway(Pts,degree,num_points,num_samples,lane_width)\n",
    "track;"
   ]
  },
  {
   "cell_type": "code",
   "execution_count": 3,
   "metadata": {
    "collapsed": false
   },
   "outputs": [],
   "source": [
    "car1 = mapHRHC(1,track.roadway,context,a_step=10.0,a_range=[-3,-2,-1,0,1])\n",
    "car2 = accelHRHC(2,track.roadway,context)\n",
    "car3 = HRHC(3,track.roadway,context)\n",
    "car1;"
   ]
  },
  {
   "cell_type": "code",
   "execution_count": 4,
   "metadata": {
    "collapsed": false
   },
   "outputs": [
    {
     "data": {
      "text/plain": [
       "3-element Array{AutomotiveDrivingModels.DriveAction,1}:\n",
       " #undef\n",
       " #undef\n",
       " #undef"
      ]
     },
     "execution_count": 4,
     "metadata": {},
     "output_type": "execute_result"
    }
   ],
   "source": [
    "roadind1 = RoadIndex(CurveIndex(20,0),LaneTag(1,1))\n",
    "roadind2 = RoadIndex(CurveIndex(10,0),LaneTag(1,1))\n",
    "roadind3 = RoadIndex(CurveIndex(1,0),LaneTag(1,1))\n",
    "\n",
    "vehstate1 = VehicleState(Frenet(roadind1, track.roadway), track.roadway, 0.0)\n",
    "vehstate2 = VehicleState(Frenet(roadind2, track.roadway), track.roadway, 0.0)\n",
    "vehstate3 = VehicleState(Frenet(roadind3, track.roadway), track.roadway, 0.0)\n",
    "\n",
    "vehdef1 = VehicleDef(1,AgentClass.CAR, car_length, car_width)\n",
    "vehdef2 = VehicleDef(2,AgentClass.CAR, car_length, car_width)\n",
    "vehdef3 = VehicleDef(3,AgentClass.CAR, car_length, car_width)\n",
    "\n",
    "push!(scene,Vehicle(vehstate1, vehdef1))\n",
    "push!(scene,Vehicle(vehstate2, vehdef2))\n",
    "push!(scene,Vehicle(vehstate3, vehdef3))\n",
    "\n",
    "carcolors = Dict{Int, Colorant}()\n",
    "carcolors[1] = colorant\"red\"\n",
    "carcolors[2] = colorant\"blue\"\n",
    "carcolors[3] = colorant\"yellow\"\n",
    "\n",
    "# hrhc = HRHC(1,roadway,context)\n",
    "track.models[1] = car1\n",
    "track.models[2] = car2\n",
    "track.models[3] = car3\n",
    "track.obstacleMap = generateObstacleMap(scene, track.models)\n",
    "actions = Array(DriveAction, length(scene))"
   ]
  },
  {
   "cell_type": "code",
   "execution_count": null,
   "metadata": {
    "collapsed": false
   },
   "outputs": [],
   "source": [
    "# car.successor_states = getSuccessorStates!(car.motion_map[car.v_cmd],car.car_ID,car.h,scene)\n",
    "s,t,ϕ = loopProjectionKD(car3,scene,track.roadway,track.tree)\n",
    "s"
   ]
  },
  {
   "cell_type": "code",
   "execution_count": null,
   "metadata": {
    "collapsed": false
   },
   "outputs": [],
   "source": [
    "car1.successor_states"
   ]
  },
  {
   "cell_type": "code",
   "execution_count": null,
   "metadata": {
    "collapsed": false
   },
   "outputs": [],
   "source": [
    "scene.vehicles[car1.car_ID].state"
   ]
  },
  {
   "cell_type": "code",
   "execution_count": null,
   "metadata": {
    "collapsed": false
   },
   "outputs": [],
   "source": [
    "# trajectory = computeTrajectory(car.motion_map[car.v_cmd], car.car_ID, scene, car.v_cmd, car.δ_cmd, car.h)"
   ]
  },
  {
   "cell_type": "code",
   "execution_count": null,
   "metadata": {
    "collapsed": false
   },
   "outputs": [],
   "source": [
    "calculateObjective(car3, scene, track.roadway, track.tree, s, t, ϕ, track.obstacleMap, car3.k, car3.h)"
   ]
  },
  {
   "cell_type": "code",
   "execution_count": null,
   "metadata": {
    "collapsed": false
   },
   "outputs": [],
   "source": [
    "observe!(car3,scene,track.roadway,car3.car_ID,track.tree,track.obstacleMap,car3.k)"
   ]
  },
  {
   "cell_type": "code",
   "execution_count": null,
   "metadata": {
    "collapsed": false
   },
   "outputs": [],
   "source": [
    "car1.v_cmd, car1.δ_cmd"
   ]
  },
  {
   "cell_type": "code",
   "execution_count": null,
   "metadata": {
    "collapsed": false
   },
   "outputs": [],
   "source": [
    "render(scene,track.roadway)"
   ]
  },
  {
   "cell_type": "code",
   "execution_count": null,
   "metadata": {
    "collapsed": true
   },
   "outputs": [],
   "source": []
  }
 ],
 "metadata": {
  "kernelspec": {
   "display_name": "Julia 0.5.0",
   "language": "julia",
   "name": "julia-0.5"
  },
  "language_info": {
   "file_extension": ".jl",
   "mimetype": "application/julia",
   "name": "julia",
   "version": "0.5.0"
  }
 },
 "nbformat": 4,
 "nbformat_minor": 0
}
